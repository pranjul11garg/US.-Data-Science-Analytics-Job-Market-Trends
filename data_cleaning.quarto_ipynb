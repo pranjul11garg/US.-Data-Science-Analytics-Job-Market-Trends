{
  "cells": [
    {
      "cell_type": "markdown",
      "metadata": {},
      "source": [
        "---\n",
        "title: \"Data Cleaning\"\n",
        "format: html\n",
        "---\n",
        "\n",
        "\n",
        "\n",
        "\n",
        "\n",
        "This page presents our data cleaning and prepping part.\n"
      ],
      "id": "a6eab9b6"
    },
    {
      "cell_type": "code",
      "metadata": {},
      "source": [
        "import pandas as pd\n",
        "import matplotlib.pyplot as plt\n",
        "import seaborn as sns\n",
        "import missingno as msno\n",
        "\n",
        "df = pd.read_csv(\"./data/lightcast_job_postings.csv\")\n",
        "\n",
        "columns_to_keep = [\n",
        "    'COMPANY', 'LOCATION', 'POSTED', 'MIN_EDULEVELS_NAME', 'MAX_EDULEVELS_NAME',\n",
        "    'MIN_YEARS_EXPERIENCE', 'MAX_YEARS_EXPERIENCE', 'TITLE', 'SKILLS',\n",
        "    'SPECIALIZED_SKILLS', 'CERTIFICATIONS', 'COMMON_SKILLS', 'SOFTWARE_SKILLS',\n",
        "    'SOC_2021_4_NAME', 'NAICS_2022_6', 'NAICS2_NAME', 'REMOTE_TYPE_NAME',\n",
        "    'SALARY', 'TITLE_NAME', 'SKILLS_NAME', 'SPECIALIZED_SKILLS_NAME'\n",
        "]\n",
        "\n",
        "eda_data = df[columns_to_keep]"
      ],
      "id": "5965d41d",
      "execution_count": null,
      "outputs": []
    },
    {
      "cell_type": "code",
      "metadata": {},
      "source": [
        "msno.heatmap(eda_data)\n",
        "plt.title(\"Missing Values Heatmap\")\n",
        "plt.savefig(\"figures/missingno_heatmap.svg\", format='svg', bbox_inches='tight')\n",
        "plt.show()"
      ],
      "id": "97005191",
      "execution_count": null,
      "outputs": []
    },
    {
      "cell_type": "code",
      "metadata": {},
      "source": [
        "if \"SALARY\" in eda_data.columns:\n",
        "    eda_data[\"SALARY\"].fillna(eda_data[\"SALARY\"].median(), inplace=True)\n",
        "else:\n",
        "    print(\"⚠️ Warning: 'SALARY' column not found in dataframe!\")\n",
        "\n",
        "if \"COMPANY\" in eda_data.columns:\n",
        "    eda_data[\"COMPANY\"].fillna(\"Unknown\", inplace=True)\n",
        "else:\n",
        "    print(\"⚠️ Warning: 'COMPANY' column not found in dataframe!\")\n",
        "\n",
        "    # Fill numeric columns with mean\n",
        "num_cols = eda_data.select_dtypes(include='number').columns\n",
        "for col in num_cols:\n",
        "    if eda_data[col].isnull().sum() > 0:\n",
        "        eda_data[col].fillna(eda_data[col].mean(), inplace=True)\n",
        "\n",
        "# Fill categorical columns with mode\n",
        "cat_cols = eda_data.select_dtypes(include='object').columns\n",
        "for col in cat_cols:\n",
        "    if eda_data[col].isnull().sum() > 0:\n",
        "        eda_data[col].fillna(eda_data[col].mode()[0], inplace=True)\n",
        "\n",
        "print(\"✅ Remaining missing values filled based on column type.\")\n",
        "\n",
        "\n",
        "eda_data.dropna(thresh=len(eda_data) * 0.5, axis=1, inplace=True)\n",
        "\n",
        "\n",
        "print(\"✅ Missing value handling complete.\")\n",
        "\n",
        "# delete duplicates\n",
        "eda_data = eda_data.drop_duplicates(subset=[\"TITLE\", \"COMPANY\", \"LOCATION\", \"POSTED\"])\n",
        "eda_data.to_csv(\"./data/eda_data.csv\", index=False)\n",
        "\n",
        "print(eda_data.isnull().sum())"
      ],
      "id": "f7a1153e",
      "execution_count": null,
      "outputs": []
    }
  ],
  "metadata": {
    "kernelspec": {
      "name": "venv",
      "language": "python",
      "display_name": "Python (venv)",
      "path": "/Users/prawnz/Library/Jupyter/kernels/venv"
    }
  },
  "nbformat": 4,
  "nbformat_minor": 5
}