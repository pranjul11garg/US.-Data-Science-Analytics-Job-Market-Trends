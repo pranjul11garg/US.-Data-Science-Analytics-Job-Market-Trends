{
 "cells": [
  {
   "cell_type": "markdown",
   "metadata": {
    "vscode": {
     "languageId": "plaintext"
    }
   },
   "source": [
    "---\n",
    "title: \"Data Analysis\"\n",
    "subtitle: \"Comprehensive Data Cleaning & Exploratory Analysis of Job Market Trends\"\n",
    "author:\n",
    "  - name: Binderiya Dugersuren\n",
    "    affiliations:\n",
    "      - id: U83856370\n",
    "        name: Boston University\n",
    "        city: Boston\n",
    "        state: MA\n",
    "  - name: Pranjul Garg\n",
    "    affiliations:\n",
    "      - id: U39153801\n",
    "        name: Boston University\n",
    "        city: Boston\n",
    "        state: MA\n",
    "  - name: Pratham Kabra\n",
    "    affiliations:\n",
    "      - id: U64612957\n",
    "        name: Boston University\n",
    "        city: Boston\n",
    "        state: MA\n",
    "  - name: Panyang Xiang\n",
    "    affiliations:\n",
    "      - id: U64612957\n",
    "        name: Boston University\n",
    "        city: Boston\n",
    "        state: MA\n",
    "bibliography: references.bib\n",
    "csl: csl/econometrica.csl\n",
    "format: \n",
    "  html:\n",
    "    toc: true\n",
    "    number-sections: true\n",
    "    df-print: paged\n",
    "---"
   ]
  }
 ],
 "metadata": {
  "language_info": {
   "name": "python"
  }
 },
 "nbformat": 4,
 "nbformat_minor": 2
}
