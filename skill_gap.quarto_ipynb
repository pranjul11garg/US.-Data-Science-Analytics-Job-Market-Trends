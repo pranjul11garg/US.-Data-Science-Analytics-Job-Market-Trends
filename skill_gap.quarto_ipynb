{
  "cells": [
    {
      "cell_type": "markdown",
      "metadata": {},
      "source": [
        "---\n",
        "title: Skill Gap Analysis\n",
        "format: html\n",
        "jupyter: python3\n",
        "execute:\n",
        "  echo: true\n",
        "  warning: false\n",
        "  error: true\n",
        "toc: true\n",
        "code-fold: true\n",
        "---"
      ],
      "id": "62f1a3a0"
    },
    {
      "cell_type": "code",
      "metadata": {},
      "source": [
        "import pandas as pd\n",
        "df = pd.read_parquet(\"data/eda.parquet\")"
      ],
      "id": "175b2d2f",
      "execution_count": null,
      "outputs": []
    },
    {
      "cell_type": "markdown",
      "metadata": {},
      "source": [
        "## Group 11 Skill \n"
      ],
      "id": "155961f3"
    },
    {
      "cell_type": "code",
      "metadata": {},
      "source": [
        "import pandas as pd\n",
        "\n",
        "skills_data = {\n",
        "    \"Name\": [\"Binderiya\", \"Pranjul\", \"Pratham\", \"Panyang\"],\n",
        "    \"Python\": [4, 4, 5, 3],\n",
        "    \"SQL\": [4, 4, 5, 4],\n",
        "    \"Machine Learning\": [2, 3, 2, 2],\n",
        "    \"PySpark\": [3, 3, 3, 3],\n",
        "    \"Excel\": [4, 5, 5, 4],\n",
        "    \"Data Visualization\": [5, 5, 3, 3],\n",
        "    \"Power Bi/ Tableau\": [4, 5, 3, 4],\n",
        "    \"Version Control Git\": [4, 4, 3, 3],\n",
        "    \"ETL/Data pipeline\": [3, 2, 1, 2],\n",
        "    \"Communication\": [4, 4, 5, 3],\n",
        "    \"Project Management\": [5, 5, 5, 3],\n",
        "    \"Cloud Computing\": [4, 4, 2, 2]\n",
        "}\n",
        "\n",
        "df_skills = pd.DataFrame(skills_data)\n",
        "df_skills.set_index(\"Name\", inplace=True)\n",
        "df_skills"
      ],
      "id": "0e668775",
      "execution_count": null,
      "outputs": []
    },
    {
      "cell_type": "code",
      "metadata": {},
      "source": [
        "import plotly.express as px\n",
        "\n",
        "fig = px.imshow(\n",
        "    df_skills,\n",
        "    text_auto=True,                \n",
        "    color_continuous_scale=\"YlGnBu\",\n",
        "    aspect=\"auto\"                 \n",
        ")\n",
        "\n",
        "fig.update_layout(\n",
        "    title=\"Team Skill Levels Heatmap\",\n",
        "    xaxis_title=\"Skills\",\n",
        "    yaxis_title=\"Team Members\",\n",
        "    width=700,\n",
        "    height=400,\n",
        "    margin=dict(l=50, r=20, t=50, b=50)\n",
        ")\n",
        "\n",
        "fig.write_html(\n",
        "    \"figures/skill_gap_plot1.html\",\n",
        "    include_plotlyjs=\"cdn\",\n",
        "    full_html=False\n",
        ")"
      ],
      "id": "1367c01b",
      "execution_count": null,
      "outputs": []
    },
    {
      "cell_type": "markdown",
      "metadata": {},
      "source": [
        "<iframe\n",
        "  src=\"figures/skill_gap_plot1.html\"\n",
        "  width=\"100%\"\n",
        "  height=\"500\"\n",
        "  style=\"border:none;\"\n",
        "></iframe>\n"
      ],
      "id": "601e75db"
    },
    {
      "cell_type": "code",
      "metadata": {},
      "source": [
        "import plotly.graph_objects as go\n",
        "from IPython.display import IFrame\n",
        "fig = go.Figure()\n",
        "\n",
        "for name in df_skills.index:\n",
        "    values = df_skills.loc[name].tolist()\n",
        "    values += values[:1]  # close the loop\n",
        "    fig.add_trace(go.Scatterpolar(\n",
        "        r=values,\n",
        "        theta=df_skills.columns.tolist() + [df_skills.columns[0]],\n",
        "        fill='toself',\n",
        "        name=name\n",
        "    ))\n",
        "\n",
        "fig.update_layout(\n",
        "    polar=dict(radialaxis=dict(visible=True, range=[0, 5])),\n",
        "    showlegend=True,\n",
        "    title='Team Skills Radar Chart'\n",
        ")\n",
        "\n",
        "fig.write_html(\n",
        "    \"figures/skill_gap_plot2.html\",\n",
        "    include_plotlyjs=\"cdn\",\n",
        "    full_html=False\n",
        ")"
      ],
      "id": "77b61be9",
      "execution_count": null,
      "outputs": []
    },
    {
      "cell_type": "markdown",
      "metadata": {},
      "source": [
        "<iframe\n",
        "  src=\"figures/skill_gap_plot2.html\"\n",
        "  width=\"100%\"\n",
        "  height=\"500\"\n",
        "  style=\"border:none;\"\n",
        "></iframe>\n",
        "\n",
        "### Interactive Radar Chart\n",
        "\n",
        "\n",
        "\n",
        "From this radar chart visualization we can see that our team has a lot of room for improvement for skills like PySpark and Machine Learning. Also we can see that not a lot of our team mates are confident in their skills in Cloud Computing and ETL. \n",
        "\n",
        "## Top Skills\n"
      ],
      "id": "bebed423"
    },
    {
      "cell_type": "code",
      "metadata": {},
      "source": [
        "keywords = ['Data Analyst', 'Business Analyst', 'Data Engineering', 'Deep Learning',\n",
        "            'Data Science', 'Data Analysis','Data Analytics',  'Market Research Analyst' \n",
        "            'LLM', 'Language Model', 'NLP', 'Natural Language Processing',\n",
        "            'Computer Vision', 'Business Intelligence Analyst', 'Quantitative Analyst', 'Operations Analyst']\n",
        "\n",
        "match = lambda col: df[col].str.contains('|'.join(keywords), case=False, na=False)\n",
        "\n",
        "df['DATA_ANALYST_JOB'] = match('TITLE_NAME') \\\n",
        "             | match('SKILLS_NAME') \\\n",
        "             | match('SPECIALIZED_SKILLS_NAME') \n",
        "df['DATA_ANALYST_JOB'].value_counts()"
      ],
      "id": "8be77cdd",
      "execution_count": null,
      "outputs": []
    },
    {
      "cell_type": "code",
      "metadata": {},
      "source": [
        "import ast\n",
        "import pandas as pd\n",
        "import matplotlib.pyplot as plt\n",
        "import plotly.express as px\n",
        "\n",
        "# Safely apply literal_eval only to non-null values\n",
        "df['SKILLS'] = df['SKILLS_NAME'].apply(lambda x: ast.literal_eval(x) if pd.notnull(x) else [])\n",
        "\n",
        "\n",
        "data_skills = df[df['DATA_ANALYST_JOB']]['SKILLS'].explode().value_counts().reset_index()\n",
        "data_skills.columns = ['Skill', 'Count']\n",
        "\n",
        "fig = px.bar(data_skills, x='Skill', y='Count',\n",
        "             title=\"Top Skills\",\n",
        "             labels={'Skill': 'Skill Name', 'Count': 'Frequency'},\n",
        "             color='Skill')\n",
        "df_skills.index = df_skills.index.str.strip()"
      ],
      "id": "73cdc090",
      "execution_count": null,
      "outputs": []
    },
    {
      "cell_type": "code",
      "metadata": {},
      "source": [
        "from collections import defaultdict\n",
        "\n",
        "# Lowercase everything\n",
        "team_skills = [s.lower().strip() for s in df_skills.columns]\n",
        "job_demand_raw = data_skills.copy()\n",
        "job_demand_raw['Skill'] = job_demand_raw['Skill'].str.lower().str.strip()\n",
        "\n",
        "# New dict to map cleaned team skill to total count from job postings\n",
        "skill_demand_map = defaultdict(int)\n",
        "\n",
        "for _, row in job_demand_raw.iterrows():\n",
        "    skill_in_posting = row['Skill']\n",
        "    count = row['Count']\n",
        "    for team_skill in team_skills:\n",
        "        if team_skill in skill_in_posting:\n",
        "            skill_demand_map[team_skill] += count"
      ],
      "id": "d2441fdc",
      "execution_count": null,
      "outputs": []
    },
    {
      "cell_type": "code",
      "metadata": {},
      "source": [
        "team_skills = [s.strip().lower() for s in df_skills.columns]\n",
        "print(\"Team skills:\", team_skills)\n",
        "print(job_demand_raw['Skill'].head(10).tolist())\n",
        "for skill_text in job_demand_raw['Skill'].head(10):\n",
        "    for team_skill in team_skills:\n",
        "        if team_skill in skill_text:\n",
        "            print(f\" '{team_skill}' found in: '{skill_text}'\")"
      ],
      "id": "153c824e",
      "execution_count": null,
      "outputs": []
    },
    {
      "cell_type": "code",
      "metadata": {},
      "source": [
        "for _, row in job_demand_raw.iterrows():\n",
        "    skill_text = row['Skill']\n",
        "    count = row['Count']\n",
        "    for team_skill in team_skills:\n",
        "        if team_skill in skill_text:  # no regex, just substring\n",
        "            skill_demand_map[team_skill] += count\n",
        "\n",
        "job_demand = pd.Series(skill_demand_map)\n",
        "print(job_demand)"
      ],
      "id": "af8621fd",
      "execution_count": null,
      "outputs": []
    },
    {
      "cell_type": "code",
      "metadata": {},
      "source": [
        "job_demand = pd.Series(skill_demand_map)\n",
        "job_demand.name = \"Count\"\n",
        "team_avg = df_skills.mean()\n",
        "team_avg.index = team_avg.index.str.strip().str.lower() \n",
        "# Now match only overlapping skills\n",
        "common_skills = job_demand.index.intersection(team_avg.index)\n",
        "team_avg = team_avg[common_skills]\n",
        "job_demand = job_demand[common_skills]\n",
        "\n",
        "# Normalize job demand\n",
        "job_demand_normalized = 5 * (job_demand / job_demand.max())\n",
        "job_demand_normalized.name = \"Job Demand (Normalized)\"\n",
        "\n",
        "# Combine\n",
        "comparison_df = pd.concat([team_avg, job_demand_normalized], axis=1)\n",
        "comparison_df.columns = [\"Team Average Skill\", \"Job Demand (Normalized)\"]\n",
        "comparison_df[\"Skill Gap\"] = comparison_df[\"Job Demand (Normalized)\"] - comparison_df[\"Team Average Skill\"]\n",
        "comparison_df.sort_values(\"Skill Gap\", ascending=False, inplace=True)\n",
        "\n",
        "comparison_df"
      ],
      "id": "2443d19f",
      "execution_count": null,
      "outputs": []
    },
    {
      "cell_type": "code",
      "metadata": {},
      "source": [
        "comparison_df = comparison_df.reset_index().rename(columns={\"index\": \"Skill\"})"
      ],
      "id": "ce031fb7",
      "execution_count": null,
      "outputs": []
    },
    {
      "cell_type": "code",
      "metadata": {},
      "source": [
        "import plotly.express as px\n",
        "\n",
        "fig = px.bar(\n",
        "    comparison_df,\n",
        "    x='Skill',\n",
        "    y='Skill Gap',\n",
        "    color='Skill Gap',\n",
        "    color_continuous_scale='RdBu_r',\n",
        "    title='Skill Gaps: Job Market Expectations vs. Team Capability',\n",
        "    labels={'Skill Gap': 'Gap (Job Demand - Team Skill)', 'Skill': 'Skill'},\n",
        ")\n",
        "\n",
        "fig.add_hline(y=0, line_dash='dash')\n",
        "fig.update_layout(\n",
        "    xaxis_tickangle=-45,\n",
        "    yaxis_title='Gap (Positive = Market expects more)',\n",
        "    font=dict(size=13),\n",
        "    height=500,\n",
        "    plot_bgcolor='white',\n",
        ")\n",
        "fig.write_html(\n",
        "    \"figures/skill_gap_plot3.html\",\n",
        "    include_plotlyjs=\"cdn\",\n",
        "    full_html=False\n",
        ")"
      ],
      "id": "230eafb7",
      "execution_count": null,
      "outputs": []
    },
    {
      "cell_type": "markdown",
      "metadata": {},
      "source": [
        "<iframe\n",
        "  src=\"figures/skill_gap_plot3.html\"\n",
        "  width=\"100%\"\n",
        "  height=\"500\"\n",
        "  style=\"border:none;\"\n",
        "></iframe>\n",
        "\n",
        "\n",
        "This bar chart compares our team’s average proficiency in key data-related skills against job market expectations. Skills with positive values (like communication and SQL) indicate areas where market demand exceeds our current capabilities. On the other hand, negative values highlight areas where the team is ahead or closely aligned with market needs. Notably, skills like Python, cloud computing, and project management show the largest gaps, suggesting priority areas for upskilling.\n"
      ],
      "id": "083038b4"
    }
  ],
  "metadata": {
    "kernelspec": {
      "name": "python3",
      "language": "python",
      "display_name": "Python 3 (ipykernel)",
      "path": "/opt/anaconda3/share/jupyter/kernels/python3"
    }
  },
  "nbformat": 4,
  "nbformat_minor": 5
}