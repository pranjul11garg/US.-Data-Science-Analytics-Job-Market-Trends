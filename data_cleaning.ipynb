{
<<<<<<< Updated upstream
  "cells": [
    {
      "cell_type": "markdown",
      "metadata": {},
      "source": [
        "---\n",
        "title: \"Data Cleaning\"\n",
        "format: html\n",
        "execute:\n",
        "  echo: true\n",
        "  warning: false\n",
        "  error: true\n",
        "toc: true\n",
        "code-fold: true\n",
        "---"
      ]
    },
    {
      "cell_type": "markdown",
      "metadata": {},
      "source": [
        "This page presents our data cleaning and prepping part."
      ]
    },
    {
      "cell_type": "code",
      "execution_count": 4,
      "metadata": {},
      "outputs": [
        {
          "name": "stderr",
          "output_type": "stream",
          "text": [
            "/var/folders/80/zshfnsyx0nv0p46dbk270wnm0000gn/T/ipykernel_45787/564124568.py:9: DtypeWarning:\n",
            "\n",
            "Columns (3,6,16,19,22,24,26,28,29,30,32,36,40,42,44,46,48,50,52,54,56,58,60,62,95,97,99,101,103,105,107,109,121) have mixed types. Specify dtype option on import or set low_memory=False.\n",
            "\n"
          ]
        }
      ],
      "source": [
        "import pandas as pd\n",
        "import matplotlib.pyplot as plt\n",
        "import seaborn as sns\n",
        "import missingno as msno\n",
        "import plotly.express as px\n",
        "import numpy as np\n",
        "import plotly.graph_objects as go\n",
        "\n",
        "df = pd.read_csv(\"./data/lightcast_job_postings.csv\")\n",
        "\n",
        "columns_to_keep = [\n",
        "    'COMPANY', 'LOCATION', 'POSTED', 'MIN_EDULEVELS_NAME', 'MAX_EDULEVELS_NAME',\n",
        "    'MIN_YEARS_EXPERIENCE', 'MAX_YEARS_EXPERIENCE', 'TITLE', 'SKILLS',\n",
        "    'SPECIALIZED_SKILLS', 'CERTIFICATIONS', 'COMMON_SKILLS', 'SOFTWARE_SKILLS',\n",
        "    'SOC_2021_4_NAME', 'NAICS_2022_6', 'NAICS2_NAME', 'REMOTE_TYPE_NAME',\n",
        "    'SALARY', 'TITLE_NAME', 'SKILLS_NAME', 'SPECIALIZED_SKILLS_NAME'\n",
        "]\n",
        "eda_data = df[columns_to_keep]\n"
      ]
    },
    {
      "cell_type": "code",
      "execution_count": null,
      "metadata": {},
      "outputs": [
        {
          "data": {
            "application/vnd.plotly.v1+json": {
              "config": {
                "plotlyServerURL": "https://plot.ly"
              },
              "data": [
                {
                  "colorbar": {
                    "title": {
                      "text": "Missing Corr"
                    }
                  },
                  "colorscale": [
                    [
                      0,
                      "rgb(247,251,255)"
                    ],
                    [
                      0.125,
                      "rgb(222,235,247)"
                    ],
                    [
                      0.25,
                      "rgb(198,219,239)"
                    ],
                    [
                      0.375,
                      "rgb(158,202,225)"
                    ],
                    [
                      0.5,
                      "rgb(107,174,214)"
                    ],
                    [
                      0.625,
                      "rgb(66,146,198)"
                    ],
                    [
                      0.75,
                      "rgb(33,113,181)"
                    ],
                    [
                      0.875,
                      "rgb(8,81,156)"
                    ],
                    [
                      1,
                      "rgb(8,48,107)"
                    ]
                  ],
                  "hoverinfo": "skip",
                  "text": [
                    [
                      "1.0",
                      "",
                      "",
                      "",
                      "",
                      "",
                      "",
                      "",
                      "",
                      "",
                      "",
                      "",
                      "",
                      "",
                      "",
                      "",
                      "",
                      "",
                      "",
                      "",
                      ""
                    ],
                    [
                      "0.99",
                      "1.0",
                      "",
                      "",
                      "",
                      "",
                      "",
                      "",
                      "",
                      "",
                      "",
                      "",
                      "",
                      "",
                      "",
                      "",
                      "",
                      "",
                      "",
                      "",
                      ""
                    ],
                    [
                      "0.97",
                      "0.98",
                      "1.0",
                      "",
                      "",
                      "",
                      "",
                      "",
                      "",
                      "",
                      "",
                      "",
                      "",
                      "",
                      "",
                      "",
                      "",
                      "",
                      "",
                      "",
                      ""
                    ],
                    [
                      "0.99",
                      "1.0",
                      "0.98",
                      "1.0",
                      "",
                      "",
                      "",
                      "",
                      "",
                      "",
                      "",
                      "",
                      "",
                      "",
                      "",
                      "",
                      "",
                      "",
                      "",
                      "",
                      ""
                    ],
                    [
                      "0.05",
                      "0.05",
                      "0.05",
                      "0.05",
                      "1.0",
                      "",
                      "",
                      "",
                      "",
                      "",
                      "",
                      "",
                      "",
                      "",
                      "",
                      "",
                      "",
                      "",
                      "",
                      "",
                      ""
                    ],
                    [
                      "0.13",
                      "0.13",
                      "0.13",
                      "0.13",
                      "0.19",
                      "1.0",
                      "",
                      "",
                      "",
                      "",
                      "",
                      "",
                      "",
                      "",
                      "",
                      "",
                      "",
                      "",
                      "",
                      "",
                      ""
                    ],
                    [
                      "0.03",
                      "0.03",
                      "0.03",
                      "0.03",
                      "0.02",
                      "0.25",
                      "1.0",
                      "",
                      "",
                      "",
                      "",
                      "",
                      "",
                      "",
                      "",
                      "",
                      "",
                      "",
                      "",
                      "",
                      ""
                    ],
                    [
                      "0.99",
                      "1.0",
                      "0.98",
                      "1.0",
                      "0.05",
                      "0.13",
                      "0.03",
                      "1.0",
                      "",
                      "",
                      "",
                      "",
                      "",
                      "",
                      "",
                      "",
                      "",
                      "",
                      "",
                      "",
                      ""
                    ],
                    [
                      "0.99",
                      "1.0",
                      "0.98",
                      "1.0",
                      "0.05",
                      "0.13",
                      "0.03",
                      "1.0",
                      "1.0",
                      "",
                      "",
                      "",
                      "",
                      "",
                      "",
                      "",
                      "",
                      "",
                      "",
                      "",
                      ""
                    ],
                    [
                      "0.99",
                      "1.0",
                      "0.98",
                      "1.0",
                      "0.05",
                      "0.13",
                      "0.03",
                      "1.0",
                      "1.0",
                      "1.0",
                      "",
                      "",
                      "",
                      "",
                      "",
                      "",
                      "",
                      "",
                      "",
                      "",
                      ""
                    ],
                    [
                      "0.99",
                      "1.0",
                      "0.98",
                      "1.0",
                      "0.05",
                      "0.13",
                      "0.03",
                      "1.0",
                      "1.0",
                      "1.0",
                      "1.0",
                      "",
                      "",
                      "",
                      "",
                      "",
                      "",
                      "",
                      "",
                      "",
                      ""
                    ],
                    [
                      "0.99",
                      "1.0",
                      "0.98",
                      "1.0",
                      "0.05",
                      "0.13",
                      "0.03",
                      "1.0",
                      "1.0",
                      "1.0",
                      "1.0",
                      "1.0",
                      "",
                      "",
                      "",
                      "",
                      "",
                      "",
                      "",
                      "",
                      ""
                    ],
                    [
                      "0.99",
                      "1.0",
                      "0.98",
                      "1.0",
                      "0.05",
                      "0.13",
                      "0.03",
                      "1.0",
                      "1.0",
                      "1.0",
                      "1.0",
                      "1.0",
                      "1.0",
                      "",
                      "",
                      "",
                      "",
                      "",
                      "",
                      "",
                      ""
                    ],
                    [
                      "0.99",
                      "1.0",
                      "0.98",
                      "1.0",
                      "0.05",
                      "0.13",
                      "0.03",
                      "1.0",
                      "1.0",
                      "1.0",
                      "1.0",
                      "1.0",
                      "1.0",
                      "1.0",
                      "",
                      "",
                      "",
                      "",
                      "",
                      "",
                      ""
                    ],
                    [
                      "0.99",
                      "0.98",
                      "0.97",
                      "0.98",
                      "0.05",
                      "0.13",
                      "0.02",
                      "0.98",
                      "0.98",
                      "0.98",
                      "0.98",
                      "0.98",
                      "0.98",
                      "0.98",
                      "1.0",
                      "",
                      "",
                      "",
                      "",
                      "",
                      ""
                    ],
                    [
                      "0.99",
                      "1.0",
                      "0.98",
                      "1.0",
                      "0.05",
                      "0.13",
                      "0.03",
                      "1.0",
                      "1.0",
                      "1.0",
                      "1.0",
                      "1.0",
                      "1.0",
                      "1.0",
                      "0.98",
                      "1.0",
                      "",
                      "",
                      "",
                      "",
                      ""
                    ],
                    [
                      "0.99",
                      "1.0",
                      "0.98",
                      "1.0",
                      "0.05",
                      "0.13",
                      "0.03",
                      "1.0",
                      "1.0",
                      "1.0",
                      "1.0",
                      "1.0",
                      "1.0",
                      "1.0",
                      "0.99",
                      "1.0",
                      "1.0",
                      "",
                      "",
                      "",
                      ""
                    ],
                    [
                      "0.08",
                      "0.08",
                      "0.08",
                      "0.08",
                      "0.12",
                      "0.17",
                      "0.02",
                      "0.08",
                      "0.08",
                      "0.08",
                      "0.08",
                      "0.08",
                      "0.08",
                      "0.08",
                      "0.07",
                      "0.08",
                      "0.08",
                      "1.0",
                      "",
                      "",
                      ""
                    ],
                    [
                      "0.99",
                      "1.0",
                      "0.98",
                      "1.0",
                      "0.05",
                      "0.13",
                      "0.03",
                      "1.0",
                      "1.0",
                      "1.0",
                      "1.0",
                      "1.0",
                      "1.0",
                      "1.0",
                      "0.98",
                      "1.0",
                      "1.0",
                      "0.08",
                      "1.0",
                      "",
                      ""
                    ],
                    [
                      "0.99",
                      "1.0",
                      "0.98",
                      "1.0",
                      "0.05",
                      "0.13",
                      "0.03",
                      "1.0",
                      "1.0",
                      "1.0",
                      "1.0",
                      "1.0",
                      "1.0",
                      "1.0",
                      "0.98",
                      "1.0",
                      "1.0",
                      "0.08",
                      "1.0",
                      "1.0",
                      ""
                    ],
                    [
                      "0.99",
                      "1.0",
                      "0.98",
                      "1.0",
                      "0.05",
                      "0.13",
                      "0.03",
                      "1.0",
                      "1.0",
                      "1.0",
                      "1.0",
                      "1.0",
                      "1.0",
                      "1.0",
                      "0.98",
                      "1.0",
                      "1.0",
                      "0.08",
                      "1.0",
                      "1.0",
                      "1.0"
                    ]
                  ],
                  "texttemplate": "%{text}",
                  "type": "heatmap",
                  "x": [
                    "COMPANY",
                    "LOCATION",
                    "POSTED",
                    "MIN_EDULEVELS_NAME",
                    "MAX_EDULEVELS_NAME",
                    "MIN_YEARS_EXPERIENCE",
                    "MAX_YEARS_EXPERIENCE",
                    "TITLE",
                    "SKILLS",
                    "SPECIALIZED_SKILLS",
                    "CERTIFICATIONS",
                    "COMMON_SKILLS",
                    "SOFTWARE_SKILLS",
                    "SOC_2021_4_NAME",
                    "NAICS_2022_6",
                    "NAICS2_NAME",
                    "REMOTE_TYPE_NAME",
                    "SALARY",
                    "TITLE_NAME",
                    "SKILLS_NAME",
                    "SPECIALIZED_SKILLS_NAME"
                  ],
                  "y": [
                    "COMPANY",
                    "LOCATION",
                    "POSTED",
                    "MIN_EDULEVELS_NAME",
                    "MAX_EDULEVELS_NAME",
                    "MIN_YEARS_EXPERIENCE",
                    "MAX_YEARS_EXPERIENCE",
                    "TITLE",
                    "SKILLS",
                    "SPECIALIZED_SKILLS",
                    "CERTIFICATIONS",
                    "COMMON_SKILLS",
                    "SOFTWARE_SKILLS",
                    "SOC_2021_4_NAME",
                    "NAICS_2022_6",
                    "NAICS2_NAME",
                    "REMOTE_TYPE_NAME",
                    "SALARY",
                    "TITLE_NAME",
                    "SKILLS_NAME",
                    "SPECIALIZED_SKILLS_NAME"
                  ],
                  "z": {
                    "bdata": "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",
                    "dtype": "f8",
                    "shape": "21, 21"
                  },
                  "zmax": 1,
                  "zmin": 0
                }
              ],
              "layout": {
                "font": {
                  "size": 8
                },
                "height": 600,
                "margin": {
                  "b": 80,
                  "l": 80,
                  "r": 50,
                  "t": 50
                },
                "plot_bgcolor": "white",
                "template": {
                  "data": {
                    "bar": [
                      {
                        "error_x": {
                          "color": "#2a3f5f"
                        },
                        "error_y": {
                          "color": "#2a3f5f"
                        },
                        "marker": {
                          "line": {
                            "color": "#E5ECF6",
                            "width": 0.5
                          },
                          "pattern": {
                            "fillmode": "overlay",
                            "size": 10,
                            "solidity": 0.2
                          }
                        },
                        "type": "bar"
                      }
                    ],
                    "barpolar": [
                      {
                        "marker": {
                          "line": {
                            "color": "#E5ECF6",
                            "width": 0.5
                          },
                          "pattern": {
                            "fillmode": "overlay",
                            "size": 10,
                            "solidity": 0.2
                          }
                        },
                        "type": "barpolar"
                      }
                    ],
                    "carpet": [
                      {
                        "aaxis": {
                          "endlinecolor": "#2a3f5f",
                          "gridcolor": "white",
                          "linecolor": "white",
                          "minorgridcolor": "white",
                          "startlinecolor": "#2a3f5f"
                        },
                        "baxis": {
                          "endlinecolor": "#2a3f5f",
                          "gridcolor": "white",
                          "linecolor": "white",
                          "minorgridcolor": "white",
                          "startlinecolor": "#2a3f5f"
                        },
                        "type": "carpet"
                      }
                    ],
                    "choropleth": [
                      {
                        "colorbar": {
                          "outlinewidth": 0,
                          "ticks": ""
                        },
                        "type": "choropleth"
                      }
                    ],
                    "contour": [
                      {
                        "colorbar": {
                          "outlinewidth": 0,
                          "ticks": ""
                        },
                        "colorscale": [
                          [
                            0,
                            "#0d0887"
                          ],
                          [
                            0.1111111111111111,
                            "#46039f"
                          ],
                          [
                            0.2222222222222222,
                            "#7201a8"
                          ],
                          [
                            0.3333333333333333,
                            "#9c179e"
                          ],
                          [
                            0.4444444444444444,
                            "#bd3786"
                          ],
                          [
                            0.5555555555555556,
                            "#d8576b"
                          ],
                          [
                            0.6666666666666666,
                            "#ed7953"
                          ],
                          [
                            0.7777777777777778,
                            "#fb9f3a"
                          ],
                          [
                            0.8888888888888888,
                            "#fdca26"
                          ],
                          [
                            1,
                            "#f0f921"
                          ]
                        ],
                        "type": "contour"
                      }
                    ],
                    "contourcarpet": [
                      {
                        "colorbar": {
                          "outlinewidth": 0,
                          "ticks": ""
                        },
                        "type": "contourcarpet"
                      }
                    ],
                    "heatmap": [
                      {
                        "colorbar": {
                          "outlinewidth": 0,
                          "ticks": ""
                        },
                        "colorscale": [
                          [
                            0,
                            "#0d0887"
                          ],
                          [
                            0.1111111111111111,
                            "#46039f"
                          ],
                          [
                            0.2222222222222222,
                            "#7201a8"
                          ],
                          [
                            0.3333333333333333,
                            "#9c179e"
                          ],
                          [
                            0.4444444444444444,
                            "#bd3786"
                          ],
                          [
                            0.5555555555555556,
                            "#d8576b"
                          ],
                          [
                            0.6666666666666666,
                            "#ed7953"
                          ],
                          [
                            0.7777777777777778,
                            "#fb9f3a"
                          ],
                          [
                            0.8888888888888888,
                            "#fdca26"
                          ],
                          [
                            1,
                            "#f0f921"
                          ]
                        ],
                        "type": "heatmap"
                      }
                    ],
                    "histogram": [
                      {
                        "marker": {
                          "pattern": {
                            "fillmode": "overlay",
                            "size": 10,
                            "solidity": 0.2
                          }
                        },
                        "type": "histogram"
                      }
                    ],
                    "histogram2d": [
                      {
                        "colorbar": {
                          "outlinewidth": 0,
                          "ticks": ""
                        },
                        "colorscale": [
                          [
                            0,
                            "#0d0887"
                          ],
                          [
                            0.1111111111111111,
                            "#46039f"
                          ],
                          [
                            0.2222222222222222,
                            "#7201a8"
                          ],
                          [
                            0.3333333333333333,
                            "#9c179e"
                          ],
                          [
                            0.4444444444444444,
                            "#bd3786"
                          ],
                          [
                            0.5555555555555556,
                            "#d8576b"
                          ],
                          [
                            0.6666666666666666,
                            "#ed7953"
                          ],
                          [
                            0.7777777777777778,
                            "#fb9f3a"
                          ],
                          [
                            0.8888888888888888,
                            "#fdca26"
                          ],
                          [
                            1,
                            "#f0f921"
                          ]
                        ],
                        "type": "histogram2d"
                      }
                    ],
                    "histogram2dcontour": [
                      {
                        "colorbar": {
                          "outlinewidth": 0,
                          "ticks": ""
                        },
                        "colorscale": [
                          [
                            0,
                            "#0d0887"
                          ],
                          [
                            0.1111111111111111,
                            "#46039f"
                          ],
                          [
                            0.2222222222222222,
                            "#7201a8"
                          ],
                          [
                            0.3333333333333333,
                            "#9c179e"
                          ],
                          [
                            0.4444444444444444,
                            "#bd3786"
                          ],
                          [
                            0.5555555555555556,
                            "#d8576b"
                          ],
                          [
                            0.6666666666666666,
                            "#ed7953"
                          ],
                          [
                            0.7777777777777778,
                            "#fb9f3a"
                          ],
                          [
                            0.8888888888888888,
                            "#fdca26"
                          ],
                          [
                            1,
                            "#f0f921"
                          ]
                        ],
                        "type": "histogram2dcontour"
                      }
                    ],
                    "mesh3d": [
                      {
                        "colorbar": {
                          "outlinewidth": 0,
                          "ticks": ""
                        },
                        "type": "mesh3d"
                      }
                    ],
                    "parcoords": [
                      {
                        "line": {
                          "colorbar": {
                            "outlinewidth": 0,
                            "ticks": ""
                          }
                        },
                        "type": "parcoords"
                      }
                    ],
                    "pie": [
                      {
                        "automargin": true,
                        "type": "pie"
                      }
                    ],
                    "scatter": [
                      {
                        "fillpattern": {
                          "fillmode": "overlay",
                          "size": 10,
                          "solidity": 0.2
                        },
                        "type": "scatter"
                      }
                    ],
                    "scatter3d": [
                      {
                        "line": {
                          "colorbar": {
                            "outlinewidth": 0,
                            "ticks": ""
                          }
                        },
                        "marker": {
                          "colorbar": {
                            "outlinewidth": 0,
                            "ticks": ""
                          }
                        },
                        "type": "scatter3d"
                      }
                    ],
                    "scattercarpet": [
                      {
                        "marker": {
                          "colorbar": {
                            "outlinewidth": 0,
                            "ticks": ""
                          }
                        },
                        "type": "scattercarpet"
                      }
                    ],
                    "scattergeo": [
                      {
                        "marker": {
                          "colorbar": {
                            "outlinewidth": 0,
                            "ticks": ""
                          }
                        },
                        "type": "scattergeo"
                      }
                    ],
                    "scattergl": [
                      {
                        "marker": {
                          "colorbar": {
                            "outlinewidth": 0,
                            "ticks": ""
                          }
                        },
                        "type": "scattergl"
                      }
                    ],
                    "scattermap": [
                      {
                        "marker": {
                          "colorbar": {
                            "outlinewidth": 0,
                            "ticks": ""
                          }
                        },
                        "type": "scattermap"
                      }
                    ],
                    "scattermapbox": [
                      {
                        "marker": {
                          "colorbar": {
                            "outlinewidth": 0,
                            "ticks": ""
                          }
                        },
                        "type": "scattermapbox"
                      }
                    ],
                    "scatterpolar": [
                      {
                        "marker": {
                          "colorbar": {
                            "outlinewidth": 0,
                            "ticks": ""
                          }
                        },
                        "type": "scatterpolar"
                      }
                    ],
                    "scatterpolargl": [
                      {
                        "marker": {
                          "colorbar": {
                            "outlinewidth": 0,
                            "ticks": ""
                          }
                        },
                        "type": "scatterpolargl"
                      }
                    ],
                    "scatterternary": [
                      {
                        "marker": {
                          "colorbar": {
                            "outlinewidth": 0,
                            "ticks": ""
                          }
                        },
                        "type": "scatterternary"
                      }
                    ],
                    "surface": [
                      {
                        "colorbar": {
                          "outlinewidth": 0,
                          "ticks": ""
                        },
                        "colorscale": [
                          [
                            0,
                            "#0d0887"
                          ],
                          [
                            0.1111111111111111,
                            "#46039f"
                          ],
                          [
                            0.2222222222222222,
                            "#7201a8"
                          ],
                          [
                            0.3333333333333333,
                            "#9c179e"
                          ],
                          [
                            0.4444444444444444,
                            "#bd3786"
                          ],
                          [
                            0.5555555555555556,
                            "#d8576b"
                          ],
                          [
                            0.6666666666666666,
                            "#ed7953"
                          ],
                          [
                            0.7777777777777778,
                            "#fb9f3a"
                          ],
                          [
                            0.8888888888888888,
                            "#fdca26"
                          ],
                          [
                            1,
                            "#f0f921"
                          ]
                        ],
                        "type": "surface"
                      }
                    ],
                    "table": [
                      {
                        "cells": {
                          "fill": {
                            "color": "#EBF0F8"
                          },
                          "line": {
                            "color": "white"
                          }
                        },
                        "header": {
                          "fill": {
                            "color": "#C8D4E3"
                          },
                          "line": {
                            "color": "white"
                          }
                        },
                        "type": "table"
                      }
                    ]
                  },
                  "layout": {
                    "annotationdefaults": {
                      "arrowcolor": "#2a3f5f",
                      "arrowhead": 0,
                      "arrowwidth": 1
                    },
                    "autotypenumbers": "strict",
                    "coloraxis": {
                      "colorbar": {
                        "outlinewidth": 0,
                        "ticks": ""
                      }
                    },
                    "colorscale": {
                      "diverging": [
                        [
                          0,
                          "#8e0152"
                        ],
                        [
                          0.1,
                          "#c51b7d"
                        ],
                        [
                          0.2,
                          "#de77ae"
                        ],
                        [
                          0.3,
                          "#f1b6da"
                        ],
                        [
                          0.4,
                          "#fde0ef"
                        ],
                        [
                          0.5,
                          "#f7f7f7"
                        ],
                        [
                          0.6,
                          "#e6f5d0"
                        ],
                        [
                          0.7,
                          "#b8e186"
                        ],
                        [
                          0.8,
                          "#7fbc41"
                        ],
                        [
                          0.9,
                          "#4d9221"
                        ],
                        [
                          1,
                          "#276419"
                        ]
                      ],
                      "sequential": [
                        [
                          0,
                          "#0d0887"
                        ],
                        [
                          0.1111111111111111,
                          "#46039f"
                        ],
                        [
                          0.2222222222222222,
                          "#7201a8"
                        ],
                        [
                          0.3333333333333333,
                          "#9c179e"
                        ],
                        [
                          0.4444444444444444,
                          "#bd3786"
                        ],
                        [
                          0.5555555555555556,
                          "#d8576b"
                        ],
                        [
                          0.6666666666666666,
                          "#ed7953"
                        ],
                        [
                          0.7777777777777778,
                          "#fb9f3a"
                        ],
                        [
                          0.8888888888888888,
                          "#fdca26"
                        ],
                        [
                          1,
                          "#f0f921"
                        ]
                      ],
                      "sequentialminus": [
                        [
                          0,
                          "#0d0887"
                        ],
                        [
                          0.1111111111111111,
                          "#46039f"
                        ],
                        [
                          0.2222222222222222,
                          "#7201a8"
                        ],
                        [
                          0.3333333333333333,
                          "#9c179e"
                        ],
                        [
                          0.4444444444444444,
                          "#bd3786"
                        ],
                        [
                          0.5555555555555556,
                          "#d8576b"
                        ],
                        [
                          0.6666666666666666,
                          "#ed7953"
                        ],
                        [
                          0.7777777777777778,
                          "#fb9f3a"
                        ],
                        [
                          0.8888888888888888,
                          "#fdca26"
                        ],
                        [
                          1,
                          "#f0f921"
                        ]
                      ]
                    },
                    "colorway": [
                      "#636efa",
                      "#EF553B",
                      "#00cc96",
                      "#ab63fa",
                      "#FFA15A",
                      "#19d3f3",
                      "#FF6692",
                      "#B6E880",
                      "#FF97FF",
                      "#FECB52"
                    ],
                    "font": {
                      "color": "#2a3f5f"
                    },
                    "geo": {
                      "bgcolor": "white",
                      "lakecolor": "white",
                      "landcolor": "#E5ECF6",
                      "showlakes": true,
                      "showland": true,
                      "subunitcolor": "white"
                    },
                    "hoverlabel": {
                      "align": "left"
                    },
                    "hovermode": "closest",
                    "mapbox": {
                      "style": "light"
                    },
                    "paper_bgcolor": "white",
                    "plot_bgcolor": "#E5ECF6",
                    "polar": {
                      "angularaxis": {
                        "gridcolor": "white",
                        "linecolor": "white",
                        "ticks": ""
                      },
                      "bgcolor": "#E5ECF6",
                      "radialaxis": {
                        "gridcolor": "white",
                        "linecolor": "white",
                        "ticks": ""
                      }
                    },
                    "scene": {
                      "xaxis": {
                        "backgroundcolor": "#E5ECF6",
                        "gridcolor": "white",
                        "gridwidth": 2,
                        "linecolor": "white",
                        "showbackground": true,
                        "ticks": "",
                        "zerolinecolor": "white"
                      },
                      "yaxis": {
                        "backgroundcolor": "#E5ECF6",
                        "gridcolor": "white",
                        "gridwidth": 2,
                        "linecolor": "white",
                        "showbackground": true,
                        "ticks": "",
                        "zerolinecolor": "white"
                      },
                      "zaxis": {
                        "backgroundcolor": "#E5ECF6",
                        "gridcolor": "white",
                        "gridwidth": 2,
                        "linecolor": "white",
                        "showbackground": true,
                        "ticks": "",
                        "zerolinecolor": "white"
                      }
                    },
                    "shapedefaults": {
                      "line": {
                        "color": "#2a3f5f"
                      }
                    },
                    "ternary": {
                      "aaxis": {
                        "gridcolor": "white",
                        "linecolor": "white",
                        "ticks": ""
                      },
                      "baxis": {
                        "gridcolor": "white",
                        "linecolor": "white",
                        "ticks": ""
                      },
                      "bgcolor": "#E5ECF6",
                      "caxis": {
                        "gridcolor": "white",
                        "linecolor": "white",
                        "ticks": ""
                      }
                    },
                    "title": {
                      "x": 0.05
                    },
                    "xaxis": {
                      "automargin": true,
                      "gridcolor": "white",
                      "linecolor": "white",
                      "ticks": "",
                      "title": {
                        "standoff": 15
                      },
                      "zerolinecolor": "white",
                      "zerolinewidth": 2
                    },
                    "yaxis": {
                      "automargin": true,
                      "gridcolor": "white",
                      "linecolor": "white",
                      "ticks": "",
                      "title": {
                        "standoff": 15
                      },
                      "zerolinecolor": "white",
                      "zerolinewidth": 2
                    }
                  }
                },
                "title": {
                  "text": "Clean Triangle Missing Value Correlation Heatmap"
                },
                "width": 850,
                "xaxis": {
                  "tickangle": 45
                },
                "yaxis": {
                  "autorange": "reversed"
                }
              }
            }
          },
          "metadata": {},
          "output_type": "display_data"
        }
      ],
      "source": [
        "missing_matrix = eda_data.isnull().astype(int)\n",
        "corr = missing_matrix.corr().round(2)\n",
        "\n",
        "mask = np.triu(np.ones(corr.shape), k=1).astype(bool)\n",
        "masked_corr = corr.mask(mask)\n",
        "\n",
        "text_labels = masked_corr.astype(str)\n",
        "text_labels[masked_corr.isna()] = \"\"\n",
        "\n",
        "# plot\n",
        "fig = go.Figure(data=go.Heatmap(\n",
        "    z=masked_corr.values,\n",
        "    x=masked_corr.columns,\n",
        "    y=masked_corr.index,\n",
        "    text=text_labels.values,\n",
        "    texttemplate=\"%{text}\",\n",
        "    colorscale=\"Blues\",\n",
        "    colorbar=dict(title=\"Missing Corr\"),\n",
        "    zmin=0,\n",
        "    zmax=1,\n",
        "    hoverinfo='skip'\n",
        "))\n",
        "\n",
        "fig.update_layout(\n",
        "    title=\"Clean Triangle Missing Value Correlation Heatmap\",\n",
        "    xaxis_tickangle=45,\n",
        "    width=850,\n",
        "    height=600,\n",
        "    margin=dict(t=50, l=80, r=50, b=80),\n",
        "    font=dict(size=8),\n",
        "    plot_bgcolor='white'\n",
        ")\n",
        "\n",
        "fig.update_yaxes(autorange=\"reversed\")\n",
        "fig.show()"
      ]
    },
    {
      "cell_type": "markdown",
      "metadata": {},
      "source": [
        "This triangle heatmap visualizes the correlation of missing values between different columns in the dataset. Each square represents how often two columns are missing together, with darker blue indicating a stronger relationship. Most of the values are very high (close to 1.0), suggesting that when one column is missing, others are often missing too — especially among skill-related fields like SKILLS, SPECIALIZED_SKILLS, and SOFTWARE_SKILLS, which are likely part of the same job posting metadata.\n",
        "\n",
        "This pattern indicates that missingness is not random, but structured — possibly due to differences in how job descriptions are recorded across roles or industries. For example, a job with no software skill tags might also lack common skills or NAICS codes, hinting at data input gaps rather than actual job content differences. Recognizing these correlations is helpful for choosing imputation strategies or deciding whether to drop certain rows or columns entirely during preprocessing."
      ]
    },
    {
      "cell_type": "code",
      "execution_count": null,
      "metadata": {},
      "outputs": [],
      "source": [
        "if \"SALARY\" in eda_data.columns:\n",
        "    eda_data[\"SALARY\"].fillna(eda_data[\"SALARY\"].median(), inplace=True)\n",
        "else:\n",
        "    print(\"Warning: 'SALARY' column not found in dataframe!\")\n",
        "\n",
        "if \"COMPANY\" in eda_data.columns:\n",
        "    eda_data[\"COMPANY\"].fillna(\"Unknown\", inplace=True)\n",
        "else:\n",
        "    print(\"Warning: 'COMPANY' column not found in dataframe!\")\n",
        "\n",
        "    # Fill numeric columns with mean\n",
        "num_cols = eda_data.select_dtypes(include='number').columns\n",
        "for col in num_cols:\n",
        "    if eda_data[col].isnull().sum() > 0:\n",
        "        eda_data[col].fillna(eda_data[col].mean(), inplace=True)\n",
        "\n",
        "# Fill categorical columns with mode\n",
        "cat_cols = eda_data.select_dtypes(include='object').columns\n",
        "for col in cat_cols:\n",
        "    if eda_data[col].isnull().sum() > 0:\n",
        "        eda_data[col].fillna(eda_data[col].mode()[0], inplace=True)\n",
        "\n",
        "eda_data.dropna(thresh=len(eda_data) * 0.5, axis=1, inplace=True)\n",
        "\n",
        "\n",
        "# delete duplicates\n",
        "eda_data = eda_data.drop_duplicates(subset=[\"TITLE\", \"COMPANY\", \"LOCATION\", \"POSTED\"])\n"
=======
 "cells": [
  {
   "cell_type": "code",
   "execution_count": 3,
   "metadata": {},
   "outputs": [
    {
     "data": {
      "image/png": "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",
      "text/plain": [
       "<Figure size 2000x1200 with 2 Axes>"
>>>>>>> Stashed changes
      ]
    }
<<<<<<< Updated upstream
  ],
  "metadata": {
    "kernelspec": {
      "display_name": ".venv",
      "language": "python",
      "name": "python3"
    },
    "language_info": {
      "codemirror_mode": {
        "name": "ipython",
        "version": 3
      },
      "file_extension": ".py",
      "mimetype": "text/x-python",
      "name": "python",
      "nbconvert_exporter": "python",
      "pygments_lexer": "ipython3",
      "version": "3.13.1"
    }
  },
  "nbformat": 4,
  "nbformat_minor": 4
=======
   ],
   "source": [
    "import pandas as pd\n",
    "import matplotlib.pyplot as plt\n",
    "import plotly.express as px\n",
    "import seaborn as sns\n",
    "import missingno as msno\n",
    "\n",
    "df = pd.read_csv(\"data/lightcast_job_postings.csv\")\n",
    "\n",
    "columns_to_keep = [\n",
    "    'COMPANY_RAW',                # company\n",
    "    'EDUCATION_LEVELS',           # education\n",
    "    'MIN_YEARS_EXPERIENCE',\n",
    "    'MAX_YEARS_EXPERIENCE',        # experience\n",
    "    'TITLE_CLEAN',                # job title\n",
    "    'SKILLS',                     # general skills\n",
    "    'SPECIALIZED_SKILLS',        # specialized skills\n",
    "    'CERTIFICATIONS',            # certifications\n",
    "    'COMMON_SKILLS',             # common skills\n",
    "    'SOFTWARE_SKILLS',           # software skills\n",
    "    'SOC_2021_4_NAME',           # SOC 2021\n",
    "    'NAICS_2022_6',              # NAICS 2022\n",
    "    'REMOTE_TYPE_NAME',          # remote work type\n",
    "    'SALARY',                     # salary (if present in your dataset)\n",
    "    'TITLE_NAME',\n",
    "    'SKILLS_NAME',\n",
    "    'SPECIALIZED_SKILLS_NAME'\n",
    "]\n",
    "\n",
    "eda_data = df[columns_to_keep]\n",
    "\n",
    "\n",
    "msno.heatmap(eda_data)\n",
    "plt.title(\"Missing Values Heatmap\")\n",
    "plt.show()"
   ]
  },
  {
   "cell_type": "code",
   "execution_count": 3,
   "metadata": {},
   "outputs": [],
   "source": [
    "eda_data.to_csv('./data/eda_data.csv', index=False)"
   ]
  }
 ],
 "metadata": {
  "kernelspec": {
   "display_name": "base",
   "language": "python",
   "name": "python3"
  },
  "language_info": {
   "codemirror_mode": {
    "name": "ipython",
    "version": 3
   },
   "file_extension": ".py",
   "mimetype": "text/x-python",
   "name": "python",
   "nbconvert_exporter": "python",
   "pygments_lexer": "ipython3",
   "version": "3.12.7"
  }
 },
 "nbformat": 4,
 "nbformat_minor": 2
>>>>>>> Stashed changes
}
