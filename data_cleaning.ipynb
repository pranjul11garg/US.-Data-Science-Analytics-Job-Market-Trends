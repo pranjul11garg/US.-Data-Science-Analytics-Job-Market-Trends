{
  "cells": [
    {
      "cell_type": "markdown",
      "metadata": {},
      "source": [
        "---\n",
        "title: \"Data Cleaning\"\n",
        "format: html\n",
        "execute:\n",
        "  echo: true\n",
        "  warning: false\n",
        "  error: true\n",
        "toc: true\n",
        "code-fold: true\n",
        "---"
      ]
    },
    {
      "cell_type": "markdown",
      "metadata": {},
      "source": [
        "This page presents our data cleaning and prepping part."
      ]
    },
    {
      "cell_type": "code",
      "execution_count": 4,
      "metadata": {},
      "outputs": [
        {
          "name": "stderr",
          "output_type": "stream",
          "text": [
            "/var/folders/80/zshfnsyx0nv0p46dbk270wnm0000gn/T/ipykernel_45787/564124568.py:9: DtypeWarning:\n",
            "\n",
            "Columns (3,6,16,19,22,24,26,28,29,30,32,36,40,42,44,46,48,50,52,54,56,58,60,62,95,97,99,101,103,105,107,109,121) have mixed types. Specify dtype option on import or set low_memory=False.\n",
            "\n"
          ]
        }
      ],
      "source": [
        "import pandas as pd\n",
        "import matplotlib.pyplot as plt\n",
        "import seaborn as sns\n",
        "import missingno as msno\n",
        "import plotly.express as px\n",
        "import numpy as np\n",
        "import plotly.graph_objects as go\n",
        "\n",
        "df = pd.read_csv(\"./data/lightcast_job_postings.csv\")\n",
        "\n",
        "columns_to_keep = [\n",
        "    'COMPANY', 'LOCATION', 'POSTED', 'MIN_EDULEVELS_NAME', 'MAX_EDULEVELS_NAME',\n",
        "    'MIN_YEARS_EXPERIENCE', 'MAX_YEARS_EXPERIENCE', 'TITLE', 'SKILLS',\n",
        "    'SPECIALIZED_SKILLS', 'CERTIFICATIONS', 'COMMON_SKILLS', 'SOFTWARE_SKILLS',\n",
        "    'SOC_2021_4_NAME', 'NAICS_2022_6', 'NAICS2_NAME', 'REMOTE_TYPE_NAME',\n",
        "    'SALARY', 'TITLE_NAME', 'SKILLS_NAME', 'SPECIALIZED_SKILLS_NAME'\n",
        "]\n",
        "eda_data = df[columns_to_keep]\n"
      ]
    },
    {
      "cell_type": "code",
      "execution_count": null,
      "metadata": {},
      "outputs": [
        {
          "data": {
            "application/vnd.plotly.v1+json": {
              "config": {
                "plotlyServerURL": "https://plot.ly"
              },
              "data": [
                {
                  "colorbar": {
                    "title": {
                      "text": "Missing Corr"
                    }
                  },
                  "colorscale": [
                    [
                      0,
                      "rgb(247,251,255)"
                    ],
                    [
                      0.125,
                      "rgb(222,235,247)"
                    ],
                    [
                      0.25,
                      "rgb(198,219,239)"
                    ],
                    [
                      0.375,
                      "rgb(158,202,225)"
                    ],
                    [
                      0.5,
                      "rgb(107,174,214)"
                    ],
                    [
                      0.625,
                      "rgb(66,146,198)"
                    ],
                    [
                      0.75,
                      "rgb(33,113,181)"
                    ],
                    [
                      0.875,
                      "rgb(8,81,156)"
                    ],
                    [
                      1,
                      "rgb(8,48,107)"
                    ]
                  ],
                  "hoverinfo": "skip",
                  "text": [
                    [
                      "1.0",
                      "",
                      "",
                      "",
                      "",
                      "",
                      "",
                      "",
                      "",
                      "",
                      "",
                      "",
                      "",
                      "",
                      "",
                      "",
                      "",
                      "",
                      "",
                      "",
                      ""
                    ],
                    [
                      "0.99",
                      "1.0",
                      "",
                      "",
                      "",
                      "",
                      "",
                      "",
                      "",
                      "",
                      "",
                      "",
                      "",
                      "",
                      "",
                      "",
                      "",
                      "",
                      "",
                      "",
                      ""
                    ],
                    [
                      "0.97",
                      "0.98",
                      "1.0",
                      "",
                      "",
                      "",
                      "",
                      "",
                      "",
                      "",
                      "",
                      "",
                      "",
                      "",
                      "",
                      "",
                      "",
                      "",
                      "",
                      "",
                      ""
                    ],
                    [
                      "0.99",
                      "1.0",
                      "0.98",
                      "1.0",
                      "",
                      "",
                      "",
                      "",
                      "",
                      "",
                      "",
                      "",
                      "",
                      "",
                      "",
                      "",
                      "",
                      "",
                      "",
                      "",
                      ""
                    ],
                    [
                      "0.05",
                      "0.05",
                      "0.05",
                      "0.05",
                      "1.0",
                      "",
                      "",
                      "",
                      "",
                      "",
                      "",
                      "",
                      "",
                      "",
                      "",
                      "",
                      "",
                      "",
                      "",
                      "",
                      ""
                    ],
                    [
                      "0.13",
                      "0.13",
                      "0.13",
                      "0.13",
                      "0.19",
                      "1.0",
                      "",
                      "",
                      "",
                      "",
                      "",
                      "",
                      "",
                      "",
                      "",
                      "",
                      "",
                      "",
                      "",
                      "",
                      ""
                    ],
                    [
                      "0.03",
                      "0.03",
                      "0.03",
                      "0.03",
                      "0.02",
                      "0.25",
                      "1.0",
                      "",
                      "",
                      "",
                      "",
                      "",
                      "",
                      "",
                      "",
                      "",
                      "",
                      "",
                      "",
                      "",
                      ""
                    ],
                    [
                      "0.99",
                      "1.0",
                      "0.98",
                      "1.0",
                      "0.05",
                      "0.13",
                      "0.03",
                      "1.0",
                      "",
                      "",
                      "",
                      "",
                      "",
                      "",
                      "",
                      "",
                      "",
                      "",
                      "",
                      "",
                      ""
                    ],
                    [
                      "0.99",
                      "1.0",
                      "0.98",
                      "1.0",
                      "0.05",
                      "0.13",
                      "0.03",
                      "1.0",
                      "1.0",
                      "",
                      "",
                      "",
                      "",
                      "",
                      "",
                      "",
                      "",
                      "",
                      "",
                      "",
                      ""
                    ],
                    [
                      "0.99",
                      "1.0",
                      "0.98",
                      "1.0",
                      "0.05",
                      "0.13",
                      "0.03",
                      "1.0",
                      "1.0",
                      "1.0",
                      "",
                      "",
                      "",
                      "",
                      "",
                      "",
                      "",
                      "",
                      "",
                      "",
                      ""
                    ],
                    [
                      "0.99",
                      "1.0",
                      "0.98",
                      "1.0",
                      "0.05",
                      "0.13",
                      "0.03",
                      "1.0",
                      "1.0",
                      "1.0",
                      "1.0",
                      "",
                      "",
                      "",
                      "",
                      "",
                      "",
                      "",
                      "",
                      "",
                      ""
                    ],
                    [
                      "0.99",
                      "1.0",
                      "0.98",
                      "1.0",
                      "0.05",
                      "0.13",
                      "0.03",
                      "1.0",
                      "1.0",
                      "1.0",
                      "1.0",
                      "1.0",
                      "",
                      "",
                      "",
                      "",
                      "",
                      "",
                      "",
                      "",
                      ""
                    ],
                    [
                      "0.99",
                      "1.0",
                      "0.98",
                      "1.0",
                      "0.05",
                      "0.13",
                      "0.03",
                      "1.0",
                      "1.0",
                      "1.0",
                      "1.0",
                      "1.0",
                      "1.0",
                      "",
                      "",
                      "",
                      "",
                      "",
                      "",
                      "",
                      ""
                    ],
                    [
                      "0.99",
                      "1.0",
                      "0.98",
                      "1.0",
                      "0.05",
                      "0.13",
                      "0.03",
                      "1.0",
                      "1.0",
                      "1.0",
                      "1.0",
                      "1.0",
                      "1.0",
                      "1.0",
                      "",
                      "",
                      "",
                      "",
                      "",
                      "",
                      ""
                    ],
                    [
                      "0.99",
                      "0.98",
                      "0.97",
                      "0.98",
                      "0.05",
                      "0.13",
                      "0.02",
                      "0.98",
                      "0.98",
                      "0.98",
                      "0.98",
                      "0.98",
                      "0.98",
                      "0.98",
                      "1.0",
                      "",
                      "",
                      "",
                      "",
                      "",
                      ""
                    ],
                    [
                      "0.99",
                      "1.0",
                      "0.98",
                      "1.0",
                      "0.05",
                      "0.13",
                      "0.03",
                      "1.0",
                      "1.0",
                      "1.0",
                      "1.0",
                      "1.0",
                      "1.0",
                      "1.0",
                      "0.98",
                      "1.0",
                      "",
                      "",
                      "",
                      "",
                      ""
                    ],
                    [
                      "0.99",
                      "1.0",
                      "0.98",
                      "1.0",
                      "0.05",
                      "0.13",
                      "0.03",
                      "1.0",
                      "1.0",
                      "1.0",
                      "1.0",
                      "1.0",
                      "1.0",
                      "1.0",
                      "0.99",
                      "1.0",
                      "1.0",
                      "",
                      "",
                      "",
                      ""
                    ],
                    [
                      "0.08",
                      "0.08",
                      "0.08",
                      "0.08",
                      "0.12",
                      "0.17",
                      "0.02",
                      "0.08",
                      "0.08",
                      "0.08",
                      "0.08",
                      "0.08",
                      "0.08",
                      "0.08",
                      "0.07",
                      "0.08",
                      "0.08",
                      "1.0",
                      "",
                      "",
                      ""
                    ],
                    [
                      "0.99",
                      "1.0",
                      "0.98",
                      "1.0",
                      "0.05",
                      "0.13",
                      "0.03",
                      "1.0",
                      "1.0",
                      "1.0",
                      "1.0",
                      "1.0",
                      "1.0",
                      "1.0",
                      "0.98",
                      "1.0",
                      "1.0",
                      "0.08",
                      "1.0",
                      "",
                      ""
                    ],
                    [
                      "0.99",
                      "1.0",
                      "0.98",
                      "1.0",
                      "0.05",
                      "0.13",
                      "0.03",
                      "1.0",
                      "1.0",
                      "1.0",
                      "1.0",
                      "1.0",
                      "1.0",
                      "1.0",
                      "0.98",
                      "1.0",
                      "1.0",
                      "0.08",
                      "1.0",
                      "1.0",
                      ""
                    ],
                    [
                      "0.99",
                      "1.0",
                      "0.98",
                      "1.0",
                      "0.05",
                      "0.13",
                      "0.03",
                      "1.0",
                      "1.0",
                      "1.0",
                      "1.0",
                      "1.0",
                      "1.0",
                      "1.0",
                      "0.98",
                      "1.0",
                      "1.0",
                      "0.08",
                      "1.0",
                      "1.0",
                      "1.0"
                    ]
                  ],
                  "texttemplate": "%{text}",
                  "type": "heatmap",
                  "x": [
                    "COMPANY",
                    "LOCATION",
                    "POSTED",
                    "MIN_EDULEVELS_NAME",
                    "MAX_EDULEVELS_NAME",
                    "MIN_YEARS_EXPERIENCE",
                    "MAX_YEARS_EXPERIENCE",
                    "TITLE",
                    "SKILLS",
                    "SPECIALIZED_SKILLS",
                    "CERTIFICATIONS",
                    "COMMON_SKILLS",
                    "SOFTWARE_SKILLS",
                    "SOC_2021_4_NAME",
                    "NAICS_2022_6",
                    "NAICS2_NAME",
                    "REMOTE_TYPE_NAME",
                    "SALARY",
                    "TITLE_NAME",
                    "SKILLS_NAME",
                    "SPECIALIZED_SKILLS_NAME"
                  ],
                  "y": [
                    "COMPANY",
                    "LOCATION",
                    "POSTED",
                    "MIN_EDULEVELS_NAME",
                    "MAX_EDULEVELS_NAME",
                    "MIN_YEARS_EXPERIENCE",
                    "MAX_YEARS_EXPERIENCE",
                    "TITLE",
                    "SKILLS",
                    "SPECIALIZED_SKILLS",
                    "CERTIFICATIONS",
                    "COMMON_SKILLS",
                    "SOFTWARE_SKILLS",
                    "SOC_2021_4_NAME",
                    "NAICS_2022_6",
                    "NAICS2_NAME",
                    "REMOTE_TYPE_NAME",
                    "SALARY",
                    "TITLE_NAME",
                    "SKILLS_NAME",
                    "SPECIALIZED_SKILLS_NAME"
                  ],
                  "z": {
                    "bdata": "AAAAAAAA8D8AAAAAAAD4fwAAAAAAAPh/AAAAAAAA+H8AAAAAAAD4fwAAAAAAAPh/AAAAAAAA+H8AAAAAAAD4fwAAAAAAAPh/AAAAAAAA+H8AAAAAAAD4fwAAAAAAAPh/AAAAAAAA+H8AAAAAAAD4fwAAAAAAAPh/AAAAAAAA+H8AAAAAAAD4fwAAAAAAAPh/AAAAAAAA+H8AAAAAAAD4fwAAAAAAAPh/rkfhehSu7z8AAAAAAADwPwAAAAAAAPh/AAAAAAAA+H8AAAAAAAD4fwAAAAAAAPh/AAAAAAAA+H8AAAAAAAD4fwAAAAAAAPh/AAAAAAAA+H8AAAAAAAD4fwAAAAAAAPh/AAAAAAAA+H8AAAAAAAD4fwAAAAAAAPh/AAAAAAAA+H8AAAAAAAD4fwAAAAAAAPh/AAAAAAAA+H8AAAAAAAD4fwAAAAAAAPh/CtejcD0K7z9cj8L1KFzvPwAAAAAAAPA/AAAAAAAA+H8AAAAAAAD4fwAAAAAAAPh/AAAAAAAA+H8AAAAAAAD4fwAAAAAAAPh/AAAAAAAA+H8AAAAAAAD4fwAAAAAAAPh/AAAAAAAA+H8AAAAAAAD4fwAAAAAAAPh/AAAAAAAA+H8AAAAAAAD4fwAAAAAAAPh/AAAAAAAA+H8AAAAAAAD4fwAAAAAAAPh/rkfhehSu7z8AAAAAAADwP1yPwvUoXO8/AAAAAAAA8D8AAAAAAAD4fwAAAAAAAPh/AAAAAAAA+H8AAAAAAAD4fwAAAAAAAPh/AAAAAAAA+H8AAAAAAAD4fwAAAAAAAPh/AAAAAAAA+H8AAAAAAAD4fwAAAAAAAPh/AAAAAAAA+H8AAAAAAAD4fwAAAAAAAPh/AAAAAAAA+H8AAAAAAAD4fwAAAAAAAPh/mpmZmZmZqT+amZmZmZmpP5qZmZmZmak/mpmZmZmZqT8AAAAAAADwPwAAAAAAAPh/AAAAAAAA+H8AAAAAAAD4fwAAAAAAAPh/AAAAAAAA+H8AAAAAAAD4fwAAAAAAAPh/AAAAAAAA+H8AAAAAAAD4fwAAAAAAAPh/AAAAAAAA+H8AAAAAAAD4fwAAAAAAAPh/AAAAAAAA+H8AAAAAAAD4fwAAAAAAAPh/pHA9CtejwD+kcD0K16PAP6RwPQrXo8A/pHA9CtejwD9SuB6F61HIPwAAAAAAAPA/AAAAAAAA+H8AAAAAAAD4fwAAAAAAAPh/AAAAAAAA+H8AAAAAAAD4fwAAAAAAAPh/AAAAAAAA+H8AAAAAAAD4fwAAAAAAAPh/AAAAAAAA+H8AAAAAAAD4fwAAAAAAAPh/AAAAAAAA+H8AAAAAAAD4fwAAAAAAAPh/uB6F61G4nj+4HoXrUbieP7gehetRuJ4/uB6F61G4nj97FK5H4XqUPwAAAAAAANA/AAAAAAAA8D8AAAAAAAD4fwAAAAAAAPh/AAAAAAAA+H8AAAAAAAD4fwAAAAAAAPh/AAAAAAAA+H8AAAAAAAD4fwAAAAAAAPh/AAAAAAAA+H8AAAAAAAD4fwAAAAAAAPh/AAAAAAAA+H8AAAAAAAD4fwAAAAAAAPh/rkfhehSu7z8AAAAAAADwP1yPwvUoXO8/AAAAAAAA8D+amZmZmZmpP6RwPQrXo8A/uB6F61G4nj8AAAAAAADwPwAAAAAAAPh/AAAAAAAA+H8AAAAAAAD4fwAAAAAAAPh/AAAAAAAA+H8AAAAAAAD4fwAAAAAAAPh/AAAAAAAA+H8AAAAAAAD4fwAAAAAAAPh/AAAAAAAA+H8AAAAAAAD4fwAAAAAAAPh/rkfhehSu7z8AAAAAAADwP1yPwvUoXO8/AAAAAAAA8D+amZmZmZmpP6RwPQrXo8A/uB6F61G4nj8AAAAAAADwPwAAAAAAAPA/AAAAAAAA+H8AAAAAAAD4fwAAAAAAAPh/AAAAAAAA+H8AAAAAAAD4fwAAAAAAAPh/AAAAAAAA+H8AAAAAAAD4fwAAAAAAAPh/AAAAAAAA+H8AAAAAAAD4fwAAAAAAAPh/rkfhehSu7z8AAAAAAADwP1yPwvUoXO8/AAAAAAAA8D+amZmZmZmpP6RwPQrXo8A/uB6F61G4nj8AAAAAAADwPwAAAAAAAPA/AAAAAAAA8D8AAAAAAAD4fwAAAAAAAPh/AAAAAAAA+H8AAAAAAAD4fwAAAAAAAPh/AAAAAAAA+H8AAAAAAAD4fwAAAAAAAPh/AAAAAAAA+H8AAAAAAAD4fwAAAAAAAPh/rkfhehSu7z8AAAAAAADwP1yPwvUoXO8/AAAAAAAA8D+amZmZmZmpP6RwPQrXo8A/uB6F61G4nj8AAAAAAADwPwAAAAAAAPA/AAAAAAAA8D8AAAAAAADwPwAAAAAAAPh/AAAAAAAA+H8AAAAAAAD4fwAAAAAAAPh/AAAAAAAA+H8AAAAAAAD4fwAAAAAAAPh/AAAAAAAA+H8AAAAAAAD4fwAAAAAAAPh/rkfhehSu7z8AAAAAAADwP1yPwvUoXO8/AAAAAAAA8D+amZmZmZmpP6RwPQrXo8A/uB6F61G4nj8AAAAAAADwPwAAAAAAAPA/AAAAAAAA8D8AAAAAAADwPwAAAAAAAPA/AAAAAAAA+H8AAAAAAAD4fwAAAAAAAPh/AAAAAAAA+H8AAAAAAAD4fwAAAAAAAPh/AAAAAAAA+H8AAAAAAAD4fwAAAAAAAPh/rkfhehSu7z8AAAAAAADwP1yPwvUoXO8/AAAAAAAA8D+amZmZmZmpP6RwPQrXo8A/uB6F61G4nj8AAAAAAADwPwAAAAAAAPA/AAAAAAAA8D8AAAAAAADwPwAAAAAAAPA/AAAAAAAA8D8AAAAAAAD4fwAAAAAAAPh/AAAAAAAA+H8AAAAAAAD4fwAAAAAAAPh/AAAAAAAA+H8AAAAAAAD4fwAAAAAAAPh/rkfhehSu7z8AAAAAAADwP1yPwvUoXO8/AAAAAAAA8D+amZmZmZmpP6RwPQrXo8A/uB6F61G4nj8AAAAAAADwPwAAAAAAAPA/AAAAAAAA8D8AAAAAAADwPwAAAAAAAPA/AAAAAAAA8D8AAAAAAADwPwAAAAAAAPh/AAAAAAAA+H8AAAAAAAD4fwAAAAAAAPh/AAAAAAAA+H8AAAAAAAD4fwAAAAAAAPh/rkfhehSu7z9cj8L1KFzvPwrXo3A9Cu8/XI/C9Shc7z+amZmZmZmpP6RwPQrXo8A/exSuR+F6lD9cj8L1KFzvP1yPwvUoXO8/XI/C9Shc7z9cj8L1KFzvP1yPwvUoXO8/XI/C9Shc7z9cj8L1KFzvPwAAAAAAAPA/AAAAAAAA+H8AAAAAAAD4fwAAAAAAAPh/AAAAAAAA+H8AAAAAAAD4fwAAAAAAAPh/rkfhehSu7z8AAAAAAADwP1yPwvUoXO8/AAAAAAAA8D+amZmZmZmpP6RwPQrXo8A/uB6F61G4nj8AAAAAAADwPwAAAAAAAPA/AAAAAAAA8D8AAAAAAADwPwAAAAAAAPA/AAAAAAAA8D8AAAAAAADwP1yPwvUoXO8/AAAAAAAA8D8AAAAAAAD4fwAAAAAAAPh/AAAAAAAA+H8AAAAAAAD4fwAAAAAAAPh/rkfhehSu7z8AAAAAAADwP1yPwvUoXO8/AAAAAAAA8D+amZmZmZmpP6RwPQrXo8A/uB6F61G4nj8AAAAAAADwPwAAAAAAAPA/AAAAAAAA8D8AAAAAAADwPwAAAAAAAPA/AAAAAAAA8D8AAAAAAADwP65H4XoUru8/AAAAAAAA8D8AAAAAAADwPwAAAAAAAPh/AAAAAAAA+H8AAAAAAAD4fwAAAAAAAPh/exSuR+F6tD97FK5H4Xq0P3sUrkfherQ/exSuR+F6tD+4HoXrUbi+P8P1KFyPwsU/exSuR+F6lD97FK5H4Xq0P3sUrkfherQ/exSuR+F6tD97FK5H4Xq0P3sUrkfherQ/exSuR+F6tD97FK5H4Xq0P+xRuB6F67E/exSuR+F6tD97FK5H4Xq0PwAAAAAAAPA/AAAAAAAA+H8AAAAAAAD4fwAAAAAAAPh/rkfhehSu7z8AAAAAAADwP1yPwvUoXO8/AAAAAAAA8D+amZmZmZmpP6RwPQrXo8A/uB6F61G4nj8AAAAAAADwPwAAAAAAAPA/AAAAAAAA8D8AAAAAAADwPwAAAAAAAPA/AAAAAAAA8D8AAAAAAADwP1yPwvUoXO8/AAAAAAAA8D8AAAAAAADwP3sUrkfherQ/AAAAAAAA8D8AAAAAAAD4fwAAAAAAAPh/rkfhehSu7z8AAAAAAADwP1yPwvUoXO8/AAAAAAAA8D+amZmZmZmpP6RwPQrXo8A/uB6F61G4nj8AAAAAAADwPwAAAAAAAPA/AAAAAAAA8D8AAAAAAADwPwAAAAAAAPA/AAAAAAAA8D8AAAAAAADwP1yPwvUoXO8/AAAAAAAA8D8AAAAAAADwP3sUrkfherQ/AAAAAAAA8D8AAAAAAADwPwAAAAAAAPh/rkfhehSu7z8AAAAAAADwP1yPwvUoXO8/AAAAAAAA8D+amZmZmZmpP6RwPQrXo8A/uB6F61G4nj8AAAAAAADwPwAAAAAAAPA/AAAAAAAA8D8AAAAAAADwPwAAAAAAAPA/AAAAAAAA8D8AAAAAAADwP1yPwvUoXO8/AAAAAAAA8D8AAAAAAADwP3sUrkfherQ/AAAAAAAA8D8AAAAAAADwPwAAAAAAAPA/",
                    "dtype": "f8",
                    "shape": "21, 21"
                  },
                  "zmax": 1,
                  "zmin": 0
                }
              ],
              "layout": {
                "font": {
                  "size": 8
                },
                "height": 600,
                "margin": {
                  "b": 80,
                  "l": 80,
                  "r": 50,
                  "t": 50
                },
                "plot_bgcolor": "white",
                "template": {
                  "data": {
                    "bar": [
                      {
                        "error_x": {
                          "color": "#2a3f5f"
                        },
                        "error_y": {
                          "color": "#2a3f5f"
                        },
                        "marker": {
                          "line": {
                            "color": "#E5ECF6",
                            "width": 0.5
                          },
                          "pattern": {
                            "fillmode": "overlay",
                            "size": 10,
                            "solidity": 0.2
                          }
                        },
                        "type": "bar"
                      }
                    ],
                    "barpolar": [
                      {
                        "marker": {
                          "line": {
                            "color": "#E5ECF6",
                            "width": 0.5
                          },
                          "pattern": {
                            "fillmode": "overlay",
                            "size": 10,
                            "solidity": 0.2
                          }
                        },
                        "type": "barpolar"
                      }
                    ],
                    "carpet": [
                      {
                        "aaxis": {
                          "endlinecolor": "#2a3f5f",
                          "gridcolor": "white",
                          "linecolor": "white",
                          "minorgridcolor": "white",
                          "startlinecolor": "#2a3f5f"
                        },
                        "baxis": {
                          "endlinecolor": "#2a3f5f",
                          "gridcolor": "white",
                          "linecolor": "white",
                          "minorgridcolor": "white",
                          "startlinecolor": "#2a3f5f"
                        },
                        "type": "carpet"
                      }
                    ],
                    "choropleth": [
                      {
                        "colorbar": {
                          "outlinewidth": 0,
                          "ticks": ""
                        },
                        "type": "choropleth"
                      }
                    ],
                    "contour": [
                      {
                        "colorbar": {
                          "outlinewidth": 0,
                          "ticks": ""
                        },
                        "colorscale": [
                          [
                            0,
                            "#0d0887"
                          ],
                          [
                            0.1111111111111111,
                            "#46039f"
                          ],
                          [
                            0.2222222222222222,
                            "#7201a8"
                          ],
                          [
                            0.3333333333333333,
                            "#9c179e"
                          ],
                          [
                            0.4444444444444444,
                            "#bd3786"
                          ],
                          [
                            0.5555555555555556,
                            "#d8576b"
                          ],
                          [
                            0.6666666666666666,
                            "#ed7953"
                          ],
                          [
                            0.7777777777777778,
                            "#fb9f3a"
                          ],
                          [
                            0.8888888888888888,
                            "#fdca26"
                          ],
                          [
                            1,
                            "#f0f921"
                          ]
                        ],
                        "type": "contour"
                      }
                    ],
                    "contourcarpet": [
                      {
                        "colorbar": {
                          "outlinewidth": 0,
                          "ticks": ""
                        },
                        "type": "contourcarpet"
                      }
                    ],
                    "heatmap": [
                      {
                        "colorbar": {
                          "outlinewidth": 0,
                          "ticks": ""
                        },
                        "colorscale": [
                          [
                            0,
                            "#0d0887"
                          ],
                          [
                            0.1111111111111111,
                            "#46039f"
                          ],
                          [
                            0.2222222222222222,
                            "#7201a8"
                          ],
                          [
                            0.3333333333333333,
                            "#9c179e"
                          ],
                          [
                            0.4444444444444444,
                            "#bd3786"
                          ],
                          [
                            0.5555555555555556,
                            "#d8576b"
                          ],
                          [
                            0.6666666666666666,
                            "#ed7953"
                          ],
                          [
                            0.7777777777777778,
                            "#fb9f3a"
                          ],
                          [
                            0.8888888888888888,
                            "#fdca26"
                          ],
                          [
                            1,
                            "#f0f921"
                          ]
                        ],
                        "type": "heatmap"
                      }
                    ],
                    "histogram": [
                      {
                        "marker": {
                          "pattern": {
                            "fillmode": "overlay",
                            "size": 10,
                            "solidity": 0.2
                          }
                        },
                        "type": "histogram"
                      }
                    ],
                    "histogram2d": [
                      {
                        "colorbar": {
                          "outlinewidth": 0,
                          "ticks": ""
                        },
                        "colorscale": [
                          [
                            0,
                            "#0d0887"
                          ],
                          [
                            0.1111111111111111,
                            "#46039f"
                          ],
                          [
                            0.2222222222222222,
                            "#7201a8"
                          ],
                          [
                            0.3333333333333333,
                            "#9c179e"
                          ],
                          [
                            0.4444444444444444,
                            "#bd3786"
                          ],
                          [
                            0.5555555555555556,
                            "#d8576b"
                          ],
                          [
                            0.6666666666666666,
                            "#ed7953"
                          ],
                          [
                            0.7777777777777778,
                            "#fb9f3a"
                          ],
                          [
                            0.8888888888888888,
                            "#fdca26"
                          ],
                          [
                            1,
                            "#f0f921"
                          ]
                        ],
                        "type": "histogram2d"
                      }
                    ],
                    "histogram2dcontour": [
                      {
                        "colorbar": {
                          "outlinewidth": 0,
                          "ticks": ""
                        },
                        "colorscale": [
                          [
                            0,
                            "#0d0887"
                          ],
                          [
                            0.1111111111111111,
                            "#46039f"
                          ],
                          [
                            0.2222222222222222,
                            "#7201a8"
                          ],
                          [
                            0.3333333333333333,
                            "#9c179e"
                          ],
                          [
                            0.4444444444444444,
                            "#bd3786"
                          ],
                          [
                            0.5555555555555556,
                            "#d8576b"
                          ],
                          [
                            0.6666666666666666,
                            "#ed7953"
                          ],
                          [
                            0.7777777777777778,
                            "#fb9f3a"
                          ],
                          [
                            0.8888888888888888,
                            "#fdca26"
                          ],
                          [
                            1,
                            "#f0f921"
                          ]
                        ],
                        "type": "histogram2dcontour"
                      }
                    ],
                    "mesh3d": [
                      {
                        "colorbar": {
                          "outlinewidth": 0,
                          "ticks": ""
                        },
                        "type": "mesh3d"
                      }
                    ],
                    "parcoords": [
                      {
                        "line": {
                          "colorbar": {
                            "outlinewidth": 0,
                            "ticks": ""
                          }
                        },
                        "type": "parcoords"
                      }
                    ],
                    "pie": [
                      {
                        "automargin": true,
                        "type": "pie"
                      }
                    ],
                    "scatter": [
                      {
                        "fillpattern": {
                          "fillmode": "overlay",
                          "size": 10,
                          "solidity": 0.2
                        },
                        "type": "scatter"
                      }
                    ],
                    "scatter3d": [
                      {
                        "line": {
                          "colorbar": {
                            "outlinewidth": 0,
                            "ticks": ""
                          }
                        },
                        "marker": {
                          "colorbar": {
                            "outlinewidth": 0,
                            "ticks": ""
                          }
                        },
                        "type": "scatter3d"
                      }
                    ],
                    "scattercarpet": [
                      {
                        "marker": {
                          "colorbar": {
                            "outlinewidth": 0,
                            "ticks": ""
                          }
                        },
                        "type": "scattercarpet"
                      }
                    ],
                    "scattergeo": [
                      {
                        "marker": {
                          "colorbar": {
                            "outlinewidth": 0,
                            "ticks": ""
                          }
                        },
                        "type": "scattergeo"
                      }
                    ],
                    "scattergl": [
                      {
                        "marker": {
                          "colorbar": {
                            "outlinewidth": 0,
                            "ticks": ""
                          }
                        },
                        "type": "scattergl"
                      }
                    ],
                    "scattermap": [
                      {
                        "marker": {
                          "colorbar": {
                            "outlinewidth": 0,
                            "ticks": ""
                          }
                        },
                        "type": "scattermap"
                      }
                    ],
                    "scattermapbox": [
                      {
                        "marker": {
                          "colorbar": {
                            "outlinewidth": 0,
                            "ticks": ""
                          }
                        },
                        "type": "scattermapbox"
                      }
                    ],
                    "scatterpolar": [
                      {
                        "marker": {
                          "colorbar": {
                            "outlinewidth": 0,
                            "ticks": ""
                          }
                        },
                        "type": "scatterpolar"
                      }
                    ],
                    "scatterpolargl": [
                      {
                        "marker": {
                          "colorbar": {
                            "outlinewidth": 0,
                            "ticks": ""
                          }
                        },
                        "type": "scatterpolargl"
                      }
                    ],
                    "scatterternary": [
                      {
                        "marker": {
                          "colorbar": {
                            "outlinewidth": 0,
                            "ticks": ""
                          }
                        },
                        "type": "scatterternary"
                      }
                    ],
                    "surface": [
                      {
                        "colorbar": {
                          "outlinewidth": 0,
                          "ticks": ""
                        },
                        "colorscale": [
                          [
                            0,
                            "#0d0887"
                          ],
                          [
                            0.1111111111111111,
                            "#46039f"
                          ],
                          [
                            0.2222222222222222,
                            "#7201a8"
                          ],
                          [
                            0.3333333333333333,
                            "#9c179e"
                          ],
                          [
                            0.4444444444444444,
                            "#bd3786"
                          ],
                          [
                            0.5555555555555556,
                            "#d8576b"
                          ],
                          [
                            0.6666666666666666,
                            "#ed7953"
                          ],
                          [
                            0.7777777777777778,
                            "#fb9f3a"
                          ],
                          [
                            0.8888888888888888,
                            "#fdca26"
                          ],
                          [
                            1,
                            "#f0f921"
                          ]
                        ],
                        "type": "surface"
                      }
                    ],
                    "table": [
                      {
                        "cells": {
                          "fill": {
                            "color": "#EBF0F8"
                          },
                          "line": {
                            "color": "white"
                          }
                        },
                        "header": {
                          "fill": {
                            "color": "#C8D4E3"
                          },
                          "line": {
                            "color": "white"
                          }
                        },
                        "type": "table"
                      }
                    ]
                  },
                  "layout": {
                    "annotationdefaults": {
                      "arrowcolor": "#2a3f5f",
                      "arrowhead": 0,
                      "arrowwidth": 1
                    },
                    "autotypenumbers": "strict",
                    "coloraxis": {
                      "colorbar": {
                        "outlinewidth": 0,
                        "ticks": ""
                      }
                    },
                    "colorscale": {
                      "diverging": [
                        [
                          0,
                          "#8e0152"
                        ],
                        [
                          0.1,
                          "#c51b7d"
                        ],
                        [
                          0.2,
                          "#de77ae"
                        ],
                        [
                          0.3,
                          "#f1b6da"
                        ],
                        [
                          0.4,
                          "#fde0ef"
                        ],
                        [
                          0.5,
                          "#f7f7f7"
                        ],
                        [
                          0.6,
                          "#e6f5d0"
                        ],
                        [
                          0.7,
                          "#b8e186"
                        ],
                        [
                          0.8,
                          "#7fbc41"
                        ],
                        [
                          0.9,
                          "#4d9221"
                        ],
                        [
                          1,
                          "#276419"
                        ]
                      ],
                      "sequential": [
                        [
                          0,
                          "#0d0887"
                        ],
                        [
                          0.1111111111111111,
                          "#46039f"
                        ],
                        [
                          0.2222222222222222,
                          "#7201a8"
                        ],
                        [
                          0.3333333333333333,
                          "#9c179e"
                        ],
                        [
                          0.4444444444444444,
                          "#bd3786"
                        ],
                        [
                          0.5555555555555556,
                          "#d8576b"
                        ],
                        [
                          0.6666666666666666,
                          "#ed7953"
                        ],
                        [
                          0.7777777777777778,
                          "#fb9f3a"
                        ],
                        [
                          0.8888888888888888,
                          "#fdca26"
                        ],
                        [
                          1,
                          "#f0f921"
                        ]
                      ],
                      "sequentialminus": [
                        [
                          0,
                          "#0d0887"
                        ],
                        [
                          0.1111111111111111,
                          "#46039f"
                        ],
                        [
                          0.2222222222222222,
                          "#7201a8"
                        ],
                        [
                          0.3333333333333333,
                          "#9c179e"
                        ],
                        [
                          0.4444444444444444,
                          "#bd3786"
                        ],
                        [
                          0.5555555555555556,
                          "#d8576b"
                        ],
                        [
                          0.6666666666666666,
                          "#ed7953"
                        ],
                        [
                          0.7777777777777778,
                          "#fb9f3a"
                        ],
                        [
                          0.8888888888888888,
                          "#fdca26"
                        ],
                        [
                          1,
                          "#f0f921"
                        ]
                      ]
                    },
                    "colorway": [
                      "#636efa",
                      "#EF553B",
                      "#00cc96",
                      "#ab63fa",
                      "#FFA15A",
                      "#19d3f3",
                      "#FF6692",
                      "#B6E880",
                      "#FF97FF",
                      "#FECB52"
                    ],
                    "font": {
                      "color": "#2a3f5f"
                    },
                    "geo": {
                      "bgcolor": "white",
                      "lakecolor": "white",
                      "landcolor": "#E5ECF6",
                      "showlakes": true,
                      "showland": true,
                      "subunitcolor": "white"
                    },
                    "hoverlabel": {
                      "align": "left"
                    },
                    "hovermode": "closest",
                    "mapbox": {
                      "style": "light"
                    },
                    "paper_bgcolor": "white",
                    "plot_bgcolor": "#E5ECF6",
                    "polar": {
                      "angularaxis": {
                        "gridcolor": "white",
                        "linecolor": "white",
                        "ticks": ""
                      },
                      "bgcolor": "#E5ECF6",
                      "radialaxis": {
                        "gridcolor": "white",
                        "linecolor": "white",
                        "ticks": ""
                      }
                    },
                    "scene": {
                      "xaxis": {
                        "backgroundcolor": "#E5ECF6",
                        "gridcolor": "white",
                        "gridwidth": 2,
                        "linecolor": "white",
                        "showbackground": true,
                        "ticks": "",
                        "zerolinecolor": "white"
                      },
                      "yaxis": {
                        "backgroundcolor": "#E5ECF6",
                        "gridcolor": "white",
                        "gridwidth": 2,
                        "linecolor": "white",
                        "showbackground": true,
                        "ticks": "",
                        "zerolinecolor": "white"
                      },
                      "zaxis": {
                        "backgroundcolor": "#E5ECF6",
                        "gridcolor": "white",
                        "gridwidth": 2,
                        "linecolor": "white",
                        "showbackground": true,
                        "ticks": "",
                        "zerolinecolor": "white"
                      }
                    },
                    "shapedefaults": {
                      "line": {
                        "color": "#2a3f5f"
                      }
                    },
                    "ternary": {
                      "aaxis": {
                        "gridcolor": "white",
                        "linecolor": "white",
                        "ticks": ""
                      },
                      "baxis": {
                        "gridcolor": "white",
                        "linecolor": "white",
                        "ticks": ""
                      },
                      "bgcolor": "#E5ECF6",
                      "caxis": {
                        "gridcolor": "white",
                        "linecolor": "white",
                        "ticks": ""
                      }
                    },
                    "title": {
                      "x": 0.05
                    },
                    "xaxis": {
                      "automargin": true,
                      "gridcolor": "white",
                      "linecolor": "white",
                      "ticks": "",
                      "title": {
                        "standoff": 15
                      },
                      "zerolinecolor": "white",
                      "zerolinewidth": 2
                    },
                    "yaxis": {
                      "automargin": true,
                      "gridcolor": "white",
                      "linecolor": "white",
                      "ticks": "",
                      "title": {
                        "standoff": 15
                      },
                      "zerolinecolor": "white",
                      "zerolinewidth": 2
                    }
                  }
                },
                "title": {
                  "text": "Clean Triangle Missing Value Correlation Heatmap"
                },
                "width": 850,
                "xaxis": {
                  "tickangle": 45
                },
                "yaxis": {
                  "autorange": "reversed"
                }
              }
            }
          },
          "metadata": {},
          "output_type": "display_data"
        }
      ],
      "source": [
        "missing_matrix = eda_data.isnull().astype(int)\n",
        "corr = missing_matrix.corr().round(2)\n",
        "\n",
        "mask = np.triu(np.ones(corr.shape), k=1).astype(bool)\n",
        "masked_corr = corr.mask(mask)\n",
        "\n",
        "text_labels = masked_corr.astype(str)\n",
        "text_labels[masked_corr.isna()] = \"\"\n",
        "\n",
        "# plot\n",
        "fig = go.Figure(data=go.Heatmap(\n",
        "    z=masked_corr.values,\n",
        "    x=masked_corr.columns,\n",
        "    y=masked_corr.index,\n",
        "    text=text_labels.values,\n",
        "    texttemplate=\"%{text}\",\n",
        "    colorscale=\"Blues\",\n",
        "    colorbar=dict(title=\"Missing Corr\"),\n",
        "    zmin=0,\n",
        "    zmax=1,\n",
        "    hoverinfo='skip'\n",
        "))\n",
        "\n",
        "fig.update_layout(\n",
        "    title=\"Clean Triangle Missing Value Correlation Heatmap\",\n",
        "    xaxis_tickangle=45,\n",
        "    width=850,\n",
        "    height=600,\n",
        "    margin=dict(t=50, l=80, r=50, b=80),\n",
        "    font=dict(size=8),\n",
        "    plot_bgcolor='white'\n",
        ")\n",
        "\n",
        "fig.update_yaxes(autorange=\"reversed\")\n",
        "fig.show()"
      ]
    },
    {
      "cell_type": "markdown",
      "metadata": {},
      "source": [
        "This triangle heatmap visualizes the correlation of missing values between different columns in the dataset. Each square represents how often two columns are missing together, with darker blue indicating a stronger relationship. Most of the values are very high (close to 1.0), suggesting that when one column is missing, others are often missing too — especially among skill-related fields like SKILLS, SPECIALIZED_SKILLS, and SOFTWARE_SKILLS, which are likely part of the same job posting metadata.\n",
        "\n",
        "This pattern indicates that missingness is not random, but structured — possibly due to differences in how job descriptions are recorded across roles or industries. For example, a job with no software skill tags might also lack common skills or NAICS codes, hinting at data input gaps rather than actual job content differences. Recognizing these correlations is helpful for choosing imputation strategies or deciding whether to drop certain rows or columns entirely during preprocessing."
      ]
    },
    {
      "cell_type": "code",
      "execution_count": null,
      "metadata": {},
      "outputs": [],
      "source": [
        "if \"SALARY\" in eda_data.columns:\n",
        "    eda_data[\"SALARY\"].fillna(eda_data[\"SALARY\"].median(), inplace=True)\n",
        "else:\n",
        "    print(\"Warning: 'SALARY' column not found in dataframe!\")\n",
        "\n",
        "if \"COMPANY\" in eda_data.columns:\n",
        "    eda_data[\"COMPANY\"].fillna(\"Unknown\", inplace=True)\n",
        "else:\n",
        "    print(\"Warning: 'COMPANY' column not found in dataframe!\")\n",
        "\n",
        "    # Fill numeric columns with mean\n",
        "num_cols = eda_data.select_dtypes(include='number').columns\n",
        "for col in num_cols:\n",
        "    if eda_data[col].isnull().sum() > 0:\n",
        "        eda_data[col].fillna(eda_data[col].mean(), inplace=True)\n",
        "\n",
        "# Fill categorical columns with mode\n",
        "cat_cols = eda_data.select_dtypes(include='object').columns\n",
        "for col in cat_cols:\n",
        "    if eda_data[col].isnull().sum() > 0:\n",
        "        eda_data[col].fillna(eda_data[col].mode()[0], inplace=True)\n",
        "\n",
        "eda_data.dropna(thresh=len(eda_data) * 0.5, axis=1, inplace=True)\n",
        "\n",
        "\n",
        "# delete duplicates\n",
        "eda_data = eda_data.drop_duplicates(subset=[\"TITLE\", \"COMPANY\", \"LOCATION\", \"POSTED\"])\n"
      ]
    }
  ],
  "metadata": {
    "kernelspec": {
      "display_name": ".venv",
      "language": "python",
      "name": "python3"
    },
    "language_info": {
      "codemirror_mode": {
        "name": "ipython",
        "version": 3
      },
      "file_extension": ".py",
      "mimetype": "text/x-python",
      "name": "python",
      "nbconvert_exporter": "python",
      "pygments_lexer": "ipython3",
      "version": "3.13.1"
    }
  },
  "nbformat": 4,
  "nbformat_minor": 4
}
