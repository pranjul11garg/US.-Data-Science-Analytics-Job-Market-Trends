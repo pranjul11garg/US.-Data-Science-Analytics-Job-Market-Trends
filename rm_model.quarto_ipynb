{
  "cells": [
    {
      "cell_type": "markdown",
      "metadata": {},
      "source": [
        "---\n",
        "title: Random Forest Classification for ML/Data Science Requirement\n",
        "format: html\n",
        "jupyter: python3\n",
        "execute:\n",
        "  echo: true\n",
        "  warning: false\n",
        "  error: true\n",
        "toc: true\n",
        "code:fold: true\n",
        "---"
      ],
      "id": "267fc498"
    },
    {
      "cell_type": "code",
      "metadata": {},
      "source": [
        "import pandas as pd\n",
        "\n",
        "df = pd.read_parquet(\"data/eda.parquet\",  engine='pyarrow')\n",
        "df.columns"
      ],
      "id": "0c25d51b",
      "execution_count": null,
      "outputs": []
    },
    {
      "cell_type": "code",
      "metadata": {},
      "source": [
        "ml_keywords = [\"machine learning\", \"data science\", \"ai\", \"artificial intelligence\", \"deep learning\", \"data scientist\"]\n",
        "\n",
        "def requires_ml(skills):\n",
        "    if pd.isnull(skills):\n",
        "        return 0\n",
        "    skills = skills.lower()\n",
        "    return int(any(kw in skills for kw in ml_keywords))\n",
        "\n",
        "df[\"REQUIRES_ML\"] = df[\"SKILLS_NAME\"].apply(requires_ml)"
      ],
      "id": "05fe4ed8",
      "execution_count": null,
      "outputs": []
    },
    {
      "cell_type": "code",
      "metadata": {},
      "source": [
        "features = [\"TITLE\", \"SOC_2021_4_NAME\", \"NAICS2_NAME\", \"MIN_EDULEVELS_NAME\", \"MIN_YEARS_EXPERIENCE\"]\n",
        "target = \"REQUIRES_ML\"\n",
        "\n",
        "df = df[features + [target, 'BODY']].dropna()"
      ],
      "id": "199fe9c4",
      "execution_count": null,
      "outputs": []
    },
    {
      "cell_type": "code",
      "metadata": {},
      "source": [
        "from sklearn.preprocessing import LabelEncoder\n",
        "\n",
        "df_encoded = df.copy()\n",
        "label_encoders = {}\n",
        "\n",
        "for col in features:\n",
        "    if df_encoded[col].dtype == \"object\":\n",
        "        le = LabelEncoder()\n",
        "        df_encoded[col] = le.fit_transform(df_encoded[col])\n",
        "        label_encoders[col] = le"
      ],
      "id": "04f135dc",
      "execution_count": null,
      "outputs": []
    },
    {
      "cell_type": "code",
      "metadata": {},
      "source": [
        "from sklearn.model_selection import train_test_split\n",
        "\n",
        "X = df_encoded[features]\n",
        "y = df_encoded[target]\n",
        "\n",
        "X_train, X_test, y_train, y_test = train_test_split(X, y, test_size=0.2, random_state=42)"
      ],
      "id": "3ff2952a",
      "execution_count": null,
      "outputs": []
    },
    {
      "cell_type": "code",
      "metadata": {},
      "source": [
        "from sklearn.ensemble import RandomForestClassifier\n",
        "from sklearn.metrics import classification_report\n",
        "\n",
        "rf = RandomForestClassifier(n_estimators=100, random_state=42)\n",
        "rf.fit(X_train, y_train)\n",
        "\n",
        "y_pred = rf.predict(X_test)\n",
        "print(classification_report(y_test, y_pred))"
      ],
      "id": "eef57990",
      "execution_count": null,
      "outputs": []
    },
    {
      "cell_type": "code",
      "metadata": {},
      "source": [
        "import plotly.express as px\n",
        "fig = px.bar(\n",
        "    x=rf.feature_importances_,\n",
        "    y=features,\n",
        "    orientation='h',\n",
        "    labels={'x': 'Importance', 'y': 'Feature'},\n",
        "    title='Feature Importance – ML Role Classification'\n",
        ")\n",
        "\n",
        "fig.update_layout(\n",
        "    yaxis=dict(categoryorder='total ascending'),\n",
        "    margin=dict(l=100, r=20, t=50, b=20),\n",
        "    height=500,\n",
        "    template='plotly_white'\n",
        ")\n",
        "\n",
        "fig.write_html(\n",
        "    'figures/rm_model_plot1.html',\n",
        "    include_plotlyjs='cdn',\n",
        "    full_html=False\n",
        ")"
      ],
      "id": "26329b75",
      "execution_count": null,
      "outputs": []
    },
    {
      "cell_type": "markdown",
      "metadata": {},
      "source": [
        "<iframe\n",
        "  src=\"figures/rm_model_plot1.html\"\n",
        "  width=\"100%\"\n",
        "  style=\"border:none; height:70vh;\"\n",
        "></iframe>\n",
        "\n",
        "This bar chart displays the feature importance scores from a random forest model predicting whether a job role involves ML/Data Science. The most influential feature by far in the model is the job title (TITLE), which has a significantly higher importance than all other variables. Secondary contributors include industry classification (NAICS2_NAME) and minimum years of experience, where education level and SOC code had relatively low influence on the model’s prediction. This is suggesting that the job title alone carries strong predictive power for identifying ML-related roles.\n"
      ],
      "id": "b1492c4d"
    },
    {
      "cell_type": "code",
      "metadata": {},
      "source": [
        "import pandas as pd\n",
        "from sklearn.model_selection import train_test_split\n",
        "from sklearn.feature_extraction.text import TfidfVectorizer\n",
        "\n",
        "# Cleaned job descriptions\n",
        "df['BODY_clean'] = df['BODY'].fillna(\"\").str.lower()\n",
        "\n",
        "# Target\n",
        "y = df['REQUIRES_ML']  # this should be a binary 1/0 column\n",
        "\n",
        "# TF-IDF vectorization\n",
        "tfidf = TfidfVectorizer(max_features=5000, stop_words='english')\n",
        "X = tfidf.fit_transform(df['BODY_clean'])"
      ],
      "id": "1845a3a5",
      "execution_count": null,
      "outputs": []
    },
    {
      "cell_type": "code",
      "metadata": {},
      "source": [
        "from sklearn.ensemble import RandomForestClassifier\n",
        "from sklearn.metrics import classification_report\n",
        "\n",
        "X_train, X_test, y_train, y_test = train_test_split(X, y, stratify=y)\n",
        "\n",
        "model = RandomForestClassifier(random_state=42)\n",
        "model.fit(X_train, y_train)\n",
        "\n",
        "y_pred = model.predict(X_test)\n",
        "print(classification_report(y_test, y_pred))"
      ],
      "id": "5bbc2526",
      "execution_count": null,
      "outputs": []
    },
    {
      "cell_type": "code",
      "metadata": {},
      "source": [
        "import numpy as np\n",
        "importances = model.feature_importances_\n",
        "top_idx = np.argsort(importances)[-20:]\n",
        "top_words = tfidf.get_feature_names_out()[top_idx]\n",
        "top_importances = importances[top_idx]\n",
        "\n",
        "fig = px.bar(\n",
        "    x=top_importances,\n",
        "    y=top_words,\n",
        "    orientation='h',\n",
        "    labels={'x': 'Importance', 'y': 'Word'},\n",
        "    title='Top 20 TF-IDF Words for ML Role Classification'\n",
        ")\n",
        "\n",
        "fig.update_layout(\n",
        "    yaxis={'categoryorder':'total ascending'},\n",
        "    margin=dict(l=120, r=20, t=60, b=20),\n",
        "    width=800, height=600, template='plotly_white'\n",
        ")\n",
        "\n",
        "fig.write_html(\n",
        "    'figures/rm_model_plot2.html',\n",
        "    include_plotlyjs='cdn',\n",
        "    full_html=False\n",
        ")"
      ],
      "id": "39bd652d",
      "execution_count": null,
      "outputs": []
    },
    {
      "cell_type": "markdown",
      "metadata": {},
      "source": [
        "<iframe\n",
        "  src=\"figures/rm_model_plot2.html\"\n",
        "  width=\"100%\"\n",
        "  style=\"border:none; height:70vh;\"\n",
        "></iframe>\n",
        "\n",
        "This bar chart shows the top words contributing to the classification of job roles as Machine Learning (ML)related based on job description data. Surprisingly, the most influential words are \"attention,\" \"chain,\" and \"supply\", which could be an indication of overlap with supply chain roles or reflect noise in the model. More expected terms like \"machine,\" \"learning,\" \"python,\" \"AI,\" and \"analytics\" also appear, reinforcing that relevant technical language still plays a role in identifying ML-related positions. The presence of general words like \"strong\" or \"communication\" suggests that not all influential terms are strictly technical.\n"
      ],
      "id": "6fc1c7f8"
    },
    {
      "cell_type": "code",
      "metadata": {},
      "source": [
        "from sklearn.metrics import confusion_matrix, ConfusionMatrixDisplay\n",
        "import numpy as np\n",
        "import plotly.figure_factory as ff\n",
        "labels = [str(lbl) for lbl in model.classes_]\n",
        "\n",
        "cm = confusion_matrix(y_test, y_pred)\n",
        "labels = [str(c) for c in model.classes_]  \n",
        "\n",
        "fig = ff.create_annotated_heatmap(\n",
        "    z=cm,\n",
        "    x=labels,\n",
        "    y=labels,\n",
        "    colorscale='Blues',\n",
        "    showscale=True,\n",
        "    annotation_text=cm,\n",
        "    hoverinfo='z'\n",
        ")\n",
        "\n",
        "fig.update_layout(\n",
        "    title='Confusion Matrix – ML Role Classification',\n",
        "    xaxis_title='Predicted Label',\n",
        "    yaxis_title='Actual Label',\n",
        "    xaxis=dict(tickmode='array', tickvals=list(range(len(labels))), ticktext=labels),\n",
        "    yaxis=dict(tickmode='array', tickvals=list(range(len(labels))), ticktext=labels),\n",
        "    width=700,\n",
        "    height=600,\n",
        "    template='plotly_white',\n",
        "    margin=dict(l=80, r=20, t=60, b=80)\n",
        ")\n",
        "\n",
        "fig.write_html(\n",
        "    \"figures/rm_model_plot3.html\",\n",
        "    include_plotlyjs='cdn',\n",
        "    full_html=False\n",
        ")"
      ],
      "id": "36698301",
      "execution_count": null,
      "outputs": []
    },
    {
      "cell_type": "markdown",
      "metadata": {},
      "source": [
        "<iframe\n",
        "  src=\"figures/rm_model_plot3.html\"\n",
        "  width=\"100%\"\n",
        "  style=\"border:none; height:70vh;\"\n",
        "></iframe>\n",
        "\n",
        "We selected a combination of structured and unstructured features to predict whether a job role requires Machine Learning or Data Science. Structured features such as TITLE, SOC_2021_4_NAME, NAICS2_NAME, MIN_EDULEVELS_NAME, and MIN_YEARS_EXPERIENCE were chosen based on domain relevance—these fields reflect the role's function, industry, required education, and experience level, all of which can signal ML-related requirements. Additionally, we included the job description BODY text, applying TF-IDF vectorization to extract key terms. This allowed the model to learn from nuanced language patterns within postings. Feature importance and performance metrics confirm that both structured metadata and text data contribute meaningfully to classification accuracy.\n"
      ],
      "id": "5c91189d"
    }
  ],
  "metadata": {
    "kernelspec": {
      "name": "python3",
      "language": "python",
      "display_name": "Python 3 (ipykernel)",
      "path": "/opt/anaconda3/share/jupyter/kernels/python3"
    }
  },
  "nbformat": 4,
  "nbformat_minor": 5
}