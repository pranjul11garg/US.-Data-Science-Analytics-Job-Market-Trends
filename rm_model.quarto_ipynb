{
  "cells": [
    {
      "cell_type": "markdown",
      "metadata": {},
      "source": [
        "---\n",
        "title: \"Random Forest Classification for ML/Data Science Requirement\"\n",
        "format:\n",
        "  html:\n",
        "    embed-resources: true        \n",
        "    toc: true\n",
        "jupyter: python3\n",
        "execute:\n",
        "  working-directory: project\n",
        "  eval: True\n",
        "  echo: false\n",
        "  warning: false\n",
        "---\n",
        "\n",
        "\n",
        "\n",
        "\n",
        "\n",
        "#### Loading the Dataset\n"
      ],
      "id": "ed5f0d09"
    },
    {
      "cell_type": "code",
      "metadata": {},
      "source": [
        "import pandas as pd\n",
        "df = pd.read_parquet(\"data/eda.parquet\",  engine='pyarrow')"
      ],
      "id": "157b811a",
      "execution_count": null,
      "outputs": []
    },
    {
      "cell_type": "code",
      "metadata": {},
      "source": [
        "ml_keywords = [\"machine learning\", \"data science\", \"ai\", \"artificial intelligence\", \"deep learning\", \"data scientist\"]\n",
        "\n",
        "def requires_ml(skills):\n",
        "    if pd.isnull(skills):\n",
        "        return 0\n",
        "    skills = skills.lower()\n",
        "    return int(any(kw in skills for kw in ml_keywords))\n",
        "\n",
        "df[\"REQUIRES_ML\"] = df[\"SKILLS_NAME\"].apply(requires_ml)"
      ],
      "id": "c5e525ee",
      "execution_count": null,
      "outputs": []
    },
    {
      "cell_type": "code",
      "metadata": {},
      "source": [
        "features = [\"TITLE\", \"SOC_2021_4_NAME\", \"NAICS2_NAME\", \"MIN_EDULEVELS_NAME\", \"MIN_YEARS_EXPERIENCE\"]\n",
        "target = \"REQUIRES_ML\"\n",
        "\n",
        "df = df[features + [target, 'BODY']].dropna()"
      ],
      "id": "7e8d3846",
      "execution_count": null,
      "outputs": []
    },
    {
      "cell_type": "code",
      "metadata": {},
      "source": [
        "from sklearn.preprocessing import LabelEncoder\n",
        "\n",
        "df_encoded = df.copy()\n",
        "label_encoders = {}\n",
        "\n",
        "for col in features:\n",
        "    if df_encoded[col].dtype == \"object\":\n",
        "        le = LabelEncoder()\n",
        "        df_encoded[col] = le.fit_transform(df_encoded[col])\n",
        "        label_encoders[col] = le"
      ],
      "id": "57c6be02",
      "execution_count": null,
      "outputs": []
    },
    {
      "cell_type": "code",
      "metadata": {},
      "source": [
        "from sklearn.model_selection import train_test_split\n",
        "\n",
        "X = df_encoded[features]\n",
        "y = df_encoded[target]\n",
        "\n",
        "X_train, X_test, y_train, y_test = train_test_split(X, y, test_size=0.2, random_state=42)"
      ],
      "id": "18922f48",
      "execution_count": null,
      "outputs": []
    },
    {
      "cell_type": "code",
      "metadata": {},
      "source": [
        "from sklearn.ensemble import RandomForestClassifier\n",
        "from sklearn.metrics import classification_report\n",
        "\n",
        "rf = RandomForestClassifier(n_estimators=100, random_state=42)\n",
        "rf.fit(X_train, y_train)\n",
        "\n",
        "y_pred = rf.predict(X_test)\n",
        "print(classification_report(y_test, y_pred))"
      ],
      "id": "1eea5ff5",
      "execution_count": null,
      "outputs": []
    },
    {
      "cell_type": "markdown",
      "metadata": {},
      "source": [
        "The Random Forest model achieved an overall accuracy of 74% when classifying whether a role requires ML skills. The precision and recall for class 0, non-ML, roles were slightly higher with precision: 0.76 and recall: 0.77 compared to class 1, ML roles, where both precision and recall were around 0.70. This indicates the model performs reasonably well but is slightly better at identifying non-ML roles than ML roles. Overall, the model shows decent predictive power, but there is some room for improvement, especially in detecting ML-related positions.\n"
      ],
      "id": "7bd40cbf"
    },
    {
      "cell_type": "code",
      "metadata": {},
      "source": [
        "import plotly.express as px\n",
        "fig = px.bar(\n",
        "    x=rf.feature_importances_,\n",
        "    y=features,\n",
        "    orientation='h',\n",
        "    labels={'x': 'Importance', 'y': 'Feature'},\n",
        "    title='Feature Importance – ML Role Classification'\n",
        ")\n",
        "\n",
        "fig.update_layout(\n",
        "    yaxis=dict(categoryorder='total ascending'),\n",
        "    margin=dict(l=100, r=20, t=50, b=20),\n",
        "    height=500,\n",
        "    template='plotly_white'\n",
        ")\n",
        "\n",
        "fig.write_html(\n",
        "    'figures/rm_model_plot1.html',\n",
        "    include_plotlyjs='cdn',\n",
        "    full_html=False\n",
        ")"
      ],
      "id": "3ffefd16",
      "execution_count": null,
      "outputs": []
    },
    {
      "cell_type": "markdown",
      "metadata": {},
      "source": [
        "<iframe src=\"figures/rm_model_plot1.html\" width=\"100%\" height=\"650\" style=\"border:none;\"></iframe> \n",
        "\n",
        "This bar chart displays the feature importance scores from a random forest model predicting whether a job role involves ML/Data Science. The most influential feature by far in the model is the job title (TITLE), which has a significantly higher importance than all other variables. Secondary contributors include industry classification (NAICS2_NAME) and minimum years of experience, where education level and SOC code had relatively low influence on the model’s prediction. This is suggesting that the job title alone carries strong predictive power for identifying ML-related roles.\n"
      ],
      "id": "2efddb60"
    },
    {
      "cell_type": "code",
      "metadata": {},
      "source": [
        "import pandas as pd\n",
        "from sklearn.model_selection import train_test_split\n",
        "from sklearn.feature_extraction.text import TfidfVectorizer\n",
        "\n",
        "# Cleaned job descriptions\n",
        "df['BODY_clean'] = df['BODY'].fillna(\"\").str.lower()\n",
        "\n",
        "# Target\n",
        "y = df['REQUIRES_ML']  # this should be a binary 1/0 column\n",
        "\n",
        "# TF-IDF vectorization\n",
        "tfidf = TfidfVectorizer(max_features=5000, stop_words='english')\n",
        "X = tfidf.fit_transform(df['BODY_clean'])"
      ],
      "id": "e94dfcc2",
      "execution_count": null,
      "outputs": []
    },
    {
      "cell_type": "code",
      "metadata": {},
      "source": [
        "from sklearn.ensemble import RandomForestClassifier\n",
        "from sklearn.metrics import classification_report\n",
        "\n",
        "X_train, X_test, y_train, y_test = train_test_split(X, y, stratify=y)\n",
        "\n",
        "model = RandomForestClassifier(random_state=42)\n",
        "model.fit(X_train, y_train)\n",
        "\n",
        "y_pred = model.predict(X_test)\n",
        "print(classification_report(y_test, y_pred))"
      ],
      "id": "ee371981",
      "execution_count": null,
      "outputs": []
    },
    {
      "cell_type": "markdown",
      "metadata": {},
      "source": [
        "In this model, we incorporated the job description text by applying TF-IDF vectorization to extract the most important words from each posting. Using these features, the Random Forest model achieved a strong accuracy of 79%, a notable improvement compared to the previous model that relied only on structured fields like job titles and industries. The model shows a higher recall 87% for non-ML roles but a lower recall of 69% for ML-related roles, suggesting it is better at identifying traditional roles than detecting specialized data science positions. Overall, adding the job description significantly enhanced the model’s ability to capture complex signals related to AI/ML requirements across different industries.\n"
      ],
      "id": "936b865f"
    },
    {
      "cell_type": "code",
      "metadata": {},
      "source": [
        "import numpy as np\n",
        "importances = model.feature_importances_\n",
        "top_idx = np.argsort(importances)[-20:]\n",
        "top_words = tfidf.get_feature_names_out()[top_idx]\n",
        "top_importances = importances[top_idx]\n",
        "\n",
        "fig = px.bar(\n",
        "    x=top_importances,\n",
        "    y=top_words,\n",
        "    orientation='h',\n",
        "    labels={'x': 'Importance', 'y': 'Word'},\n",
        "    title='Top 20 TF-IDF Words for ML Role Classification'\n",
        ")\n",
        "\n",
        "fig.update_layout(\n",
        "    yaxis={'categoryorder':'total ascending'},\n",
        "    margin=dict(l=120, r=20, t=60, b=20),\n",
        "    width=800, height=600, template='plotly_white'\n",
        ")\n",
        "\n",
        "fig.write_html(\n",
        "    'figures/rm_model_plot2.html',\n",
        "    include_plotlyjs='cdn',\n",
        "    full_html=False\n",
        ")"
      ],
      "id": "0d8997bc",
      "execution_count": null,
      "outputs": []
    },
    {
      "cell_type": "markdown",
      "metadata": {},
      "source": [
        "<iframe src=\"figures/rm_model_plot2.html\" width=\"100%\" height=\"650\" style=\"border:none;\"></iframe>\n",
        "\n",
        "This bar chart shows the top words contributing to the classification of job roles as Machine Learning (ML)related based on job description data. Surprisingly, the most influential words are \"attention,\" \"chain,\" and \"supply\", which could be an indication of overlap with supply chain roles or reflect noise in the model. More expected terms like \"machine,\" \"learning,\" \"python,\" \"AI,\" and \"analytics\" also appear, reinforcing that relevant technical language still plays a role in identifying ML-related positions. The presence of general words like \"strong\" or \"communication\" suggests that not all influential terms are strictly technical.\n"
      ],
      "id": "ad6d173f"
    },
    {
      "cell_type": "code",
      "metadata": {},
      "source": [
        "from sklearn.metrics import confusion_matrix, ConfusionMatrixDisplay\n",
        "import numpy as np\n",
        "import plotly.figure_factory as ff\n",
        "labels = [str(lbl) for lbl in model.classes_]\n",
        "\n",
        "cm = confusion_matrix(y_test, y_pred)\n",
        "labels = [str(c) for c in model.classes_]  \n",
        "\n",
        "fig = ff.create_annotated_heatmap(\n",
        "    z=cm,\n",
        "    x=labels,\n",
        "    y=labels,\n",
        "    colorscale='Blues',\n",
        "    showscale=True,\n",
        "    annotation_text=cm,\n",
        "    hoverinfo='z'\n",
        ")\n",
        "\n",
        "fig.update_layout(\n",
        "    title='Confusion Matrix – ML Role Classification',\n",
        "    xaxis_title='Predicted Label',\n",
        "    yaxis_title='Actual Label',\n",
        "    xaxis=dict(tickmode='array', tickvals=list(range(len(labels))), ticktext=labels),\n",
        "    yaxis=dict(tickmode='array', tickvals=list(range(len(labels))), ticktext=labels),\n",
        "    width=700,\n",
        "    height=600,\n",
        "    template='plotly_white',\n",
        "    margin=dict(l=80, r=20, t=110, b=80)\n",
        ")\n",
        "\n",
        "fig.write_html(\n",
        "    \"figures/rm_model_plot3.html\",\n",
        "    include_plotlyjs='cdn',\n",
        "    full_html=False\n",
        ")"
      ],
      "id": "5c1502b9",
      "execution_count": null,
      "outputs": []
    },
    {
      "cell_type": "markdown",
      "metadata": {},
      "source": [
        "<iframe src=\"figures/rm_model_plot3.html\" width=\"100%\" height=\"650\" style=\"border:none;\"></iframe>\n",
        "\n",
        "The confusion matrix illustrates that while the model performs well overall, it is particularly strong at identifying non-ML roles, class 0, but faces more difficulty correctly predicting ML-related roles, class 1, reflected in a higher number of false negatives. Nevertheless, the integration of the unstructured data meaningfully improved classification performance. \n",
        "\n",
        "Structured features such as TITLE, SOC_2021_4_NAME, NAICS2_NAME, MIN_EDULEVELS_NAME, and MIN_YEARS_EXPERIENCE were chosen based on domain relevance, these fields reflect the role's function, industry, required education, and experience level, all of which can signal ML-related requirements. Additionally, we included the job description BODY text, applying TF-IDF vectorization to extract key terms. This allowed the model to learn from nuanced language patterns within postings. Feature importance and performance metrics confirm that both structured metadata and text data contribute meaningfully to classification accuracy.\n"
      ],
      "id": "38d0e8c7"
    }
  ],
  "metadata": {
    "kernelspec": {
      "name": "python3",
      "language": "python",
      "display_name": "Python 3 (ipykernel)",
      "path": "/Users/prawnz/Documents/Semester2/Web_analytics/ad688-employability-sp25A1-group11/.venv/share/jupyter/kernels/python3"
    }
  },
  "nbformat": 4,
  "nbformat_minor": 5
}