{
 "cells": [
  {
   "cell_type": "markdown",
   "metadata": {},
   "source": [
    "---\n",
    "title: \"Skill Gap Analysis\"\n",
    "format: html\n",
    "jupyter: python3\n",
    "execute:\n",
    "  echo: true\n",
    "  warning: false\n",
    "  error: true\n",
    "toc: true\n",
    "---\n"
   ]
  },
  {
   "cell_type": "code",
   "execution_count": 22,
   "metadata": {},
   "outputs": [
    {
     "data": {
      "text/html": [
       "<div>\n",
       "<style scoped>\n",
       "    .dataframe tbody tr th:only-of-type {\n",
       "        vertical-align: middle;\n",
       "    }\n",
       "\n",
       "    .dataframe tbody tr th {\n",
       "        vertical-align: top;\n",
       "    }\n",
       "\n",
       "    .dataframe thead th {\n",
       "        text-align: right;\n",
       "    }\n",
       "</style>\n",
       "<table border=\"1\" class=\"dataframe\">\n",
       "  <thead>\n",
       "    <tr style=\"text-align: right;\">\n",
       "      <th></th>\n",
       "      <th>COMPANY</th>\n",
       "      <th>LOCATION</th>\n",
       "      <th>POSTED</th>\n",
       "      <th>MIN_EDULEVELS_NAME</th>\n",
       "      <th>MAX_EDULEVELS_NAME</th>\n",
       "      <th>MIN_YEARS_EXPERIENCE</th>\n",
       "      <th>MAX_YEARS_EXPERIENCE</th>\n",
       "      <th>TITLE</th>\n",
       "      <th>SKILLS</th>\n",
       "      <th>SPECIALIZED_SKILLS</th>\n",
       "      <th>...</th>\n",
       "      <th>COMMON_SKILLS</th>\n",
       "      <th>SOFTWARE_SKILLS</th>\n",
       "      <th>SOC_2021_4_NAME</th>\n",
       "      <th>NAICS_2022_6</th>\n",
       "      <th>NAICS2_NAME</th>\n",
       "      <th>REMOTE_TYPE_NAME</th>\n",
       "      <th>SALARY</th>\n",
       "      <th>TITLE_NAME</th>\n",
       "      <th>SKILLS_NAME</th>\n",
       "      <th>SPECIALIZED_SKILLS_NAME</th>\n",
       "    </tr>\n",
       "  </thead>\n",
       "  <tbody>\n",
       "    <tr>\n",
       "      <th>0</th>\n",
       "      <td>894731.0</td>\n",
       "      <td>{\\n  \"lat\": 33.20763,\\n  \"lon\": -92.6662674\\n}</td>\n",
       "      <td>6/2/2024</td>\n",
       "      <td>Bachelor's degree</td>\n",
       "      <td>Master's degree</td>\n",
       "      <td>2.000000</td>\n",
       "      <td>2.000000</td>\n",
       "      <td>ET29C073C03D1F86B4</td>\n",
       "      <td>[\\n  \"KS126DB6T061MHD7RTGQ\",\\n  \"KS126706DPFD3...</td>\n",
       "      <td>[\\n  \"KS126DB6T061MHD7RTGQ\",\\n  \"KS128006L3V0H...</td>\n",
       "      <td>...</td>\n",
       "      <td>[\\n  \"KS126706DPFD3354M7YK\",\\n  \"KS1280B68GD79...</td>\n",
       "      <td>[\\n  \"KS440W865GC4VRBW6LJP\",\\n  \"KS13USA80NE38...</td>\n",
       "      <td>Data Scientists</td>\n",
       "      <td>441330.0</td>\n",
       "      <td>Retail Trade</td>\n",
       "      <td>[None]</td>\n",
       "      <td>116300.0</td>\n",
       "      <td>Enterprise Analysts</td>\n",
       "      <td>[\\n  \"Merchandising\",\\n  \"Mathematics\",\\n  \"Pr...</td>\n",
       "      <td>[\\n  \"Merchandising\",\\n  \"Predictive Modeling\"...</td>\n",
       "    </tr>\n",
       "    <tr>\n",
       "      <th>1</th>\n",
       "      <td>133098.0</td>\n",
       "      <td>{\\n  \"lat\": 44.3106241,\\n  \"lon\": -69.7794897\\n}</td>\n",
       "      <td>6/2/2024</td>\n",
       "      <td>No Education Listed</td>\n",
       "      <td>Master's degree</td>\n",
       "      <td>3.000000</td>\n",
       "      <td>3.000000</td>\n",
       "      <td>ET21DDA63780A7DC09</td>\n",
       "      <td>[\\n  \"KS122626T550SLQ7QZ1C\",\\n  \"KS123YJ6KVWC9...</td>\n",
       "      <td>[\\n  \"KS122626T550SLQ7QZ1C\",\\n  \"KS123YJ6KVWC9...</td>\n",
       "      <td>...</td>\n",
       "      <td>[]</td>\n",
       "      <td>[\\n  \"BGSBF3F508F7F46312E3\",\\n  \"ESEA839CED378...</td>\n",
       "      <td>Data Scientists</td>\n",
       "      <td>561320.0</td>\n",
       "      <td>Administrative and Support and Waste Managemen...</td>\n",
       "      <td>Remote</td>\n",
       "      <td>116300.0</td>\n",
       "      <td>Oracle Consultants</td>\n",
       "      <td>[\\n  \"Procurement\",\\n  \"Financial Statements\",...</td>\n",
       "      <td>[\\n  \"Procurement\",\\n  \"Financial Statements\",...</td>\n",
       "    </tr>\n",
       "    <tr>\n",
       "      <th>2</th>\n",
       "      <td>39063746.0</td>\n",
       "      <td>{\\n  \"lat\": 32.7766642,\\n  \"lon\": -96.7969879\\n}</td>\n",
       "      <td>6/2/2024</td>\n",
       "      <td>Bachelor's degree</td>\n",
       "      <td>Master's degree</td>\n",
       "      <td>5.000000</td>\n",
       "      <td>3.773903</td>\n",
       "      <td>ET3037E0C947A02404</td>\n",
       "      <td>[\\n  \"KS1218W78FGVPVP2KXPX\",\\n  \"ESF3939CE1F80...</td>\n",
       "      <td>[\\n  \"ESF3939CE1F80C10C327\",\\n  \"KS120GV6C72JM...</td>\n",
       "      <td>...</td>\n",
       "      <td>[\\n  \"KS1218W78FGVPVP2KXPX\",\\n  \"BGS1ADAA36DB6...</td>\n",
       "      <td>[\\n  \"KS126HY6YLTB9R7XJC4Z\"\\n]</td>\n",
       "      <td>Data Scientists</td>\n",
       "      <td>524291.0</td>\n",
       "      <td>Finance and Insurance</td>\n",
       "      <td>[None]</td>\n",
       "      <td>116300.0</td>\n",
       "      <td>Data Analysts</td>\n",
       "      <td>[\\n  \"Management\",\\n  \"Exception Reporting\",\\n...</td>\n",
       "      <td>[\\n  \"Exception Reporting\",\\n  \"Data Analysis\"...</td>\n",
       "    </tr>\n",
       "    <tr>\n",
       "      <th>3</th>\n",
       "      <td>37615159.0</td>\n",
       "      <td>{\\n  \"lat\": 33.4483771,\\n  \"lon\": -112.0740373\\n}</td>\n",
       "      <td>6/2/2024</td>\n",
       "      <td>No Education Listed</td>\n",
       "      <td>Master's degree</td>\n",
       "      <td>3.000000</td>\n",
       "      <td>3.773903</td>\n",
       "      <td>ET2114E0404BA30075</td>\n",
       "      <td>[\\n  \"KS123QX62QYTC4JF38H8\",\\n  \"KS7G6NP6R6L1H...</td>\n",
       "      <td>[\\n  \"KS123QX62QYTC4JF38H8\",\\n  \"KS441PQ64HT13...</td>\n",
       "      <td>...</td>\n",
       "      <td>[\\n  \"KS7G6NP6R6L1H1SKFTSY\",\\n  \"KS1218W78FGVP...</td>\n",
       "      <td>[\\n  \"KS4409D76NW1S5LNCL18\",\\n  \"ESC7869CF7378...</td>\n",
       "      <td>Data Scientists</td>\n",
       "      <td>522110.0</td>\n",
       "      <td>Finance and Insurance</td>\n",
       "      <td>[None]</td>\n",
       "      <td>116300.0</td>\n",
       "      <td>Management Analysts</td>\n",
       "      <td>[\\n  \"Exit Strategies\",\\n  \"Reliability\",\\n  \"...</td>\n",
       "      <td>[\\n  \"Exit Strategies\",\\n  \"User Story\",\\n  \"H...</td>\n",
       "    </tr>\n",
       "    <tr>\n",
       "      <th>4</th>\n",
       "      <td>0.0</td>\n",
       "      <td>{\\n  \"lat\": 37.6392595,\\n  \"lon\": -120.9970014\\n}</td>\n",
       "      <td>6/2/2024</td>\n",
       "      <td>No Education Listed</td>\n",
       "      <td>Master's degree</td>\n",
       "      <td>5.486444</td>\n",
       "      <td>3.773903</td>\n",
       "      <td>ET0000000000000000</td>\n",
       "      <td>[]</td>\n",
       "      <td>[]</td>\n",
       "      <td>...</td>\n",
       "      <td>[]</td>\n",
       "      <td>[]</td>\n",
       "      <td>Data Scientists</td>\n",
       "      <td>999999.0</td>\n",
       "      <td>Unclassified Industry</td>\n",
       "      <td>[None]</td>\n",
       "      <td>92500.0</td>\n",
       "      <td>Unclassified</td>\n",
       "      <td>[]</td>\n",
       "      <td>[]</td>\n",
       "    </tr>\n",
       "  </tbody>\n",
       "</table>\n",
       "<p>5 rows × 21 columns</p>\n",
       "</div>"
      ],
      "text/plain": [
       "      COMPANY                                           LOCATION    POSTED  \\\n",
       "0    894731.0     {\\n  \"lat\": 33.20763,\\n  \"lon\": -92.6662674\\n}  6/2/2024   \n",
       "1    133098.0   {\\n  \"lat\": 44.3106241,\\n  \"lon\": -69.7794897\\n}  6/2/2024   \n",
       "2  39063746.0   {\\n  \"lat\": 32.7766642,\\n  \"lon\": -96.7969879\\n}  6/2/2024   \n",
       "3  37615159.0  {\\n  \"lat\": 33.4483771,\\n  \"lon\": -112.0740373\\n}  6/2/2024   \n",
       "4         0.0  {\\n  \"lat\": 37.6392595,\\n  \"lon\": -120.9970014\\n}  6/2/2024   \n",
       "\n",
       "    MIN_EDULEVELS_NAME MAX_EDULEVELS_NAME  MIN_YEARS_EXPERIENCE  \\\n",
       "0    Bachelor's degree    Master's degree              2.000000   \n",
       "1  No Education Listed    Master's degree              3.000000   \n",
       "2    Bachelor's degree    Master's degree              5.000000   \n",
       "3  No Education Listed    Master's degree              3.000000   \n",
       "4  No Education Listed    Master's degree              5.486444   \n",
       "\n",
       "   MAX_YEARS_EXPERIENCE               TITLE  \\\n",
       "0              2.000000  ET29C073C03D1F86B4   \n",
       "1              3.000000  ET21DDA63780A7DC09   \n",
       "2              3.773903  ET3037E0C947A02404   \n",
       "3              3.773903  ET2114E0404BA30075   \n",
       "4              3.773903  ET0000000000000000   \n",
       "\n",
       "                                              SKILLS  \\\n",
       "0  [\\n  \"KS126DB6T061MHD7RTGQ\",\\n  \"KS126706DPFD3...   \n",
       "1  [\\n  \"KS122626T550SLQ7QZ1C\",\\n  \"KS123YJ6KVWC9...   \n",
       "2  [\\n  \"KS1218W78FGVPVP2KXPX\",\\n  \"ESF3939CE1F80...   \n",
       "3  [\\n  \"KS123QX62QYTC4JF38H8\",\\n  \"KS7G6NP6R6L1H...   \n",
       "4                                                 []   \n",
       "\n",
       "                                  SPECIALIZED_SKILLS  ...  \\\n",
       "0  [\\n  \"KS126DB6T061MHD7RTGQ\",\\n  \"KS128006L3V0H...  ...   \n",
       "1  [\\n  \"KS122626T550SLQ7QZ1C\",\\n  \"KS123YJ6KVWC9...  ...   \n",
       "2  [\\n  \"ESF3939CE1F80C10C327\",\\n  \"KS120GV6C72JM...  ...   \n",
       "3  [\\n  \"KS123QX62QYTC4JF38H8\",\\n  \"KS441PQ64HT13...  ...   \n",
       "4                                                 []  ...   \n",
       "\n",
       "                                       COMMON_SKILLS  \\\n",
       "0  [\\n  \"KS126706DPFD3354M7YK\",\\n  \"KS1280B68GD79...   \n",
       "1                                                 []   \n",
       "2  [\\n  \"KS1218W78FGVPVP2KXPX\",\\n  \"BGS1ADAA36DB6...   \n",
       "3  [\\n  \"KS7G6NP6R6L1H1SKFTSY\",\\n  \"KS1218W78FGVP...   \n",
       "4                                                 []   \n",
       "\n",
       "                                     SOFTWARE_SKILLS  SOC_2021_4_NAME  \\\n",
       "0  [\\n  \"KS440W865GC4VRBW6LJP\",\\n  \"KS13USA80NE38...  Data Scientists   \n",
       "1  [\\n  \"BGSBF3F508F7F46312E3\",\\n  \"ESEA839CED378...  Data Scientists   \n",
       "2                     [\\n  \"KS126HY6YLTB9R7XJC4Z\"\\n]  Data Scientists   \n",
       "3  [\\n  \"KS4409D76NW1S5LNCL18\",\\n  \"ESC7869CF7378...  Data Scientists   \n",
       "4                                                 []  Data Scientists   \n",
       "\n",
       "  NAICS_2022_6                                        NAICS2_NAME  \\\n",
       "0     441330.0                                       Retail Trade   \n",
       "1     561320.0  Administrative and Support and Waste Managemen...   \n",
       "2     524291.0                              Finance and Insurance   \n",
       "3     522110.0                              Finance and Insurance   \n",
       "4     999999.0                              Unclassified Industry   \n",
       "\n",
       "  REMOTE_TYPE_NAME    SALARY           TITLE_NAME  \\\n",
       "0           [None]  116300.0  Enterprise Analysts   \n",
       "1           Remote  116300.0   Oracle Consultants   \n",
       "2           [None]  116300.0        Data Analysts   \n",
       "3           [None]  116300.0  Management Analysts   \n",
       "4           [None]   92500.0         Unclassified   \n",
       "\n",
       "                                         SKILLS_NAME  \\\n",
       "0  [\\n  \"Merchandising\",\\n  \"Mathematics\",\\n  \"Pr...   \n",
       "1  [\\n  \"Procurement\",\\n  \"Financial Statements\",...   \n",
       "2  [\\n  \"Management\",\\n  \"Exception Reporting\",\\n...   \n",
       "3  [\\n  \"Exit Strategies\",\\n  \"Reliability\",\\n  \"...   \n",
       "4                                                 []   \n",
       "\n",
       "                             SPECIALIZED_SKILLS_NAME  \n",
       "0  [\\n  \"Merchandising\",\\n  \"Predictive Modeling\"...  \n",
       "1  [\\n  \"Procurement\",\\n  \"Financial Statements\",...  \n",
       "2  [\\n  \"Exception Reporting\",\\n  \"Data Analysis\"...  \n",
       "3  [\\n  \"Exit Strategies\",\\n  \"User Story\",\\n  \"H...  \n",
       "4                                                 []  \n",
       "\n",
       "[5 rows x 21 columns]"
      ]
     },
     "execution_count": 22,
     "metadata": {},
     "output_type": "execute_result"
    }
   ],
   "source": [
    "import pandas as pd\n",
    "df= pd.read_csv(\"data/eda_data.csv\")"
   ]
  },
  {
   "cell_type": "markdown",
   "metadata": {},
   "source": [
    "## Group 11 Skill "
   ]
  },
  {
   "cell_type": "code",
   "execution_count": 24,
   "metadata": {},
   "outputs": [
    {
     "data": {
      "text/html": [
       "<div>\n",
       "<style scoped>\n",
       "    .dataframe tbody tr th:only-of-type {\n",
       "        vertical-align: middle;\n",
       "    }\n",
       "\n",
       "    .dataframe tbody tr th {\n",
       "        vertical-align: top;\n",
       "    }\n",
       "\n",
       "    .dataframe thead th {\n",
       "        text-align: right;\n",
       "    }\n",
       "</style>\n",
       "<table border=\"1\" class=\"dataframe\">\n",
       "  <thead>\n",
       "    <tr style=\"text-align: right;\">\n",
       "      <th></th>\n",
       "      <th>Python</th>\n",
       "      <th>SQL</th>\n",
       "      <th>Machine Learning</th>\n",
       "      <th>PySpark</th>\n",
       "      <th>Excel</th>\n",
       "      <th>Data Visualization</th>\n",
       "      <th>Power Bi/ Tableau</th>\n",
       "      <th>Version Control Git</th>\n",
       "      <th>ETL/Data pipeline</th>\n",
       "      <th>Communication</th>\n",
       "      <th>Project Management</th>\n",
       "      <th>Cloud Computing</th>\n",
       "    </tr>\n",
       "    <tr>\n",
       "      <th>Name</th>\n",
       "      <th></th>\n",
       "      <th></th>\n",
       "      <th></th>\n",
       "      <th></th>\n",
       "      <th></th>\n",
       "      <th></th>\n",
       "      <th></th>\n",
       "      <th></th>\n",
       "      <th></th>\n",
       "      <th></th>\n",
       "      <th></th>\n",
       "      <th></th>\n",
       "    </tr>\n",
       "  </thead>\n",
       "  <tbody>\n",
       "    <tr>\n",
       "      <th>Binderiya</th>\n",
       "      <td>4</td>\n",
       "      <td>4</td>\n",
       "      <td>2</td>\n",
       "      <td>3</td>\n",
       "      <td>4</td>\n",
       "      <td>5</td>\n",
       "      <td>4</td>\n",
       "      <td>4</td>\n",
       "      <td>3</td>\n",
       "      <td>4</td>\n",
       "      <td>5</td>\n",
       "      <td>4</td>\n",
       "    </tr>\n",
       "    <tr>\n",
       "      <th>Pranjul</th>\n",
       "      <td>4</td>\n",
       "      <td>4</td>\n",
       "      <td>3</td>\n",
       "      <td>3</td>\n",
       "      <td>5</td>\n",
       "      <td>5</td>\n",
       "      <td>5</td>\n",
       "      <td>4</td>\n",
       "      <td>2</td>\n",
       "      <td>4</td>\n",
       "      <td>5</td>\n",
       "      <td>4</td>\n",
       "    </tr>\n",
       "    <tr>\n",
       "      <th>Pratham</th>\n",
       "      <td>5</td>\n",
       "      <td>5</td>\n",
       "      <td>2</td>\n",
       "      <td>3</td>\n",
       "      <td>5</td>\n",
       "      <td>3</td>\n",
       "      <td>3</td>\n",
       "      <td>3</td>\n",
       "      <td>1</td>\n",
       "      <td>5</td>\n",
       "      <td>5</td>\n",
       "      <td>2</td>\n",
       "    </tr>\n",
       "    <tr>\n",
       "      <th>Panyang</th>\n",
       "      <td>3</td>\n",
       "      <td>4</td>\n",
       "      <td>2</td>\n",
       "      <td>3</td>\n",
       "      <td>4</td>\n",
       "      <td>3</td>\n",
       "      <td>4</td>\n",
       "      <td>3</td>\n",
       "      <td>2</td>\n",
       "      <td>3</td>\n",
       "      <td>3</td>\n",
       "      <td>2</td>\n",
       "    </tr>\n",
       "  </tbody>\n",
       "</table>\n",
       "</div>"
      ],
      "text/plain": [
       "           Python  SQL  Machine Learning  PySpark  Excel  Data Visualization  \\\n",
       "Name                                                                           \n",
       "Binderiya       4    4                 2        3      4                   5   \n",
       "Pranjul         4    4                 3        3      5                   5   \n",
       "Pratham         5    5                 2        3      5                   3   \n",
       "Panyang         3    4                 2        3      4                   3   \n",
       "\n",
       "           Power Bi/ Tableau  Version Control Git  ETL/Data pipeline  \\\n",
       "Name                                                                   \n",
       "Binderiya                  4                    4                  3   \n",
       "Pranjul                    5                    4                  2   \n",
       "Pratham                    3                    3                  1   \n",
       "Panyang                    4                    3                  2   \n",
       "\n",
       "           Communication  Project Management  Cloud Computing  \n",
       "Name                                                           \n",
       "Binderiya              4                   5                4  \n",
       "Pranjul                4                   5                4  \n",
       "Pratham                5                   5                2  \n",
       "Panyang                3                   3                2  "
      ]
     },
     "execution_count": 24,
     "metadata": {},
     "output_type": "execute_result"
    }
   ],
   "source": [
    "import pandas as pd\n",
    "\n",
    "skills_data = {\n",
    "    \"Name\": [\"Binderiya\", \"Pranjul\", \"Pratham\", \"Panyang\"],\n",
    "    \"Python\": [4, 4, 5, 3],\n",
    "    \"SQL\": [4, 4, 5, 4],\n",
    "    \"Machine Learning\": [2, 3, 2, 2],\n",
    "    \"PySpark\": [3, 3, 3, 3],\n",
    "    \"Excel\": [4, 5, 5, 4],\n",
    "    \"Data Visualization\": [5, 5, 3, 3],\n",
    "    \"Power Bi/ Tableau\": [4, 5, 3, 4],\n",
    "    \"Version Control Git\": [4, 4, 3, 3],\n",
    "    \"ETL/Data pipeline\": [3, 2, 1, 2],\n",
    "    \"Communication\": [4, 4, 5, 3],\n",
    "    \"Project Management\": [5, 5, 5, 3],\n",
    "    \"Cloud Computing\": [4, 4, 2, 2]\n",
    "}\n",
    "\n",
    "df_skills = pd.DataFrame(skills_data)\n",
    "df_skills.set_index(\"Name\", inplace=True)\n",
    "df_skills"
   ]
  },
  {
   "cell_type": "code",
   "execution_count": 25,
   "metadata": {},
   "outputs": [
    {
     "data": {
      "image/png": "[encoded data removed]",
      "text/plain": [
       "<Figure size 800x800 with 2 Axes>"
      ]
     },
     "metadata": {},
     "output_type": "display_data"
    }
   ],
   "source": [
    "import seaborn as sns\n",
    "import matplotlib.pyplot as plt\n",
    "\n",
    "plt.figure(figsize=(8, 8))\n",
    "sns.heatmap(df_skills, annot=True, cmap=\"coolwarm\", linewidths=0.5)\n",
    "plt.title(\"Team Skill Levels Heatmap\")\n",
    "plt.show()"
   ]
  },
  {
   "cell_type": "code",
   "execution_count": 26,
   "metadata": {},
   "outputs": [
    {
     "data": {
      "application/vnd.plotly.v1+json": {
       "config": {
        "plotlyServerURL": "https://plot.ly"
       },
       "data": [
        {
         "fill": "toself",
         "name": "Binderiya",
         "r": [
          4,
          4,
          2,
          3,
          4,
          5,
          4,
          4,
          3,
          4,
          5,
          4,
          4
         ],
         "theta": [
          "Python",
          "SQL",
          "Machine Learning",
          "PySpark",
          "Excel",
          "Data Visualization",
          "Power Bi/ Tableau",
          "Version Control Git",
          "ETL/Data pipeline",
          "Communication",
          "Project Management",
          "Cloud Computing",
          "Python"
         ],
         "type": "scatterpolar"
        },
        {
         "fill": "toself",
         "name": "Pranjul",
         "r": [
          4,
          4,
          3,
          3,
          5,
          5,
          5,
          4,
          2,
          4,
          5,
          4,
          4
         ],
         "theta": [
          "Python",
          "SQL",
          "Machine Learning",
          "PySpark",
          "Excel",
          "Data Visualization",
          "Power Bi/ Tableau",
          "Version Control Git",
          "ETL/Data pipeline",
          "Communication",
          "Project Management",
          "Cloud Computing",
          "Python"
         ],
         "type": "scatterpolar"
        },
        {
         "fill": "toself",
         "name": "Pratham",
         "r": [
          5,
          5,
          2,
          3,
          5,
          3,
          3,
          3,
          1,
          5,
          5,
          2,
          5
         ],
         "theta": [
          "Python",
          "SQL",
          "Machine Learning",
          "PySpark",
          "Excel",
          "Data Visualization",
          "Power Bi/ Tableau",
          "Version Control Git",
          "ETL/Data pipeline",
          "Communication",
          "Project Management",
          "Cloud Computing",
          "Python"
         ],
         "type": "scatterpolar"
        },
        {
         "fill": "toself",
         "name": "Panyang",
         "r": [
          3,
          4,
          2,
          3,
          4,
          3,
          4,
          3,
          2,
          3,
          3,
          2,
          3
         ],
         "theta": [
          "Python",
          "SQL",
          "Machine Learning",
          "PySpark",
          "Excel",
          "Data Visualization",
          "Power Bi/ Tableau",
          "Version Control Git",
          "ETL/Data pipeline",
          "Communication",
          "Project Management",
          "Cloud Computing",
          "Python"
         ],
         "type": "scatterpolar"
        }
       ],
       "layout": {
        "polar": {
         "radialaxis": {
          "range": [
           0,
           5
          ],
          "visible": true
         }
        },
        "showlegend": true,
        "template": {
         "data": {
          "bar": [
           {
            "error_x": {
             "color": "#2a3f5f"
            },
            "error_y": {
             "color": "#2a3f5f"
            },
            "marker": {
             "line": {
              "color": "#E5ECF6",
              "width": 0.5
             },
             "pattern": {
              "fillmode": "overlay",
              "size": 10,
              "solidity": 0.2
             }
            },
            "type": "bar"
           }
          ],
          "barpolar": [
           {
            "marker": {
             "line": {
              "color": "#E5ECF6",
              "width": 0.5
             },
             "pattern": {
              "fillmode": "overlay",
              "size": 10,
              "solidity": 0.2
             }
            },
            "type": "barpolar"
           }
          ],
          "carpet": [
           {
            "aaxis": {
             "endlinecolor": "#2a3f5f",
             "gridcolor": "white",
             "linecolor": "white",
             "minorgridcolor": "white",
             "startlinecolor": "#2a3f5f"
            },
            "baxis": {
             "endlinecolor": "#2a3f5f",
             "gridcolor": "white",
             "linecolor": "white",
             "minorgridcolor": "white",
             "startlinecolor": "#2a3f5f"
            },
            "type": "carpet"
           }
          ],
          "choropleth": [
           {
            "colorbar": {
             "outlinewidth": 0,
             "ticks": ""
            },
            "type": "choropleth"
           }
          ],
          "contour": [
           {
            "colorbar": {
             "outlinewidth": 0,
             "ticks": ""
            },
            "colorscale": [
             [
              0,
              "#0d0887"
             ],
             [
              0.1111111111111111,
              "#46039f"
             ],
             [
              0.2222222222222222,
              "#7201a8"
             ],
             [
              0.3333333333333333,
              "#9c179e"
             ],
             [
              0.4444444444444444,
              "#bd3786"
             ],
             [
              0.5555555555555556,
              "#d8576b"
             ],
             [
              0.6666666666666666,
              "#ed7953"
             ],
             [
              0.7777777777777778,
              "#fb9f3a"
             ],
             [
              0.8888888888888888,
              "#fdca26"
             ],
             [
              1,
              "#f0f921"
             ]
            ],
            "type": "contour"
           }
          ],
          "contourcarpet": [
           {
            "colorbar": {
             "outlinewidth": 0,
             "ticks": ""
            },
            "type": "contourcarpet"
           }
          ],
          "heatmap": [
           {
            "colorbar": {
             "outlinewidth": 0,
             "ticks": ""
            },
            "colorscale": [
             [
              0,
              "#0d0887"
             ],
             [
              0.1111111111111111,
              "#46039f"
             ],
             [
              0.2222222222222222,
              "#7201a8"
             ],
             [
              0.3333333333333333,
              "#9c179e"
             ],
             [
              0.4444444444444444,
              "#bd3786"
             ],
             [
              0.5555555555555556,
              "#d8576b"
             ],
             [
              0.6666666666666666,
              "#ed7953"
             ],
             [
              0.7777777777777778,
              "#fb9f3a"
             ],
             [
              0.8888888888888888,
              "#fdca26"
             ],
             [
              1,
              "#f0f921"
             ]
            ],
            "type": "heatmap"
           }
          ],
          "histogram": [
           {
            "marker": {
             "pattern": {
              "fillmode": "overlay",
              "size": 10,
              "solidity": 0.2
             }
            },
            "type": "histogram"
           }
          ],
          "histogram2d": [
           {
            "colorbar": {
             "outlinewidth": 0,
             "ticks": ""
            },
            "colorscale": [
             [
              0,
              "#0d0887"
             ],
             [
              0.1111111111111111,
              "#46039f"
             ],
             [
              0.2222222222222222,
              "#7201a8"
             ],
             [
              0.3333333333333333,
              "#9c179e"
             ],
             [
              0.4444444444444444,
              "#bd3786"
             ],
             [
              0.5555555555555556,
              "#d8576b"
             ],
             [
              0.6666666666666666,
              "#ed7953"
             ],
             [
              0.7777777777777778,
              "#fb9f3a"
             ],
             [
              0.8888888888888888,
              "#fdca26"
             ],
             [
              1,
              "#f0f921"
             ]
            ],
            "type": "histogram2d"
           }
          ],
          "histogram2dcontour": [
           {
            "colorbar": {
             "outlinewidth": 0,
             "ticks": ""
            },
            "colorscale": [
             [
              0,
              "#0d0887"
             ],
             [
              0.1111111111111111,
              "#46039f"
             ],
             [
              0.2222222222222222,
              "#7201a8"
             ],
             [
              0.3333333333333333,
              "#9c179e"
             ],
             [
              0.4444444444444444,
              "#bd3786"
             ],
             [
              0.5555555555555556,
              "#d8576b"
             ],
             [
              0.6666666666666666,
              "#ed7953"
             ],
             [
              0.7777777777777778,
              "#fb9f3a"
             ],
             [
              0.8888888888888888,
              "#fdca26"
             ],
             [
              1,
              "#f0f921"
             ]
            ],
            "type": "histogram2dcontour"
           }
          ],
          "mesh3d": [
           {
            "colorbar": {
             "outlinewidth": 0,
             "ticks": ""
            },
            "type": "mesh3d"
           }
          ],
          "parcoords": [
           {
            "line": {
             "colorbar": {
              "outlinewidth": 0,
              "ticks": ""
             }
            },
            "type": "parcoords"
           }
          ],
          "pie": [
           {
            "automargin": true,
            "type": "pie"
           }
          ],
          "scatter": [
           {
            "fillpattern": {
             "fillmode": "overlay",
             "size": 10,
             "solidity": 0.2
            },
            "type": "scatter"
           }
          ],
          "scatter3d": [
           {
            "line": {
             "colorbar": {
              "outlinewidth": 0,
              "ticks": ""
             }
            },
            "marker": {
             "colorbar": {
              "outlinewidth": 0,
              "ticks": ""
             }
            },
            "type": "scatter3d"
           }
          ],
          "scattercarpet": [
           {
            "marker": {
             "colorbar": {
              "outlinewidth": 0,
              "ticks": ""
             }
            },
            "type": "scattercarpet"
           }
          ],
          "scattergeo": [
           {
            "marker": {
             "colorbar": {
              "outlinewidth": 0,
              "ticks": ""
             }
            },
            "type": "scattergeo"
           }
          ],
          "scattergl": [
           {
            "marker": {
             "colorbar": {
              "outlinewidth": 0,
              "ticks": ""
             }
            },
            "type": "scattergl"
           }
          ],
          "scattermap": [
           {
            "marker": {
             "colorbar": {
              "outlinewidth": 0,
              "ticks": ""
             }
            },
            "type": "scattermap"
           }
          ],
          "scattermapbox": [
           {
            "marker": {
             "colorbar": {
              "outlinewidth": 0,
              "ticks": ""
             }
            },
            "type": "scattermapbox"
           }
          ],
          "scatterpolar": [
           {
            "marker": {
             "colorbar": {
              "outlinewidth": 0,
              "ticks": ""
             }
            },
            "type": "scatterpolar"
           }
          ],
          "scatterpolargl": [
           {
            "marker": {
             "colorbar": {
              "outlinewidth": 0,
              "ticks": ""
             }
            },
            "type": "scatterpolargl"
           }
          ],
          "scatterternary": [
           {
            "marker": {
             "colorbar": {
              "outlinewidth": 0,
              "ticks": ""
             }
            },
            "type": "scatterternary"
           }
          ],
          "surface": [
           {
            "colorbar": {
             "outlinewidth": 0,
             "ticks": ""
            },
            "colorscale": [
             [
              0,
              "#0d0887"
             ],
             [
              0.1111111111111111,
              "#46039f"
             ],
             [
              0.2222222222222222,
              "#7201a8"
             ],
             [
              0.3333333333333333,
              "#9c179e"
             ],
             [
              0.4444444444444444,
              "#bd3786"
             ],
             [
              0.5555555555555556,
              "#d8576b"
             ],
             [
              0.6666666666666666,
              "#ed7953"
             ],
             [
              0.7777777777777778,
              "#fb9f3a"
             ],
             [
              0.8888888888888888,
              "#fdca26"
             ],
             [
              1,
              "#f0f921"
             ]
            ],
            "type": "surface"
           }
          ],
          "table": [
           {
            "cells": {
             "fill": {
              "color": "#EBF0F8"
             },
             "line": {
              "color": "white"
             }
            },
            "header": {
             "fill": {
              "color": "#C8D4E3"
             },
             "line": {
              "color": "white"
             }
            },
            "type": "table"
           }
          ]
         },
         "layout": {
          "annotationdefaults": {
           "arrowcolor": "#2a3f5f",
           "arrowhead": 0,
           "arrowwidth": 1
          },
          "autotypenumbers": "strict",
          "coloraxis": {
           "colorbar": {
            "outlinewidth": 0,
            "ticks": ""
           }
          },
          "colorscale": {
           "diverging": [
            [
             0,
             "#8e0152"
            ],
            [
             0.1,
             "#c51b7d"
            ],
            [
             0.2,
             "#de77ae"
            ],
            [
             0.3,
             "#f1b6da"
            ],
            [
             0.4,
             "#fde0ef"
            ],
            [
             0.5,
             "#f7f7f7"
            ],
            [
             0.6,
             "#e6f5d0"
            ],
            [
             0.7,
             "#b8e186"
            ],
            [
             0.8,
             "#7fbc41"
            ],
            [
             0.9,
             "#4d9221"
            ],
            [
             1,
             "#276419"
            ]
           ],
           "sequential": [
            [
             0,
             "#0d0887"
            ],
            [
             0.1111111111111111,
             "#46039f"
            ],
            [
             0.2222222222222222,
             "#7201a8"
            ],
            [
             0.3333333333333333,
             "#9c179e"
            ],
            [
             0.4444444444444444,
             "#bd3786"
            ],
            [
             0.5555555555555556,
             "#d8576b"
            ],
            [
             0.6666666666666666,
             "#ed7953"
            ],
            [
             0.7777777777777778,
             "#fb9f3a"
            ],
            [
             0.8888888888888888,
             "#fdca26"
            ],
            [
             1,
             "#f0f921"
            ]
           ],
           "sequentialminus": [
            [
             0,
             "#0d0887"
            ],
            [
             0.1111111111111111,
             "#46039f"
            ],
            [
             0.2222222222222222,
             "#7201a8"
            ],
            [
             0.3333333333333333,
             "#9c179e"
            ],
            [
             0.4444444444444444,
             "#bd3786"
            ],
            [
             0.5555555555555556,
             "#d8576b"
            ],
            [
             0.6666666666666666,
             "#ed7953"
            ],
            [
             0.7777777777777778,
             "#fb9f3a"
            ],
            [
             0.8888888888888888,
             "#fdca26"
            ],
            [
             1,
             "#f0f921"
            ]
           ]
          },
          "colorway": [
           "#636efa",
           "#EF553B",
           "#00cc96",
           "#ab63fa",
           "#FFA15A",
           "#19d3f3",
           "#FF6692",
           "#B6E880",
           "#FF97FF",
           "#FECB52"
          ],
          "font": {
           "color": "#2a3f5f"
          },
          "geo": {
           "bgcolor": "white",
           "lakecolor": "white",
           "landcolor": "#E5ECF6",
           "showlakes": true,
           "showland": true,
           "subunitcolor": "white"
          },
          "hoverlabel": {
           "align": "left"
          },
          "hovermode": "closest",
          "mapbox": {
           "style": "light"
          },
          "paper_bgcolor": "white",
          "plot_bgcolor": "#E5ECF6",
          "polar": {
           "angularaxis": {
            "gridcolor": "white",
            "linecolor": "white",
            "ticks": ""
           },
           "bgcolor": "#E5ECF6",
           "radialaxis": {
            "gridcolor": "white",
            "linecolor": "white",
            "ticks": ""
           }
          },
          "scene": {
           "xaxis": {
            "backgroundcolor": "#E5ECF6",
            "gridcolor": "white",
            "gridwidth": 2,
            "linecolor": "white",
            "showbackground": true,
            "ticks": "",
            "zerolinecolor": "white"
           },
           "yaxis": {
            "backgroundcolor": "#E5ECF6",
            "gridcolor": "white",
            "gridwidth": 2,
            "linecolor": "white",
            "showbackground": true,
            "ticks": "",
            "zerolinecolor": "white"
           },
           "zaxis": {
            "backgroundcolor": "#E5ECF6",
            "gridcolor": "white",
            "gridwidth": 2,
            "linecolor": "white",
            "showbackground": true,
            "ticks": "",
            "zerolinecolor": "white"
           }
          },
          "shapedefaults": {
           "line": {
            "color": "#2a3f5f"
           }
          },
          "ternary": {
           "aaxis": {
            "gridcolor": "white",
            "linecolor": "white",
            "ticks": ""
           },
           "baxis": {
            "gridcolor": "white",
            "linecolor": "white",
            "ticks": ""
           },
           "bgcolor": "#E5ECF6",
           "caxis": {
            "gridcolor": "white",
            "linecolor": "white",
            "ticks": ""
           }
          },
          "title": {
           "x": 0.05
          },
          "xaxis": {
           "automargin": true,
           "gridcolor": "white",
           "linecolor": "white",
           "ticks": "",
           "title": {
            "standoff": 15
           },
           "zerolinecolor": "white",
           "zerolinewidth": 2
          },
          "yaxis": {
           "automargin": true,
           "gridcolor": "white",
           "linecolor": "white",
           "ticks": "",
           "title": {
            "standoff": 15
           },
           "zerolinecolor": "white",
           "zerolinewidth": 2
          }
         }
        },
        "title": {
         "text": "Team Skills Radar Chart"
        }
       }
      }
     },
     "metadata": {},
     "output_type": "display_data"
    }
   ],
   "source": [
    "import plotly.graph_objects as go\n",
    "fig = go.Figure()\n",
    "\n",
    "for name in df_skills.index:\n",
    "    values = df_skills.loc[name].tolist()\n",
    "    values += values[:1]  # close the loop\n",
    "    fig.add_trace(go.Scatterpolar(\n",
    "        r=values,\n",
    "        theta=df_skills.columns.tolist() + [df_skills.columns[0]],\n",
    "        fill='toself',\n",
    "        name=name\n",
    "    ))\n",
    "\n",
    "fig.update_layout(\n",
    "    polar=dict(radialaxis=dict(visible=True, range=[0, 5])),\n",
    "    showlegend=True,\n",
    "    title='Team Skills Radar Chart'\n",
    ")\n",
    "fig.write_html(\"figures/skills_radar_chart.html\")\n",
    "fig.write_html(\"figures/skill_radar_chart.html\") \n",
    "fig.show()"
   ]
  },
  {
   "cell_type": "markdown",
   "metadata": {},
   "source": [
    "From this radar chart visualization we can see that our team has a lot of room for improvement for skills like PySpark and Machine Learning. Also we can see that not a lot of our team mates are confident in their skills in Cloud Computing and ETL. "
   ]
  },
  {
   "cell_type": "markdown",
   "metadata": {},
   "source": [
    "## Top Skills"
   ]
  },
  {
   "cell_type": "code",
   "execution_count": 27,
   "metadata": {},
   "outputs": [
    {
     "data": {
      "text/plain": [
       "DATA_ANALYST_JOB\n",
       "False    37043\n",
       "True     32155\n",
       "Name: count, dtype: int64"
      ]
     },
     "execution_count": 27,
     "metadata": {},
     "output_type": "execute_result"
    }
   ],
   "source": [
    "keywords = ['Data Analyst', 'Business Analyst', 'Data Engineering', 'Deep Learning',\n",
    "            'Data Science', 'Data Analysis','Data Analytics',  'Market Research Analyst' \n",
    "            'LLM', 'Language Model', 'NLP', 'Natural Language Processing',\n",
    "            'Computer Vision', 'Business Intelligence Analyst', 'Quantitative Analyst', 'Operations Analyst']\n",
    "\n",
    "match = lambda col: df[col].str.contains('|'.join(keywords), case=False, na=False)\n",
    "\n",
    "df['DATA_ANALYST_JOB'] = match('TITLE_NAME') \\\n",
    "             | match('SKILLS_NAME') \\\n",
    "             | match('SPECIALIZED_SKILLS_NAME') \n",
    "df['DATA_ANALYST_JOB'].value_counts()"
   ]
  },
  {
   "cell_type": "code",
   "execution_count": 32,
   "metadata": {},
   "outputs": [],
   "source": [
    "from collections import defaultdict\n",
    "\n",
    "# Lowercase everything\n",
    "team_skills = [s.lower().strip() for s in df_skills.columns]\n",
    "job_demand_raw = data_skills.copy()\n",
    "job_demand_raw['Skill'] = job_demand_raw['Skill'].str.lower().str.strip()\n",
    "\n",
    "# New dict to map cleaned team skill to total count from job postings\n",
    "skill_demand_map = defaultdict(int)\n",
    "\n",
    "for _, row in job_demand_raw.iterrows():\n",
    "    skill_in_posting = row['Skill']\n",
    "    count = row['Count']\n",
    "    for team_skill in team_skills:\n",
    "        if team_skill in skill_in_posting:\n",
    "            skill_demand_map[team_skill] += count"
   ]
  },
  {
   "cell_type": "code",
   "execution_count": 34,
   "metadata": {},
   "outputs": [],
   "source": [
    "import ast\n",
    "import pandas as pd\n",
    "import matplotlib.pyplot as plt\n",
    "import plotly.express as px\n",
    "\n",
    "# Safely apply literal_eval only to non-null values\n",
    "df['SKILLS'] = df['SKILLS_NAME'].apply(lambda x: ast.literal_eval(x) if pd.notnull(x) else [])\n",
    "\n",
    "\n",
    "data_skills = df[df['DATA_ANALYST_JOB']]['SKILLS'].explode().value_counts().reset_index()\n",
    "data_skills.columns = ['Skill', 'Count']\n",
    "\n",
    "fig = px.bar(data_skills, x='Skill', y='Count',\n",
    "             title=\"Top Skills\",\n",
    "             labels={'Skill': 'Skill Name', 'Count': 'Frequency'},\n",
    "             color='Skill')\n",
    "df_skills.index = df_skills.index.str.strip()\n",
    "\n"
   ]
  },
  {
   "cell_type": "code",
   "execution_count": 35,
   "metadata": {},
   "outputs": [
    {
     "name": "stdout",
     "output_type": "stream",
     "text": [
      "Team skills: ['python', 'sql', 'machine learning', 'pyspark', 'excel', 'data visualization', 'power bi/ tableau', 'version control git', 'etl/data pipeline', 'communication', 'project management', 'cloud computing']\n",
      "['data analysis', 'sql (programming language)', 'communication', 'management', 'python (programming language)', 'tableau (business intelligence software)', 'dashboard', 'computer science', 'problem solving', 'power bi']\n",
      "✅ 'sql' found in: 'sql (programming language)'\n",
      "✅ 'communication' found in: 'communication'\n",
      "✅ 'python' found in: 'python (programming language)'\n"
     ]
    }
   ],
   "source": [
    "team_skills = [s.strip().lower() for s in df_skills.columns]\n",
    "print(\"Team skills:\", team_skills)\n",
    "print(job_demand_raw['Skill'].head(10).tolist())\n",
    "for skill_text in job_demand_raw['Skill'].head(10):\n",
    "    for team_skill in team_skills:\n",
    "        if team_skill in skill_text:\n",
    "            print(f\"✅ '{team_skill}' found in: '{skill_text}'\")\n",
    "\n"
   ]
  },
  {
   "cell_type": "code",
   "execution_count": 36,
   "metadata": {},
   "outputs": [
    {
     "name": "stdout",
     "output_type": "stream",
     "text": [
      "sql                   47368\n",
      "communication         47728\n",
      "python                21852\n",
      "excel                 18682\n",
      "data visualization    14568\n",
      "project management    14568\n",
      "machine learning       8386\n",
      "cloud computing        2390\n",
      "pyspark                1008\n",
      "dtype: int64\n"
     ]
    }
   ],
   "source": [
    "for _, row in job_demand_raw.iterrows():\n",
    "    skill_text = row['Skill']\n",
    "    count = row['Count']\n",
    "    for team_skill in team_skills:\n",
    "        if team_skill in skill_text:  # no regex, just substring\n",
    "            skill_demand_map[team_skill] += count\n",
    "\n",
    "job_demand = pd.Series(skill_demand_map)\n",
    "print(job_demand)\n"
   ]
  },
  {
   "cell_type": "code",
   "execution_count": 37,
   "metadata": {},
   "outputs": [
    {
     "data": {
      "text/html": [
       "<div>\n",
       "<style scoped>\n",
       "    .dataframe tbody tr th:only-of-type {\n",
       "        vertical-align: middle;\n",
       "    }\n",
       "\n",
       "    .dataframe tbody tr th {\n",
       "        vertical-align: top;\n",
       "    }\n",
       "\n",
       "    .dataframe thead th {\n",
       "        text-align: right;\n",
       "    }\n",
       "</style>\n",
       "<table border=\"1\" class=\"dataframe\">\n",
       "  <thead>\n",
       "    <tr style=\"text-align: right;\">\n",
       "      <th></th>\n",
       "      <th>Team Average Skill</th>\n",
       "      <th>Job Demand (Normalized)</th>\n",
       "      <th>Skill Gap</th>\n",
       "    </tr>\n",
       "  </thead>\n",
       "  <tbody>\n",
       "    <tr>\n",
       "      <th>communication</th>\n",
       "      <td>4.00</td>\n",
       "      <td>5.000000</td>\n",
       "      <td>1.000000</td>\n",
       "    </tr>\n",
       "    <tr>\n",
       "      <th>sql</th>\n",
       "      <td>4.25</td>\n",
       "      <td>4.962286</td>\n",
       "      <td>0.712286</td>\n",
       "    </tr>\n",
       "    <tr>\n",
       "      <th>machine learning</th>\n",
       "      <td>2.25</td>\n",
       "      <td>0.878520</td>\n",
       "      <td>-1.371480</td>\n",
       "    </tr>\n",
       "    <tr>\n",
       "      <th>python</th>\n",
       "      <td>4.00</td>\n",
       "      <td>2.289222</td>\n",
       "      <td>-1.710778</td>\n",
       "    </tr>\n",
       "    <tr>\n",
       "      <th>data visualization</th>\n",
       "      <td>4.00</td>\n",
       "      <td>1.526148</td>\n",
       "      <td>-2.473852</td>\n",
       "    </tr>\n",
       "    <tr>\n",
       "      <th>excel</th>\n",
       "      <td>4.50</td>\n",
       "      <td>1.957132</td>\n",
       "      <td>-2.542868</td>\n",
       "    </tr>\n",
       "    <tr>\n",
       "      <th>cloud computing</th>\n",
       "      <td>3.00</td>\n",
       "      <td>0.250377</td>\n",
       "      <td>-2.749623</td>\n",
       "    </tr>\n",
       "    <tr>\n",
       "      <th>pyspark</th>\n",
       "      <td>3.00</td>\n",
       "      <td>0.105598</td>\n",
       "      <td>-2.894402</td>\n",
       "    </tr>\n",
       "    <tr>\n",
       "      <th>project management</th>\n",
       "      <td>4.50</td>\n",
       "      <td>1.526148</td>\n",
       "      <td>-2.973852</td>\n",
       "    </tr>\n",
       "  </tbody>\n",
       "</table>\n",
       "</div>"
      ],
      "text/plain": [
       "                    Team Average Skill  Job Demand (Normalized)  Skill Gap\n",
       "communication                     4.00                 5.000000   1.000000\n",
       "sql                               4.25                 4.962286   0.712286\n",
       "machine learning                  2.25                 0.878520  -1.371480\n",
       "python                            4.00                 2.289222  -1.710778\n",
       "data visualization                4.00                 1.526148  -2.473852\n",
       "excel                             4.50                 1.957132  -2.542868\n",
       "cloud computing                   3.00                 0.250377  -2.749623\n",
       "pyspark                           3.00                 0.105598  -2.894402\n",
       "project management                4.50                 1.526148  -2.973852"
      ]
     },
     "execution_count": 37,
     "metadata": {},
     "output_type": "execute_result"
    }
   ],
   "source": [
    "job_demand = pd.Series(skill_demand_map)\n",
    "job_demand.name = \"Count\"\n",
    "team_avg = df_skills.mean()\n",
    "team_avg.index = team_avg.index.str.strip().str.lower() \n",
    "# Now match only overlapping skills\n",
    "common_skills = job_demand.index.intersection(team_avg.index)\n",
    "team_avg = team_avg[common_skills]\n",
    "job_demand = job_demand[common_skills]\n",
    "\n",
    "# Normalize job demand\n",
    "job_demand_normalized = 5 * (job_demand / job_demand.max())\n",
    "job_demand_normalized.name = \"Job Demand (Normalized)\"\n",
    "\n",
    "# Combine\n",
    "comparison_df = pd.concat([team_avg, job_demand_normalized], axis=1)\n",
    "comparison_df.columns = [\"Team Average Skill\", \"Job Demand (Normalized)\"]\n",
    "comparison_df[\"Skill Gap\"] = comparison_df[\"Job Demand (Normalized)\"] - comparison_df[\"Team Average Skill\"]\n",
    "comparison_df.sort_values(\"Skill Gap\", ascending=False, inplace=True)\n",
    "\n",
    "comparison_df\n"
   ]
  },
  {
   "cell_type": "code",
   "execution_count": 38,
   "metadata": {},
   "outputs": [
    {
     "data": {
      "image/png": "[encoded data removed]",
      "text/plain": [
       "<Figure size 1000x500 with 1 Axes>"
      ]
     },
     "metadata": {},
     "output_type": "display_data"
    }
   ],
   "source": [
    "comparison_df[\"Skill Gap\"].plot(kind='bar', color='crimson', figsize=(10, 5), title='Skill Gaps: Market vs Team')\n",
    "plt.axhline(0, color='black', linestyle='--')\n",
    "plt.ylabel('Gap (Demand - Team Skill)')\n",
    "plt.grid(axis='y')\n",
    "plt.tight_layout()\n",
    "plt.show()\n"
   ]
  },
  {
   "cell_type": "code",
   "execution_count": 39,
   "metadata": {},
   "outputs": [],
   "source": [
    "comparison_df = comparison_df.reset_index().rename(columns={\"index\": \"Skill\"})"
   ]
  },
  {
   "cell_type": "code",
   "execution_count": 40,
   "metadata": {},
   "outputs": [
    {
     "data": {
      "application/vnd.plotly.v1+json": {
       "config": {
        "plotlyServerURL": "https://plot.ly"
       },
       "data": [
        {
         "hovertemplate": "Skill=%{x}<br>Gap (Job Demand - Team Skill)=%{marker.color}<extra></extra>",
         "legendgroup": "",
         "marker": {
          "color": {
           "bdata": "AAAAAAAA8D8om5CdDMvmP6HQlxGV8fW/kMvkelhf+78wmaHTcsoDwFLXlSLLVwTAwI+DRTr/BcBqOeUHvCcHwDCZodNyygfA",
           "dtype": "f8"
          },
          "coloraxis": "coloraxis",
          "pattern": {
           "shape": ""
          }
         },
         "name": "",
         "orientation": "v",
         "showlegend": false,
         "textposition": "auto",
         "type": "bar",
         "x": [
          "communication",
          "sql",
          "machine learning",
          "python",
          "data visualization",
          "excel",
          "cloud computing",
          "pyspark",
          "project management"
         ],
         "xaxis": "x",
         "y": {
          "bdata": "AAAAAAAA8D8om5CdDMvmP6HQlxGV8fW/kMvkelhf+78wmaHTcsoDwFLXlSLLVwTAwI+DRTr/BcBqOeUHvCcHwDCZodNyygfA",
          "dtype": "f8"
         },
         "yaxis": "y"
        }
       ],
       "layout": {
        "barmode": "relative",
        "coloraxis": {
         "colorbar": {
          "title": {
           "text": "Gap (Job Demand - Team Skill)"
          }
         },
         "colorscale": [
          [
           0,
           "rgb(5,48,97)"
          ],
          [
           0.1,
           "rgb(33,102,172)"
          ],
          [
           0.2,
           "rgb(67,147,195)"
          ],
          [
           0.3,
           "rgb(146,197,222)"
          ],
          [
           0.4,
           "rgb(209,229,240)"
          ],
          [
           0.5,
           "rgb(247,247,247)"
          ],
          [
           0.6,
           "rgb(253,219,199)"
          ],
          [
           0.7,
           "rgb(244,165,130)"
          ],
          [
           0.8,
           "rgb(214,96,77)"
          ],
          [
           0.9,
           "rgb(178,24,43)"
          ],
          [
           1,
           "rgb(103,0,31)"
          ]
         ]
        },
        "font": {
         "size": 13
        },
        "height": 500,
        "legend": {
         "tracegroupgap": 0
        },
        "plot_bgcolor": "white",
        "shapes": [
         {
          "line": {
           "dash": "dash"
          },
          "type": "line",
          "x0": 0,
          "x1": 1,
          "xref": "x domain",
          "y0": 0,
          "y1": 0,
          "yref": "y"
         }
        ],
        "template": {
         "data": {
          "bar": [
           {
            "error_x": {
             "color": "#2a3f5f"
            },
            "error_y": {
             "color": "#2a3f5f"
            },
            "marker": {
             "line": {
              "color": "#E5ECF6",
              "width": 0.5
             },
             "pattern": {
              "fillmode": "overlay",
              "size": 10,
              "solidity": 0.2
             }
            },
            "type": "bar"
           }
          ],
          "barpolar": [
           {
            "marker": {
             "line": {
              "color": "#E5ECF6",
              "width": 0.5
             },
             "pattern": {
              "fillmode": "overlay",
              "size": 10,
              "solidity": 0.2
             }
            },
            "type": "barpolar"
           }
          ],
          "carpet": [
           {
            "aaxis": {
             "endlinecolor": "#2a3f5f",
             "gridcolor": "white",
             "linecolor": "white",
             "minorgridcolor": "white",
             "startlinecolor": "#2a3f5f"
            },
            "baxis": {
             "endlinecolor": "#2a3f5f",
             "gridcolor": "white",
             "linecolor": "white",
             "minorgridcolor": "white",
             "startlinecolor": "#2a3f5f"
            },
            "type": "carpet"
           }
          ],
          "choropleth": [
           {
            "colorbar": {
             "outlinewidth": 0,
             "ticks": ""
            },
            "type": "choropleth"
           }
          ],
          "contour": [
           {
            "colorbar": {
             "outlinewidth": 0,
             "ticks": ""
            },
            "colorscale": [
             [
              0,
              "#0d0887"
             ],
             [
              0.1111111111111111,
              "#46039f"
             ],
             [
              0.2222222222222222,
              "#7201a8"
             ],
             [
              0.3333333333333333,
              "#9c179e"
             ],
             [
              0.4444444444444444,
              "#bd3786"
             ],
             [
              0.5555555555555556,
              "#d8576b"
             ],
             [
              0.6666666666666666,
              "#ed7953"
             ],
             [
              0.7777777777777778,
              "#fb9f3a"
             ],
             [
              0.8888888888888888,
              "#fdca26"
             ],
             [
              1,
              "#f0f921"
             ]
            ],
            "type": "contour"
           }
          ],
          "contourcarpet": [
           {
            "colorbar": {
             "outlinewidth": 0,
             "ticks": ""
            },
            "type": "contourcarpet"
           }
          ],
          "heatmap": [
           {
            "colorbar": {
             "outlinewidth": 0,
             "ticks": ""
            },
            "colorscale": [
             [
              0,
              "#0d0887"
             ],
             [
              0.1111111111111111,
              "#46039f"
             ],
             [
              0.2222222222222222,
              "#7201a8"
             ],
             [
              0.3333333333333333,
              "#9c179e"
             ],
             [
              0.4444444444444444,
              "#bd3786"
             ],
             [
              0.5555555555555556,
              "#d8576b"
             ],
             [
              0.6666666666666666,
              "#ed7953"
             ],
             [
              0.7777777777777778,
              "#fb9f3a"
             ],
             [
              0.8888888888888888,
              "#fdca26"
             ],
             [
              1,
              "#f0f921"
             ]
            ],
            "type": "heatmap"
           }
          ],
          "histogram": [
           {
            "marker": {
             "pattern": {
              "fillmode": "overlay",
              "size": 10,
              "solidity": 0.2
             }
            },
            "type": "histogram"
           }
          ],
          "histogram2d": [
           {
            "colorbar": {
             "outlinewidth": 0,
             "ticks": ""
            },
            "colorscale": [
             [
              0,
              "#0d0887"
             ],
             [
              0.1111111111111111,
              "#46039f"
             ],
             [
              0.2222222222222222,
              "#7201a8"
             ],
             [
              0.3333333333333333,
              "#9c179e"
             ],
             [
              0.4444444444444444,
              "#bd3786"
             ],
             [
              0.5555555555555556,
              "#d8576b"
             ],
             [
              0.6666666666666666,
              "#ed7953"
             ],
             [
              0.7777777777777778,
              "#fb9f3a"
             ],
             [
              0.8888888888888888,
              "#fdca26"
             ],
             [
              1,
              "#f0f921"
             ]
            ],
            "type": "histogram2d"
           }
          ],
          "histogram2dcontour": [
           {
            "colorbar": {
             "outlinewidth": 0,
             "ticks": ""
            },
            "colorscale": [
             [
              0,
              "#0d0887"
             ],
             [
              0.1111111111111111,
              "#46039f"
             ],
             [
              0.2222222222222222,
              "#7201a8"
             ],
             [
              0.3333333333333333,
              "#9c179e"
             ],
             [
              0.4444444444444444,
              "#bd3786"
             ],
             [
              0.5555555555555556,
              "#d8576b"
             ],
             [
              0.6666666666666666,
              "#ed7953"
             ],
             [
              0.7777777777777778,
              "#fb9f3a"
             ],
             [
              0.8888888888888888,
              "#fdca26"
             ],
             [
              1,
              "#f0f921"
             ]
            ],
            "type": "histogram2dcontour"
           }
          ],
          "mesh3d": [
           {
            "colorbar": {
             "outlinewidth": 0,
             "ticks": ""
            },
            "type": "mesh3d"
           }
          ],
          "parcoords": [
           {
            "line": {
             "colorbar": {
              "outlinewidth": 0,
              "ticks": ""
             }
            },
            "type": "parcoords"
           }
          ],
          "pie": [
           {
            "automargin": true,
            "type": "pie"
           }
          ],
          "scatter": [
           {
            "fillpattern": {
             "fillmode": "overlay",
             "size": 10,
             "solidity": 0.2
            },
            "type": "scatter"
           }
          ],
          "scatter3d": [
           {
            "line": {
             "colorbar": {
              "outlinewidth": 0,
              "ticks": ""
             }
            },
            "marker": {
             "colorbar": {
              "outlinewidth": 0,
              "ticks": ""
             }
            },
            "type": "scatter3d"
           }
          ],
          "scattercarpet": [
           {
            "marker": {
             "colorbar": {
              "outlinewidth": 0,
              "ticks": ""
             }
            },
            "type": "scattercarpet"
           }
          ],
          "scattergeo": [
           {
            "marker": {
             "colorbar": {
              "outlinewidth": 0,
              "ticks": ""
             }
            },
            "type": "scattergeo"
           }
          ],
          "scattergl": [
           {
            "marker": {
             "colorbar": {
              "outlinewidth": 0,
              "ticks": ""
             }
            },
            "type": "scattergl"
           }
          ],
          "scattermap": [
           {
            "marker": {
             "colorbar": {
              "outlinewidth": 0,
              "ticks": ""
             }
            },
            "type": "scattermap"
           }
          ],
          "scattermapbox": [
           {
            "marker": {
             "colorbar": {
              "outlinewidth": 0,
              "ticks": ""
             }
            },
            "type": "scattermapbox"
           }
          ],
          "scatterpolar": [
           {
            "marker": {
             "colorbar": {
              "outlinewidth": 0,
              "ticks": ""
             }
            },
            "type": "scatterpolar"
           }
          ],
          "scatterpolargl": [
           {
            "marker": {
             "colorbar": {
              "outlinewidth": 0,
              "ticks": ""
             }
            },
            "type": "scatterpolargl"
           }
          ],
          "scatterternary": [
           {
            "marker": {
             "colorbar": {
              "outlinewidth": 0,
              "ticks": ""
             }
            },
            "type": "scatterternary"
           }
          ],
          "surface": [
           {
            "colorbar": {
             "outlinewidth": 0,
             "ticks": ""
            },
            "colorscale": [
             [
              0,
              "#0d0887"
             ],
             [
              0.1111111111111111,
              "#46039f"
             ],
             [
              0.2222222222222222,
              "#7201a8"
             ],
             [
              0.3333333333333333,
              "#9c179e"
             ],
             [
              0.4444444444444444,
              "#bd3786"
             ],
             [
              0.5555555555555556,
              "#d8576b"
             ],
             [
              0.6666666666666666,
              "#ed7953"
             ],
             [
              0.7777777777777778,
              "#fb9f3a"
             ],
             [
              0.8888888888888888,
              "#fdca26"
             ],
             [
              1,
              "#f0f921"
             ]
            ],
            "type": "surface"
           }
          ],
          "table": [
           {
            "cells": {
             "fill": {
              "color": "#EBF0F8"
             },
             "line": {
              "color": "white"
             }
            },
            "header": {
             "fill": {
              "color": "#C8D4E3"
             },
             "line": {
              "color": "white"
             }
            },
            "type": "table"
           }
          ]
         },
         "layout": {
          "annotationdefaults": {
           "arrowcolor": "#2a3f5f",
           "arrowhead": 0,
           "arrowwidth": 1
          },
          "autotypenumbers": "strict",
          "coloraxis": {
           "colorbar": {
            "outlinewidth": 0,
            "ticks": ""
           }
          },
          "colorscale": {
           "diverging": [
            [
             0,
             "#8e0152"
            ],
            [
             0.1,
             "#c51b7d"
            ],
            [
             0.2,
             "#de77ae"
            ],
            [
             0.3,
             "#f1b6da"
            ],
            [
             0.4,
             "#fde0ef"
            ],
            [
             0.5,
             "#f7f7f7"
            ],
            [
             0.6,
             "#e6f5d0"
            ],
            [
             0.7,
             "#b8e186"
            ],
            [
             0.8,
             "#7fbc41"
            ],
            [
             0.9,
             "#4d9221"
            ],
            [
             1,
             "#276419"
            ]
           ],
           "sequential": [
            [
             0,
             "#0d0887"
            ],
            [
             0.1111111111111111,
             "#46039f"
            ],
            [
             0.2222222222222222,
             "#7201a8"
            ],
            [
             0.3333333333333333,
             "#9c179e"
            ],
            [
             0.4444444444444444,
             "#bd3786"
            ],
            [
             0.5555555555555556,
             "#d8576b"
            ],
            [
             0.6666666666666666,
             "#ed7953"
            ],
            [
             0.7777777777777778,
             "#fb9f3a"
            ],
            [
             0.8888888888888888,
             "#fdca26"
            ],
            [
             1,
             "#f0f921"
            ]
           ],
           "sequentialminus": [
            [
             0,
             "#0d0887"
            ],
            [
             0.1111111111111111,
             "#46039f"
            ],
            [
             0.2222222222222222,
             "#7201a8"
            ],
            [
             0.3333333333333333,
             "#9c179e"
            ],
            [
             0.4444444444444444,
             "#bd3786"
            ],
            [
             0.5555555555555556,
             "#d8576b"
            ],
            [
             0.6666666666666666,
             "#ed7953"
            ],
            [
             0.7777777777777778,
             "#fb9f3a"
            ],
            [
             0.8888888888888888,
             "#fdca26"
            ],
            [
             1,
             "#f0f921"
            ]
           ]
          },
          "colorway": [
           "#636efa",
           "#EF553B",
           "#00cc96",
           "#ab63fa",
           "#FFA15A",
           "#19d3f3",
           "#FF6692",
           "#B6E880",
           "#FF97FF",
           "#FECB52"
          ],
          "font": {
           "color": "#2a3f5f"
          },
          "geo": {
           "bgcolor": "white",
           "lakecolor": "white",
           "landcolor": "#E5ECF6",
           "showlakes": true,
           "showland": true,
           "subunitcolor": "white"
          },
          "hoverlabel": {
           "align": "left"
          },
          "hovermode": "closest",
          "mapbox": {
           "style": "light"
          },
          "paper_bgcolor": "white",
          "plot_bgcolor": "#E5ECF6",
          "polar": {
           "angularaxis": {
            "gridcolor": "white",
            "linecolor": "white",
            "ticks": ""
           },
           "bgcolor": "#E5ECF6",
           "radialaxis": {
            "gridcolor": "white",
            "linecolor": "white",
            "ticks": ""
           }
          },
          "scene": {
           "xaxis": {
            "backgroundcolor": "#E5ECF6",
            "gridcolor": "white",
            "gridwidth": 2,
            "linecolor": "white",
            "showbackground": true,
            "ticks": "",
            "zerolinecolor": "white"
           },
           "yaxis": {
            "backgroundcolor": "#E5ECF6",
            "gridcolor": "white",
            "gridwidth": 2,
            "linecolor": "white",
            "showbackground": true,
            "ticks": "",
            "zerolinecolor": "white"
           },
           "zaxis": {
            "backgroundcolor": "#E5ECF6",
            "gridcolor": "white",
            "gridwidth": 2,
            "linecolor": "white",
            "showbackground": true,
            "ticks": "",
            "zerolinecolor": "white"
           }
          },
          "shapedefaults": {
           "line": {
            "color": "#2a3f5f"
           }
          },
          "ternary": {
           "aaxis": {
            "gridcolor": "white",
            "linecolor": "white",
            "ticks": ""
           },
           "baxis": {
            "gridcolor": "white",
            "linecolor": "white",
            "ticks": ""
           },
           "bgcolor": "#E5ECF6",
           "caxis": {
            "gridcolor": "white",
            "linecolor": "white",
            "ticks": ""
           }
          },
          "title": {
           "x": 0.05
          },
          "xaxis": {
           "automargin": true,
           "gridcolor": "white",
           "linecolor": "white",
           "ticks": "",
           "title": {
            "standoff": 15
           },
           "zerolinecolor": "white",
           "zerolinewidth": 2
          },
          "yaxis": {
           "automargin": true,
           "gridcolor": "white",
           "linecolor": "white",
           "ticks": "",
           "title": {
            "standoff": 15
           },
           "zerolinecolor": "white",
           "zerolinewidth": 2
          }
         }
        },
        "title": {
         "text": "Skill Gaps: Job Market Expectations vs. Team Capability"
        },
        "xaxis": {
         "anchor": "y",
         "domain": [
          0,
          1
         ],
         "tickangle": -45,
         "title": {
          "text": "Skill"
         }
        },
        "yaxis": {
         "anchor": "x",
         "domain": [
          0,
          1
         ],
         "title": {
          "text": "Gap (Positive = Market expects more)"
         }
        }
       }
      }
     },
     "metadata": {},
     "output_type": "display_data"
    }
   ],
   "source": [
    "import plotly.express as px\n",
    "\n",
    "fig = px.bar(\n",
    "    comparison_df,\n",
    "    x='Skill',\n",
    "    y='Skill Gap',\n",
    "    color='Skill Gap',\n",
    "    color_continuous_scale='RdBu_r',\n",
    "    title='Skill Gaps: Job Market Expectations vs. Team Capability',\n",
    "    labels={'Skill Gap': 'Gap (Job Demand - Team Skill)', 'Skill': 'Skill'},\n",
    ")\n",
    "\n",
    "fig.add_hline(y=0, line_dash='dash')\n",
    "fig.update_layout(\n",
    "    xaxis_tickangle=-45,\n",
    "    yaxis_title='Gap (Positive = Market expects more)',\n",
    "    font=dict(size=13),\n",
    "    height=500,\n",
    "    plot_bgcolor='white',\n",
    ")\n",
    "fig.write_html(\"figures/skill_gap_chart.html\")\n",
    "fig.write_html(\"figures/skill_gap_chart.html\") \n",
    "\n",
    "fig.show()\n",
    "\n"
   ]
  },
  {
   "cell_type": "markdown",
   "metadata": {},
   "source": [
    "This bar chart compares our team’s average proficiency in key data-related skills against job market expectations. Skills with positive values (like communication and SQL) indicate areas where market demand exceeds our current capabilities. On the other hand, negative values highlight areas where the team is ahead or closely aligned with market needs. Notably, skills like Python, cloud computing, and project management show the largest gaps, suggesting priority areas for upskilling."
   ]
  }
 ],
 "metadata": {
  "kernelspec": {
   "display_name": ".venv",
   "language": "python",
   "name": "python3"
  },
  "language_info": {
   "codemirror_mode": {
    "name": "ipython",
    "version": 3
   },
   "file_extension": ".py",
   "mimetype": "text/x-python",
   "name": "python",
   "nbconvert_exporter": "python",
   "pygments_lexer": "ipython3",
   "version": "3.13.1"
  }
 },
 "nbformat": 4,
 "nbformat_minor": 2
}
