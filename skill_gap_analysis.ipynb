{
 "cells": [
  {
   "cell_type": "code",
   "execution_count": 1,
   "metadata": {},
   "outputs": [
    {
     "name": "stderr",
     "output_type": "stream",
     "text": [
      "/var/folders/ml/69jz_hln1nv6px47r10h6ccm0000gn/T/ipykernel_61572/4103762630.py:2: DtypeWarning: Columns (19,30) have mixed types. Specify dtype option on import or set low_memory=False.\n",
      "  df= pd.read_csv(\"data/lightcast_job_postings.csv\")\n"
     ]
    },
    {
     "data": {
      "text/html": [
       "<div>\n",
       "<style scoped>\n",
       "    .dataframe tbody tr th:only-of-type {\n",
       "        vertical-align: middle;\n",
       "    }\n",
       "\n",
       "    .dataframe tbody tr th {\n",
       "        vertical-align: top;\n",
       "    }\n",
       "\n",
       "    .dataframe thead th {\n",
       "        text-align: right;\n",
       "    }\n",
       "</style>\n",
       "<table border=\"1\" class=\"dataframe\">\n",
       "  <thead>\n",
       "    <tr style=\"text-align: right;\">\n",
       "      <th></th>\n",
       "      <th>ID</th>\n",
       "      <th>LAST_UPDATED_DATE</th>\n",
       "      <th>LAST_UPDATED_TIMESTAMP</th>\n",
       "      <th>DUPLICATES</th>\n",
       "      <th>POSTED</th>\n",
       "      <th>EXPIRED</th>\n",
       "      <th>DURATION</th>\n",
       "      <th>SOURCE_TYPES</th>\n",
       "      <th>SOURCES</th>\n",
       "      <th>URL</th>\n",
       "      <th>...</th>\n",
       "      <th>NAICS_2022_2</th>\n",
       "      <th>NAICS_2022_2_NAME</th>\n",
       "      <th>NAICS_2022_3</th>\n",
       "      <th>NAICS_2022_3_NAME</th>\n",
       "      <th>NAICS_2022_4</th>\n",
       "      <th>NAICS_2022_4_NAME</th>\n",
       "      <th>NAICS_2022_5</th>\n",
       "      <th>NAICS_2022_5_NAME</th>\n",
       "      <th>NAICS_2022_6</th>\n",
       "      <th>NAICS_2022_6_NAME</th>\n",
       "    </tr>\n",
       "  </thead>\n",
       "  <tbody>\n",
       "    <tr>\n",
       "      <th>0</th>\n",
       "      <td>1f57d95acf4dc67ed2819eb12f049f6a5c11782c</td>\n",
       "      <td>9/6/2024</td>\n",
       "      <td>2024-09-06 20:32:57.352 Z</td>\n",
       "      <td>0.0</td>\n",
       "      <td>6/2/2024</td>\n",
       "      <td>6/8/2024</td>\n",
       "      <td>6.0</td>\n",
       "      <td>[\\n  \"Company\"\\n]</td>\n",
       "      <td>[\\n  \"brassring.com\"\\n]</td>\n",
       "      <td>[\\n  \"https://sjobs.brassring.com/TGnewUI/Sear...</td>\n",
       "      <td>...</td>\n",
       "      <td>44.0</td>\n",
       "      <td>Retail Trade</td>\n",
       "      <td>441.0</td>\n",
       "      <td>Motor Vehicle and Parts Dealers</td>\n",
       "      <td>4413.0</td>\n",
       "      <td>Automotive Parts, Accessories, and Tire Retailers</td>\n",
       "      <td>44133.0</td>\n",
       "      <td>Automotive Parts and Accessories Retailers</td>\n",
       "      <td>441330.0</td>\n",
       "      <td>Automotive Parts and Accessories Retailers</td>\n",
       "    </tr>\n",
       "    <tr>\n",
       "      <th>1</th>\n",
       "      <td>0cb072af26757b6c4ea9464472a50a443af681ac</td>\n",
       "      <td>8/2/2024</td>\n",
       "      <td>2024-08-02 17:08:58.838 Z</td>\n",
       "      <td>0.0</td>\n",
       "      <td>6/2/2024</td>\n",
       "      <td>8/1/2024</td>\n",
       "      <td>NaN</td>\n",
       "      <td>[\\n  \"Job Board\"\\n]</td>\n",
       "      <td>[\\n  \"maine.gov\"\\n]</td>\n",
       "      <td>[\\n  \"https://joblink.maine.gov/jobs/1085740\"\\n]</td>\n",
       "      <td>...</td>\n",
       "      <td>56.0</td>\n",
       "      <td>Administrative and Support and Waste Managemen...</td>\n",
       "      <td>561.0</td>\n",
       "      <td>Administrative and Support Services</td>\n",
       "      <td>5613.0</td>\n",
       "      <td>Employment Services</td>\n",
       "      <td>56132.0</td>\n",
       "      <td>Temporary Help Services</td>\n",
       "      <td>561320.0</td>\n",
       "      <td>Temporary Help Services</td>\n",
       "    </tr>\n",
       "    <tr>\n",
       "      <th>2</th>\n",
       "      <td>85318b12b3331fa490d32ad014379df01855c557</td>\n",
       "      <td>9/6/2024</td>\n",
       "      <td>2024-09-06 20:32:57.352 Z</td>\n",
       "      <td>1.0</td>\n",
       "      <td>6/2/2024</td>\n",
       "      <td>7/7/2024</td>\n",
       "      <td>35.0</td>\n",
       "      <td>[\\n  \"Job Board\"\\n]</td>\n",
       "      <td>[\\n  \"dejobs.org\"\\n]</td>\n",
       "      <td>[\\n  \"https://dejobs.org/dallas-tx/data-analys...</td>\n",
       "      <td>...</td>\n",
       "      <td>52.0</td>\n",
       "      <td>Finance and Insurance</td>\n",
       "      <td>524.0</td>\n",
       "      <td>Insurance Carriers and Related Activities</td>\n",
       "      <td>5242.0</td>\n",
       "      <td>Agencies, Brokerages, and Other Insurance Rela...</td>\n",
       "      <td>52429.0</td>\n",
       "      <td>Other Insurance Related Activities</td>\n",
       "      <td>524291.0</td>\n",
       "      <td>Claims Adjusting</td>\n",
       "    </tr>\n",
       "    <tr>\n",
       "      <th>3</th>\n",
       "      <td>1b5c3941e54a1889ef4f8ae55b401a550708a310</td>\n",
       "      <td>9/6/2024</td>\n",
       "      <td>2024-09-06 20:32:57.352 Z</td>\n",
       "      <td>1.0</td>\n",
       "      <td>6/2/2024</td>\n",
       "      <td>7/20/2024</td>\n",
       "      <td>48.0</td>\n",
       "      <td>[\\n  \"Job Board\"\\n]</td>\n",
       "      <td>[\\n  \"disabledperson.com\",\\n  \"dejobs.org\"\\n]</td>\n",
       "      <td>[\\n  \"https://www.disabledperson.com/jobs/5948...</td>\n",
       "      <td>...</td>\n",
       "      <td>52.0</td>\n",
       "      <td>Finance and Insurance</td>\n",
       "      <td>522.0</td>\n",
       "      <td>Credit Intermediation and Related Activities</td>\n",
       "      <td>5221.0</td>\n",
       "      <td>Depository Credit Intermediation</td>\n",
       "      <td>52211.0</td>\n",
       "      <td>Commercial Banking</td>\n",
       "      <td>522110.0</td>\n",
       "      <td>Commercial Banking</td>\n",
       "    </tr>\n",
       "    <tr>\n",
       "      <th>4</th>\n",
       "      <td>cb5ca25f02bdf25c13edfede7931508bfd9e858f</td>\n",
       "      <td>6/19/2024</td>\n",
       "      <td>2024-06-19 07:00:00.000 Z</td>\n",
       "      <td>0.0</td>\n",
       "      <td>6/2/2024</td>\n",
       "      <td>6/17/2024</td>\n",
       "      <td>15.0</td>\n",
       "      <td>[\\n  \"FreeJobBoard\"\\n]</td>\n",
       "      <td>[\\n  \"craigslist.org\"\\n]</td>\n",
       "      <td>[\\n  \"https://modesto.craigslist.org/sls/77475...</td>\n",
       "      <td>...</td>\n",
       "      <td>99.0</td>\n",
       "      <td>Unclassified Industry</td>\n",
       "      <td>999.0</td>\n",
       "      <td>Unclassified Industry</td>\n",
       "      <td>9999.0</td>\n",
       "      <td>Unclassified Industry</td>\n",
       "      <td>99999.0</td>\n",
       "      <td>Unclassified Industry</td>\n",
       "      <td>999999.0</td>\n",
       "      <td>Unclassified Industry</td>\n",
       "    </tr>\n",
       "  </tbody>\n",
       "</table>\n",
       "<p>5 rows × 131 columns</p>\n",
       "</div>"
      ],
      "text/plain": [
       "                                         ID LAST_UPDATED_DATE  \\\n",
       "0  1f57d95acf4dc67ed2819eb12f049f6a5c11782c          9/6/2024   \n",
       "1  0cb072af26757b6c4ea9464472a50a443af681ac          8/2/2024   \n",
       "2  85318b12b3331fa490d32ad014379df01855c557          9/6/2024   \n",
       "3  1b5c3941e54a1889ef4f8ae55b401a550708a310          9/6/2024   \n",
       "4  cb5ca25f02bdf25c13edfede7931508bfd9e858f         6/19/2024   \n",
       "\n",
       "      LAST_UPDATED_TIMESTAMP  DUPLICATES    POSTED    EXPIRED  DURATION  \\\n",
       "0  2024-09-06 20:32:57.352 Z         0.0  6/2/2024   6/8/2024       6.0   \n",
       "1  2024-08-02 17:08:58.838 Z         0.0  6/2/2024   8/1/2024       NaN   \n",
       "2  2024-09-06 20:32:57.352 Z         1.0  6/2/2024   7/7/2024      35.0   \n",
       "3  2024-09-06 20:32:57.352 Z         1.0  6/2/2024  7/20/2024      48.0   \n",
       "4  2024-06-19 07:00:00.000 Z         0.0  6/2/2024  6/17/2024      15.0   \n",
       "\n",
       "             SOURCE_TYPES                                        SOURCES  \\\n",
       "0       [\\n  \"Company\"\\n]                        [\\n  \"brassring.com\"\\n]   \n",
       "1     [\\n  \"Job Board\"\\n]                            [\\n  \"maine.gov\"\\n]   \n",
       "2     [\\n  \"Job Board\"\\n]                           [\\n  \"dejobs.org\"\\n]   \n",
       "3     [\\n  \"Job Board\"\\n]  [\\n  \"disabledperson.com\",\\n  \"dejobs.org\"\\n]   \n",
       "4  [\\n  \"FreeJobBoard\"\\n]                       [\\n  \"craigslist.org\"\\n]   \n",
       "\n",
       "                                                 URL  ... NAICS_2022_2  \\\n",
       "0  [\\n  \"https://sjobs.brassring.com/TGnewUI/Sear...  ...         44.0   \n",
       "1   [\\n  \"https://joblink.maine.gov/jobs/1085740\"\\n]  ...         56.0   \n",
       "2  [\\n  \"https://dejobs.org/dallas-tx/data-analys...  ...         52.0   \n",
       "3  [\\n  \"https://www.disabledperson.com/jobs/5948...  ...         52.0   \n",
       "4  [\\n  \"https://modesto.craigslist.org/sls/77475...  ...         99.0   \n",
       "\n",
       "                                   NAICS_2022_2_NAME NAICS_2022_3  \\\n",
       "0                                       Retail Trade        441.0   \n",
       "1  Administrative and Support and Waste Managemen...        561.0   \n",
       "2                              Finance and Insurance        524.0   \n",
       "3                              Finance and Insurance        522.0   \n",
       "4                              Unclassified Industry        999.0   \n",
       "\n",
       "                              NAICS_2022_3_NAME NAICS_2022_4  \\\n",
       "0               Motor Vehicle and Parts Dealers       4413.0   \n",
       "1           Administrative and Support Services       5613.0   \n",
       "2     Insurance Carriers and Related Activities       5242.0   \n",
       "3  Credit Intermediation and Related Activities       5221.0   \n",
       "4                         Unclassified Industry       9999.0   \n",
       "\n",
       "                                   NAICS_2022_4_NAME  NAICS_2022_5  \\\n",
       "0  Automotive Parts, Accessories, and Tire Retailers       44133.0   \n",
       "1                                Employment Services       56132.0   \n",
       "2  Agencies, Brokerages, and Other Insurance Rela...       52429.0   \n",
       "3                   Depository Credit Intermediation       52211.0   \n",
       "4                              Unclassified Industry       99999.0   \n",
       "\n",
       "                            NAICS_2022_5_NAME NAICS_2022_6  \\\n",
       "0  Automotive Parts and Accessories Retailers     441330.0   \n",
       "1                     Temporary Help Services     561320.0   \n",
       "2          Other Insurance Related Activities     524291.0   \n",
       "3                          Commercial Banking     522110.0   \n",
       "4                       Unclassified Industry     999999.0   \n",
       "\n",
       "                            NAICS_2022_6_NAME  \n",
       "0  Automotive Parts and Accessories Retailers  \n",
       "1                     Temporary Help Services  \n",
       "2                            Claims Adjusting  \n",
       "3                          Commercial Banking  \n",
       "4                       Unclassified Industry  \n",
       "\n",
       "[5 rows x 131 columns]"
      ]
     },
     "execution_count": 1,
     "metadata": {},
     "output_type": "execute_result"
    }
   ],
   "source": [
    "import pandas as pd\n",
    "df= pd.read_csv(\"data/lightcast_job_postings.csv\")\n",
    "df.head()"
   ]
  },
  {
   "cell_type": "code",
   "execution_count": 2,
   "metadata": {},
   "outputs": [
    {
     "name": "stdout",
     "output_type": "stream",
     "text": [
      "['ID', 'LAST_UPDATED_DATE', 'LAST_UPDATED_TIMESTAMP', 'DUPLICATES', 'POSTED', 'EXPIRED', 'DURATION', 'SOURCE_TYPES', 'SOURCES', 'URL', 'ACTIVE_URLS', 'ACTIVE_SOURCES_INFO', 'TITLE_RAW', 'BODY', 'MODELED_EXPIRED', 'MODELED_DURATION', 'COMPANY', 'COMPANY_NAME', 'COMPANY_RAW', 'COMPANY_IS_STAFFING', 'EDUCATION_LEVELS', 'EDUCATION_LEVELS_NAME', 'MIN_EDULEVELS', 'MIN_EDULEVELS_NAME', 'MAX_EDULEVELS', 'MAX_EDULEVELS_NAME', 'EMPLOYMENT_TYPE', 'EMPLOYMENT_TYPE_NAME', 'MIN_YEARS_EXPERIENCE', 'MAX_YEARS_EXPERIENCE', 'IS_INTERNSHIP', 'SALARY', 'REMOTE_TYPE', 'REMOTE_TYPE_NAME', 'ORIGINAL_PAY_PERIOD', 'SALARY_TO', 'SALARY_FROM', 'LOCATION', 'CITY', 'CITY_NAME', 'COUNTY', 'COUNTY_NAME', 'MSA', 'MSA_NAME', 'STATE', 'STATE_NAME', 'COUNTY_OUTGOING', 'COUNTY_NAME_OUTGOING', 'COUNTY_INCOMING', 'COUNTY_NAME_INCOMING', 'MSA_OUTGOING', 'MSA_NAME_OUTGOING', 'MSA_INCOMING', 'MSA_NAME_INCOMING', 'NAICS2', 'NAICS2_NAME', 'NAICS3', 'NAICS3_NAME', 'NAICS4', 'NAICS4_NAME', 'NAICS5', 'NAICS5_NAME', 'NAICS6', 'NAICS6_NAME', 'TITLE', 'TITLE_NAME', 'TITLE_CLEAN', 'SKILLS', 'SKILLS_NAME', 'SPECIALIZED_SKILLS', 'SPECIALIZED_SKILLS_NAME', 'CERTIFICATIONS', 'CERTIFICATIONS_NAME', 'COMMON_SKILLS', 'COMMON_SKILLS_NAME', 'SOFTWARE_SKILLS', 'SOFTWARE_SKILLS_NAME', 'ONET', 'ONET_NAME', 'ONET_2019', 'ONET_2019_NAME', 'CIP6', 'CIP6_NAME', 'CIP4', 'CIP4_NAME', 'CIP2', 'CIP2_NAME', 'SOC_2021_2', 'SOC_2021_2_NAME', 'SOC_2021_3', 'SOC_2021_3_NAME', 'SOC_2021_4', 'SOC_2021_4_NAME', 'SOC_2021_5', 'SOC_2021_5_NAME', 'LOT_CAREER_AREA', 'LOT_CAREER_AREA_NAME', 'LOT_OCCUPATION', 'LOT_OCCUPATION_NAME', 'LOT_SPECIALIZED_OCCUPATION', 'LOT_SPECIALIZED_OCCUPATION_NAME', 'LOT_OCCUPATION_GROUP', 'LOT_OCCUPATION_GROUP_NAME', 'LOT_V6_SPECIALIZED_OCCUPATION', 'LOT_V6_SPECIALIZED_OCCUPATION_NAME', 'LOT_V6_OCCUPATION', 'LOT_V6_OCCUPATION_NAME', 'LOT_V6_OCCUPATION_GROUP', 'LOT_V6_OCCUPATION_GROUP_NAME', 'LOT_V6_CAREER_AREA', 'LOT_V6_CAREER_AREA_NAME', 'SOC_2', 'SOC_2_NAME', 'SOC_3', 'SOC_3_NAME', 'SOC_4', 'SOC_4_NAME', 'SOC_5', 'SOC_5_NAME', 'LIGHTCAST_SECTORS', 'LIGHTCAST_SECTORS_NAME', 'NAICS_2022_2', 'NAICS_2022_2_NAME', 'NAICS_2022_3', 'NAICS_2022_3_NAME', 'NAICS_2022_4', 'NAICS_2022_4_NAME', 'NAICS_2022_5', 'NAICS_2022_5_NAME', 'NAICS_2022_6', 'NAICS_2022_6_NAME']\n"
     ]
    },
    {
     "data": {
      "text/plain": [
       "0    [\\n  \"Merchandising\",\\n  \"Mathematics\",\\n  \"Pr...\n",
       "1    [\\n  \"Procurement\",\\n  \"Financial Statements\",...\n",
       "2    [\\n  \"Management\",\\n  \"Exception Reporting\",\\n...\n",
       "3    [\\n  \"Exit Strategies\",\\n  \"Reliability\",\\n  \"...\n",
       "4                                                   []\n",
       "Name: SKILLS_NAME, dtype: object"
      ]
     },
     "execution_count": 2,
     "metadata": {},
     "output_type": "execute_result"
    }
   ],
   "source": [
    "print(df.columns.tolist())\n",
    "#df['BODY'].head()\n",
    "df['SKILLS_NAME'].head()\n",
    "\n",
    "\n"
   ]
  },
  {
   "cell_type": "markdown",
   "metadata": {},
   "source": [
    "## Group 11 Skill "
   ]
  },
  {
   "cell_type": "code",
   "execution_count": 3,
   "metadata": {},
   "outputs": [
    {
     "data": {
      "text/html": [
       "<div>\n",
       "<style scoped>\n",
       "    .dataframe tbody tr th:only-of-type {\n",
       "        vertical-align: middle;\n",
       "    }\n",
       "\n",
       "    .dataframe tbody tr th {\n",
       "        vertical-align: top;\n",
       "    }\n",
       "\n",
       "    .dataframe thead th {\n",
       "        text-align: right;\n",
       "    }\n",
       "</style>\n",
       "<table border=\"1\" class=\"dataframe\">\n",
       "  <thead>\n",
       "    <tr style=\"text-align: right;\">\n",
       "      <th></th>\n",
       "      <th>Python</th>\n",
       "      <th>SQL</th>\n",
       "      <th>Machine Learning</th>\n",
       "      <th>PySpark</th>\n",
       "      <th>Excel</th>\n",
       "      <th>Data Visualization</th>\n",
       "      <th>Power Bi/ Tableau</th>\n",
       "      <th>Version Control Git</th>\n",
       "      <th>ETL/Data pipeline</th>\n",
       "      <th>Communication</th>\n",
       "      <th>Project Management</th>\n",
       "      <th>Cloud Computing</th>\n",
       "    </tr>\n",
       "    <tr>\n",
       "      <th>Name</th>\n",
       "      <th></th>\n",
       "      <th></th>\n",
       "      <th></th>\n",
       "      <th></th>\n",
       "      <th></th>\n",
       "      <th></th>\n",
       "      <th></th>\n",
       "      <th></th>\n",
       "      <th></th>\n",
       "      <th></th>\n",
       "      <th></th>\n",
       "      <th></th>\n",
       "    </tr>\n",
       "  </thead>\n",
       "  <tbody>\n",
       "    <tr>\n",
       "      <th>Binderiya</th>\n",
       "      <td>4</td>\n",
       "      <td>4</td>\n",
       "      <td>2</td>\n",
       "      <td>3</td>\n",
       "      <td>4</td>\n",
       "      <td>5</td>\n",
       "      <td>4</td>\n",
       "      <td>4</td>\n",
       "      <td>3</td>\n",
       "      <td>4</td>\n",
       "      <td>5</td>\n",
       "      <td>4</td>\n",
       "    </tr>\n",
       "    <tr>\n",
       "      <th>Pranjul</th>\n",
       "      <td>4</td>\n",
       "      <td>4</td>\n",
       "      <td>3</td>\n",
       "      <td>3</td>\n",
       "      <td>5</td>\n",
       "      <td>5</td>\n",
       "      <td>5</td>\n",
       "      <td>4</td>\n",
       "      <td>2</td>\n",
       "      <td>4</td>\n",
       "      <td>5</td>\n",
       "      <td>4</td>\n",
       "    </tr>\n",
       "    <tr>\n",
       "      <th>Pratham</th>\n",
       "      <td>5</td>\n",
       "      <td>5</td>\n",
       "      <td>2</td>\n",
       "      <td>3</td>\n",
       "      <td>5</td>\n",
       "      <td>3</td>\n",
       "      <td>3</td>\n",
       "      <td>3</td>\n",
       "      <td>1</td>\n",
       "      <td>5</td>\n",
       "      <td>5</td>\n",
       "      <td>2</td>\n",
       "    </tr>\n",
       "    <tr>\n",
       "      <th>Panyang</th>\n",
       "      <td>3</td>\n",
       "      <td>4</td>\n",
       "      <td>2</td>\n",
       "      <td>3</td>\n",
       "      <td>4</td>\n",
       "      <td>3</td>\n",
       "      <td>4</td>\n",
       "      <td>3</td>\n",
       "      <td>2</td>\n",
       "      <td>3</td>\n",
       "      <td>3</td>\n",
       "      <td>2</td>\n",
       "    </tr>\n",
       "  </tbody>\n",
       "</table>\n",
       "</div>"
      ],
      "text/plain": [
       "           Python  SQL  Machine Learning  PySpark  Excel  Data Visualization  \\\n",
       "Name                                                                           \n",
       "Binderiya       4    4                 2        3      4                   5   \n",
       "Pranjul         4    4                 3        3      5                   5   \n",
       "Pratham         5    5                 2        3      5                   3   \n",
       "Panyang         3    4                 2        3      4                   3   \n",
       "\n",
       "           Power Bi/ Tableau  Version Control Git  ETL/Data pipeline  \\\n",
       "Name                                                                   \n",
       "Binderiya                  4                    4                  3   \n",
       "Pranjul                    5                    4                  2   \n",
       "Pratham                    3                    3                  1   \n",
       "Panyang                    4                    3                  2   \n",
       "\n",
       "           Communication  Project Management  Cloud Computing  \n",
       "Name                                                           \n",
       "Binderiya              4                   5                4  \n",
       "Pranjul                4                   5                4  \n",
       "Pratham                5                   5                2  \n",
       "Panyang                3                   3                2  "
      ]
     },
     "execution_count": 3,
     "metadata": {},
     "output_type": "execute_result"
    }
   ],
   "source": [
    "import pandas as pd\n",
    "\n",
    "skills_data = {\n",
    "    \"Name\": [\"Binderiya\", \"Pranjul\", \"Pratham\", \"Panyang\"],\n",
    "    \"Python\": [4, 4, 5, 3],\n",
    "    \"SQL\": [4, 4, 5, 4],\n",
    "    \"Machine Learning\": [2, 3, 2, 2],\n",
    "    \"PySpark\": [3, 3, 3, 3],\n",
    "    \"Excel\": [4, 5, 5, 4],\n",
    "    \"Data Visualization\": [5, 5, 3, 3],\n",
    "    \"Power Bi/ Tableau\": [4, 5, 3, 4],\n",
    "    \"Version Control Git\": [4, 4, 3, 3],\n",
    "    \"ETL/Data pipeline\": [3, 2, 1, 2],\n",
    "    \"Communication\": [4, 4, 5, 3],\n",
    "    \"Project Management\": [5, 5, 5, 3],\n",
    "    \"Cloud Computing\": [4, 4, 2, 2]\n",
    "}\n",
    "\n",
    "df_skills = pd.DataFrame(skills_data)\n",
    "df_skills.set_index(\"Name\", inplace=True)\n",
    "df_skills"
   ]
  },
  {
   "cell_type": "code",
   "execution_count": 4,
   "metadata": {},
   "outputs": [
    {
     "data": {
      "image/png": "[encoded data removed]",
      "text/plain": [
       "<Figure size 800x800 with 2 Axes>"
      ]
     },
     "metadata": {},
     "output_type": "display_data"
    }
   ],
   "source": [
    "import seaborn as sns\n",
    "import matplotlib.pyplot as plt\n",
    "\n",
    "plt.figure(figsize=(8, 8))\n",
    "sns.heatmap(df_skills, annot=True, cmap=\"coolwarm\", linewidths=0.5)\n",
    "plt.title(\"Team Skill Levels Heatmap\")\n",
    "plt.show()"
   ]
  },
  {
   "cell_type": "code",
   "execution_count": 5,
   "metadata": {},
   "outputs": [
    {
     "data": {
      "application/vnd.plotly.v1+json": {
       "config": {
        "plotlyServerURL": "https://plot.ly"
       },
       "data": [
        {
         "fill": "toself",
         "name": "Binderiya",
         "r": [
          4,
          4,
          2,
          3,
          4,
          5,
          4,
          4,
          3,
          4,
          5,
          4,
          4
         ],
         "theta": [
          "Python",
          "SQL",
          "Machine Learning",
          "PySpark",
          "Excel",
          "Data Visualization",
          "Power Bi/ Tableau",
          "Version Control Git",
          "ETL/Data pipeline",
          "Communication",
          "Project Management",
          "Cloud Computing",
          "Python"
         ],
         "type": "scatterpolar"
        },
        {
         "fill": "toself",
         "name": "Pranjul",
         "r": [
          4,
          4,
          3,
          3,
          5,
          5,
          5,
          4,
          2,
          4,
          5,
          4,
          4
         ],
         "theta": [
          "Python",
          "SQL",
          "Machine Learning",
          "PySpark",
          "Excel",
          "Data Visualization",
          "Power Bi/ Tableau",
          "Version Control Git",
          "ETL/Data pipeline",
          "Communication",
          "Project Management",
          "Cloud Computing",
          "Python"
         ],
         "type": "scatterpolar"
        },
        {
         "fill": "toself",
         "name": "Pratham",
         "r": [
          5,
          5,
          2,
          3,
          5,
          3,
          3,
          3,
          1,
          5,
          5,
          2,
          5
         ],
         "theta": [
          "Python",
          "SQL",
          "Machine Learning",
          "PySpark",
          "Excel",
          "Data Visualization",
          "Power Bi/ Tableau",
          "Version Control Git",
          "ETL/Data pipeline",
          "Communication",
          "Project Management",
          "Cloud Computing",
          "Python"
         ],
         "type": "scatterpolar"
        },
        {
         "fill": "toself",
         "name": "Panyang",
         "r": [
          3,
          4,
          2,
          3,
          4,
          3,
          4,
          3,
          2,
          3,
          3,
          2,
          3
         ],
         "theta": [
          "Python",
          "SQL",
          "Machine Learning",
          "PySpark",
          "Excel",
          "Data Visualization",
          "Power Bi/ Tableau",
          "Version Control Git",
          "ETL/Data pipeline",
          "Communication",
          "Project Management",
          "Cloud Computing",
          "Python"
         ],
         "type": "scatterpolar"
        }
       ],
       "layout": {
        "polar": {
         "radialaxis": {
          "range": [
           0,
           5
          ],
          "visible": true
         }
        },
        "showlegend": true,
        "template": {
         "data": {
          "bar": [
           {
            "error_x": {
             "color": "#2a3f5f"
            },
            "error_y": {
             "color": "#2a3f5f"
            },
            "marker": {
             "line": {
              "color": "#E5ECF6",
              "width": 0.5
             },
             "pattern": {
              "fillmode": "overlay",
              "size": 10,
              "solidity": 0.2
             }
            },
            "type": "bar"
           }
          ],
          "barpolar": [
           {
            "marker": {
             "line": {
              "color": "#E5ECF6",
              "width": 0.5
             },
             "pattern": {
              "fillmode": "overlay",
              "size": 10,
              "solidity": 0.2
             }
            },
            "type": "barpolar"
           }
          ],
          "carpet": [
           {
            "aaxis": {
             "endlinecolor": "#2a3f5f",
             "gridcolor": "white",
             "linecolor": "white",
             "minorgridcolor": "white",
             "startlinecolor": "#2a3f5f"
            },
            "baxis": {
             "endlinecolor": "#2a3f5f",
             "gridcolor": "white",
             "linecolor": "white",
             "minorgridcolor": "white",
             "startlinecolor": "#2a3f5f"
            },
            "type": "carpet"
           }
          ],
          "choropleth": [
           {
            "colorbar": {
             "outlinewidth": 0,
             "ticks": ""
            },
            "type": "choropleth"
           }
          ],
          "contour": [
           {
            "colorbar": {
             "outlinewidth": 0,
             "ticks": ""
            },
            "colorscale": [
             [
              0,
              "#0d0887"
             ],
             [
              0.1111111111111111,
              "#46039f"
             ],
             [
              0.2222222222222222,
              "#7201a8"
             ],
             [
              0.3333333333333333,
              "#9c179e"
             ],
             [
              0.4444444444444444,
              "#bd3786"
             ],
             [
              0.5555555555555556,
              "#d8576b"
             ],
             [
              0.6666666666666666,
              "#ed7953"
             ],
             [
              0.7777777777777778,
              "#fb9f3a"
             ],
             [
              0.8888888888888888,
              "#fdca26"
             ],
             [
              1,
              "#f0f921"
             ]
            ],
            "type": "contour"
           }
          ],
          "contourcarpet": [
           {
            "colorbar": {
             "outlinewidth": 0,
             "ticks": ""
            },
            "type": "contourcarpet"
           }
          ],
          "heatmap": [
           {
            "colorbar": {
             "outlinewidth": 0,
             "ticks": ""
            },
            "colorscale": [
             [
              0,
              "#0d0887"
             ],
             [
              0.1111111111111111,
              "#46039f"
             ],
             [
              0.2222222222222222,
              "#7201a8"
             ],
             [
              0.3333333333333333,
              "#9c179e"
             ],
             [
              0.4444444444444444,
              "#bd3786"
             ],
             [
              0.5555555555555556,
              "#d8576b"
             ],
             [
              0.6666666666666666,
              "#ed7953"
             ],
             [
              0.7777777777777778,
              "#fb9f3a"
             ],
             [
              0.8888888888888888,
              "#fdca26"
             ],
             [
              1,
              "#f0f921"
             ]
            ],
            "type": "heatmap"
           }
          ],
          "histogram": [
           {
            "marker": {
             "pattern": {
              "fillmode": "overlay",
              "size": 10,
              "solidity": 0.2
             }
            },
            "type": "histogram"
           }
          ],
          "histogram2d": [
           {
            "colorbar": {
             "outlinewidth": 0,
             "ticks": ""
            },
            "colorscale": [
             [
              0,
              "#0d0887"
             ],
             [
              0.1111111111111111,
              "#46039f"
             ],
             [
              0.2222222222222222,
              "#7201a8"
             ],
             [
              0.3333333333333333,
              "#9c179e"
             ],
             [
              0.4444444444444444,
              "#bd3786"
             ],
             [
              0.5555555555555556,
              "#d8576b"
             ],
             [
              0.6666666666666666,
              "#ed7953"
             ],
             [
              0.7777777777777778,
              "#fb9f3a"
             ],
             [
              0.8888888888888888,
              "#fdca26"
             ],
             [
              1,
              "#f0f921"
             ]
            ],
            "type": "histogram2d"
           }
          ],
          "histogram2dcontour": [
           {
            "colorbar": {
             "outlinewidth": 0,
             "ticks": ""
            },
            "colorscale": [
             [
              0,
              "#0d0887"
             ],
             [
              0.1111111111111111,
              "#46039f"
             ],
             [
              0.2222222222222222,
              "#7201a8"
             ],
             [
              0.3333333333333333,
              "#9c179e"
             ],
             [
              0.4444444444444444,
              "#bd3786"
             ],
             [
              0.5555555555555556,
              "#d8576b"
             ],
             [
              0.6666666666666666,
              "#ed7953"
             ],
             [
              0.7777777777777778,
              "#fb9f3a"
             ],
             [
              0.8888888888888888,
              "#fdca26"
             ],
             [
              1,
              "#f0f921"
             ]
            ],
            "type": "histogram2dcontour"
           }
          ],
          "mesh3d": [
           {
            "colorbar": {
             "outlinewidth": 0,
             "ticks": ""
            },
            "type": "mesh3d"
           }
          ],
          "parcoords": [
           {
            "line": {
             "colorbar": {
              "outlinewidth": 0,
              "ticks": ""
             }
            },
            "type": "parcoords"
           }
          ],
          "pie": [
           {
            "automargin": true,
            "type": "pie"
           }
          ],
          "scatter": [
           {
            "fillpattern": {
             "fillmode": "overlay",
             "size": 10,
             "solidity": 0.2
            },
            "type": "scatter"
           }
          ],
          "scatter3d": [
           {
            "line": {
             "colorbar": {
              "outlinewidth": 0,
              "ticks": ""
             }
            },
            "marker": {
             "colorbar": {
              "outlinewidth": 0,
              "ticks": ""
             }
            },
            "type": "scatter3d"
           }
          ],
          "scattercarpet": [
           {
            "marker": {
             "colorbar": {
              "outlinewidth": 0,
              "ticks": ""
             }
            },
            "type": "scattercarpet"
           }
          ],
          "scattergeo": [
           {
            "marker": {
             "colorbar": {
              "outlinewidth": 0,
              "ticks": ""
             }
            },
            "type": "scattergeo"
           }
          ],
          "scattergl": [
           {
            "marker": {
             "colorbar": {
              "outlinewidth": 0,
              "ticks": ""
             }
            },
            "type": "scattergl"
           }
          ],
          "scattermap": [
           {
            "marker": {
             "colorbar": {
              "outlinewidth": 0,
              "ticks": ""
             }
            },
            "type": "scattermap"
           }
          ],
          "scattermapbox": [
           {
            "marker": {
             "colorbar": {
              "outlinewidth": 0,
              "ticks": ""
             }
            },
            "type": "scattermapbox"
           }
          ],
          "scatterpolar": [
           {
            "marker": {
             "colorbar": {
              "outlinewidth": 0,
              "ticks": ""
             }
            },
            "type": "scatterpolar"
           }
          ],
          "scatterpolargl": [
           {
            "marker": {
             "colorbar": {
              "outlinewidth": 0,
              "ticks": ""
             }
            },
            "type": "scatterpolargl"
           }
          ],
          "scatterternary": [
           {
            "marker": {
             "colorbar": {
              "outlinewidth": 0,
              "ticks": ""
             }
            },
            "type": "scatterternary"
           }
          ],
          "surface": [
           {
            "colorbar": {
             "outlinewidth": 0,
             "ticks": ""
            },
            "colorscale": [
             [
              0,
              "#0d0887"
             ],
             [
              0.1111111111111111,
              "#46039f"
             ],
             [
              0.2222222222222222,
              "#7201a8"
             ],
             [
              0.3333333333333333,
              "#9c179e"
             ],
             [
              0.4444444444444444,
              "#bd3786"
             ],
             [
              0.5555555555555556,
              "#d8576b"
             ],
             [
              0.6666666666666666,
              "#ed7953"
             ],
             [
              0.7777777777777778,
              "#fb9f3a"
             ],
             [
              0.8888888888888888,
              "#fdca26"
             ],
             [
              1,
              "#f0f921"
             ]
            ],
            "type": "surface"
           }
          ],
          "table": [
           {
            "cells": {
             "fill": {
              "color": "#EBF0F8"
             },
             "line": {
              "color": "white"
             }
            },
            "header": {
             "fill": {
              "color": "#C8D4E3"
             },
             "line": {
              "color": "white"
             }
            },
            "type": "table"
           }
          ]
         },
         "layout": {
          "annotationdefaults": {
           "arrowcolor": "#2a3f5f",
           "arrowhead": 0,
           "arrowwidth": 1
          },
          "autotypenumbers": "strict",
          "coloraxis": {
           "colorbar": {
            "outlinewidth": 0,
            "ticks": ""
           }
          },
          "colorscale": {
           "diverging": [
            [
             0,
             "#8e0152"
            ],
            [
             0.1,
             "#c51b7d"
            ],
            [
             0.2,
             "#de77ae"
            ],
            [
             0.3,
             "#f1b6da"
            ],
            [
             0.4,
             "#fde0ef"
            ],
            [
             0.5,
             "#f7f7f7"
            ],
            [
             0.6,
             "#e6f5d0"
            ],
            [
             0.7,
             "#b8e186"
            ],
            [
             0.8,
             "#7fbc41"
            ],
            [
             0.9,
             "#4d9221"
            ],
            [
             1,
             "#276419"
            ]
           ],
           "sequential": [
            [
             0,
             "#0d0887"
            ],
            [
             0.1111111111111111,
             "#46039f"
            ],
            [
             0.2222222222222222,
             "#7201a8"
            ],
            [
             0.3333333333333333,
             "#9c179e"
            ],
            [
             0.4444444444444444,
             "#bd3786"
            ],
            [
             0.5555555555555556,
             "#d8576b"
            ],
            [
             0.6666666666666666,
             "#ed7953"
            ],
            [
             0.7777777777777778,
             "#fb9f3a"
            ],
            [
             0.8888888888888888,
             "#fdca26"
            ],
            [
             1,
             "#f0f921"
            ]
           ],
           "sequentialminus": [
            [
             0,
             "#0d0887"
            ],
            [
             0.1111111111111111,
             "#46039f"
            ],
            [
             0.2222222222222222,
             "#7201a8"
            ],
            [
             0.3333333333333333,
             "#9c179e"
            ],
            [
             0.4444444444444444,
             "#bd3786"
            ],
            [
             0.5555555555555556,
             "#d8576b"
            ],
            [
             0.6666666666666666,
             "#ed7953"
            ],
            [
             0.7777777777777778,
             "#fb9f3a"
            ],
            [
             0.8888888888888888,
             "#fdca26"
            ],
            [
             1,
             "#f0f921"
            ]
           ]
          },
          "colorway": [
           "#636efa",
           "#EF553B",
           "#00cc96",
           "#ab63fa",
           "#FFA15A",
           "#19d3f3",
           "#FF6692",
           "#B6E880",
           "#FF97FF",
           "#FECB52"
          ],
          "font": {
           "color": "#2a3f5f"
          },
          "geo": {
           "bgcolor": "white",
           "lakecolor": "white",
           "landcolor": "#E5ECF6",
           "showlakes": true,
           "showland": true,
           "subunitcolor": "white"
          },
          "hoverlabel": {
           "align": "left"
          },
          "hovermode": "closest",
          "mapbox": {
           "style": "light"
          },
          "paper_bgcolor": "white",
          "plot_bgcolor": "#E5ECF6",
          "polar": {
           "angularaxis": {
            "gridcolor": "white",
            "linecolor": "white",
            "ticks": ""
           },
           "bgcolor": "#E5ECF6",
           "radialaxis": {
            "gridcolor": "white",
            "linecolor": "white",
            "ticks": ""
           }
          },
          "scene": {
           "xaxis": {
            "backgroundcolor": "#E5ECF6",
            "gridcolor": "white",
            "gridwidth": 2,
            "linecolor": "white",
            "showbackground": true,
            "ticks": "",
            "zerolinecolor": "white"
           },
           "yaxis": {
            "backgroundcolor": "#E5ECF6",
            "gridcolor": "white",
            "gridwidth": 2,
            "linecolor": "white",
            "showbackground": true,
            "ticks": "",
            "zerolinecolor": "white"
           },
           "zaxis": {
            "backgroundcolor": "#E5ECF6",
            "gridcolor": "white",
            "gridwidth": 2,
            "linecolor": "white",
            "showbackground": true,
            "ticks": "",
            "zerolinecolor": "white"
           }
          },
          "shapedefaults": {
           "line": {
            "color": "#2a3f5f"
           }
          },
          "ternary": {
           "aaxis": {
            "gridcolor": "white",
            "linecolor": "white",
            "ticks": ""
           },
           "baxis": {
            "gridcolor": "white",
            "linecolor": "white",
            "ticks": ""
           },
           "bgcolor": "#E5ECF6",
           "caxis": {
            "gridcolor": "white",
            "linecolor": "white",
            "ticks": ""
           }
          },
          "title": {
           "x": 0.05
          },
          "xaxis": {
           "automargin": true,
           "gridcolor": "white",
           "linecolor": "white",
           "ticks": "",
           "title": {
            "standoff": 15
           },
           "zerolinecolor": "white",
           "zerolinewidth": 2
          },
          "yaxis": {
           "automargin": true,
           "gridcolor": "white",
           "linecolor": "white",
           "ticks": "",
           "title": {
            "standoff": 15
           },
           "zerolinecolor": "white",
           "zerolinewidth": 2
          }
         }
        },
        "title": {
         "text": "Team Skills Radar Chart"
        }
       }
      }
     },
     "metadata": {},
     "output_type": "display_data"
    }
   ],
   "source": [
    "import plotly.graph_objects as go\n",
    "fig = go.Figure()\n",
    "\n",
    "for name in df_skills.index:\n",
    "    values = df_skills.loc[name].tolist()\n",
    "    values += values[:1]  # close the loop\n",
    "    fig.add_trace(go.Scatterpolar(\n",
    "        r=values,\n",
    "        theta=df_skills.columns.tolist() + [df_skills.columns[0]],\n",
    "        fill='toself',\n",
    "        name=name\n",
    "    ))\n",
    "\n",
    "fig.update_layout(\n",
    "    polar=dict(radialaxis=dict(visible=True, range=[0, 5])),\n",
    "    showlegend=True,\n",
    "    title='Team Skills Radar Chart'\n",
    ")\n",
    "fig.write_html(\"figures/skills_radar_chart.html\")\n",
    "fig.show()"
   ]
  },
  {
   "cell_type": "markdown",
   "metadata": {},
   "source": [
    "From this radar chart visualization we can see that our team has a lot of room for improvement for skills like PySpark and Machine Learning. Also we can see that not a lot of our team mates are confident in their skills in Cloud Computing and ETL. "
   ]
  },
  {
   "cell_type": "markdown",
   "metadata": {},
   "source": [
    "## Top Skills"
   ]
  },
  {
   "cell_type": "code",
   "execution_count": 6,
   "metadata": {},
   "outputs": [
    {
     "data": {
      "text/plain": [
       "DATA_ANALYST_JOB\n",
       "False    38686\n",
       "True     33812\n",
       "Name: count, dtype: int64"
      ]
     },
     "execution_count": 6,
     "metadata": {},
     "output_type": "execute_result"
    }
   ],
   "source": [
    "keywords = ['Data Analyst', 'Business Analyst', 'Data Engineering', 'Deep Learning',\n",
    "            'Data Science', 'Data Analysis','Data Analytics',  'Market Research Analyst' \n",
    "            'LLM', 'Language Model', 'NLP', 'Natural Language Processing',\n",
    "            'Computer Vision', 'Business Intelligence Analyst', 'Quantitative Analyst', 'Operations Analyst']\n",
    "\n",
    "match = lambda col: df[col].str.contains('|'.join(keywords), case=False, na=False)\n",
    "\n",
    "df['DATA_ANALYST_JOB'] = match('TITLE_NAME') \\\n",
    "             | match('SKILLS_NAME') \\\n",
    "             | match('SPECIALIZED_SKILLS_NAME') \n",
    "df['DATA_ANALYST_JOB'].value_counts()"
   ]
  },
  {
   "cell_type": "code",
   "execution_count": 7,
   "metadata": {},
   "outputs": [],
   "source": [
    "import ast\n",
    "import pandas as pd\n",
    "import matplotlib.pyplot as plt\n",
    "import plotly.express as px\n",
    "\n",
    "# Safely apply literal_eval only to non-null values\n",
    "df['SKILLS'] = df['SKILLS_NAME'].apply(lambda x: ast.literal_eval(x) if pd.notnull(x) else [])\n",
    "\n",
    "\n",
    "data_skills = df[df['DATA_ANALYST_JOB']]['SKILLS'].explode().value_counts().reset_index()\n",
    "data_skills.columns = ['Skill', 'Count']\n",
    "\n",
    "fig = px.bar(data_skills, x='Skill', y='Count',\n",
    "             title=\"Top Skills\",\n",
    "             labels={'Skill': 'Skill Name', 'Count': 'Frequency'},\n",
    "             color='Skill')\n",
    "df_skills.index = df_skills.index.str.strip()\n",
    "\n",
    "#fig.show()\n",
    "#fig.write_html(\"figures/5_chart.html\")"
   ]
  },
  {
   "cell_type": "code",
   "execution_count": 15,
   "metadata": {},
   "outputs": [
    {
     "name": "stdout",
     "output_type": "stream",
     "text": [
      "Team skills: ['python', 'sql', 'machine learning', 'pyspark', 'excel', 'data visualization', 'power bi/ tableau', 'version control git', 'etl/data pipeline', 'communication', 'project management', 'cloud computing']\n",
      "['data analysis', 'sql (programming language)', 'communication', 'management', 'python (programming language)', 'tableau (business intelligence software)', 'dashboard', 'computer science', 'problem solving', 'power bi']\n",
      "✅ 'sql' found in: 'sql (programming language)'\n",
      "✅ 'communication' found in: 'communication'\n",
      "✅ 'python' found in: 'python (programming language)'\n"
     ]
    }
   ],
   "source": [
    "team_skills = [s.strip().lower() for s in df_skills.columns]\n",
    "print(\"Team skills:\", team_skills)\n",
    "print(job_demand_raw['Skill'].head(10).tolist())\n",
    "for skill_text in job_demand_raw['Skill'].head(10):\n",
    "    for team_skill in team_skills:\n",
    "        if team_skill in skill_text:\n",
    "            print(f\"✅ '{team_skill}' found in: '{skill_text}'\")\n",
    "\n"
   ]
  },
  {
   "cell_type": "code",
   "execution_count": 17,
   "metadata": {},
   "outputs": [
    {
     "name": "stdout",
     "output_type": "stream",
     "text": [
      "sql                   74649\n",
      "communication         75138\n",
      "python                34554\n",
      "excel                 29586\n",
      "data visualization    22761\n",
      "project management    23184\n",
      "machine learning      13002\n",
      "cloud computing        4041\n",
      "pyspark                1539\n",
      "dtype: int64\n"
     ]
    }
   ],
   "source": [
    "for _, row in job_demand_raw.iterrows():\n",
    "    skill_text = row['Skill']\n",
    "    count = row['Count']\n",
    "    for team_skill in team_skills:\n",
    "        if team_skill in skill_text:  # no regex, just substring\n",
    "            skill_demand_map[team_skill] += count\n",
    "\n",
    "job_demand = pd.Series(skill_demand_map)\n",
    "print(job_demand)\n"
   ]
  },
  {
   "cell_type": "code",
   "execution_count": 18,
   "metadata": {},
   "outputs": [
    {
     "data": {
      "text/html": [
       "<div>\n",
       "<style scoped>\n",
       "    .dataframe tbody tr th:only-of-type {\n",
       "        vertical-align: middle;\n",
       "    }\n",
       "\n",
       "    .dataframe tbody tr th {\n",
       "        vertical-align: top;\n",
       "    }\n",
       "\n",
       "    .dataframe thead th {\n",
       "        text-align: right;\n",
       "    }\n",
       "</style>\n",
       "<table border=\"1\" class=\"dataframe\">\n",
       "  <thead>\n",
       "    <tr style=\"text-align: right;\">\n",
       "      <th></th>\n",
       "      <th>Team Average Skill</th>\n",
       "      <th>Job Demand (Normalized)</th>\n",
       "      <th>Skill Gap</th>\n",
       "    </tr>\n",
       "  </thead>\n",
       "  <tbody>\n",
       "    <tr>\n",
       "      <th>communication</th>\n",
       "      <td>4.00</td>\n",
       "      <td>5.000000</td>\n",
       "      <td>1.000000</td>\n",
       "    </tr>\n",
       "    <tr>\n",
       "      <th>sql</th>\n",
       "      <td>4.25</td>\n",
       "      <td>4.967460</td>\n",
       "      <td>0.717460</td>\n",
       "    </tr>\n",
       "    <tr>\n",
       "      <th>machine learning</th>\n",
       "      <td>2.25</td>\n",
       "      <td>0.865208</td>\n",
       "      <td>-1.384792</td>\n",
       "    </tr>\n",
       "    <tr>\n",
       "      <th>python</th>\n",
       "      <td>4.00</td>\n",
       "      <td>2.299369</td>\n",
       "      <td>-1.700631</td>\n",
       "    </tr>\n",
       "    <tr>\n",
       "      <th>data visualization</th>\n",
       "      <td>4.00</td>\n",
       "      <td>1.514613</td>\n",
       "      <td>-2.485387</td>\n",
       "    </tr>\n",
       "    <tr>\n",
       "      <th>excel</th>\n",
       "      <td>4.50</td>\n",
       "      <td>1.968777</td>\n",
       "      <td>-2.531223</td>\n",
       "    </tr>\n",
       "    <tr>\n",
       "      <th>cloud computing</th>\n",
       "      <td>3.00</td>\n",
       "      <td>0.268905</td>\n",
       "      <td>-2.731095</td>\n",
       "    </tr>\n",
       "    <tr>\n",
       "      <th>pyspark</th>\n",
       "      <td>3.00</td>\n",
       "      <td>0.102412</td>\n",
       "      <td>-2.897588</td>\n",
       "    </tr>\n",
       "    <tr>\n",
       "      <th>project management</th>\n",
       "      <td>4.50</td>\n",
       "      <td>1.542761</td>\n",
       "      <td>-2.957239</td>\n",
       "    </tr>\n",
       "  </tbody>\n",
       "</table>\n",
       "</div>"
      ],
      "text/plain": [
       "                    Team Average Skill  Job Demand (Normalized)  Skill Gap\n",
       "communication                     4.00                 5.000000   1.000000\n",
       "sql                               4.25                 4.967460   0.717460\n",
       "machine learning                  2.25                 0.865208  -1.384792\n",
       "python                            4.00                 2.299369  -1.700631\n",
       "data visualization                4.00                 1.514613  -2.485387\n",
       "excel                             4.50                 1.968777  -2.531223\n",
       "cloud computing                   3.00                 0.268905  -2.731095\n",
       "pyspark                           3.00                 0.102412  -2.897588\n",
       "project management                4.50                 1.542761  -2.957239"
      ]
     },
     "execution_count": 18,
     "metadata": {},
     "output_type": "execute_result"
    }
   ],
   "source": [
    "job_demand = pd.Series(skill_demand_map)\n",
    "job_demand.name = \"Count\"\n",
    "team_avg = df_skills.mean()\n",
    "team_avg.index = team_avg.index.str.strip().str.lower() \n",
    "# Now match only overlapping skills\n",
    "common_skills = job_demand.index.intersection(team_avg.index)\n",
    "team_avg = team_avg[common_skills]\n",
    "job_demand = job_demand[common_skills]\n",
    "\n",
    "# Normalize job demand\n",
    "job_demand_normalized = 5 * (job_demand / job_demand.max())\n",
    "job_demand_normalized.name = \"Job Demand (Normalized)\"\n",
    "\n",
    "# Combine\n",
    "comparison_df = pd.concat([team_avg, job_demand_normalized], axis=1)\n",
    "comparison_df.columns = [\"Team Average Skill\", \"Job Demand (Normalized)\"]\n",
    "comparison_df[\"Skill Gap\"] = comparison_df[\"Job Demand (Normalized)\"] - comparison_df[\"Team Average Skill\"]\n",
    "comparison_df.sort_values(\"Skill Gap\", ascending=False, inplace=True)\n",
    "\n",
    "comparison_df\n"
   ]
  },
  {
   "cell_type": "code",
   "execution_count": 19,
   "metadata": {},
   "outputs": [
    {
     "data": {
      "image/png": "[encoded data removed]",
      "text/plain": [
       "<Figure size 1000x500 with 1 Axes>"
      ]
     },
     "metadata": {},
     "output_type": "display_data"
    }
   ],
   "source": [
    "comparison_df[\"Skill Gap\"].plot(kind='bar', color='crimson', figsize=(10, 5), title='Skill Gaps: Market vs Team')\n",
    "plt.axhline(0, color='black', linestyle='--')\n",
    "plt.ylabel('Gap (Demand - Team Skill)')\n",
    "plt.grid(axis='y')\n",
    "plt.tight_layout()\n",
    "plt.show()\n"
   ]
  },
  {
   "cell_type": "code",
   "execution_count": 20,
   "metadata": {},
   "outputs": [],
   "source": [
    "comparison_df = comparison_df.reset_index().rename(columns={\"index\": \"Skill\"})"
   ]
  },
  {
   "cell_type": "code",
   "execution_count": 23,
   "metadata": {},
   "outputs": [
    {
     "data": {
      "application/vnd.plotly.v1+json": {
       "config": {
        "plotlyServerURL": "https://plot.ly"
       },
       "data": [
        {
         "hovertemplate": "Skill=%{x}<br>Gap (Job Demand - Team Skill)=%{marker.color}<extra></extra>",
         "legendgroup": "",
         "marker": {
          "color": {
           "bdata": "AAAAAAAA8D/IpMlobvXmP0ToWqMbKPa/0MLSrsg1+78IQ1OFEuIDwMCaypvxPwTAfTwTOUjZBcDY7LrYQi4HwGn05MBsqAfA",
           "dtype": "f8"
          },
          "coloraxis": "coloraxis",
          "pattern": {
           "shape": ""
          }
         },
         "name": "",
         "orientation": "v",
         "showlegend": false,
         "textposition": "auto",
         "type": "bar",
         "x": [
          "communication",
          "sql",
          "machine learning",
          "python",
          "data visualization",
          "excel",
          "cloud computing",
          "pyspark",
          "project management"
         ],
         "xaxis": "x",
         "y": {
          "bdata": "AAAAAAAA8D/IpMlobvXmP0ToWqMbKPa/0MLSrsg1+78IQ1OFEuIDwMCaypvxPwTAfTwTOUjZBcDY7LrYQi4HwGn05MBsqAfA",
          "dtype": "f8"
         },
         "yaxis": "y"
        }
       ],
       "layout": {
        "barmode": "relative",
        "coloraxis": {
         "colorbar": {
          "title": {
           "text": "Gap (Job Demand - Team Skill)"
          }
         },
         "colorscale": [
          [
           0,
           "rgb(5,48,97)"
          ],
          [
           0.1,
           "rgb(33,102,172)"
          ],
          [
           0.2,
           "rgb(67,147,195)"
          ],
          [
           0.3,
           "rgb(146,197,222)"
          ],
          [
           0.4,
           "rgb(209,229,240)"
          ],
          [
           0.5,
           "rgb(247,247,247)"
          ],
          [
           0.6,
           "rgb(253,219,199)"
          ],
          [
           0.7,
           "rgb(244,165,130)"
          ],
          [
           0.8,
           "rgb(214,96,77)"
          ],
          [
           0.9,
           "rgb(178,24,43)"
          ],
          [
           1,
           "rgb(103,0,31)"
          ]
         ]
        },
        "font": {
         "size": 13
        },
        "height": 500,
        "legend": {
         "tracegroupgap": 0
        },
        "plot_bgcolor": "white",
        "shapes": [
         {
          "line": {
           "dash": "dash"
          },
          "type": "line",
          "x0": 0,
          "x1": 1,
          "xref": "x domain",
          "y0": 0,
          "y1": 0,
          "yref": "y"
         }
        ],
        "template": {
         "data": {
          "bar": [
           {
            "error_x": {
             "color": "#2a3f5f"
            },
            "error_y": {
             "color": "#2a3f5f"
            },
            "marker": {
             "line": {
              "color": "#E5ECF6",
              "width": 0.5
             },
             "pattern": {
              "fillmode": "overlay",
              "size": 10,
              "solidity": 0.2
             }
            },
            "type": "bar"
           }
          ],
          "barpolar": [
           {
            "marker": {
             "line": {
              "color": "#E5ECF6",
              "width": 0.5
             },
             "pattern": {
              "fillmode": "overlay",
              "size": 10,
              "solidity": 0.2
             }
            },
            "type": "barpolar"
           }
          ],
          "carpet": [
           {
            "aaxis": {
             "endlinecolor": "#2a3f5f",
             "gridcolor": "white",
             "linecolor": "white",
             "minorgridcolor": "white",
             "startlinecolor": "#2a3f5f"
            },
            "baxis": {
             "endlinecolor": "#2a3f5f",
             "gridcolor": "white",
             "linecolor": "white",
             "minorgridcolor": "white",
             "startlinecolor": "#2a3f5f"
            },
            "type": "carpet"
           }
          ],
          "choropleth": [
           {
            "colorbar": {
             "outlinewidth": 0,
             "ticks": ""
            },
            "type": "choropleth"
           }
          ],
          "contour": [
           {
            "colorbar": {
             "outlinewidth": 0,
             "ticks": ""
            },
            "colorscale": [
             [
              0,
              "#0d0887"
             ],
             [
              0.1111111111111111,
              "#46039f"
             ],
             [
              0.2222222222222222,
              "#7201a8"
             ],
             [
              0.3333333333333333,
              "#9c179e"
             ],
             [
              0.4444444444444444,
              "#bd3786"
             ],
             [
              0.5555555555555556,
              "#d8576b"
             ],
             [
              0.6666666666666666,
              "#ed7953"
             ],
             [
              0.7777777777777778,
              "#fb9f3a"
             ],
             [
              0.8888888888888888,
              "#fdca26"
             ],
             [
              1,
              "#f0f921"
             ]
            ],
            "type": "contour"
           }
          ],
          "contourcarpet": [
           {
            "colorbar": {
             "outlinewidth": 0,
             "ticks": ""
            },
            "type": "contourcarpet"
           }
          ],
          "heatmap": [
           {
            "colorbar": {
             "outlinewidth": 0,
             "ticks": ""
            },
            "colorscale": [
             [
              0,
              "#0d0887"
             ],
             [
              0.1111111111111111,
              "#46039f"
             ],
             [
              0.2222222222222222,
              "#7201a8"
             ],
             [
              0.3333333333333333,
              "#9c179e"
             ],
             [
              0.4444444444444444,
              "#bd3786"
             ],
             [
              0.5555555555555556,
              "#d8576b"
             ],
             [
              0.6666666666666666,
              "#ed7953"
             ],
             [
              0.7777777777777778,
              "#fb9f3a"
             ],
             [
              0.8888888888888888,
              "#fdca26"
             ],
             [
              1,
              "#f0f921"
             ]
            ],
            "type": "heatmap"
           }
          ],
          "histogram": [
           {
            "marker": {
             "pattern": {
              "fillmode": "overlay",
              "size": 10,
              "solidity": 0.2
             }
            },
            "type": "histogram"
           }
          ],
          "histogram2d": [
           {
            "colorbar": {
             "outlinewidth": 0,
             "ticks": ""
            },
            "colorscale": [
             [
              0,
              "#0d0887"
             ],
             [
              0.1111111111111111,
              "#46039f"
             ],
             [
              0.2222222222222222,
              "#7201a8"
             ],
             [
              0.3333333333333333,
              "#9c179e"
             ],
             [
              0.4444444444444444,
              "#bd3786"
             ],
             [
              0.5555555555555556,
              "#d8576b"
             ],
             [
              0.6666666666666666,
              "#ed7953"
             ],
             [
              0.7777777777777778,
              "#fb9f3a"
             ],
             [
              0.8888888888888888,
              "#fdca26"
             ],
             [
              1,
              "#f0f921"
             ]
            ],
            "type": "histogram2d"
           }
          ],
          "histogram2dcontour": [
           {
            "colorbar": {
             "outlinewidth": 0,
             "ticks": ""
            },
            "colorscale": [
             [
              0,
              "#0d0887"
             ],
             [
              0.1111111111111111,
              "#46039f"
             ],
             [
              0.2222222222222222,
              "#7201a8"
             ],
             [
              0.3333333333333333,
              "#9c179e"
             ],
             [
              0.4444444444444444,
              "#bd3786"
             ],
             [
              0.5555555555555556,
              "#d8576b"
             ],
             [
              0.6666666666666666,
              "#ed7953"
             ],
             [
              0.7777777777777778,
              "#fb9f3a"
             ],
             [
              0.8888888888888888,
              "#fdca26"
             ],
             [
              1,
              "#f0f921"
             ]
            ],
            "type": "histogram2dcontour"
           }
          ],
          "mesh3d": [
           {
            "colorbar": {
             "outlinewidth": 0,
             "ticks": ""
            },
            "type": "mesh3d"
           }
          ],
          "parcoords": [
           {
            "line": {
             "colorbar": {
              "outlinewidth": 0,
              "ticks": ""
             }
            },
            "type": "parcoords"
           }
          ],
          "pie": [
           {
            "automargin": true,
            "type": "pie"
           }
          ],
          "scatter": [
           {
            "fillpattern": {
             "fillmode": "overlay",
             "size": 10,
             "solidity": 0.2
            },
            "type": "scatter"
           }
          ],
          "scatter3d": [
           {
            "line": {
             "colorbar": {
              "outlinewidth": 0,
              "ticks": ""
             }
            },
            "marker": {
             "colorbar": {
              "outlinewidth": 0,
              "ticks": ""
             }
            },
            "type": "scatter3d"
           }
          ],
          "scattercarpet": [
           {
            "marker": {
             "colorbar": {
              "outlinewidth": 0,
              "ticks": ""
             }
            },
            "type": "scattercarpet"
           }
          ],
          "scattergeo": [
           {
            "marker": {
             "colorbar": {
              "outlinewidth": 0,
              "ticks": ""
             }
            },
            "type": "scattergeo"
           }
          ],
          "scattergl": [
           {
            "marker": {
             "colorbar": {
              "outlinewidth": 0,
              "ticks": ""
             }
            },
            "type": "scattergl"
           }
          ],
          "scattermap": [
           {
            "marker": {
             "colorbar": {
              "outlinewidth": 0,
              "ticks": ""
             }
            },
            "type": "scattermap"
           }
          ],
          "scattermapbox": [
           {
            "marker": {
             "colorbar": {
              "outlinewidth": 0,
              "ticks": ""
             }
            },
            "type": "scattermapbox"
           }
          ],
          "scatterpolar": [
           {
            "marker": {
             "colorbar": {
              "outlinewidth": 0,
              "ticks": ""
             }
            },
            "type": "scatterpolar"
           }
          ],
          "scatterpolargl": [
           {
            "marker": {
             "colorbar": {
              "outlinewidth": 0,
              "ticks": ""
             }
            },
            "type": "scatterpolargl"
           }
          ],
          "scatterternary": [
           {
            "marker": {
             "colorbar": {
              "outlinewidth": 0,
              "ticks": ""
             }
            },
            "type": "scatterternary"
           }
          ],
          "surface": [
           {
            "colorbar": {
             "outlinewidth": 0,
             "ticks": ""
            },
            "colorscale": [
             [
              0,
              "#0d0887"
             ],
             [
              0.1111111111111111,
              "#46039f"
             ],
             [
              0.2222222222222222,
              "#7201a8"
             ],
             [
              0.3333333333333333,
              "#9c179e"
             ],
             [
              0.4444444444444444,
              "#bd3786"
             ],
             [
              0.5555555555555556,
              "#d8576b"
             ],
             [
              0.6666666666666666,
              "#ed7953"
             ],
             [
              0.7777777777777778,
              "#fb9f3a"
             ],
             [
              0.8888888888888888,
              "#fdca26"
             ],
             [
              1,
              "#f0f921"
             ]
            ],
            "type": "surface"
           }
          ],
          "table": [
           {
            "cells": {
             "fill": {
              "color": "#EBF0F8"
             },
             "line": {
              "color": "white"
             }
            },
            "header": {
             "fill": {
              "color": "#C8D4E3"
             },
             "line": {
              "color": "white"
             }
            },
            "type": "table"
           }
          ]
         },
         "layout": {
          "annotationdefaults": {
           "arrowcolor": "#2a3f5f",
           "arrowhead": 0,
           "arrowwidth": 1
          },
          "autotypenumbers": "strict",
          "coloraxis": {
           "colorbar": {
            "outlinewidth": 0,
            "ticks": ""
           }
          },
          "colorscale": {
           "diverging": [
            [
             0,
             "#8e0152"
            ],
            [
             0.1,
             "#c51b7d"
            ],
            [
             0.2,
             "#de77ae"
            ],
            [
             0.3,
             "#f1b6da"
            ],
            [
             0.4,
             "#fde0ef"
            ],
            [
             0.5,
             "#f7f7f7"
            ],
            [
             0.6,
             "#e6f5d0"
            ],
            [
             0.7,
             "#b8e186"
            ],
            [
             0.8,
             "#7fbc41"
            ],
            [
             0.9,
             "#4d9221"
            ],
            [
             1,
             "#276419"
            ]
           ],
           "sequential": [
            [
             0,
             "#0d0887"
            ],
            [
             0.1111111111111111,
             "#46039f"
            ],
            [
             0.2222222222222222,
             "#7201a8"
            ],
            [
             0.3333333333333333,
             "#9c179e"
            ],
            [
             0.4444444444444444,
             "#bd3786"
            ],
            [
             0.5555555555555556,
             "#d8576b"
            ],
            [
             0.6666666666666666,
             "#ed7953"
            ],
            [
             0.7777777777777778,
             "#fb9f3a"
            ],
            [
             0.8888888888888888,
             "#fdca26"
            ],
            [
             1,
             "#f0f921"
            ]
           ],
           "sequentialminus": [
            [
             0,
             "#0d0887"
            ],
            [
             0.1111111111111111,
             "#46039f"
            ],
            [
             0.2222222222222222,
             "#7201a8"
            ],
            [
             0.3333333333333333,
             "#9c179e"
            ],
            [
             0.4444444444444444,
             "#bd3786"
            ],
            [
             0.5555555555555556,
             "#d8576b"
            ],
            [
             0.6666666666666666,
             "#ed7953"
            ],
            [
             0.7777777777777778,
             "#fb9f3a"
            ],
            [
             0.8888888888888888,
             "#fdca26"
            ],
            [
             1,
             "#f0f921"
            ]
           ]
          },
          "colorway": [
           "#636efa",
           "#EF553B",
           "#00cc96",
           "#ab63fa",
           "#FFA15A",
           "#19d3f3",
           "#FF6692",
           "#B6E880",
           "#FF97FF",
           "#FECB52"
          ],
          "font": {
           "color": "#2a3f5f"
          },
          "geo": {
           "bgcolor": "white",
           "lakecolor": "white",
           "landcolor": "#E5ECF6",
           "showlakes": true,
           "showland": true,
           "subunitcolor": "white"
          },
          "hoverlabel": {
           "align": "left"
          },
          "hovermode": "closest",
          "mapbox": {
           "style": "light"
          },
          "paper_bgcolor": "white",
          "plot_bgcolor": "#E5ECF6",
          "polar": {
           "angularaxis": {
            "gridcolor": "white",
            "linecolor": "white",
            "ticks": ""
           },
           "bgcolor": "#E5ECF6",
           "radialaxis": {
            "gridcolor": "white",
            "linecolor": "white",
            "ticks": ""
           }
          },
          "scene": {
           "xaxis": {
            "backgroundcolor": "#E5ECF6",
            "gridcolor": "white",
            "gridwidth": 2,
            "linecolor": "white",
            "showbackground": true,
            "ticks": "",
            "zerolinecolor": "white"
           },
           "yaxis": {
            "backgroundcolor": "#E5ECF6",
            "gridcolor": "white",
            "gridwidth": 2,
            "linecolor": "white",
            "showbackground": true,
            "ticks": "",
            "zerolinecolor": "white"
           },
           "zaxis": {
            "backgroundcolor": "#E5ECF6",
            "gridcolor": "white",
            "gridwidth": 2,
            "linecolor": "white",
            "showbackground": true,
            "ticks": "",
            "zerolinecolor": "white"
           }
          },
          "shapedefaults": {
           "line": {
            "color": "#2a3f5f"
           }
          },
          "ternary": {
           "aaxis": {
            "gridcolor": "white",
            "linecolor": "white",
            "ticks": ""
           },
           "baxis": {
            "gridcolor": "white",
            "linecolor": "white",
            "ticks": ""
           },
           "bgcolor": "#E5ECF6",
           "caxis": {
            "gridcolor": "white",
            "linecolor": "white",
            "ticks": ""
           }
          },
          "title": {
           "x": 0.05
          },
          "xaxis": {
           "automargin": true,
           "gridcolor": "white",
           "linecolor": "white",
           "ticks": "",
           "title": {
            "standoff": 15
           },
           "zerolinecolor": "white",
           "zerolinewidth": 2
          },
          "yaxis": {
           "automargin": true,
           "gridcolor": "white",
           "linecolor": "white",
           "ticks": "",
           "title": {
            "standoff": 15
           },
           "zerolinecolor": "white",
           "zerolinewidth": 2
          }
         }
        },
        "title": {
         "text": "Skill Gaps: Job Market Expectations vs. Team Capability"
        },
        "xaxis": {
         "anchor": "y",
         "domain": [
          0,
          1
         ],
         "tickangle": -45,
         "title": {
          "text": "Skill"
         }
        },
        "yaxis": {
         "anchor": "x",
         "domain": [
          0,
          1
         ],
         "title": {
          "text": "Gap (Positive = Market expects more)"
         }
        }
       }
      }
     },
     "metadata": {},
     "output_type": "display_data"
    }
   ],
   "source": [
    "import plotly.express as px\n",
    "\n",
    "fig = px.bar(\n",
    "    comparison_df,\n",
    "    x='Skill',\n",
    "    y='Skill Gap',\n",
    "    color='Skill Gap',\n",
    "    color_continuous_scale='RdBu_r',\n",
    "    title='Skill Gaps: Job Market Expectations vs. Team Capability',\n",
    "    labels={'Skill Gap': 'Gap (Job Demand - Team Skill)', 'Skill': 'Skill'},\n",
    ")\n",
    "\n",
    "fig.add_hline(y=0, line_dash='dash')\n",
    "fig.update_layout(\n",
    "    xaxis_tickangle=-45,\n",
    "    yaxis_title='Gap (Positive = Market expects more)',\n",
    "    font=dict(size=13),\n",
    "    height=500,\n",
    "    plot_bgcolor='white',\n",
    ")\n",
    "fig.write_html(\"figures/skill_gap_chart.html\")\n",
    "\n",
    "\n",
    "fig.show()\n",
    "\n"
   ]
  },
  {
   "cell_type": "code",
   "execution_count": null,
   "metadata": {},
   "outputs": [],
   "source": []
  }
 ],
 "metadata": {
  "kernelspec": {
   "display_name": "Python 3",
   "language": "python",
   "name": "python3"
  },
  "language_info": {
   "codemirror_mode": {
    "name": "ipython",
    "version": 3
   },
   "file_extension": ".py",
   "mimetype": "text/x-python",
   "name": "python",
   "nbconvert_exporter": "python",
   "pygments_lexer": "ipython3",
   "version": "3.13.1"
  }
 },
 "nbformat": 4,
 "nbformat_minor": 2
}
