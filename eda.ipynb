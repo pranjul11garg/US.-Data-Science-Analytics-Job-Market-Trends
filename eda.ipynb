{
 "cells": [
  {
   "cell_type": "markdown",
   "metadata": {},
   "source": [
    "---\n",
    "title: \"Exploratory Data Analytics\"\n",
    "format: html\n",
    "jupyter: python3\n",
    "execute:\n",
    "  echo: true\n",
    "  warning: false\n",
    "  error: true\n",
    "toc: true\n",
    "---\n"
   ]
  },
  {
   "cell_type": "code",
   "execution_count": 9,
   "metadata": {},
   "outputs": [
    {
     "data": {
      "text/html": [
       "<div>\n",
       "<style scoped>\n",
       "    .dataframe tbody tr th:only-of-type {\n",
       "        vertical-align: middle;\n",
       "    }\n",
       "\n",
       "    .dataframe tbody tr th {\n",
       "        vertical-align: top;\n",
       "    }\n",
       "\n",
       "    .dataframe thead th {\n",
       "        text-align: right;\n",
       "    }\n",
       "</style>\n",
       "<table border=\"1\" class=\"dataframe\">\n",
       "  <thead>\n",
       "    <tr style=\"text-align: right;\">\n",
       "      <th></th>\n",
       "      <th>COMPANY</th>\n",
       "      <th>LOCATION</th>\n",
       "      <th>POSTED</th>\n",
       "      <th>MIN_EDULEVELS_NAME</th>\n",
       "      <th>MAX_EDULEVELS_NAME</th>\n",
       "      <th>MIN_YEARS_EXPERIENCE</th>\n",
       "      <th>MAX_YEARS_EXPERIENCE</th>\n",
       "      <th>TITLE</th>\n",
       "      <th>SKILLS</th>\n",
       "      <th>SPECIALIZED_SKILLS</th>\n",
       "      <th>...</th>\n",
       "      <th>COMMON_SKILLS</th>\n",
       "      <th>SOFTWARE_SKILLS</th>\n",
       "      <th>SOC_2021_4_NAME</th>\n",
       "      <th>NAICS_2022_6</th>\n",
       "      <th>NAICS2_NAME</th>\n",
       "      <th>REMOTE_TYPE_NAME</th>\n",
       "      <th>SALARY</th>\n",
       "      <th>TITLE_NAME</th>\n",
       "      <th>SKILLS_NAME</th>\n",
       "      <th>SPECIALIZED_SKILLS_NAME</th>\n",
       "    </tr>\n",
       "  </thead>\n",
       "  <tbody>\n",
       "    <tr>\n",
       "      <th>0</th>\n",
       "      <td>894731</td>\n",
       "      <td>{\\n  \"lat\": 33.20763,\\n  \"lon\": -92.6662674\\n}</td>\n",
       "      <td>2024-06-02</td>\n",
       "      <td>Bachelor's degree</td>\n",
       "      <td>Master's degree</td>\n",
       "      <td>2.000000</td>\n",
       "      <td>2.000000</td>\n",
       "      <td>ET29C073C03D1F86B4</td>\n",
       "      <td>[\\n  \"KS126DB6T061MHD7RTGQ\",\\n  \"KS126706DPFD3...</td>\n",
       "      <td>[\\n  \"KS126DB6T061MHD7RTGQ\",\\n  \"KS128006L3V0H...</td>\n",
       "      <td>...</td>\n",
       "      <td>[\\n  \"KS126706DPFD3354M7YK\",\\n  \"KS1280B68GD79...</td>\n",
       "      <td>[\\n  \"KS440W865GC4VRBW6LJP\",\\n  \"KS13USA80NE38...</td>\n",
       "      <td>Data Scientists</td>\n",
       "      <td>441330</td>\n",
       "      <td>Retail Trade</td>\n",
       "      <td>[None]</td>\n",
       "      <td>116348.5</td>\n",
       "      <td>Enterprise Analysts</td>\n",
       "      <td>[\\n  \"Merchandising\",\\n  \"Mathematics\",\\n  \"Pr...</td>\n",
       "      <td>[\\n  \"Merchandising\",\\n  \"Predictive Modeling\"...</td>\n",
       "    </tr>\n",
       "    <tr>\n",
       "      <th>1</th>\n",
       "      <td>133098</td>\n",
       "      <td>{\\n  \"lat\": 44.3106241,\\n  \"lon\": -69.7794897\\n}</td>\n",
       "      <td>2024-06-02</td>\n",
       "      <td>No Education Listed</td>\n",
       "      <td>Master's degree</td>\n",
       "      <td>3.000000</td>\n",
       "      <td>3.000000</td>\n",
       "      <td>ET21DDA63780A7DC09</td>\n",
       "      <td>[\\n  \"KS122626T550SLQ7QZ1C\",\\n  \"KS123YJ6KVWC9...</td>\n",
       "      <td>[\\n  \"KS122626T550SLQ7QZ1C\",\\n  \"KS123YJ6KVWC9...</td>\n",
       "      <td>...</td>\n",
       "      <td>[]</td>\n",
       "      <td>[\\n  \"BGSBF3F508F7F46312E3\",\\n  \"ESEA839CED378...</td>\n",
       "      <td>Data Scientists</td>\n",
       "      <td>561320</td>\n",
       "      <td>Administrative and Support and Waste Managemen...</td>\n",
       "      <td>Remote</td>\n",
       "      <td>116348.5</td>\n",
       "      <td>Oracle Consultants</td>\n",
       "      <td>[\\n  \"Procurement\",\\n  \"Financial Statements\",...</td>\n",
       "      <td>[\\n  \"Procurement\",\\n  \"Financial Statements\",...</td>\n",
       "    </tr>\n",
       "    <tr>\n",
       "      <th>2</th>\n",
       "      <td>39063746</td>\n",
       "      <td>{\\n  \"lat\": 32.7766642,\\n  \"lon\": -96.7969879\\n}</td>\n",
       "      <td>2024-06-02</td>\n",
       "      <td>Bachelor's degree</td>\n",
       "      <td>Master's degree</td>\n",
       "      <td>5.000000</td>\n",
       "      <td>3.773903</td>\n",
       "      <td>ET3037E0C947A02404</td>\n",
       "      <td>[\\n  \"KS1218W78FGVPVP2KXPX\",\\n  \"ESF3939CE1F80...</td>\n",
       "      <td>[\\n  \"ESF3939CE1F80C10C327\",\\n  \"KS120GV6C72JM...</td>\n",
       "      <td>...</td>\n",
       "      <td>[\\n  \"KS1218W78FGVPVP2KXPX\",\\n  \"BGS1ADAA36DB6...</td>\n",
       "      <td>[\\n  \"KS126HY6YLTB9R7XJC4Z\"\\n]</td>\n",
       "      <td>Data Scientists</td>\n",
       "      <td>524291</td>\n",
       "      <td>Finance and Insurance</td>\n",
       "      <td>[None]</td>\n",
       "      <td>116348.5</td>\n",
       "      <td>Data Analysts</td>\n",
       "      <td>[\\n  \"Management\",\\n  \"Exception Reporting\",\\n...</td>\n",
       "      <td>[\\n  \"Exception Reporting\",\\n  \"Data Analysis\"...</td>\n",
       "    </tr>\n",
       "    <tr>\n",
       "      <th>3</th>\n",
       "      <td>37615159</td>\n",
       "      <td>{\\n  \"lat\": 33.4483771,\\n  \"lon\": -112.0740373\\n}</td>\n",
       "      <td>2024-06-02</td>\n",
       "      <td>No Education Listed</td>\n",
       "      <td>Master's degree</td>\n",
       "      <td>3.000000</td>\n",
       "      <td>3.773903</td>\n",
       "      <td>ET2114E0404BA30075</td>\n",
       "      <td>[\\n  \"KS123QX62QYTC4JF38H8\",\\n  \"KS7G6NP6R6L1H...</td>\n",
       "      <td>[\\n  \"KS123QX62QYTC4JF38H8\",\\n  \"KS441PQ64HT13...</td>\n",
       "      <td>...</td>\n",
       "      <td>[\\n  \"KS7G6NP6R6L1H1SKFTSY\",\\n  \"KS1218W78FGVP...</td>\n",
       "      <td>[\\n  \"KS4409D76NW1S5LNCL18\",\\n  \"ESC7869CF7378...</td>\n",
       "      <td>Data Scientists</td>\n",
       "      <td>522110</td>\n",
       "      <td>Finance and Insurance</td>\n",
       "      <td>[None]</td>\n",
       "      <td>116348.5</td>\n",
       "      <td>Management Analysts</td>\n",
       "      <td>[\\n  \"Exit Strategies\",\\n  \"Reliability\",\\n  \"...</td>\n",
       "      <td>[\\n  \"Exit Strategies\",\\n  \"User Story\",\\n  \"H...</td>\n",
       "    </tr>\n",
       "    <tr>\n",
       "      <th>4</th>\n",
       "      <td>0</td>\n",
       "      <td>{\\n  \"lat\": 37.6392595,\\n  \"lon\": -120.9970014\\n}</td>\n",
       "      <td>2024-06-02</td>\n",
       "      <td>No Education Listed</td>\n",
       "      <td>Master's degree</td>\n",
       "      <td>5.486539</td>\n",
       "      <td>3.773903</td>\n",
       "      <td>ET0000000000000000</td>\n",
       "      <td>[]</td>\n",
       "      <td>[]</td>\n",
       "      <td>...</td>\n",
       "      <td>[]</td>\n",
       "      <td>[]</td>\n",
       "      <td>Data Scientists</td>\n",
       "      <td>999999</td>\n",
       "      <td>Unclassified Industry</td>\n",
       "      <td>[None]</td>\n",
       "      <td>92500.0</td>\n",
       "      <td>Unclassified</td>\n",
       "      <td>[]</td>\n",
       "      <td>[]</td>\n",
       "    </tr>\n",
       "  </tbody>\n",
       "</table>\n",
       "<p>5 rows × 21 columns</p>\n",
       "</div>"
      ],
      "text/plain": [
       "    COMPANY                                           LOCATION      POSTED  \\\n",
       "0    894731     {\\n  \"lat\": 33.20763,\\n  \"lon\": -92.6662674\\n}  2024-06-02   \n",
       "1    133098   {\\n  \"lat\": 44.3106241,\\n  \"lon\": -69.7794897\\n}  2024-06-02   \n",
       "2  39063746   {\\n  \"lat\": 32.7766642,\\n  \"lon\": -96.7969879\\n}  2024-06-02   \n",
       "3  37615159  {\\n  \"lat\": 33.4483771,\\n  \"lon\": -112.0740373\\n}  2024-06-02   \n",
       "4         0  {\\n  \"lat\": 37.6392595,\\n  \"lon\": -120.9970014\\n}  2024-06-02   \n",
       "\n",
       "    MIN_EDULEVELS_NAME MAX_EDULEVELS_NAME  MIN_YEARS_EXPERIENCE  \\\n",
       "0    Bachelor's degree    Master's degree              2.000000   \n",
       "1  No Education Listed    Master's degree              3.000000   \n",
       "2    Bachelor's degree    Master's degree              5.000000   \n",
       "3  No Education Listed    Master's degree              3.000000   \n",
       "4  No Education Listed    Master's degree              5.486539   \n",
       "\n",
       "   MAX_YEARS_EXPERIENCE               TITLE  \\\n",
       "0              2.000000  ET29C073C03D1F86B4   \n",
       "1              3.000000  ET21DDA63780A7DC09   \n",
       "2              3.773903  ET3037E0C947A02404   \n",
       "3              3.773903  ET2114E0404BA30075   \n",
       "4              3.773903  ET0000000000000000   \n",
       "\n",
       "                                              SKILLS  \\\n",
       "0  [\\n  \"KS126DB6T061MHD7RTGQ\",\\n  \"KS126706DPFD3...   \n",
       "1  [\\n  \"KS122626T550SLQ7QZ1C\",\\n  \"KS123YJ6KVWC9...   \n",
       "2  [\\n  \"KS1218W78FGVPVP2KXPX\",\\n  \"ESF3939CE1F80...   \n",
       "3  [\\n  \"KS123QX62QYTC4JF38H8\",\\n  \"KS7G6NP6R6L1H...   \n",
       "4                                                 []   \n",
       "\n",
       "                                  SPECIALIZED_SKILLS  ...  \\\n",
       "0  [\\n  \"KS126DB6T061MHD7RTGQ\",\\n  \"KS128006L3V0H...  ...   \n",
       "1  [\\n  \"KS122626T550SLQ7QZ1C\",\\n  \"KS123YJ6KVWC9...  ...   \n",
       "2  [\\n  \"ESF3939CE1F80C10C327\",\\n  \"KS120GV6C72JM...  ...   \n",
       "3  [\\n  \"KS123QX62QYTC4JF38H8\",\\n  \"KS441PQ64HT13...  ...   \n",
       "4                                                 []  ...   \n",
       "\n",
       "                                       COMMON_SKILLS  \\\n",
       "0  [\\n  \"KS126706DPFD3354M7YK\",\\n  \"KS1280B68GD79...   \n",
       "1                                                 []   \n",
       "2  [\\n  \"KS1218W78FGVPVP2KXPX\",\\n  \"BGS1ADAA36DB6...   \n",
       "3  [\\n  \"KS7G6NP6R6L1H1SKFTSY\",\\n  \"KS1218W78FGVP...   \n",
       "4                                                 []   \n",
       "\n",
       "                                     SOFTWARE_SKILLS  SOC_2021_4_NAME  \\\n",
       "0  [\\n  \"KS440W865GC4VRBW6LJP\",\\n  \"KS13USA80NE38...  Data Scientists   \n",
       "1  [\\n  \"BGSBF3F508F7F46312E3\",\\n  \"ESEA839CED378...  Data Scientists   \n",
       "2                     [\\n  \"KS126HY6YLTB9R7XJC4Z\"\\n]  Data Scientists   \n",
       "3  [\\n  \"KS4409D76NW1S5LNCL18\",\\n  \"ESC7869CF7378...  Data Scientists   \n",
       "4                                                 []  Data Scientists   \n",
       "\n",
       "  NAICS_2022_6                                        NAICS2_NAME  \\\n",
       "0       441330                                       Retail Trade   \n",
       "1       561320  Administrative and Support and Waste Managemen...   \n",
       "2       524291                              Finance and Insurance   \n",
       "3       522110                              Finance and Insurance   \n",
       "4       999999                              Unclassified Industry   \n",
       "\n",
       "  REMOTE_TYPE_NAME    SALARY           TITLE_NAME  \\\n",
       "0           [None]  116348.5  Enterprise Analysts   \n",
       "1           Remote  116348.5   Oracle Consultants   \n",
       "2           [None]  116348.5        Data Analysts   \n",
       "3           [None]  116348.5  Management Analysts   \n",
       "4           [None]   92500.0         Unclassified   \n",
       "\n",
       "                                         SKILLS_NAME  \\\n",
       "0  [\\n  \"Merchandising\",\\n  \"Mathematics\",\\n  \"Pr...   \n",
       "1  [\\n  \"Procurement\",\\n  \"Financial Statements\",...   \n",
       "2  [\\n  \"Management\",\\n  \"Exception Reporting\",\\n...   \n",
       "3  [\\n  \"Exit Strategies\",\\n  \"Reliability\",\\n  \"...   \n",
       "4                                                 []   \n",
       "\n",
       "                             SPECIALIZED_SKILLS_NAME  \n",
       "0  [\\n  \"Merchandising\",\\n  \"Predictive Modeling\"...  \n",
       "1  [\\n  \"Procurement\",\\n  \"Financial Statements\",...  \n",
       "2  [\\n  \"Exception Reporting\",\\n  \"Data Analysis\"...  \n",
       "3  [\\n  \"Exit Strategies\",\\n  \"User Story\",\\n  \"H...  \n",
       "4                                                 []  \n",
       "\n",
       "[5 rows x 21 columns]"
      ]
     },
     "execution_count": 9,
     "metadata": {},
     "output_type": "execute_result"
    }
   ],
   "source": [
    "import pandas as pd\n",
    "\n",
    "eda = pd.read_csv('data/eda_data.csv')\n",
    "eda.head()"
   ]
  },
  {
   "cell_type": "code",
   "execution_count": 10,
   "metadata": {},
   "outputs": [
    {
     "data": {
      "text/plain": [
       "DATA_ANALYST_JOB\n",
       "False    37052\n",
       "True     32148\n",
       "Name: count, dtype: int64"
      ]
     },
     "execution_count": 10,
     "metadata": {},
     "output_type": "execute_result"
    }
   ],
   "source": [
    "# identifying data analyst jobs by keyword searching\n",
    "keywords = ['Data Analyst', 'Business Analyst', 'Data Engineering', 'Deep Learning',\n",
    "            'Data Science', 'Data Analysis','Data Analytics',  'Market Research Analyst' \n",
    "            'LLM', 'Language Model', 'NLP', 'Natural Language Processing',\n",
    "            'Computer Vision', 'Business Intelligence Analyst', 'Quantitative Analyst', 'Operations Analyst']\n",
    "\n",
    "match = lambda col: eda[col].str.contains('|'.join(keywords), case=False, na=False)\n",
    "\n",
    "eda['DATA_ANALYST_JOB'] = match('TITLE_NAME') \\\n",
    "             | match('SKILLS_NAME') \\\n",
    "             | match('SPECIALIZED_SKILLS_NAME') \n",
    "eda['DATA_ANALYST_JOB'].value_counts()"
   ]
  },
  {
   "cell_type": "code",
   "execution_count": 27,
   "metadata": {},
   "outputs": [
    {
     "data": {
      "application/vnd.plotly.v1+json": {
       "config": {
        "plotlyServerURL": "https://plot.ly"
       },
       "data": [
        {
         "marker": {
          "color": "#FFE5E5",
          "line": {
           "color": "#A81D1D",
           "width": 1
          }
         },
         "name": "True",
         "text": [
          198,
          3878,
          36,
          84,
          379,
          1370,
          4142,
          1899,
          1950,
          164,
          2427,
          96,
          446,
          7407,
          604,
          546,
          793,
          326,
          4069,
          341,
          993
         ],
         "textposition": "outside",
         "type": "bar",
         "x": [
          "Accommodation and Food Services",
          "Admin & Waste Mgmt",
          "Agriculture, Forestry, Fishing and Hunting",
          "Arts, Entertainment, and Recreation",
          "Construction",
          "Educational Services",
          "Finance and Insurance",
          "Health Care and Social Assistance",
          "Information",
          "Management of Companies and Enterprises",
          "Manufacturing",
          "Mining, Quarrying, and Oil and Gas Extraction",
          "Other Services (except Public Administration)",
          "Prof. Services",
          "Public Administration",
          "Real Estate and Rental and Leasing",
          "Retail Trade",
          "Transportation and Warehousing",
          "Unclassified Industry",
          "Utilities",
          "Wholesale Trade"
         ],
         "xaxis": "x",
         "y": [
          198,
          3878,
          36,
          84,
          379,
          1370,
          4142,
          1899,
          1950,
          164,
          2427,
          96,
          446,
          7407,
          604,
          546,
          793,
          326,
          4069,
          341,
          993
         ],
         "yaxis": "y"
        },
        {
         "marker": {
          "color": "#FF6B6B",
          "line": {
           "color": "#A81D1D",
           "width": 1
          }
         },
         "name": "False",
         "text": [
          372,
          4155,
          40,
          66,
          235,
          596,
          2849,
          877,
          1824,
          104,
          2119,
          69,
          267,
          14918,
          349,
          232,
          1097,
          336,
          5140,
          309,
          1098
         ],
         "textposition": "outside",
         "type": "bar",
         "x": [
          "Accommodation and Food Services",
          "Admin & Waste Mgmt",
          "Agriculture, Forestry, Fishing and Hunting",
          "Arts, Entertainment, and Recreation",
          "Construction",
          "Educational Services",
          "Finance and Insurance",
          "Health Care and Social Assistance",
          "Information",
          "Management of Companies and Enterprises",
          "Manufacturing",
          "Mining, Quarrying, and Oil and Gas Extraction",
          "Other Services (except Public Administration)",
          "Prof. Services",
          "Public Administration",
          "Real Estate and Rental and Leasing",
          "Retail Trade",
          "Transportation and Warehousing",
          "Unclassified Industry",
          "Utilities",
          "Wholesale Trade"
         ],
         "xaxis": "x",
         "y": [
          372,
          4155,
          40,
          66,
          235,
          596,
          2849,
          877,
          1824,
          104,
          2119,
          69,
          267,
          14918,
          349,
          232,
          1097,
          336,
          5140,
          309,
          1098
         ],
         "yaxis": "y"
        },
        {
         "cells": {
          "align": "left",
          "fill": {
           "color": "white"
          },
          "font": {
           "color": "#333",
           "size": 11
          },
          "height": 25,
          "values": [
           [
            "Accommodation and Food Services",
            "Admin & Waste Mgmt",
            "Agriculture, Forestry, Fishing and Hunting",
            "Arts, Entertainment, and Recreation",
            "Construction",
            "Educational Services",
            "Finance and Insurance",
            "Health Care and Social Assistance",
            "Information",
            "Management of Companies and Enterprises",
            "Manufacturing",
            "Mining, Quarrying, and Oil and Gas Extraction",
            "Other Services (except Public Administration)",
            "Prof. Services",
            "Public Administration",
            "Real Estate and Rental and Leasing",
            "Retail Trade",
            "Transportation and Warehousing",
            "Unclassified Industry",
            "Utilities",
            "Wholesale Trade"
           ],
           [
            198,
            3878,
            36,
            84,
            379,
            1370,
            4142,
            1899,
            1950,
            164,
            2427,
            96,
            446,
            7407,
            604,
            546,
            793,
            326,
            4069,
            341,
            993
           ],
           [
            372,
            4155,
            40,
            66,
            235,
            596,
            2849,
            877,
            1824,
            104,
            2119,
            69,
            267,
            14918,
            349,
            232,
            1097,
            336,
            5140,
            309,
            1098
           ]
          ]
         },
         "domain": {
          "x": [
           0,
           1
          ],
          "y": [
           0,
           0.192
          ]
         },
         "header": {
          "align": "left",
          "fill": {
           "color": "#FDEDEC"
          },
          "font": {
           "color": "#A81D1D",
           "size": 13
          },
          "height": 30,
          "values": [
           "Industry",
           "True",
           "False"
          ]
         },
         "type": "table"
        }
       ],
       "layout": {
        "font": {
         "family": "Helvetica, sans-serif"
        },
        "height": 750,
        "legend": {
         "title": {
          "text": "Data Analyst Job"
         },
         "x": 1.02,
         "y": 0.5
        },
        "margin": {
         "b": 100,
         "l": 60,
         "r": 60,
         "t": 100
        },
        "paper_bgcolor": "white",
        "plot_bgcolor": "white",
        "sliders": [
         {
          "active": 0,
          "currentvalue": {
           "prefix": "Min Jobs: "
          },
          "len": 0.6,
          "pad": {
           "t": 30
          },
          "steps": [
           {
            "args": [
             {
              "y": [
               [
                198,
                3878,
                36,
                84,
                379,
                1370,
                4142,
                1899,
                1950,
                164,
                2427,
                96,
                446,
                7407,
                604,
                546,
                793,
                326,
                4069,
                341,
                993
               ],
               [
                372,
                4155,
                40,
                66,
                235,
                596,
                2849,
                877,
                1824,
                104,
                2119,
                69,
                267,
                14918,
                349,
                232,
                1097,
                336,
                5140,
                309,
                1098
               ]
              ]
             },
             {
              "title": "Min Jobs ≥ 0"
             }
            ],
            "label": "0",
            "method": "update"
           },
           {
            "args": [
             {
              "y": [
               [
                0,
                3878,
                0,
                0,
                0,
                1370,
                4142,
                1899,
                1950,
                0,
                2427,
                0,
                0,
                7407,
                604,
                546,
                793,
                0,
                4069,
                0,
                993
               ],
               [
                0,
                4155,
                0,
                0,
                0,
                596,
                2849,
                877,
                1824,
                0,
                2119,
                0,
                0,
                14918,
                0,
                0,
                1097,
                0,
                5140,
                0,
                1098
               ]
              ]
             },
             {
              "title": "Min Jobs ≥ 500"
             }
            ],
            "label": "500",
            "method": "update"
           },
           {
            "args": [
             {
              "y": [
               [
                0,
                3878,
                0,
                0,
                0,
                1370,
                4142,
                1899,
                1950,
                0,
                2427,
                0,
                0,
                7407,
                0,
                0,
                0,
                0,
                4069,
                0,
                0
               ],
               [
                0,
                4155,
                0,
                0,
                0,
                0,
                2849,
                0,
                1824,
                0,
                2119,
                0,
                0,
                14918,
                0,
                0,
                1097,
                0,
                5140,
                0,
                1098
               ]
              ]
             },
             {
              "title": "Min Jobs ≥ 1000"
             }
            ],
            "label": "1000",
            "method": "update"
           },
           {
            "args": [
             {
              "y": [
               [
                0,
                3878,
                0,
                0,
                0,
                0,
                4142,
                1899,
                1950,
                0,
                2427,
                0,
                0,
                7407,
                0,
                0,
                0,
                0,
                4069,
                0,
                0
               ],
               [
                0,
                4155,
                0,
                0,
                0,
                0,
                2849,
                0,
                1824,
                0,
                2119,
                0,
                0,
                14918,
                0,
                0,
                0,
                0,
                5140,
                0,
                0
               ]
              ]
             },
             {
              "title": "Min Jobs ≥ 1500"
             }
            ],
            "label": "1500",
            "method": "update"
           },
           {
            "args": [
             {
              "y": [
               [
                0,
                3878,
                0,
                0,
                0,
                0,
                4142,
                0,
                0,
                0,
                2427,
                0,
                0,
                7407,
                0,
                0,
                0,
                0,
                4069,
                0,
                0
               ],
               [
                0,
                4155,
                0,
                0,
                0,
                0,
                2849,
                0,
                0,
                0,
                2119,
                0,
                0,
                14918,
                0,
                0,
                0,
                0,
                5140,
                0,
                0
               ]
              ]
             },
             {
              "title": "Min Jobs ≥ 2000"
             }
            ],
            "label": "2000",
            "method": "update"
           },
           {
            "args": [
             {
              "y": [
               [
                0,
                3878,
                0,
                0,
                0,
                0,
                4142,
                0,
                0,
                0,
                0,
                0,
                0,
                7407,
                0,
                0,
                0,
                0,
                4069,
                0,
                0
               ],
               [
                0,
                4155,
                0,
                0,
                0,
                0,
                2849,
                0,
                0,
                0,
                0,
                0,
                0,
                14918,
                0,
                0,
                0,
                0,
                5140,
                0,
                0
               ]
              ]
             },
             {
              "title": "Min Jobs ≥ 2500"
             }
            ],
            "label": "2500",
            "method": "update"
           },
           {
            "args": [
             {
              "y": [
               [
                0,
                3878,
                0,
                0,
                0,
                0,
                4142,
                0,
                0,
                0,
                0,
                0,
                0,
                7407,
                0,
                0,
                0,
                0,
                4069,
                0,
                0
               ],
               [
                0,
                4155,
                0,
                0,
                0,
                0,
                0,
                0,
                0,
                0,
                0,
                0,
                0,
                14918,
                0,
                0,
                0,
                0,
                5140,
                0,
                0
               ]
              ]
             },
             {
              "title": "Min Jobs ≥ 3000"
             }
            ],
            "label": "3000",
            "method": "update"
           },
           {
            "args": [
             {
              "y": [
               [
                0,
                3878,
                0,
                0,
                0,
                0,
                4142,
                0,
                0,
                0,
                0,
                0,
                0,
                7407,
                0,
                0,
                0,
                0,
                4069,
                0,
                0
               ],
               [
                0,
                4155,
                0,
                0,
                0,
                0,
                0,
                0,
                0,
                0,
                0,
                0,
                0,
                14918,
                0,
                0,
                0,
                0,
                5140,
                0,
                0
               ]
              ]
             },
             {
              "title": "Min Jobs ≥ 3500"
             }
            ],
            "label": "3500",
            "method": "update"
           },
           {
            "args": [
             {
              "y": [
               [
                0,
                0,
                0,
                0,
                0,
                0,
                4142,
                0,
                0,
                0,
                0,
                0,
                0,
                7407,
                0,
                0,
                0,
                0,
                4069,
                0,
                0
               ],
               [
                0,
                4155,
                0,
                0,
                0,
                0,
                0,
                0,
                0,
                0,
                0,
                0,
                0,
                14918,
                0,
                0,
                0,
                0,
                5140,
                0,
                0
               ]
              ]
             },
             {
              "title": "Min Jobs ≥ 4000"
             }
            ],
            "label": "4000",
            "method": "update"
           },
           {
            "args": [
             {
              "y": [
               [
                0,
                0,
                0,
                0,
                0,
                0,
                0,
                0,
                0,
                0,
                0,
                0,
                0,
                7407,
                0,
                0,
                0,
                0,
                0,
                0,
                0
               ],
               [
                0,
                0,
                0,
                0,
                0,
                0,
                0,
                0,
                0,
                0,
                0,
                0,
                0,
                14918,
                0,
                0,
                0,
                0,
                5140,
                0,
                0
               ]
              ]
             },
             {
              "title": "Min Jobs ≥ 4500"
             }
            ],
            "label": "4500",
            "method": "update"
           },
           {
            "args": [
             {
              "y": [
               [
                0,
                0,
                0,
                0,
                0,
                0,
                0,
                0,
                0,
                0,
                0,
                0,
                0,
                7407,
                0,
                0,
                0,
                0,
                0,
                0,
                0
               ],
               [
                0,
                0,
                0,
                0,
                0,
                0,
                0,
                0,
                0,
                0,
                0,
                0,
                0,
                14918,
                0,
                0,
                0,
                0,
                5140,
                0,
                0
               ]
              ]
             },
             {
              "title": "Min Jobs ≥ 5000"
             }
            ],
            "label": "5000",
            "method": "update"
           },
           {
            "args": [
             {
              "y": [
               [
                0,
                0,
                0,
                0,
                0,
                0,
                0,
                0,
                0,
                0,
                0,
                0,
                0,
                7407,
                0,
                0,
                0,
                0,
                0,
                0,
                0
               ],
               [
                0,
                0,
                0,
                0,
                0,
                0,
                0,
                0,
                0,
                0,
                0,
                0,
                0,
                14918,
                0,
                0,
                0,
                0,
                0,
                0,
                0
               ]
              ]
             },
             {
              "title": "Min Jobs ≥ 5500"
             }
            ],
            "label": "5500",
            "method": "update"
           },
           {
            "args": [
             {
              "y": [
               [
                0,
                0,
                0,
                0,
                0,
                0,
                0,
                0,
                0,
                0,
                0,
                0,
                0,
                7407,
                0,
                0,
                0,
                0,
                0,
                0,
                0
               ],
               [
                0,
                0,
                0,
                0,
                0,
                0,
                0,
                0,
                0,
                0,
                0,
                0,
                0,
                14918,
                0,
                0,
                0,
                0,
                0,
                0,
                0
               ]
              ]
             },
             {
              "title": "Min Jobs ≥ 6000"
             }
            ],
            "label": "6000",
            "method": "update"
           },
           {
            "args": [
             {
              "y": [
               [
                0,
                0,
                0,
                0,
                0,
                0,
                0,
                0,
                0,
                0,
                0,
                0,
                0,
                7407,
                0,
                0,
                0,
                0,
                0,
                0,
                0
               ],
               [
                0,
                0,
                0,
                0,
                0,
                0,
                0,
                0,
                0,
                0,
                0,
                0,
                0,
                14918,
                0,
                0,
                0,
                0,
                0,
                0,
                0
               ]
              ]
             },
             {
              "title": "Min Jobs ≥ 6500"
             }
            ],
            "label": "6500",
            "method": "update"
           },
           {
            "args": [
             {
              "y": [
               [
                0,
                0,
                0,
                0,
                0,
                0,
                0,
                0,
                0,
                0,
                0,
                0,
                0,
                7407,
                0,
                0,
                0,
                0,
                0,
                0,
                0
               ],
               [
                0,
                0,
                0,
                0,
                0,
                0,
                0,
                0,
                0,
                0,
                0,
                0,
                0,
                14918,
                0,
                0,
                0,
                0,
                0,
                0,
                0
               ]
              ]
             },
             {
              "title": "Min Jobs ≥ 7000"
             }
            ],
            "label": "7000",
            "method": "update"
           },
           {
            "args": [
             {
              "y": [
               [
                0,
                0,
                0,
                0,
                0,
                0,
                0,
                0,
                0,
                0,
                0,
                0,
                0,
                0,
                0,
                0,
                0,
                0,
                0,
                0,
                0
               ],
               [
                0,
                0,
                0,
                0,
                0,
                0,
                0,
                0,
                0,
                0,
                0,
                0,
                0,
                14918,
                0,
                0,
                0,
                0,
                0,
                0,
                0
               ]
              ]
             },
             {
              "title": "Min Jobs ≥ 7500"
             }
            ],
            "label": "7500",
            "method": "update"
           },
           {
            "args": [
             {
              "y": [
               [
                0,
                0,
                0,
                0,
                0,
                0,
                0,
                0,
                0,
                0,
                0,
                0,
                0,
                0,
                0,
                0,
                0,
                0,
                0,
                0,
                0
               ],
               [
                0,
                0,
                0,
                0,
                0,
                0,
                0,
                0,
                0,
                0,
                0,
                0,
                0,
                14918,
                0,
                0,
                0,
                0,
                0,
                0,
                0
               ]
              ]
             },
             {
              "title": "Min Jobs ≥ 8000"
             }
            ],
            "label": "8000",
            "method": "update"
           },
           {
            "args": [
             {
              "y": [
               [
                0,
                0,
                0,
                0,
                0,
                0,
                0,
                0,
                0,
                0,
                0,
                0,
                0,
                0,
                0,
                0,
                0,
                0,
                0,
                0,
                0
               ],
               [
                0,
                0,
                0,
                0,
                0,
                0,
                0,
                0,
                0,
                0,
                0,
                0,
                0,
                14918,
                0,
                0,
                0,
                0,
                0,
                0,
                0
               ]
              ]
             },
             {
              "title": "Min Jobs ≥ 8500"
             }
            ],
            "label": "8500",
            "method": "update"
           },
           {
            "args": [
             {
              "y": [
               [
                0,
                0,
                0,
                0,
                0,
                0,
                0,
                0,
                0,
                0,
                0,
                0,
                0,
                0,
                0,
                0,
                0,
                0,
                0,
                0,
                0
               ],
               [
                0,
                0,
                0,
                0,
                0,
                0,
                0,
                0,
                0,
                0,
                0,
                0,
                0,
                14918,
                0,
                0,
                0,
                0,
                0,
                0,
                0
               ]
              ]
             },
             {
              "title": "Min Jobs ≥ 9000"
             }
            ],
            "label": "9000",
            "method": "update"
           },
           {
            "args": [
             {
              "y": [
               [
                0,
                0,
                0,
                0,
                0,
                0,
                0,
                0,
                0,
                0,
                0,
                0,
                0,
                0,
                0,
                0,
                0,
                0,
                0,
                0,
                0
               ],
               [
                0,
                0,
                0,
                0,
                0,
                0,
                0,
                0,
                0,
                0,
                0,
                0,
                0,
                14918,
                0,
                0,
                0,
                0,
                0,
                0,
                0
               ]
              ]
             },
             {
              "title": "Min Jobs ≥ 9500"
             }
            ],
            "label": "9500",
            "method": "update"
           },
           {
            "args": [
             {
              "y": [
               [
                0,
                0,
                0,
                0,
                0,
                0,
                0,
                0,
                0,
                0,
                0,
                0,
                0,
                0,
                0,
                0,
                0,
                0,
                0,
                0,
                0
               ],
               [
                0,
                0,
                0,
                0,
                0,
                0,
                0,
                0,
                0,
                0,
                0,
                0,
                0,
                14918,
                0,
                0,
                0,
                0,
                0,
                0,
                0
               ]
              ]
             },
             {
              "title": "Min Jobs ≥ 10000"
             }
            ],
            "label": "10000",
            "method": "update"
           },
           {
            "args": [
             {
              "y": [
               [
                0,
                0,
                0,
                0,
                0,
                0,
                0,
                0,
                0,
                0,
                0,
                0,
                0,
                0,
                0,
                0,
                0,
                0,
                0,
                0,
                0
               ],
               [
                0,
                0,
                0,
                0,
                0,
                0,
                0,
                0,
                0,
                0,
                0,
                0,
                0,
                14918,
                0,
                0,
                0,
                0,
                0,
                0,
                0
               ]
              ]
             },
             {
              "title": "Min Jobs ≥ 10500"
             }
            ],
            "label": "10500",
            "method": "update"
           },
           {
            "args": [
             {
              "y": [
               [
                0,
                0,
                0,
                0,
                0,
                0,
                0,
                0,
                0,
                0,
                0,
                0,
                0,
                0,
                0,
                0,
                0,
                0,
                0,
                0,
                0
               ],
               [
                0,
                0,
                0,
                0,
                0,
                0,
                0,
                0,
                0,
                0,
                0,
                0,
                0,
                14918,
                0,
                0,
                0,
                0,
                0,
                0,
                0
               ]
              ]
             },
             {
              "title": "Min Jobs ≥ 11000"
             }
            ],
            "label": "11000",
            "method": "update"
           },
           {
            "args": [
             {
              "y": [
               [
                0,
                0,
                0,
                0,
                0,
                0,
                0,
                0,
                0,
                0,
                0,
                0,
                0,
                0,
                0,
                0,
                0,
                0,
                0,
                0,
                0
               ],
               [
                0,
                0,
                0,
                0,
                0,
                0,
                0,
                0,
                0,
                0,
                0,
                0,
                0,
                14918,
                0,
                0,
                0,
                0,
                0,
                0,
                0
               ]
              ]
             },
             {
              "title": "Min Jobs ≥ 11500"
             }
            ],
            "label": "11500",
            "method": "update"
           },
           {
            "args": [
             {
              "y": [
               [
                0,
                0,
                0,
                0,
                0,
                0,
                0,
                0,
                0,
                0,
                0,
                0,
                0,
                0,
                0,
                0,
                0,
                0,
                0,
                0,
                0
               ],
               [
                0,
                0,
                0,
                0,
                0,
                0,
                0,
                0,
                0,
                0,
                0,
                0,
                0,
                14918,
                0,
                0,
                0,
                0,
                0,
                0,
                0
               ]
              ]
             },
             {
              "title": "Min Jobs ≥ 12000"
             }
            ],
            "label": "12000",
            "method": "update"
           },
           {
            "args": [
             {
              "y": [
               [
                0,
                0,
                0,
                0,
                0,
                0,
                0,
                0,
                0,
                0,
                0,
                0,
                0,
                0,
                0,
                0,
                0,
                0,
                0,
                0,
                0
               ],
               [
                0,
                0,
                0,
                0,
                0,
                0,
                0,
                0,
                0,
                0,
                0,
                0,
                0,
                14918,
                0,
                0,
                0,
                0,
                0,
                0,
                0
               ]
              ]
             },
             {
              "title": "Min Jobs ≥ 12500"
             }
            ],
            "label": "12500",
            "method": "update"
           },
           {
            "args": [
             {
              "y": [
               [
                0,
                0,
                0,
                0,
                0,
                0,
                0,
                0,
                0,
                0,
                0,
                0,
                0,
                0,
                0,
                0,
                0,
                0,
                0,
                0,
                0
               ],
               [
                0,
                0,
                0,
                0,
                0,
                0,
                0,
                0,
                0,
                0,
                0,
                0,
                0,
                14918,
                0,
                0,
                0,
                0,
                0,
                0,
                0
               ]
              ]
             },
             {
              "title": "Min Jobs ≥ 13000"
             }
            ],
            "label": "13000",
            "method": "update"
           },
           {
            "args": [
             {
              "y": [
               [
                0,
                0,
                0,
                0,
                0,
                0,
                0,
                0,
                0,
                0,
                0,
                0,
                0,
                0,
                0,
                0,
                0,
                0,
                0,
                0,
                0
               ],
               [
                0,
                0,
                0,
                0,
                0,
                0,
                0,
                0,
                0,
                0,
                0,
                0,
                0,
                14918,
                0,
                0,
                0,
                0,
                0,
                0,
                0
               ]
              ]
             },
             {
              "title": "Min Jobs ≥ 13500"
             }
            ],
            "label": "13500",
            "method": "update"
           },
           {
            "args": [
             {
              "y": [
               [
                0,
                0,
                0,
                0,
                0,
                0,
                0,
                0,
                0,
                0,
                0,
                0,
                0,
                0,
                0,
                0,
                0,
                0,
                0,
                0,
                0
               ],
               [
                0,
                0,
                0,
                0,
                0,
                0,
                0,
                0,
                0,
                0,
                0,
                0,
                0,
                14918,
                0,
                0,
                0,
                0,
                0,
                0,
                0
               ]
              ]
             },
             {
              "title": "Min Jobs ≥ 14000"
             }
            ],
            "label": "14000",
            "method": "update"
           },
           {
            "args": [
             {
              "y": [
               [
                0,
                0,
                0,
                0,
                0,
                0,
                0,
                0,
                0,
                0,
                0,
                0,
                0,
                0,
                0,
                0,
                0,
                0,
                0,
                0,
                0
               ],
               [
                0,
                0,
                0,
                0,
                0,
                0,
                0,
                0,
                0,
                0,
                0,
                0,
                0,
                14918,
                0,
                0,
                0,
                0,
                0,
                0,
                0
               ]
              ]
             },
             {
              "title": "Min Jobs ≥ 14500"
             }
            ],
            "label": "14500",
            "method": "update"
           },
           {
            "args": [
             {
              "y": [
               [
                0,
                0,
                0,
                0,
                0,
                0,
                0,
                0,
                0,
                0,
                0,
                0,
                0,
                0,
                0,
                0,
                0,
                0,
                0,
                0,
                0
               ],
               [
                0,
                0,
                0,
                0,
                0,
                0,
                0,
                0,
                0,
                0,
                0,
                0,
                0,
                0,
                0,
                0,
                0,
                0,
                0,
                0,
                0
               ]
              ]
             },
             {
              "title": "Min Jobs ≥ 15000"
             }
            ],
            "label": "15000",
            "method": "update"
           },
           {
            "args": [
             {
              "y": [
               [
                0,
                0,
                0,
                0,
                0,
                0,
                0,
                0,
                0,
                0,
                0,
                0,
                0,
                0,
                0,
                0,
                0,
                0,
                0,
                0,
                0
               ],
               [
                0,
                0,
                0,
                0,
                0,
                0,
                0,
                0,
                0,
                0,
                0,
                0,
                0,
                0,
                0,
                0,
                0,
                0,
                0,
                0,
                0
               ]
              ]
             },
             {
              "title": "Min Jobs ≥ 15500"
             }
            ],
            "label": "15500",
            "method": "update"
           },
           {
            "args": [
             {
              "y": [
               [
                0,
                0,
                0,
                0,
                0,
                0,
                0,
                0,
                0,
                0,
                0,
                0,
                0,
                0,
                0,
                0,
                0,
                0,
                0,
                0,
                0
               ],
               [
                0,
                0,
                0,
                0,
                0,
                0,
                0,
                0,
                0,
                0,
                0,
                0,
                0,
                0,
                0,
                0,
                0,
                0,
                0,
                0,
                0
               ]
              ]
             },
             {
              "title": "Min Jobs ≥ 16000"
             }
            ],
            "label": "16000",
            "method": "update"
           }
          ],
          "x": 0.1,
          "xanchor": "left",
          "y": 1.02,
          "yanchor": "bottom"
         }
        ],
        "template": {
         "data": {
          "bar": [
           {
            "error_x": {
             "color": "#2a3f5f"
            },
            "error_y": {
             "color": "#2a3f5f"
            },
            "marker": {
             "line": {
              "color": "#E5ECF6",
              "width": 0.5
             },
             "pattern": {
              "fillmode": "overlay",
              "size": 10,
              "solidity": 0.2
             }
            },
            "type": "bar"
           }
          ],
          "barpolar": [
           {
            "marker": {
             "line": {
              "color": "#E5ECF6",
              "width": 0.5
             },
             "pattern": {
              "fillmode": "overlay",
              "size": 10,
              "solidity": 0.2
             }
            },
            "type": "barpolar"
           }
          ],
          "carpet": [
           {
            "aaxis": {
             "endlinecolor": "#2a3f5f",
             "gridcolor": "white",
             "linecolor": "white",
             "minorgridcolor": "white",
             "startlinecolor": "#2a3f5f"
            },
            "baxis": {
             "endlinecolor": "#2a3f5f",
             "gridcolor": "white",
             "linecolor": "white",
             "minorgridcolor": "white",
             "startlinecolor": "#2a3f5f"
            },
            "type": "carpet"
           }
          ],
          "choropleth": [
           {
            "colorbar": {
             "outlinewidth": 0,
             "ticks": ""
            },
            "type": "choropleth"
           }
          ],
          "contour": [
           {
            "colorbar": {
             "outlinewidth": 0,
             "ticks": ""
            },
            "colorscale": [
             [
              0,
              "#0d0887"
             ],
             [
              0.1111111111111111,
              "#46039f"
             ],
             [
              0.2222222222222222,
              "#7201a8"
             ],
             [
              0.3333333333333333,
              "#9c179e"
             ],
             [
              0.4444444444444444,
              "#bd3786"
             ],
             [
              0.5555555555555556,
              "#d8576b"
             ],
             [
              0.6666666666666666,
              "#ed7953"
             ],
             [
              0.7777777777777778,
              "#fb9f3a"
             ],
             [
              0.8888888888888888,
              "#fdca26"
             ],
             [
              1,
              "#f0f921"
             ]
            ],
            "type": "contour"
           }
          ],
          "contourcarpet": [
           {
            "colorbar": {
             "outlinewidth": 0,
             "ticks": ""
            },
            "type": "contourcarpet"
           }
          ],
          "heatmap": [
           {
            "colorbar": {
             "outlinewidth": 0,
             "ticks": ""
            },
            "colorscale": [
             [
              0,
              "#0d0887"
             ],
             [
              0.1111111111111111,
              "#46039f"
             ],
             [
              0.2222222222222222,
              "#7201a8"
             ],
             [
              0.3333333333333333,
              "#9c179e"
             ],
             [
              0.4444444444444444,
              "#bd3786"
             ],
             [
              0.5555555555555556,
              "#d8576b"
             ],
             [
              0.6666666666666666,
              "#ed7953"
             ],
             [
              0.7777777777777778,
              "#fb9f3a"
             ],
             [
              0.8888888888888888,
              "#fdca26"
             ],
             [
              1,
              "#f0f921"
             ]
            ],
            "type": "heatmap"
           }
          ],
          "heatmapgl": [
           {
            "colorbar": {
             "outlinewidth": 0,
             "ticks": ""
            },
            "colorscale": [
             [
              0,
              "#0d0887"
             ],
             [
              0.1111111111111111,
              "#46039f"
             ],
             [
              0.2222222222222222,
              "#7201a8"
             ],
             [
              0.3333333333333333,
              "#9c179e"
             ],
             [
              0.4444444444444444,
              "#bd3786"
             ],
             [
              0.5555555555555556,
              "#d8576b"
             ],
             [
              0.6666666666666666,
              "#ed7953"
             ],
             [
              0.7777777777777778,
              "#fb9f3a"
             ],
             [
              0.8888888888888888,
              "#fdca26"
             ],
             [
              1,
              "#f0f921"
             ]
            ],
            "type": "heatmapgl"
           }
          ],
          "histogram": [
           {
            "marker": {
             "pattern": {
              "fillmode": "overlay",
              "size": 10,
              "solidity": 0.2
             }
            },
            "type": "histogram"
           }
          ],
          "histogram2d": [
           {
            "colorbar": {
             "outlinewidth": 0,
             "ticks": ""
            },
            "colorscale": [
             [
              0,
              "#0d0887"
             ],
             [
              0.1111111111111111,
              "#46039f"
             ],
             [
              0.2222222222222222,
              "#7201a8"
             ],
             [
              0.3333333333333333,
              "#9c179e"
             ],
             [
              0.4444444444444444,
              "#bd3786"
             ],
             [
              0.5555555555555556,
              "#d8576b"
             ],
             [
              0.6666666666666666,
              "#ed7953"
             ],
             [
              0.7777777777777778,
              "#fb9f3a"
             ],
             [
              0.8888888888888888,
              "#fdca26"
             ],
             [
              1,
              "#f0f921"
             ]
            ],
            "type": "histogram2d"
           }
          ],
          "histogram2dcontour": [
           {
            "colorbar": {
             "outlinewidth": 0,
             "ticks": ""
            },
            "colorscale": [
             [
              0,
              "#0d0887"
             ],
             [
              0.1111111111111111,
              "#46039f"
             ],
             [
              0.2222222222222222,
              "#7201a8"
             ],
             [
              0.3333333333333333,
              "#9c179e"
             ],
             [
              0.4444444444444444,
              "#bd3786"
             ],
             [
              0.5555555555555556,
              "#d8576b"
             ],
             [
              0.6666666666666666,
              "#ed7953"
             ],
             [
              0.7777777777777778,
              "#fb9f3a"
             ],
             [
              0.8888888888888888,
              "#fdca26"
             ],
             [
              1,
              "#f0f921"
             ]
            ],
            "type": "histogram2dcontour"
           }
          ],
          "mesh3d": [
           {
            "colorbar": {
             "outlinewidth": 0,
             "ticks": ""
            },
            "type": "mesh3d"
           }
          ],
          "parcoords": [
           {
            "line": {
             "colorbar": {
              "outlinewidth": 0,
              "ticks": ""
             }
            },
            "type": "parcoords"
           }
          ],
          "pie": [
           {
            "automargin": true,
            "type": "pie"
           }
          ],
          "scatter": [
           {
            "fillpattern": {
             "fillmode": "overlay",
             "size": 10,
             "solidity": 0.2
            },
            "type": "scatter"
           }
          ],
          "scatter3d": [
           {
            "line": {
             "colorbar": {
              "outlinewidth": 0,
              "ticks": ""
             }
            },
            "marker": {
             "colorbar": {
              "outlinewidth": 0,
              "ticks": ""
             }
            },
            "type": "scatter3d"
           }
          ],
          "scattercarpet": [
           {
            "marker": {
             "colorbar": {
              "outlinewidth": 0,
              "ticks": ""
             }
            },
            "type": "scattercarpet"
           }
          ],
          "scattergeo": [
           {
            "marker": {
             "colorbar": {
              "outlinewidth": 0,
              "ticks": ""
             }
            },
            "type": "scattergeo"
           }
          ],
          "scattergl": [
           {
            "marker": {
             "colorbar": {
              "outlinewidth": 0,
              "ticks": ""
             }
            },
            "type": "scattergl"
           }
          ],
          "scattermapbox": [
           {
            "marker": {
             "colorbar": {
              "outlinewidth": 0,
              "ticks": ""
             }
            },
            "type": "scattermapbox"
           }
          ],
          "scatterpolar": [
           {
            "marker": {
             "colorbar": {
              "outlinewidth": 0,
              "ticks": ""
             }
            },
            "type": "scatterpolar"
           }
          ],
          "scatterpolargl": [
           {
            "marker": {
             "colorbar": {
              "outlinewidth": 0,
              "ticks": ""
             }
            },
            "type": "scatterpolargl"
           }
          ],
          "scatterternary": [
           {
            "marker": {
             "colorbar": {
              "outlinewidth": 0,
              "ticks": ""
             }
            },
            "type": "scatterternary"
           }
          ],
          "surface": [
           {
            "colorbar": {
             "outlinewidth": 0,
             "ticks": ""
            },
            "colorscale": [
             [
              0,
              "#0d0887"
             ],
             [
              0.1111111111111111,
              "#46039f"
             ],
             [
              0.2222222222222222,
              "#7201a8"
             ],
             [
              0.3333333333333333,
              "#9c179e"
             ],
             [
              0.4444444444444444,
              "#bd3786"
             ],
             [
              0.5555555555555556,
              "#d8576b"
             ],
             [
              0.6666666666666666,
              "#ed7953"
             ],
             [
              0.7777777777777778,
              "#fb9f3a"
             ],
             [
              0.8888888888888888,
              "#fdca26"
             ],
             [
              1,
              "#f0f921"
             ]
            ],
            "type": "surface"
           }
          ],
          "table": [
           {
            "cells": {
             "fill": {
              "color": "#EBF0F8"
             },
             "line": {
              "color": "white"
             }
            },
            "header": {
             "fill": {
              "color": "#C8D4E3"
             },
             "line": {
              "color": "white"
             }
            },
            "type": "table"
           }
          ]
         },
         "layout": {
          "annotationdefaults": {
           "arrowcolor": "#2a3f5f",
           "arrowhead": 0,
           "arrowwidth": 1
          },
          "autotypenumbers": "strict",
          "coloraxis": {
           "colorbar": {
            "outlinewidth": 0,
            "ticks": ""
           }
          },
          "colorscale": {
           "diverging": [
            [
             0,
             "#8e0152"
            ],
            [
             0.1,
             "#c51b7d"
            ],
            [
             0.2,
             "#de77ae"
            ],
            [
             0.3,
             "#f1b6da"
            ],
            [
             0.4,
             "#fde0ef"
            ],
            [
             0.5,
             "#f7f7f7"
            ],
            [
             0.6,
             "#e6f5d0"
            ],
            [
             0.7,
             "#b8e186"
            ],
            [
             0.8,
             "#7fbc41"
            ],
            [
             0.9,
             "#4d9221"
            ],
            [
             1,
             "#276419"
            ]
           ],
           "sequential": [
            [
             0,
             "#0d0887"
            ],
            [
             0.1111111111111111,
             "#46039f"
            ],
            [
             0.2222222222222222,
             "#7201a8"
            ],
            [
             0.3333333333333333,
             "#9c179e"
            ],
            [
             0.4444444444444444,
             "#bd3786"
            ],
            [
             0.5555555555555556,
             "#d8576b"
            ],
            [
             0.6666666666666666,
             "#ed7953"
            ],
            [
             0.7777777777777778,
             "#fb9f3a"
            ],
            [
             0.8888888888888888,
             "#fdca26"
            ],
            [
             1,
             "#f0f921"
            ]
           ],
           "sequentialminus": [
            [
             0,
             "#0d0887"
            ],
            [
             0.1111111111111111,
             "#46039f"
            ],
            [
             0.2222222222222222,
             "#7201a8"
            ],
            [
             0.3333333333333333,
             "#9c179e"
            ],
            [
             0.4444444444444444,
             "#bd3786"
            ],
            [
             0.5555555555555556,
             "#d8576b"
            ],
            [
             0.6666666666666666,
             "#ed7953"
            ],
            [
             0.7777777777777778,
             "#fb9f3a"
            ],
            [
             0.8888888888888888,
             "#fdca26"
            ],
            [
             1,
             "#f0f921"
            ]
           ]
          },
          "colorway": [
           "#636efa",
           "#EF553B",
           "#00cc96",
           "#ab63fa",
           "#FFA15A",
           "#19d3f3",
           "#FF6692",
           "#B6E880",
           "#FF97FF",
           "#FECB52"
          ],
          "font": {
           "color": "#2a3f5f"
          },
          "geo": {
           "bgcolor": "white",
           "lakecolor": "white",
           "landcolor": "#E5ECF6",
           "showlakes": true,
           "showland": true,
           "subunitcolor": "white"
          },
          "hoverlabel": {
           "align": "left"
          },
          "hovermode": "closest",
          "mapbox": {
           "style": "light"
          },
          "paper_bgcolor": "white",
          "plot_bgcolor": "#E5ECF6",
          "polar": {
           "angularaxis": {
            "gridcolor": "white",
            "linecolor": "white",
            "ticks": ""
           },
           "bgcolor": "#E5ECF6",
           "radialaxis": {
            "gridcolor": "white",
            "linecolor": "white",
            "ticks": ""
           }
          },
          "scene": {
           "xaxis": {
            "backgroundcolor": "#E5ECF6",
            "gridcolor": "white",
            "gridwidth": 2,
            "linecolor": "white",
            "showbackground": true,
            "ticks": "",
            "zerolinecolor": "white"
           },
           "yaxis": {
            "backgroundcolor": "#E5ECF6",
            "gridcolor": "white",
            "gridwidth": 2,
            "linecolor": "white",
            "showbackground": true,
            "ticks": "",
            "zerolinecolor": "white"
           },
           "zaxis": {
            "backgroundcolor": "#E5ECF6",
            "gridcolor": "white",
            "gridwidth": 2,
            "linecolor": "white",
            "showbackground": true,
            "ticks": "",
            "zerolinecolor": "white"
           }
          },
          "shapedefaults": {
           "line": {
            "color": "#2a3f5f"
           }
          },
          "ternary": {
           "aaxis": {
            "gridcolor": "white",
            "linecolor": "white",
            "ticks": ""
           },
           "baxis": {
            "gridcolor": "white",
            "linecolor": "white",
            "ticks": ""
           },
           "bgcolor": "#E5ECF6",
           "caxis": {
            "gridcolor": "white",
            "linecolor": "white",
            "ticks": ""
           }
          },
          "title": {
           "x": 0.05
          },
          "xaxis": {
           "automargin": true,
           "gridcolor": "white",
           "linecolor": "white",
           "ticks": "",
           "title": {
            "standoff": 15
           },
           "zerolinecolor": "white",
           "zerolinewidth": 2
          },
          "yaxis": {
           "automargin": true,
           "gridcolor": "white",
           "linecolor": "white",
           "ticks": "",
           "title": {
            "standoff": 15
           },
           "zerolinecolor": "white",
           "zerolinewidth": 2
          }
         }
        },
        "title": {
         "text": "Data & Business Analytics Job Trends"
        },
        "width": 1100,
        "xaxis": {
         "anchor": "y",
         "domain": [
          0,
          1
         ],
         "linecolor": "#A81D1D",
         "tickangle": -30,
         "title": {
          "font": {
           "color": "#A81D1D",
           "size": 16
          },
          "text": "Industry"
         }
        },
        "yaxis": {
         "anchor": "x",
         "domain": [
          0.232,
          1
         ],
         "gridcolor": "rgba(200,200,200,0.3)",
         "linecolor": "#A81D1D",
         "range": [
          0,
          16409
         ],
         "title": {
          "font": {
           "color": "#A81D1D",
           "size": 16
          },
          "text": "Number of Jobs"
         }
        }
       }
      }
     },
     "metadata": {},
     "output_type": "display_data"
    }
   ],
   "source": [
    "import pandas as pd\n",
    "import plotly.graph_objects as go\n",
    "from plotly.subplots import make_subplots\n",
    "\n",
    "# ─────────────────────────────────────────────────────────\n",
    "# 1) Prepare your data\n",
    "# ─────────────────────────────────────────────────────────\n",
    "# assume `eda` is already loaded with DATA_ANALYST_JOB (bool) & NAICS2_NAME\n",
    "df_grouped = (\n",
    "    eda\n",
    "      .groupby(['DATA_ANALYST_JOB','NAICS2_NAME'])\n",
    "      .size()\n",
    "      .reset_index(name='Job_Count')\n",
    ")\n",
    "# shorten long names...\n",
    "short_names = {\n",
    "    'Professional, Scientific, and Technical Services': 'Prof. Services',\n",
    "    'Administrative and Support and Waste Management and Remediation Services': 'Admin & Waste Mgmt',\n",
    "    # …etc…\n",
    "}\n",
    "df_grouped['Industry'] = df_grouped['NAICS2_NAME'] \\\n",
    "                            .map(short_names) \\\n",
    "                            .fillna(df_grouped['NAICS2_NAME'])\n",
    "df_grouped['Job_Type'] = df_grouped['DATA_ANALYST_JOB'] \\\n",
    "                             .map({True: 'True', False: 'False'})\n",
    "\n",
    "# pivot so we have True/False side by side\n",
    "pivot = df_grouped.pivot_table(\n",
    "    index='Industry',\n",
    "    columns='Job_Type',\n",
    "    values='Job_Count',\n",
    "    aggfunc='sum',\n",
    "    fill_value=0\n",
    ").reset_index()\n",
    "x       = pivot['Industry']\n",
    "y_true  = pivot['True']\n",
    "y_false = pivot['False']\n",
    "\n",
    "# ─────────────────────────────────────────────────────────\n",
    "# 2) Build the figure with two rows, but give the top row more height\n",
    "# ─────────────────────────────────────────────────────────\n",
    "fig = make_subplots(\n",
    "    rows=2, cols=1,\n",
    "    row_heights=[0.80, 0.20],    # 80% height for bars, 20% for table\n",
    "    specs=[[{'type':'bar'}],[{'type':'table'}]],\n",
    "    vertical_spacing=0.04       # a little breathing room\n",
    ")\n",
    "\n",
    "# add bar traces\n",
    "colors = {'True':'#FFE5E5','False':'#FF6B6B'}\n",
    "fig.add_trace(\n",
    "    go.Bar(\n",
    "        x=x, y=y_true, name='True',\n",
    "        marker=dict(color=colors['True'], line=dict(color='#A81D1D',width=1)),\n",
    "        text=y_true, textposition='outside'\n",
    "    ),\n",
    "    row=1, col=1\n",
    ")\n",
    "fig.add_trace(\n",
    "    go.Bar(\n",
    "        x=x, y=y_false, name='False',\n",
    "        marker=dict(color=colors['False'],line=dict(color='#A81D1D',width=1)),\n",
    "        text=y_false, textposition='outside'\n",
    "    ),\n",
    "    row=1, col=1\n",
    ")\n",
    "\n",
    "# add table down below\n",
    "fig.add_trace(\n",
    "    go.Table(\n",
    "        header=dict(\n",
    "            values=[\"Industry\",\"True\",\"False\"],\n",
    "            fill_color='#FDEDEC',\n",
    "            align='left',\n",
    "            font=dict(color='#A81D1D',size=13),\n",
    "            height=30\n",
    "        ),\n",
    "        cells=dict(\n",
    "            values=[x, y_true, y_false],\n",
    "            fill_color='white',\n",
    "            align='left',\n",
    "            font=dict(color='#333',size=11),\n",
    "            height=25\n",
    "        )\n",
    "    ),\n",
    "    row=2, col=1\n",
    ")\n",
    "\n",
    "\n",
    "fig.update_layout(\n",
    "    title=\"Data & Business Analytics Job Trends\",\n",
    "    font=dict(family=\"Helvetica, sans-serif\"),\n",
    "\n",
    "    width=1100, height=750,\n",
    "    margin=dict(l=60, r=60, t=100, b=100),\n",
    "\n",
    "    plot_bgcolor='white',\n",
    "    paper_bgcolor='white',\n",
    "\n",
    "    xaxis=dict(\n",
    "        title=\"Industry\",\n",
    "        title_font=dict(size=16,color='#A81D1D'),\n",
    "        tickangle=-30,\n",
    "        linecolor='#A81D1D'\n",
    "    ),\n",
    "    yaxis=dict(\n",
    "        title=\"Number of Jobs\",\n",
    "        title_font=dict(size=16,color='#A81D1D'),\n",
    "        gridcolor='rgba(200,200,200,0.3)',\n",
    "        linecolor='#A81D1D',\n",
    "        range=[0, max_jobs]\n",
    "    ),\n",
    "    legend=dict(\n",
    "        title=\"Data Analyst Job\",\n",
    "        x=1.02, y=0.5\n",
    "    ),\n",
    "\n",
    "    sliders=[dict(\n",
    "        active=0,\n",
    "        currentvalue={\"prefix\":\"Min Jobs: \"},\n",
    "        pad={\"t\":30},\n",
    "        x=0.1, y=1.02,          # move the slider to just above the chart\n",
    "        xanchor='left', yanchor='bottom',\n",
    "        len=0.6,\n",
    "        steps=steps\n",
    "    )]\n",
    ")\n",
    "\n",
    "fig.show()\n"
   ]
  },
  {
   "cell_type": "code",
   "execution_count": null,
   "metadata": {},
   "outputs": [],
   "source": []
  }
 ],
 "metadata": {
  "kernelspec": {
   "display_name": "base",
   "language": "python",
   "name": "python3"
  },
  "language_info": {
   "codemirror_mode": {
    "name": "ipython",
    "version": 3
   },
   "file_extension": ".py",
   "mimetype": "text/x-python",
   "name": "python",
   "nbconvert_exporter": "python",
   "pygments_lexer": "ipython3",
   "version": "3.12.7"
  }
 },
 "nbformat": 4,
 "nbformat_minor": 2
}
