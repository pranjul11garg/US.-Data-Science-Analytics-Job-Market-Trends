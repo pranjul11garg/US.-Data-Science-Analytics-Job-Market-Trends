{
 "cells": [
  {
   "cell_type": "code",
   "execution_count": 17,
   "metadata": {},
   "outputs": [
    {
     "data": {
      "text/html": [
       "<div>\n",
       "<style scoped>\n",
       "    .dataframe tbody tr th:only-of-type {\n",
       "        vertical-align: middle;\n",
       "    }\n",
       "\n",
       "    .dataframe tbody tr th {\n",
       "        vertical-align: top;\n",
       "    }\n",
       "\n",
       "    .dataframe thead th {\n",
       "        text-align: right;\n",
       "    }\n",
       "</style>\n",
       "<table border=\"1\" class=\"dataframe\">\n",
       "  <thead>\n",
       "    <tr style=\"text-align: right;\">\n",
       "      <th></th>\n",
       "      <th>COMPANY</th>\n",
       "      <th>LOCATION</th>\n",
       "      <th>POSTED</th>\n",
       "      <th>MIN_EDULEVELS_NAME</th>\n",
       "      <th>MAX_EDULEVELS_NAME</th>\n",
       "      <th>MIN_YEARS_EXPERIENCE</th>\n",
       "      <th>MAX_YEARS_EXPERIENCE</th>\n",
       "      <th>TITLE</th>\n",
       "      <th>SKILLS</th>\n",
       "      <th>SPECIALIZED_SKILLS</th>\n",
       "      <th>...</th>\n",
       "      <th>COMMON_SKILLS</th>\n",
       "      <th>SOFTWARE_SKILLS</th>\n",
       "      <th>SOC_2021_4_NAME</th>\n",
       "      <th>NAICS_2022_6</th>\n",
       "      <th>NAICS2_NAME</th>\n",
       "      <th>REMOTE_TYPE_NAME</th>\n",
       "      <th>SALARY</th>\n",
       "      <th>TITLE_NAME</th>\n",
       "      <th>SKILLS_NAME</th>\n",
       "      <th>SPECIALIZED_SKILLS_NAME</th>\n",
       "    </tr>\n",
       "  </thead>\n",
       "  <tbody>\n",
       "    <tr>\n",
       "      <th>0</th>\n",
       "      <td>894731</td>\n",
       "      <td>{\\n  \"lat\": 33.20763,\\n  \"lon\": -92.6662674\\n}</td>\n",
       "      <td>2024-06-02</td>\n",
       "      <td>Bachelor's degree</td>\n",
       "      <td>Master's degree</td>\n",
       "      <td>2.000000</td>\n",
       "      <td>2.000000</td>\n",
       "      <td>ET29C073C03D1F86B4</td>\n",
       "      <td>[\\n  \"KS126DB6T061MHD7RTGQ\",\\n  \"KS126706DPFD3...</td>\n",
       "      <td>[\\n  \"KS126DB6T061MHD7RTGQ\",\\n  \"KS128006L3V0H...</td>\n",
       "      <td>...</td>\n",
       "      <td>[\\n  \"KS126706DPFD3354M7YK\",\\n  \"KS1280B68GD79...</td>\n",
       "      <td>[\\n  \"KS440W865GC4VRBW6LJP\",\\n  \"KS13USA80NE38...</td>\n",
       "      <td>Data Scientists</td>\n",
       "      <td>441330</td>\n",
       "      <td>Retail Trade</td>\n",
       "      <td>[None]</td>\n",
       "      <td>116348.5</td>\n",
       "      <td>Enterprise Analysts</td>\n",
       "      <td>[\\n  \"Merchandising\",\\n  \"Mathematics\",\\n  \"Pr...</td>\n",
       "      <td>[\\n  \"Merchandising\",\\n  \"Predictive Modeling\"...</td>\n",
       "    </tr>\n",
       "    <tr>\n",
       "      <th>1</th>\n",
       "      <td>133098</td>\n",
       "      <td>{\\n  \"lat\": 44.3106241,\\n  \"lon\": -69.7794897\\n}</td>\n",
       "      <td>2024-06-02</td>\n",
       "      <td>No Education Listed</td>\n",
       "      <td>Master's degree</td>\n",
       "      <td>3.000000</td>\n",
       "      <td>3.000000</td>\n",
       "      <td>ET21DDA63780A7DC09</td>\n",
       "      <td>[\\n  \"KS122626T550SLQ7QZ1C\",\\n  \"KS123YJ6KVWC9...</td>\n",
       "      <td>[\\n  \"KS122626T550SLQ7QZ1C\",\\n  \"KS123YJ6KVWC9...</td>\n",
       "      <td>...</td>\n",
       "      <td>[]</td>\n",
       "      <td>[\\n  \"BGSBF3F508F7F46312E3\",\\n  \"ESEA839CED378...</td>\n",
       "      <td>Data Scientists</td>\n",
       "      <td>561320</td>\n",
       "      <td>Administrative and Support and Waste Managemen...</td>\n",
       "      <td>Remote</td>\n",
       "      <td>116348.5</td>\n",
       "      <td>Oracle Consultants</td>\n",
       "      <td>[\\n  \"Procurement\",\\n  \"Financial Statements\",...</td>\n",
       "      <td>[\\n  \"Procurement\",\\n  \"Financial Statements\",...</td>\n",
       "    </tr>\n",
       "    <tr>\n",
       "      <th>2</th>\n",
       "      <td>39063746</td>\n",
       "      <td>{\\n  \"lat\": 32.7766642,\\n  \"lon\": -96.7969879\\n}</td>\n",
       "      <td>2024-06-02</td>\n",
       "      <td>Bachelor's degree</td>\n",
       "      <td>Master's degree</td>\n",
       "      <td>5.000000</td>\n",
       "      <td>3.773903</td>\n",
       "      <td>ET3037E0C947A02404</td>\n",
       "      <td>[\\n  \"KS1218W78FGVPVP2KXPX\",\\n  \"ESF3939CE1F80...</td>\n",
       "      <td>[\\n  \"ESF3939CE1F80C10C327\",\\n  \"KS120GV6C72JM...</td>\n",
       "      <td>...</td>\n",
       "      <td>[\\n  \"KS1218W78FGVPVP2KXPX\",\\n  \"BGS1ADAA36DB6...</td>\n",
       "      <td>[\\n  \"KS126HY6YLTB9R7XJC4Z\"\\n]</td>\n",
       "      <td>Data Scientists</td>\n",
       "      <td>524291</td>\n",
       "      <td>Finance and Insurance</td>\n",
       "      <td>[None]</td>\n",
       "      <td>116348.5</td>\n",
       "      <td>Data Analysts</td>\n",
       "      <td>[\\n  \"Management\",\\n  \"Exception Reporting\",\\n...</td>\n",
       "      <td>[\\n  \"Exception Reporting\",\\n  \"Data Analysis\"...</td>\n",
       "    </tr>\n",
       "    <tr>\n",
       "      <th>3</th>\n",
       "      <td>37615159</td>\n",
       "      <td>{\\n  \"lat\": 33.4483771,\\n  \"lon\": -112.0740373\\n}</td>\n",
       "      <td>2024-06-02</td>\n",
       "      <td>No Education Listed</td>\n",
       "      <td>Master's degree</td>\n",
       "      <td>3.000000</td>\n",
       "      <td>3.773903</td>\n",
       "      <td>ET2114E0404BA30075</td>\n",
       "      <td>[\\n  \"KS123QX62QYTC4JF38H8\",\\n  \"KS7G6NP6R6L1H...</td>\n",
       "      <td>[\\n  \"KS123QX62QYTC4JF38H8\",\\n  \"KS441PQ64HT13...</td>\n",
       "      <td>...</td>\n",
       "      <td>[\\n  \"KS7G6NP6R6L1H1SKFTSY\",\\n  \"KS1218W78FGVP...</td>\n",
       "      <td>[\\n  \"KS4409D76NW1S5LNCL18\",\\n  \"ESC7869CF7378...</td>\n",
       "      <td>Data Scientists</td>\n",
       "      <td>522110</td>\n",
       "      <td>Finance and Insurance</td>\n",
       "      <td>[None]</td>\n",
       "      <td>116348.5</td>\n",
       "      <td>Management Analysts</td>\n",
       "      <td>[\\n  \"Exit Strategies\",\\n  \"Reliability\",\\n  \"...</td>\n",
       "      <td>[\\n  \"Exit Strategies\",\\n  \"User Story\",\\n  \"H...</td>\n",
       "    </tr>\n",
       "    <tr>\n",
       "      <th>4</th>\n",
       "      <td>0</td>\n",
       "      <td>{\\n  \"lat\": 37.6392595,\\n  \"lon\": -120.9970014\\n}</td>\n",
       "      <td>2024-06-02</td>\n",
       "      <td>No Education Listed</td>\n",
       "      <td>Master's degree</td>\n",
       "      <td>5.486539</td>\n",
       "      <td>3.773903</td>\n",
       "      <td>ET0000000000000000</td>\n",
       "      <td>[]</td>\n",
       "      <td>[]</td>\n",
       "      <td>...</td>\n",
       "      <td>[]</td>\n",
       "      <td>[]</td>\n",
       "      <td>Data Scientists</td>\n",
       "      <td>999999</td>\n",
       "      <td>Unclassified Industry</td>\n",
       "      <td>[None]</td>\n",
       "      <td>92500.0</td>\n",
       "      <td>Unclassified</td>\n",
       "      <td>[]</td>\n",
       "      <td>[]</td>\n",
       "    </tr>\n",
       "  </tbody>\n",
       "</table>\n",
       "<p>5 rows × 21 columns</p>\n",
       "</div>"
      ],
      "text/plain": [
       "    COMPANY                                           LOCATION      POSTED  \\\n",
       "0    894731     {\\n  \"lat\": 33.20763,\\n  \"lon\": -92.6662674\\n}  2024-06-02   \n",
       "1    133098   {\\n  \"lat\": 44.3106241,\\n  \"lon\": -69.7794897\\n}  2024-06-02   \n",
       "2  39063746   {\\n  \"lat\": 32.7766642,\\n  \"lon\": -96.7969879\\n}  2024-06-02   \n",
       "3  37615159  {\\n  \"lat\": 33.4483771,\\n  \"lon\": -112.0740373\\n}  2024-06-02   \n",
       "4         0  {\\n  \"lat\": 37.6392595,\\n  \"lon\": -120.9970014\\n}  2024-06-02   \n",
       "\n",
       "    MIN_EDULEVELS_NAME MAX_EDULEVELS_NAME  MIN_YEARS_EXPERIENCE  \\\n",
       "0    Bachelor's degree    Master's degree              2.000000   \n",
       "1  No Education Listed    Master's degree              3.000000   \n",
       "2    Bachelor's degree    Master's degree              5.000000   \n",
       "3  No Education Listed    Master's degree              3.000000   \n",
       "4  No Education Listed    Master's degree              5.486539   \n",
       "\n",
       "   MAX_YEARS_EXPERIENCE               TITLE  \\\n",
       "0              2.000000  ET29C073C03D1F86B4   \n",
       "1              3.000000  ET21DDA63780A7DC09   \n",
       "2              3.773903  ET3037E0C947A02404   \n",
       "3              3.773903  ET2114E0404BA30075   \n",
       "4              3.773903  ET0000000000000000   \n",
       "\n",
       "                                              SKILLS  \\\n",
       "0  [\\n  \"KS126DB6T061MHD7RTGQ\",\\n  \"KS126706DPFD3...   \n",
       "1  [\\n  \"KS122626T550SLQ7QZ1C\",\\n  \"KS123YJ6KVWC9...   \n",
       "2  [\\n  \"KS1218W78FGVPVP2KXPX\",\\n  \"ESF3939CE1F80...   \n",
       "3  [\\n  \"KS123QX62QYTC4JF38H8\",\\n  \"KS7G6NP6R6L1H...   \n",
       "4                                                 []   \n",
       "\n",
       "                                  SPECIALIZED_SKILLS  ...  \\\n",
       "0  [\\n  \"KS126DB6T061MHD7RTGQ\",\\n  \"KS128006L3V0H...  ...   \n",
       "1  [\\n  \"KS122626T550SLQ7QZ1C\",\\n  \"KS123YJ6KVWC9...  ...   \n",
       "2  [\\n  \"ESF3939CE1F80C10C327\",\\n  \"KS120GV6C72JM...  ...   \n",
       "3  [\\n  \"KS123QX62QYTC4JF38H8\",\\n  \"KS441PQ64HT13...  ...   \n",
       "4                                                 []  ...   \n",
       "\n",
       "                                       COMMON_SKILLS  \\\n",
       "0  [\\n  \"KS126706DPFD3354M7YK\",\\n  \"KS1280B68GD79...   \n",
       "1                                                 []   \n",
       "2  [\\n  \"KS1218W78FGVPVP2KXPX\",\\n  \"BGS1ADAA36DB6...   \n",
       "3  [\\n  \"KS7G6NP6R6L1H1SKFTSY\",\\n  \"KS1218W78FGVP...   \n",
       "4                                                 []   \n",
       "\n",
       "                                     SOFTWARE_SKILLS  SOC_2021_4_NAME  \\\n",
       "0  [\\n  \"KS440W865GC4VRBW6LJP\",\\n  \"KS13USA80NE38...  Data Scientists   \n",
       "1  [\\n  \"BGSBF3F508F7F46312E3\",\\n  \"ESEA839CED378...  Data Scientists   \n",
       "2                     [\\n  \"KS126HY6YLTB9R7XJC4Z\"\\n]  Data Scientists   \n",
       "3  [\\n  \"KS4409D76NW1S5LNCL18\",\\n  \"ESC7869CF7378...  Data Scientists   \n",
       "4                                                 []  Data Scientists   \n",
       "\n",
       "  NAICS_2022_6                                        NAICS2_NAME  \\\n",
       "0       441330                                       Retail Trade   \n",
       "1       561320  Administrative and Support and Waste Managemen...   \n",
       "2       524291                              Finance and Insurance   \n",
       "3       522110                              Finance and Insurance   \n",
       "4       999999                              Unclassified Industry   \n",
       "\n",
       "  REMOTE_TYPE_NAME    SALARY           TITLE_NAME  \\\n",
       "0           [None]  116348.5  Enterprise Analysts   \n",
       "1           Remote  116348.5   Oracle Consultants   \n",
       "2           [None]  116348.5        Data Analysts   \n",
       "3           [None]  116348.5  Management Analysts   \n",
       "4           [None]   92500.0         Unclassified   \n",
       "\n",
       "                                         SKILLS_NAME  \\\n",
       "0  [\\n  \"Merchandising\",\\n  \"Mathematics\",\\n  \"Pr...   \n",
       "1  [\\n  \"Procurement\",\\n  \"Financial Statements\",...   \n",
       "2  [\\n  \"Management\",\\n  \"Exception Reporting\",\\n...   \n",
       "3  [\\n  \"Exit Strategies\",\\n  \"Reliability\",\\n  \"...   \n",
       "4                                                 []   \n",
       "\n",
       "                             SPECIALIZED_SKILLS_NAME  \n",
       "0  [\\n  \"Merchandising\",\\n  \"Predictive Modeling\"...  \n",
       "1  [\\n  \"Procurement\",\\n  \"Financial Statements\",...  \n",
       "2  [\\n  \"Exception Reporting\",\\n  \"Data Analysis\"...  \n",
       "3  [\\n  \"Exit Strategies\",\\n  \"User Story\",\\n  \"H...  \n",
       "4                                                 []  \n",
       "\n",
       "[5 rows x 21 columns]"
      ]
     },
     "execution_count": 17,
     "metadata": {},
     "output_type": "execute_result"
    }
   ],
   "source": [
    "import pandas as pd\n",
    "\n",
    "eda = pd.read_csv('./data/eda_data.csv')\n",
    "eda.head()"
   ]
  },
  {
   "cell_type": "code",
   "execution_count": 18,
   "metadata": {},
   "outputs": [
    {
     "data": {
      "text/plain": [
       "DATA_ANALYST_JOB\n",
       "False    37052\n",
       "True     32148\n",
       "Name: count, dtype: int64"
      ]
     },
     "execution_count": 18,
     "metadata": {},
     "output_type": "execute_result"
    }
   ],
   "source": [
    "# identifying data analyst jobs by keyword searching\n",
    "keywords = ['Data Analyst', 'Business Analyst', 'Data Engineering', 'Deep Learning',\n",
    "            'Data Science', 'Data Analysis','Data Analytics',  'Market Research Analyst' \n",
    "            'LLM', 'Language Model', 'NLP', 'Natural Language Processing',\n",
    "            'Computer Vision', 'Business Intelligence Analyst', 'Quantitative Analyst', 'Operations Analyst']\n",
    "\n",
    "match = lambda col: eda[col].str.contains('|'.join(keywords), case=False, na=False)\n",
    "\n",
    "eda['DATA_ANALYST_JOB'] = match('TITLE_NAME') \\\n",
    "             | match('SKILLS_NAME') \\\n",
    "             | match('SPECIALIZED_SKILLS_NAME') \n",
    "eda['DATA_ANALYST_JOB'].value_counts()"
   ]
  },
  {
   "cell_type": "code",
   "execution_count": 25,
   "metadata": {},
   "outputs": [
    {
     "data": {
      "application/vnd.plotly.v1+json": {
       "config": {
        "plotlyServerURL": "https://plot.ly"
       },
       "data": [
        {
         "alignmentgroup": "True",
         "hovertemplate": "DATA_ANALYST_JOB=False<br>Industry=%{x}<br>Number of Jobs=%{y}<extra></extra>",
         "legendgroup": "False",
         "marker": {
          "color": "#FF6B6B",
          "line": {
           "color": "#2D3748",
           "width": 1.2
          },
          "pattern": {
           "shape": ""
          }
         },
         "name": "False",
         "offsetgroup": "False",
         "opacity": 0.85,
         "orientation": "v",
         "showlegend": true,
         "text": [
          372,
          4155,
          40,
          66,
          235,
          596,
          2849,
          877,
          1824,
          104,
          2119,
          69,
          267,
          14918,
          349,
          232,
          1097,
          336,
          5140,
          309,
          1098,
          198,
          3878,
          36,
          84,
          379,
          1370,
          4142,
          1899,
          1950,
          164,
          2427,
          96,
          446,
          7407,
          604,
          546,
          793,
          326,
          4069,
          341,
          993
         ],
         "textfont": {
          "color": "#2D3748",
          "family": "Helvetica, sans-serif",
          "size": 12
         },
         "textposition": "outside",
         "texttemplate": "%{text}",
         "type": "bar",
         "x": [
          "Hospitality",
          "Admin & Waste Mgmt",
          "Agriculture, Forestry, Fishing and Hunting",
          "Arts, Entertainment, and Recreation",
          "Construction",
          "Education",
          "Finance",
          "Healthcare",
          "Info Tech",
          "Management of Companies and Enterprises",
          "Manufacturing",
          "Mining, Quarrying, and Oil and Gas Extraction",
          "Other Services",
          "Prof. Services",
          "Public Administration",
          "Real Estate and Rental and Leasing",
          "Retail",
          "Transportation and Warehousing",
          "Unclassified Industry",
          "Utilities",
          "Wholesale Trade"
         ],
         "xaxis": "x",
         "y": [
          372,
          4155,
          40,
          66,
          235,
          596,
          2849,
          877,
          1824,
          104,
          2119,
          69,
          267,
          14918,
          349,
          232,
          1097,
          336,
          5140,
          309,
          1098
         ],
         "yaxis": "y"
        },
        {
         "alignmentgroup": "True",
         "hovertemplate": "DATA_ANALYST_JOB=True<br>Industry=%{x}<br>Number of Jobs=%{y}<extra></extra>",
         "legendgroup": "True",
         "marker": {
          "color": "#4ECDC4",
          "line": {
           "color": "#2D3748",
           "width": 1.2
          },
          "pattern": {
           "shape": ""
          }
         },
         "name": "True",
         "offsetgroup": "True",
         "opacity": 0.85,
         "orientation": "v",
         "showlegend": true,
         "text": [
          372,
          4155,
          40,
          66,
          235,
          596,
          2849,
          877,
          1824,
          104,
          2119,
          69,
          267,
          14918,
          349,
          232,
          1097,
          336,
          5140,
          309,
          1098,
          198,
          3878,
          36,
          84,
          379,
          1370,
          4142,
          1899,
          1950,
          164,
          2427,
          96,
          446,
          7407,
          604,
          546,
          793,
          326,
          4069,
          341,
          993
         ],
         "textfont": {
          "color": "#2D3748",
          "family": "Helvetica, sans-serif",
          "size": 12
         },
         "textposition": "outside",
         "texttemplate": "%{text}",
         "type": "bar",
         "x": [
          "Hospitality",
          "Admin & Waste Mgmt",
          "Agriculture, Forestry, Fishing and Hunting",
          "Arts, Entertainment, and Recreation",
          "Construction",
          "Education",
          "Finance",
          "Healthcare",
          "Info Tech",
          "Management of Companies and Enterprises",
          "Manufacturing",
          "Mining, Quarrying, and Oil and Gas Extraction",
          "Other Services",
          "Prof. Services",
          "Public Administration",
          "Real Estate and Rental and Leasing",
          "Retail",
          "Transportation and Warehousing",
          "Unclassified Industry",
          "Utilities",
          "Wholesale Trade"
         ],
         "xaxis": "x",
         "y": [
          198,
          3878,
          36,
          84,
          379,
          1370,
          4142,
          1899,
          1950,
          164,
          2427,
          96,
          446,
          7407,
          604,
          546,
          793,
          326,
          4069,
          341,
          993
         ],
         "yaxis": "y"
        }
       ],
       "layout": {
        "annotations": [
         {
          "arrowhead": 1,
          "ax": 20,
          "ay": -40,
          "bgcolor": "rgba(255, 255, 255, 0.85)",
          "bordercolor": "#2D3748",
          "borderpad": 4,
          "borderwidth": 1,
          "font": {
           "color": "#2D3748",
           "family": "Helvetica, sans-serif",
           "size": 13
          },
          "showarrow": true,
          "text": "Top: Prof. Services<br>14918 Jobs",
          "x": "Prof. Services",
          "y": 16409.800000000003
         }
        ],
        "autosize": true,
        "bargap": 0.2,
        "barmode": "group",
        "font": {
         "color": "#2D3748",
         "family": "Helvetica, sans-serif",
         "size": 14
        },
        "height": 650,
        "hoverlabel": {
         "bgcolor": "rgba(255, 255, 255, 0.9)",
         "bordercolor": "#2D3748",
         "font": {
          "color": "#2D3748",
          "family": "Helvetica, sans-serif",
          "size": 13
         }
        },
        "hovermode": "closest",
        "legend": {
         "bgcolor": "rgba(255, 255, 255, 0.95)",
         "bordercolor": "#2D3748",
         "borderwidth": 1,
         "font": {
          "color": "#2D3748",
          "size": 13
         },
         "title": {
          "text": "Job Type"
         },
         "tracegroupgap": 0,
         "x": 1.02,
         "xanchor": "left",
         "y": 0.5,
         "yanchor": "middle"
        },
        "margin": {
         "b": 120,
         "l": 50,
         "r": 50,
         "t": 90
        },
        "paper_bgcolor": "rgba(255, 255, 255, 1)",
        "plot_bgcolor": "rgba(240, 240, 245, 1)",
        "template": {
         "data": {
          "bar": [
           {
            "error_x": {
             "color": "#2a3f5f"
            },
            "error_y": {
             "color": "#2a3f5f"
            },
            "marker": {
             "line": {
              "color": "#E5ECF6",
              "width": 0.5
             },
             "pattern": {
              "fillmode": "overlay",
              "size": 10,
              "solidity": 0.2
             }
            },
            "type": "bar"
           }
          ],
          "barpolar": [
           {
            "marker": {
             "line": {
              "color": "#E5ECF6",
              "width": 0.5
             },
             "pattern": {
              "fillmode": "overlay",
              "size": 10,
              "solidity": 0.2
             }
            },
            "type": "barpolar"
           }
          ],
          "carpet": [
           {
            "aaxis": {
             "endlinecolor": "#2a3f5f",
             "gridcolor": "white",
             "linecolor": "white",
             "minorgridcolor": "white",
             "startlinecolor": "#2a3f5f"
            },
            "baxis": {
             "endlinecolor": "#2a3f5f",
             "gridcolor": "white",
             "linecolor": "white",
             "minorgridcolor": "white",
             "startlinecolor": "#2a3f5f"
            },
            "type": "carpet"
           }
          ],
          "choropleth": [
           {
            "colorbar": {
             "outlinewidth": 0,
             "ticks": ""
            },
            "type": "choropleth"
           }
          ],
          "contour": [
           {
            "colorbar": {
             "outlinewidth": 0,
             "ticks": ""
            },
            "colorscale": [
             [
              0,
              "#0d0887"
             ],
             [
              0.1111111111111111,
              "#46039f"
             ],
             [
              0.2222222222222222,
              "#7201a8"
             ],
             [
              0.3333333333333333,
              "#9c179e"
             ],
             [
              0.4444444444444444,
              "#bd3786"
             ],
             [
              0.5555555555555556,
              "#d8576b"
             ],
             [
              0.6666666666666666,
              "#ed7953"
             ],
             [
              0.7777777777777778,
              "#fb9f3a"
             ],
             [
              0.8888888888888888,
              "#fdca26"
             ],
             [
              1,
              "#f0f921"
             ]
            ],
            "type": "contour"
           }
          ],
          "contourcarpet": [
           {
            "colorbar": {
             "outlinewidth": 0,
             "ticks": ""
            },
            "type": "contourcarpet"
           }
          ],
          "heatmap": [
           {
            "colorbar": {
             "outlinewidth": 0,
             "ticks": ""
            },
            "colorscale": [
             [
              0,
              "#0d0887"
             ],
             [
              0.1111111111111111,
              "#46039f"
             ],
             [
              0.2222222222222222,
              "#7201a8"
             ],
             [
              0.3333333333333333,
              "#9c179e"
             ],
             [
              0.4444444444444444,
              "#bd3786"
             ],
             [
              0.5555555555555556,
              "#d8576b"
             ],
             [
              0.6666666666666666,
              "#ed7953"
             ],
             [
              0.7777777777777778,
              "#fb9f3a"
             ],
             [
              0.8888888888888888,
              "#fdca26"
             ],
             [
              1,
              "#f0f921"
             ]
            ],
            "type": "heatmap"
           }
          ],
          "heatmapgl": [
           {
            "colorbar": {
             "outlinewidth": 0,
             "ticks": ""
            },
            "colorscale": [
             [
              0,
              "#0d0887"
             ],
             [
              0.1111111111111111,
              "#46039f"
             ],
             [
              0.2222222222222222,
              "#7201a8"
             ],
             [
              0.3333333333333333,
              "#9c179e"
             ],
             [
              0.4444444444444444,
              "#bd3786"
             ],
             [
              0.5555555555555556,
              "#d8576b"
             ],
             [
              0.6666666666666666,
              "#ed7953"
             ],
             [
              0.7777777777777778,
              "#fb9f3a"
             ],
             [
              0.8888888888888888,
              "#fdca26"
             ],
             [
              1,
              "#f0f921"
             ]
            ],
            "type": "heatmapgl"
           }
          ],
          "histogram": [
           {
            "marker": {
             "pattern": {
              "fillmode": "overlay",
              "size": 10,
              "solidity": 0.2
             }
            },
            "type": "histogram"
           }
          ],
          "histogram2d": [
           {
            "colorbar": {
             "outlinewidth": 0,
             "ticks": ""
            },
            "colorscale": [
             [
              0,
              "#0d0887"
             ],
             [
              0.1111111111111111,
              "#46039f"
             ],
             [
              0.2222222222222222,
              "#7201a8"
             ],
             [
              0.3333333333333333,
              "#9c179e"
             ],
             [
              0.4444444444444444,
              "#bd3786"
             ],
             [
              0.5555555555555556,
              "#d8576b"
             ],
             [
              0.6666666666666666,
              "#ed7953"
             ],
             [
              0.7777777777777778,
              "#fb9f3a"
             ],
             [
              0.8888888888888888,
              "#fdca26"
             ],
             [
              1,
              "#f0f921"
             ]
            ],
            "type": "histogram2d"
           }
          ],
          "histogram2dcontour": [
           {
            "colorbar": {
             "outlinewidth": 0,
             "ticks": ""
            },
            "colorscale": [
             [
              0,
              "#0d0887"
             ],
             [
              0.1111111111111111,
              "#46039f"
             ],
             [
              0.2222222222222222,
              "#7201a8"
             ],
             [
              0.3333333333333333,
              "#9c179e"
             ],
             [
              0.4444444444444444,
              "#bd3786"
             ],
             [
              0.5555555555555556,
              "#d8576b"
             ],
             [
              0.6666666666666666,
              "#ed7953"
             ],
             [
              0.7777777777777778,
              "#fb9f3a"
             ],
             [
              0.8888888888888888,
              "#fdca26"
             ],
             [
              1,
              "#f0f921"
             ]
            ],
            "type": "histogram2dcontour"
           }
          ],
          "mesh3d": [
           {
            "colorbar": {
             "outlinewidth": 0,
             "ticks": ""
            },
            "type": "mesh3d"
           }
          ],
          "parcoords": [
           {
            "line": {
             "colorbar": {
              "outlinewidth": 0,
              "ticks": ""
             }
            },
            "type": "parcoords"
           }
          ],
          "pie": [
           {
            "automargin": true,
            "type": "pie"
           }
          ],
          "scatter": [
           {
            "fillpattern": {
             "fillmode": "overlay",
             "size": 10,
             "solidity": 0.2
            },
            "type": "scatter"
           }
          ],
          "scatter3d": [
           {
            "line": {
             "colorbar": {
              "outlinewidth": 0,
              "ticks": ""
             }
            },
            "marker": {
             "colorbar": {
              "outlinewidth": 0,
              "ticks": ""
             }
            },
            "type": "scatter3d"
           }
          ],
          "scattercarpet": [
           {
            "marker": {
             "colorbar": {
              "outlinewidth": 0,
              "ticks": ""
             }
            },
            "type": "scattercarpet"
           }
          ],
          "scattergeo": [
           {
            "marker": {
             "colorbar": {
              "outlinewidth": 0,
              "ticks": ""
             }
            },
            "type": "scattergeo"
           }
          ],
          "scattergl": [
           {
            "marker": {
             "colorbar": {
              "outlinewidth": 0,
              "ticks": ""
             }
            },
            "type": "scattergl"
           }
          ],
          "scattermapbox": [
           {
            "marker": {
             "colorbar": {
              "outlinewidth": 0,
              "ticks": ""
             }
            },
            "type": "scattermapbox"
           }
          ],
          "scatterpolar": [
           {
            "marker": {
             "colorbar": {
              "outlinewidth": 0,
              "ticks": ""
             }
            },
            "type": "scatterpolar"
           }
          ],
          "scatterpolargl": [
           {
            "marker": {
             "colorbar": {
              "outlinewidth": 0,
              "ticks": ""
             }
            },
            "type": "scatterpolargl"
           }
          ],
          "scatterternary": [
           {
            "marker": {
             "colorbar": {
              "outlinewidth": 0,
              "ticks": ""
             }
            },
            "type": "scatterternary"
           }
          ],
          "surface": [
           {
            "colorbar": {
             "outlinewidth": 0,
             "ticks": ""
            },
            "colorscale": [
             [
              0,
              "#0d0887"
             ],
             [
              0.1111111111111111,
              "#46039f"
             ],
             [
              0.2222222222222222,
              "#7201a8"
             ],
             [
              0.3333333333333333,
              "#9c179e"
             ],
             [
              0.4444444444444444,
              "#bd3786"
             ],
             [
              0.5555555555555556,
              "#d8576b"
             ],
             [
              0.6666666666666666,
              "#ed7953"
             ],
             [
              0.7777777777777778,
              "#fb9f3a"
             ],
             [
              0.8888888888888888,
              "#fdca26"
             ],
             [
              1,
              "#f0f921"
             ]
            ],
            "type": "surface"
           }
          ],
          "table": [
           {
            "cells": {
             "fill": {
              "color": "#EBF0F8"
             },
             "line": {
              "color": "white"
             }
            },
            "header": {
             "fill": {
              "color": "#C8D4E3"
             },
             "line": {
              "color": "white"
             }
            },
            "type": "table"
           }
          ]
         },
         "layout": {
          "annotationdefaults": {
           "arrowcolor": "#2a3f5f",
           "arrowhead": 0,
           "arrowwidth": 1
          },
          "autotypenumbers": "strict",
          "coloraxis": {
           "colorbar": {
            "outlinewidth": 0,
            "ticks": ""
           }
          },
          "colorscale": {
           "diverging": [
            [
             0,
             "#8e0152"
            ],
            [
             0.1,
             "#c51b7d"
            ],
            [
             0.2,
             "#de77ae"
            ],
            [
             0.3,
             "#f1b6da"
            ],
            [
             0.4,
             "#fde0ef"
            ],
            [
             0.5,
             "#f7f7f7"
            ],
            [
             0.6,
             "#e6f5d0"
            ],
            [
             0.7,
             "#b8e186"
            ],
            [
             0.8,
             "#7fbc41"
            ],
            [
             0.9,
             "#4d9221"
            ],
            [
             1,
             "#276419"
            ]
           ],
           "sequential": [
            [
             0,
             "#0d0887"
            ],
            [
             0.1111111111111111,
             "#46039f"
            ],
            [
             0.2222222222222222,
             "#7201a8"
            ],
            [
             0.3333333333333333,
             "#9c179e"
            ],
            [
             0.4444444444444444,
             "#bd3786"
            ],
            [
             0.5555555555555556,
             "#d8576b"
            ],
            [
             0.6666666666666666,
             "#ed7953"
            ],
            [
             0.7777777777777778,
             "#fb9f3a"
            ],
            [
             0.8888888888888888,
             "#fdca26"
            ],
            [
             1,
             "#f0f921"
            ]
           ],
           "sequentialminus": [
            [
             0,
             "#0d0887"
            ],
            [
             0.1111111111111111,
             "#46039f"
            ],
            [
             0.2222222222222222,
             "#7201a8"
            ],
            [
             0.3333333333333333,
             "#9c179e"
            ],
            [
             0.4444444444444444,
             "#bd3786"
            ],
            [
             0.5555555555555556,
             "#d8576b"
            ],
            [
             0.6666666666666666,
             "#ed7953"
            ],
            [
             0.7777777777777778,
             "#fb9f3a"
            ],
            [
             0.8888888888888888,
             "#fdca26"
            ],
            [
             1,
             "#f0f921"
            ]
           ]
          },
          "colorway": [
           "#636efa",
           "#EF553B",
           "#00cc96",
           "#ab63fa",
           "#FFA15A",
           "#19d3f3",
           "#FF6692",
           "#B6E880",
           "#FF97FF",
           "#FECB52"
          ],
          "font": {
           "color": "#2a3f5f"
          },
          "geo": {
           "bgcolor": "white",
           "lakecolor": "white",
           "landcolor": "#E5ECF6",
           "showlakes": true,
           "showland": true,
           "subunitcolor": "white"
          },
          "hoverlabel": {
           "align": "left"
          },
          "hovermode": "closest",
          "mapbox": {
           "style": "light"
          },
          "paper_bgcolor": "white",
          "plot_bgcolor": "#E5ECF6",
          "polar": {
           "angularaxis": {
            "gridcolor": "white",
            "linecolor": "white",
            "ticks": ""
           },
           "bgcolor": "#E5ECF6",
           "radialaxis": {
            "gridcolor": "white",
            "linecolor": "white",
            "ticks": ""
           }
          },
          "scene": {
           "xaxis": {
            "backgroundcolor": "#E5ECF6",
            "gridcolor": "white",
            "gridwidth": 2,
            "linecolor": "white",
            "showbackground": true,
            "ticks": "",
            "zerolinecolor": "white"
           },
           "yaxis": {
            "backgroundcolor": "#E5ECF6",
            "gridcolor": "white",
            "gridwidth": 2,
            "linecolor": "white",
            "showbackground": true,
            "ticks": "",
            "zerolinecolor": "white"
           },
           "zaxis": {
            "backgroundcolor": "#E5ECF6",
            "gridcolor": "white",
            "gridwidth": 2,
            "linecolor": "white",
            "showbackground": true,
            "ticks": "",
            "zerolinecolor": "white"
           }
          },
          "shapedefaults": {
           "line": {
            "color": "#2a3f5f"
           }
          },
          "ternary": {
           "aaxis": {
            "gridcolor": "white",
            "linecolor": "white",
            "ticks": ""
           },
           "baxis": {
            "gridcolor": "white",
            "linecolor": "white",
            "ticks": ""
           },
           "bgcolor": "#E5ECF6",
           "caxis": {
            "gridcolor": "white",
            "linecolor": "white",
            "ticks": ""
           }
          },
          "title": {
           "x": 0.05
          },
          "xaxis": {
           "automargin": true,
           "gridcolor": "white",
           "linecolor": "white",
           "ticks": "",
           "title": {
            "standoff": 15
           },
           "zerolinecolor": "white",
           "zerolinewidth": 2
          },
          "yaxis": {
           "automargin": true,
           "gridcolor": "white",
           "linecolor": "white",
           "ticks": "",
           "title": {
            "standoff": 15
           },
           "zerolinecolor": "white",
           "zerolinewidth": 2
          }
         }
        },
        "title": {
         "font": {
          "color": "#2D3748",
          "family": "Helvetica, sans-serif",
          "size": 26
         },
         "text": "Data & Business Analytics Job Trends",
         "x": 0.5,
         "xanchor": "center",
         "y": 0.95,
         "yanchor": "top"
        },
        "width": 1100,
        "xaxis": {
         "anchor": "y",
         "domain": [
          0,
          1
         ],
         "gridcolor": "rgba(200, 200, 200, 0.2)",
         "linecolor": "#2D3748",
         "linewidth": 2,
         "showline": true,
         "tickangle": -30,
         "tickfont": {
          "color": "#4A5568",
          "size": 13
         },
         "title": {
          "font": {
           "color": "#2D3748",
           "size": 18
          },
          "text": "Industry"
         }
        },
        "yaxis": {
         "anchor": "x",
         "domain": [
          0,
          1
         ],
         "gridcolor": "rgba(200, 200, 200, 0.2)",
         "linecolor": "#2D3748",
         "linewidth": 2,
         "range": [
          0,
          17155.699999999997
         ],
         "showline": true,
         "tickfont": {
          "color": "#4A5568",
          "size": 13
         },
         "title": {
          "font": {
           "color": "#2D3748",
           "size": 18
          },
          "text": "Number of Jobs"
         }
        }
       }
      }
     },
     "metadata": {},
     "output_type": "display_data"
    }
   ],
   "source": [
    "import plotly.express as px\n",
    "import plotly.graph_objects as go\n",
    "\n",
    "# Group data (same as before)\n",
    "df_grouped = eda.groupby(['DATA_ANALYST_JOB', 'NAICS2_NAME']).size().reset_index(name='Job_Count')\n",
    "\n",
    "# Shorten the industry names (NAICS2_NAME) for better readability\n",
    "# Assuming NAICS2_NAME has long names, we'll map them to shorter versions\n",
    "# Example: Replace long names with abbreviations or shorter terms\n",
    "industry_short_names = {\n",
    "    'Professional, Scientific, and Technical Services': 'Prof. Services',\n",
    "    'Administrative and Support and Waste Management and Remediation Services': 'Admin & Waste Mgmt',\n",
    "    'Health Care and Social Assistance': 'Healthcare',\n",
    "    'Finance and Insurance': 'Finance',\n",
    "    'Information': 'Info Tech',\n",
    "    'Educational Services': 'Education',\n",
    "    'Manufacturing': 'Manufacturing',\n",
    "    'Retail Trade': 'Retail',\n",
    "    'Accommodation and Food Services': 'Hospitality',\n",
    "    'Other Services (except Public Administration)': 'Other Services',\n",
    "    # Add more mappings as needed based on your dataset\n",
    "}\n",
    "\n",
    "# Apply the shortened names to the dataframe\n",
    "df_grouped['NAICS2_NAME_SHORT'] = df_grouped['NAICS2_NAME'].map(industry_short_names).fillna(df_grouped['NAICS2_NAME'])\n",
    "\n",
    "# Define a vibrant and modern color palette\n",
    "color_map = {\n",
    "    False: \"#FF6B6B\",  # Coral red for False\n",
    "    True: \"#4ECDC4\"    # Teal for True\n",
    "}\n",
    "\n",
    "# Create the bar plot with Plotly Express\n",
    "fig = px.bar(df_grouped, \n",
    "             x='NAICS2_NAME_SHORT',  # Use shortened names\n",
    "             y='Job_Count',\n",
    "             color='DATA_ANALYST_JOB',\n",
    "             title=\"Data & Business Analytics Job Trends\",\n",
    "             labels={'NAICS2_NAME_SHORT': 'Industry', 'Job_Count': 'Number of Jobs'},\n",
    "             barmode='group',\n",
    "             color_discrete_map=color_map\n",
    "            )\n",
    "\n",
    "# Beautify the layout with a modern, clean design\n",
    "fig.update_layout(\n",
    "    # Sizing and margins\n",
    "    autosize=True,\n",
    "    width=1100,  # Slightly narrower for better focus\n",
    "    height=650,  # Adjusted height\n",
    "    margin=dict(l=50, r=50, t=90, b=120),  # Adjusted margins for cleaner look\n",
    "\n",
    "    # Background and plot styling\n",
    "    plot_bgcolor='rgba(240, 240, 245, 1)',  # Softer gray background\n",
    "    paper_bgcolor='rgba(255, 255, 255, 1)',  # White paper background\n",
    "    font=dict(family=\"Helvetica, sans-serif\", size=14, color=\"#2D3748\"),  # Modern font\n",
    "\n",
    "    # Title styling\n",
    "    title=dict(\n",
    "        text=\"Data & Business Analytics Job Trends\",\n",
    "        font=dict(size=26, color=\"#2D3748\", family=\"Helvetica, sans-serif\"),\n",
    "        x=0.5,  # Center the title\n",
    "        xanchor=\"center\",\n",
    "        y=0.95,\n",
    "        yanchor=\"top\"\n",
    "    ),\n",
    "\n",
    "    # X-axis styling\n",
    "    xaxis=dict(\n",
    "        title=\"Industry\",\n",
    "        title_font=dict(size=18, color=\"#2D3748\"),\n",
    "        tickfont=dict(size=13, color=\"#4A5568\"),\n",
    "        tickangle=-30,  # Slightly less aggressive rotation\n",
    "        gridcolor=\"rgba(200, 200, 200, 0.2)\",  # Very light gridlines\n",
    "        linecolor=\"#2D3748\",\n",
    "        linewidth=2,\n",
    "        showline=True\n",
    "    ),\n",
    "\n",
    "    # Y-axis styling\n",
    "    yaxis=dict(\n",
    "        title=\"Number of Jobs\",\n",
    "        title_font=dict(size=18, color=\"#2D3748\"),\n",
    "        tickfont=dict(size=13, color=\"#4A5568\"),\n",
    "        range=[0, df_grouped['Job_Count'].max() * 1.15],  # Slightly tighter range\n",
    "        gridcolor=\"rgba(200, 200, 200, 0.2)\",\n",
    "        linecolor=\"#2D3748\",\n",
    "        linewidth=2,\n",
    "        showline=True\n",
    "    ),\n",
    "\n",
    "    # Legend styling\n",
    "    legend=dict(\n",
    "        title=\"Job Type\",\n",
    "        font=dict(size=13, color=\"#2D3748\"),\n",
    "        bgcolor=\"rgba(255, 255, 255, 0.95)\",\n",
    "        bordercolor=\"#2D3748\",\n",
    "        borderwidth=1,\n",
    "        x=1.02,  # Position outside\n",
    "        y=0.5,\n",
    "        xanchor=\"left\",\n",
    "        yanchor=\"middle\"\n",
    "    ),\n",
    "\n",
    "    # Hover and interactivity\n",
    "    hovermode=\"closest\",\n",
    "    hoverlabel=dict(\n",
    "        bgcolor=\"rgba(255, 255, 255, 0.9)\",\n",
    "        font_size=13,\n",
    "        font_family=\"Helvetica, sans-serif\",\n",
    "        font_color=\"#2D3748\",\n",
    "        bordercolor=\"#2D3748\"\n",
    "    ),\n",
    "\n",
    "    # Add a subtle shadow effect for depth\n",
    "    bargap=0.2,  # Add space between bars for clarity\n",
    ")\n",
    "\n",
    "# Customize the bars\n",
    "fig.update_traces(\n",
    "    marker=dict(\n",
    "        line=dict(width=1.2, color=\"#2D3748\"),  # Thinner border for elegance\n",
    "        # Add a gradient effect to the bars\n",
    "        coloraxis=None,\n",
    "    ),\n",
    "    opacity=0.85,  # Slight transparency for softness\n",
    "    text=df_grouped['Job_Count'],  # Add labels on bars\n",
    "    textposition='outside',  # Place labels outside for clarity\n",
    "    textfont=dict(size=12, color=\"#2D3748\", family=\"Helvetica, sans-serif\"),\n",
    "    texttemplate='%{text}',  # Show just the number\n",
    ")\n",
    "\n",
    "# Add a subtle annotation for the highest job count\n",
    "max_job = df_grouped.loc[df_grouped['Job_Count'].idxmax()]\n",
    "fig.add_annotation(\n",
    "    x=max_job['NAICS2_NAME_SHORT'],\n",
    "    y=max_job['Job_Count'] * 1.1,\n",
    "    text=f\"Top: {max_job['NAICS2_NAME_SHORT']}<br>{max_job['Job_Count']} Jobs\",\n",
    "    showarrow=True,\n",
    "    arrowhead=1,\n",
    "    ax=20,\n",
    "    ay=-40,\n",
    "    font=dict(size=13, color=\"#2D3748\", family=\"Helvetica, sans-serif\"),\n",
    "    bgcolor=\"rgba(255, 255, 255, 0.85)\",\n",
    "    bordercolor=\"#2D3748\",\n",
    "    borderwidth=1,\n",
    "    borderpad=4\n",
    ")\n",
    "\n",
    "# Show the plot\n",
    "fig.show()\n",
    "\n",
    "# Save as an HTML file for Quarto embedding\n",
    "fig.write_html(\"figures/plot1_jobtrends_super_pretty.html\")"
   ]
  },
  {
   "cell_type": "code",
   "execution_count": 27,
   "metadata": {},
   "outputs": [
    {
     "data": {
      "application/vnd.plotly.v1+json": {
       "config": {
        "plotlyServerURL": "https://plot.ly"
       },
       "data": [
        {
         "alignmentgroup": "True",
         "hovertemplate": "<b>%{fullData.name}</b><br>Category: %{x}<br>Jobs: %{y}<extra></extra>",
         "legendgroup": "Admin & Waste Mgmt",
         "marker": {
          "color": "#636efa",
          "line": {
           "color": "#2D3436",
           "width": 1
          },
          "opacity": 0.9,
          "pattern": {
           "shape": ""
          }
         },
         "name": "Admin & Waste Mgmt",
         "offsetgroup": "Admin & Waste Mgmt",
         "orientation": "v",
         "showlegend": true,
         "text": [
          4155,
          596,
          2849,
          877,
          1824,
          2119,
          14918,
          1097,
          5140,
          1098,
          3878,
          1370,
          4142,
          1899,
          1950,
          2427,
          7407,
          793,
          4069,
          993
         ],
         "textfont": {
          "color": "#2D3436",
          "family": "Poppins, sans-serif",
          "size": 12
         },
         "textposition": "outside",
         "texttemplate": "%{text}",
         "type": "bar",
         "x": [
          "Business Analyst",
          "Data Analyst"
         ],
         "xaxis": "x",
         "y": [
          4155,
          3878
         ],
         "yaxis": "y"
        },
        {
         "alignmentgroup": "True",
         "hovertemplate": "<b>%{fullData.name}</b><br>Category: %{x}<br>Jobs: %{y}<extra></extra>",
         "legendgroup": "Education",
         "marker": {
          "color": "#EF553B",
          "line": {
           "color": "#2D3436",
           "width": 1
          },
          "opacity": 0.9,
          "pattern": {
           "shape": ""
          }
         },
         "name": "Education",
         "offsetgroup": "Education",
         "orientation": "v",
         "showlegend": true,
         "text": [
          4155,
          596,
          2849,
          877,
          1824,
          2119,
          14918,
          1097,
          5140,
          1098,
          3878,
          1370,
          4142,
          1899,
          1950,
          2427,
          7407,
          793,
          4069,
          993
         ],
         "textfont": {
          "color": "#2D3436",
          "family": "Poppins, sans-serif",
          "size": 12
         },
         "textposition": "outside",
         "texttemplate": "%{text}",
         "type": "bar",
         "x": [
          "Business Analyst",
          "Data Analyst"
         ],
         "xaxis": "x",
         "y": [
          596,
          1370
         ],
         "yaxis": "y"
        },
        {
         "alignmentgroup": "True",
         "hovertemplate": "<b>%{fullData.name}</b><br>Category: %{x}<br>Jobs: %{y}<extra></extra>",
         "legendgroup": "Finance",
         "marker": {
          "color": "#00cc96",
          "line": {
           "color": "#2D3436",
           "width": 1
          },
          "opacity": 0.9,
          "pattern": {
           "shape": ""
          }
         },
         "name": "Finance",
         "offsetgroup": "Finance",
         "orientation": "v",
         "showlegend": true,
         "text": [
          4155,
          596,
          2849,
          877,
          1824,
          2119,
          14918,
          1097,
          5140,
          1098,
          3878,
          1370,
          4142,
          1899,
          1950,
          2427,
          7407,
          793,
          4069,
          993
         ],
         "textfont": {
          "color": "#2D3436",
          "family": "Poppins, sans-serif",
          "size": 12
         },
         "textposition": "outside",
         "texttemplate": "%{text}",
         "type": "bar",
         "x": [
          "Business Analyst",
          "Data Analyst"
         ],
         "xaxis": "x",
         "y": [
          2849,
          4142
         ],
         "yaxis": "y"
        },
        {
         "alignmentgroup": "True",
         "hovertemplate": "<b>%{fullData.name}</b><br>Category: %{x}<br>Jobs: %{y}<extra></extra>",
         "legendgroup": "Healthcare",
         "marker": {
          "color": "#ab63fa",
          "line": {
           "color": "#2D3436",
           "width": 1
          },
          "opacity": 0.9,
          "pattern": {
           "shape": ""
          }
         },
         "name": "Healthcare",
         "offsetgroup": "Healthcare",
         "orientation": "v",
         "showlegend": true,
         "text": [
          4155,
          596,
          2849,
          877,
          1824,
          2119,
          14918,
          1097,
          5140,
          1098,
          3878,
          1370,
          4142,
          1899,
          1950,
          2427,
          7407,
          793,
          4069,
          993
         ],
         "textfont": {
          "color": "#2D3436",
          "family": "Poppins, sans-serif",
          "size": 12
         },
         "textposition": "outside",
         "texttemplate": "%{text}",
         "type": "bar",
         "x": [
          "Business Analyst",
          "Data Analyst"
         ],
         "xaxis": "x",
         "y": [
          877,
          1899
         ],
         "yaxis": "y"
        },
        {
         "alignmentgroup": "True",
         "hovertemplate": "<b>%{fullData.name}</b><br>Category: %{x}<br>Jobs: %{y}<extra></extra>",
         "legendgroup": "Info Tech",
         "marker": {
          "color": "#FFA15A",
          "line": {
           "color": "#2D3436",
           "width": 1
          },
          "opacity": 0.9,
          "pattern": {
           "shape": ""
          }
         },
         "name": "Info Tech",
         "offsetgroup": "Info Tech",
         "orientation": "v",
         "showlegend": true,
         "text": [
          4155,
          596,
          2849,
          877,
          1824,
          2119,
          14918,
          1097,
          5140,
          1098,
          3878,
          1370,
          4142,
          1899,
          1950,
          2427,
          7407,
          793,
          4069,
          993
         ],
         "textfont": {
          "color": "#2D3436",
          "family": "Poppins, sans-serif",
          "size": 12
         },
         "textposition": "outside",
         "texttemplate": "%{text}",
         "type": "bar",
         "x": [
          "Business Analyst",
          "Data Analyst"
         ],
         "xaxis": "x",
         "y": [
          1824,
          1950
         ],
         "yaxis": "y"
        },
        {
         "alignmentgroup": "True",
         "hovertemplate": "<b>%{fullData.name}</b><br>Category: %{x}<br>Jobs: %{y}<extra></extra>",
         "legendgroup": "Manufacturing",
         "marker": {
          "color": "#19d3f3",
          "line": {
           "color": "#2D3436",
           "width": 1
          },
          "opacity": 0.9,
          "pattern": {
           "shape": ""
          }
         },
         "name": "Manufacturing",
         "offsetgroup": "Manufacturing",
         "orientation": "v",
         "showlegend": true,
         "text": [
          4155,
          596,
          2849,
          877,
          1824,
          2119,
          14918,
          1097,
          5140,
          1098,
          3878,
          1370,
          4142,
          1899,
          1950,
          2427,
          7407,
          793,
          4069,
          993
         ],
         "textfont": {
          "color": "#2D3436",
          "family": "Poppins, sans-serif",
          "size": 12
         },
         "textposition": "outside",
         "texttemplate": "%{text}",
         "type": "bar",
         "x": [
          "Business Analyst",
          "Data Analyst"
         ],
         "xaxis": "x",
         "y": [
          2119,
          2427
         ],
         "yaxis": "y"
        },
        {
         "alignmentgroup": "True",
         "hovertemplate": "<b>%{fullData.name}</b><br>Category: %{x}<br>Jobs: %{y}<extra></extra>",
         "legendgroup": "Prof. Services",
         "marker": {
          "color": "#FF6692",
          "line": {
           "color": "#2D3436",
           "width": 1
          },
          "opacity": 0.9,
          "pattern": {
           "shape": ""
          }
         },
         "name": "Prof. Services",
         "offsetgroup": "Prof. Services",
         "orientation": "v",
         "showlegend": true,
         "text": [
          4155,
          596,
          2849,
          877,
          1824,
          2119,
          14918,
          1097,
          5140,
          1098,
          3878,
          1370,
          4142,
          1899,
          1950,
          2427,
          7407,
          793,
          4069,
          993
         ],
         "textfont": {
          "color": "#2D3436",
          "family": "Poppins, sans-serif",
          "size": 12
         },
         "textposition": "outside",
         "texttemplate": "%{text}",
         "type": "bar",
         "x": [
          "Business Analyst",
          "Data Analyst"
         ],
         "xaxis": "x",
         "y": [
          14918,
          7407
         ],
         "yaxis": "y"
        },
        {
         "alignmentgroup": "True",
         "hovertemplate": "<b>%{fullData.name}</b><br>Category: %{x}<br>Jobs: %{y}<extra></extra>",
         "legendgroup": "Retail",
         "marker": {
          "color": "#B6E880",
          "line": {
           "color": "#2D3436",
           "width": 1
          },
          "opacity": 0.9,
          "pattern": {
           "shape": ""
          }
         },
         "name": "Retail",
         "offsetgroup": "Retail",
         "orientation": "v",
         "showlegend": true,
         "text": [
          4155,
          596,
          2849,
          877,
          1824,
          2119,
          14918,
          1097,
          5140,
          1098,
          3878,
          1370,
          4142,
          1899,
          1950,
          2427,
          7407,
          793,
          4069,
          993
         ],
         "textfont": {
          "color": "#2D3436",
          "family": "Poppins, sans-serif",
          "size": 12
         },
         "textposition": "outside",
         "texttemplate": "%{text}",
         "type": "bar",
         "x": [
          "Business Analyst",
          "Data Analyst"
         ],
         "xaxis": "x",
         "y": [
          1097,
          793
         ],
         "yaxis": "y"
        },
        {
         "alignmentgroup": "True",
         "hovertemplate": "<b>%{fullData.name}</b><br>Category: %{x}<br>Jobs: %{y}<extra></extra>",
         "legendgroup": "Unclassified Industry",
         "marker": {
          "color": "#FF97FF",
          "line": {
           "color": "#2D3436",
           "width": 1
          },
          "opacity": 0.9,
          "pattern": {
           "shape": ""
          }
         },
         "name": "Unclassified Industry",
         "offsetgroup": "Unclassified Industry",
         "orientation": "v",
         "showlegend": true,
         "text": [
          4155,
          596,
          2849,
          877,
          1824,
          2119,
          14918,
          1097,
          5140,
          1098,
          3878,
          1370,
          4142,
          1899,
          1950,
          2427,
          7407,
          793,
          4069,
          993
         ],
         "textfont": {
          "color": "#2D3436",
          "family": "Poppins, sans-serif",
          "size": 12
         },
         "textposition": "outside",
         "texttemplate": "%{text}",
         "type": "bar",
         "x": [
          "Business Analyst",
          "Data Analyst"
         ],
         "xaxis": "x",
         "y": [
          5140,
          4069
         ],
         "yaxis": "y"
        },
        {
         "alignmentgroup": "True",
         "hovertemplate": "<b>%{fullData.name}</b><br>Category: %{x}<br>Jobs: %{y}<extra></extra>",
         "legendgroup": "Wholesale Trade",
         "marker": {
          "color": "#FECB52",
          "line": {
           "color": "#2D3436",
           "width": 1
          },
          "opacity": 0.9,
          "pattern": {
           "shape": ""
          }
         },
         "name": "Wholesale Trade",
         "offsetgroup": "Wholesale Trade",
         "orientation": "v",
         "showlegend": true,
         "text": [
          4155,
          596,
          2849,
          877,
          1824,
          2119,
          14918,
          1097,
          5140,
          1098,
          3878,
          1370,
          4142,
          1899,
          1950,
          2427,
          7407,
          793,
          4069,
          993
         ],
         "textfont": {
          "color": "#2D3436",
          "family": "Poppins, sans-serif",
          "size": 12
         },
         "textposition": "outside",
         "texttemplate": "%{text}",
         "type": "bar",
         "x": [
          "Business Analyst",
          "Data Analyst"
         ],
         "xaxis": "x",
         "y": [
          1098,
          993
         ],
         "yaxis": "y"
        }
       ],
       "layout": {
        "annotations": [
         {
          "arrowhead": 1,
          "ax": 20,
          "ay": -40,
          "bgcolor": "rgba(255, 255, 255, 0.9)",
          "bordercolor": "#2D3436",
          "borderpad": 4,
          "borderwidth": 1,
          "font": {
           "color": "#2D3436",
           "family": "Poppins, sans-serif",
           "size": 13
          },
          "showarrow": true,
          "text": "Top: Prof. Services<br>14918 Jobs",
          "x": "Business Analyst",
          "y": 17155.699999999997
         },
         {
          "font": {
           "color": "rgba(0, 0, 0, 0.05)",
           "family": "Poppins, sans-serif",
           "size": 28
          },
          "showarrow": false,
          "text": "Top 10 Industries Hiring Data & Business Analysts",
          "x": 0.5,
          "xanchor": "center",
          "xref": "paper",
          "xshift": 2,
          "y": 0.95,
          "yanchor": "top",
          "yref": "paper",
          "yshift": -2
         }
        ],
        "autosize": true,
        "bargap": 0.25,
        "barmode": "group",
        "font": {
         "color": "#2D3436",
         "family": "Poppins, sans-serif",
         "size": 14
        },
        "height": 650,
        "hoverlabel": {
         "align": "left",
         "bgcolor": "rgba(255, 255, 255, 0.9)",
         "bordercolor": "#2D3436",
         "font": {
          "color": "#2D3436",
          "family": "Poppins, sans-serif",
          "size": 13
         }
        },
        "hovermode": "closest",
        "legend": {
         "bgcolor": "rgba(255, 255, 255, 0.95)",
         "bordercolor": "#2D3436",
         "borderwidth": 1,
         "font": {
          "color": "#2D3436",
          "size": 13
         },
         "title": {
          "text": "Industry"
         },
         "tracegroupgap": 0,
         "traceorder": "normal",
         "x": 1.02,
         "xanchor": "left",
         "y": 0.5,
         "yanchor": "middle"
        },
        "margin": {
         "b": 80,
         "l": 60,
         "r": 150,
         "t": 100
        },
        "paper_bgcolor": "rgba(255, 255, 255, 1)",
        "plot_bgcolor": "rgba(245, 245, 250, 1)",
        "shapes": [
         {
          "fillcolor": "rgba(220, 221, 255, 0.2)",
          "layer": "below",
          "line": {
           "width": 0
          },
          "type": "rect",
          "x0": 0,
          "x1": 1,
          "xref": "paper",
          "y0": 0,
          "y1": 1,
          "yref": "paper"
         }
        ],
        "template": {
         "data": {
          "bar": [
           {
            "error_x": {
             "color": "#2a3f5f"
            },
            "error_y": {
             "color": "#2a3f5f"
            },
            "marker": {
             "line": {
              "color": "#E5ECF6",
              "width": 0.5
             },
             "pattern": {
              "fillmode": "overlay",
              "size": 10,
              "solidity": 0.2
             }
            },
            "type": "bar"
           }
          ],
          "barpolar": [
           {
            "marker": {
             "line": {
              "color": "#E5ECF6",
              "width": 0.5
             },
             "pattern": {
              "fillmode": "overlay",
              "size": 10,
              "solidity": 0.2
             }
            },
            "type": "barpolar"
           }
          ],
          "carpet": [
           {
            "aaxis": {
             "endlinecolor": "#2a3f5f",
             "gridcolor": "white",
             "linecolor": "white",
             "minorgridcolor": "white",
             "startlinecolor": "#2a3f5f"
            },
            "baxis": {
             "endlinecolor": "#2a3f5f",
             "gridcolor": "white",
             "linecolor": "white",
             "minorgridcolor": "white",
             "startlinecolor": "#2a3f5f"
            },
            "type": "carpet"
           }
          ],
          "choropleth": [
           {
            "colorbar": {
             "outlinewidth": 0,
             "ticks": ""
            },
            "type": "choropleth"
           }
          ],
          "contour": [
           {
            "colorbar": {
             "outlinewidth": 0,
             "ticks": ""
            },
            "colorscale": [
             [
              0,
              "#0d0887"
             ],
             [
              0.1111111111111111,
              "#46039f"
             ],
             [
              0.2222222222222222,
              "#7201a8"
             ],
             [
              0.3333333333333333,
              "#9c179e"
             ],
             [
              0.4444444444444444,
              "#bd3786"
             ],
             [
              0.5555555555555556,
              "#d8576b"
             ],
             [
              0.6666666666666666,
              "#ed7953"
             ],
             [
              0.7777777777777778,
              "#fb9f3a"
             ],
             [
              0.8888888888888888,
              "#fdca26"
             ],
             [
              1,
              "#f0f921"
             ]
            ],
            "type": "contour"
           }
          ],
          "contourcarpet": [
           {
            "colorbar": {
             "outlinewidth": 0,
             "ticks": ""
            },
            "type": "contourcarpet"
           }
          ],
          "heatmap": [
           {
            "colorbar": {
             "outlinewidth": 0,
             "ticks": ""
            },
            "colorscale": [
             [
              0,
              "#0d0887"
             ],
             [
              0.1111111111111111,
              "#46039f"
             ],
             [
              0.2222222222222222,
              "#7201a8"
             ],
             [
              0.3333333333333333,
              "#9c179e"
             ],
             [
              0.4444444444444444,
              "#bd3786"
             ],
             [
              0.5555555555555556,
              "#d8576b"
             ],
             [
              0.6666666666666666,
              "#ed7953"
             ],
             [
              0.7777777777777778,
              "#fb9f3a"
             ],
             [
              0.8888888888888888,
              "#fdca26"
             ],
             [
              1,
              "#f0f921"
             ]
            ],
            "type": "heatmap"
           }
          ],
          "heatmapgl": [
           {
            "colorbar": {
             "outlinewidth": 0,
             "ticks": ""
            },
            "colorscale": [
             [
              0,
              "#0d0887"
             ],
             [
              0.1111111111111111,
              "#46039f"
             ],
             [
              0.2222222222222222,
              "#7201a8"
             ],
             [
              0.3333333333333333,
              "#9c179e"
             ],
             [
              0.4444444444444444,
              "#bd3786"
             ],
             [
              0.5555555555555556,
              "#d8576b"
             ],
             [
              0.6666666666666666,
              "#ed7953"
             ],
             [
              0.7777777777777778,
              "#fb9f3a"
             ],
             [
              0.8888888888888888,
              "#fdca26"
             ],
             [
              1,
              "#f0f921"
             ]
            ],
            "type": "heatmapgl"
           }
          ],
          "histogram": [
           {
            "marker": {
             "pattern": {
              "fillmode": "overlay",
              "size": 10,
              "solidity": 0.2
             }
            },
            "type": "histogram"
           }
          ],
          "histogram2d": [
           {
            "colorbar": {
             "outlinewidth": 0,
             "ticks": ""
            },
            "colorscale": [
             [
              0,
              "#0d0887"
             ],
             [
              0.1111111111111111,
              "#46039f"
             ],
             [
              0.2222222222222222,
              "#7201a8"
             ],
             [
              0.3333333333333333,
              "#9c179e"
             ],
             [
              0.4444444444444444,
              "#bd3786"
             ],
             [
              0.5555555555555556,
              "#d8576b"
             ],
             [
              0.6666666666666666,
              "#ed7953"
             ],
             [
              0.7777777777777778,
              "#fb9f3a"
             ],
             [
              0.8888888888888888,
              "#fdca26"
             ],
             [
              1,
              "#f0f921"
             ]
            ],
            "type": "histogram2d"
           }
          ],
          "histogram2dcontour": [
           {
            "colorbar": {
             "outlinewidth": 0,
             "ticks": ""
            },
            "colorscale": [
             [
              0,
              "#0d0887"
             ],
             [
              0.1111111111111111,
              "#46039f"
             ],
             [
              0.2222222222222222,
              "#7201a8"
             ],
             [
              0.3333333333333333,
              "#9c179e"
             ],
             [
              0.4444444444444444,
              "#bd3786"
             ],
             [
              0.5555555555555556,
              "#d8576b"
             ],
             [
              0.6666666666666666,
              "#ed7953"
             ],
             [
              0.7777777777777778,
              "#fb9f3a"
             ],
             [
              0.8888888888888888,
              "#fdca26"
             ],
             [
              1,
              "#f0f921"
             ]
            ],
            "type": "histogram2dcontour"
           }
          ],
          "mesh3d": [
           {
            "colorbar": {
             "outlinewidth": 0,
             "ticks": ""
            },
            "type": "mesh3d"
           }
          ],
          "parcoords": [
           {
            "line": {
             "colorbar": {
              "outlinewidth": 0,
              "ticks": ""
             }
            },
            "type": "parcoords"
           }
          ],
          "pie": [
           {
            "automargin": true,
            "type": "pie"
           }
          ],
          "scatter": [
           {
            "fillpattern": {
             "fillmode": "overlay",
             "size": 10,
             "solidity": 0.2
            },
            "type": "scatter"
           }
          ],
          "scatter3d": [
           {
            "line": {
             "colorbar": {
              "outlinewidth": 0,
              "ticks": ""
             }
            },
            "marker": {
             "colorbar": {
              "outlinewidth": 0,
              "ticks": ""
             }
            },
            "type": "scatter3d"
           }
          ],
          "scattercarpet": [
           {
            "marker": {
             "colorbar": {
              "outlinewidth": 0,
              "ticks": ""
             }
            },
            "type": "scattercarpet"
           }
          ],
          "scattergeo": [
           {
            "marker": {
             "colorbar": {
              "outlinewidth": 0,
              "ticks": ""
             }
            },
            "type": "scattergeo"
           }
          ],
          "scattergl": [
           {
            "marker": {
             "colorbar": {
              "outlinewidth": 0,
              "ticks": ""
             }
            },
            "type": "scattergl"
           }
          ],
          "scattermapbox": [
           {
            "marker": {
             "colorbar": {
              "outlinewidth": 0,
              "ticks": ""
             }
            },
            "type": "scattermapbox"
           }
          ],
          "scatterpolar": [
           {
            "marker": {
             "colorbar": {
              "outlinewidth": 0,
              "ticks": ""
             }
            },
            "type": "scatterpolar"
           }
          ],
          "scatterpolargl": [
           {
            "marker": {
             "colorbar": {
              "outlinewidth": 0,
              "ticks": ""
             }
            },
            "type": "scatterpolargl"
           }
          ],
          "scatterternary": [
           {
            "marker": {
             "colorbar": {
              "outlinewidth": 0,
              "ticks": ""
             }
            },
            "type": "scatterternary"
           }
          ],
          "surface": [
           {
            "colorbar": {
             "outlinewidth": 0,
             "ticks": ""
            },
            "colorscale": [
             [
              0,
              "#0d0887"
             ],
             [
              0.1111111111111111,
              "#46039f"
             ],
             [
              0.2222222222222222,
              "#7201a8"
             ],
             [
              0.3333333333333333,
              "#9c179e"
             ],
             [
              0.4444444444444444,
              "#bd3786"
             ],
             [
              0.5555555555555556,
              "#d8576b"
             ],
             [
              0.6666666666666666,
              "#ed7953"
             ],
             [
              0.7777777777777778,
              "#fb9f3a"
             ],
             [
              0.8888888888888888,
              "#fdca26"
             ],
             [
              1,
              "#f0f921"
             ]
            ],
            "type": "surface"
           }
          ],
          "table": [
           {
            "cells": {
             "fill": {
              "color": "#EBF0F8"
             },
             "line": {
              "color": "white"
             }
            },
            "header": {
             "fill": {
              "color": "#C8D4E3"
             },
             "line": {
              "color": "white"
             }
            },
            "type": "table"
           }
          ]
         },
         "layout": {
          "annotationdefaults": {
           "arrowcolor": "#2a3f5f",
           "arrowhead": 0,
           "arrowwidth": 1
          },
          "autotypenumbers": "strict",
          "coloraxis": {
           "colorbar": {
            "outlinewidth": 0,
            "ticks": ""
           }
          },
          "colorscale": {
           "diverging": [
            [
             0,
             "#8e0152"
            ],
            [
             0.1,
             "#c51b7d"
            ],
            [
             0.2,
             "#de77ae"
            ],
            [
             0.3,
             "#f1b6da"
            ],
            [
             0.4,
             "#fde0ef"
            ],
            [
             0.5,
             "#f7f7f7"
            ],
            [
             0.6,
             "#e6f5d0"
            ],
            [
             0.7,
             "#b8e186"
            ],
            [
             0.8,
             "#7fbc41"
            ],
            [
             0.9,
             "#4d9221"
            ],
            [
             1,
             "#276419"
            ]
           ],
           "sequential": [
            [
             0,
             "#0d0887"
            ],
            [
             0.1111111111111111,
             "#46039f"
            ],
            [
             0.2222222222222222,
             "#7201a8"
            ],
            [
             0.3333333333333333,
             "#9c179e"
            ],
            [
             0.4444444444444444,
             "#bd3786"
            ],
            [
             0.5555555555555556,
             "#d8576b"
            ],
            [
             0.6666666666666666,
             "#ed7953"
            ],
            [
             0.7777777777777778,
             "#fb9f3a"
            ],
            [
             0.8888888888888888,
             "#fdca26"
            ],
            [
             1,
             "#f0f921"
            ]
           ],
           "sequentialminus": [
            [
             0,
             "#0d0887"
            ],
            [
             0.1111111111111111,
             "#46039f"
            ],
            [
             0.2222222222222222,
             "#7201a8"
            ],
            [
             0.3333333333333333,
             "#9c179e"
            ],
            [
             0.4444444444444444,
             "#bd3786"
            ],
            [
             0.5555555555555556,
             "#d8576b"
            ],
            [
             0.6666666666666666,
             "#ed7953"
            ],
            [
             0.7777777777777778,
             "#fb9f3a"
            ],
            [
             0.8888888888888888,
             "#fdca26"
            ],
            [
             1,
             "#f0f921"
            ]
           ]
          },
          "colorway": [
           "#636efa",
           "#EF553B",
           "#00cc96",
           "#ab63fa",
           "#FFA15A",
           "#19d3f3",
           "#FF6692",
           "#B6E880",
           "#FF97FF",
           "#FECB52"
          ],
          "font": {
           "color": "#2a3f5f"
          },
          "geo": {
           "bgcolor": "white",
           "lakecolor": "white",
           "landcolor": "#E5ECF6",
           "showlakes": true,
           "showland": true,
           "subunitcolor": "white"
          },
          "hoverlabel": {
           "align": "left"
          },
          "hovermode": "closest",
          "mapbox": {
           "style": "light"
          },
          "paper_bgcolor": "white",
          "plot_bgcolor": "#E5ECF6",
          "polar": {
           "angularaxis": {
            "gridcolor": "white",
            "linecolor": "white",
            "ticks": ""
           },
           "bgcolor": "#E5ECF6",
           "radialaxis": {
            "gridcolor": "white",
            "linecolor": "white",
            "ticks": ""
           }
          },
          "scene": {
           "xaxis": {
            "backgroundcolor": "#E5ECF6",
            "gridcolor": "white",
            "gridwidth": 2,
            "linecolor": "white",
            "showbackground": true,
            "ticks": "",
            "zerolinecolor": "white"
           },
           "yaxis": {
            "backgroundcolor": "#E5ECF6",
            "gridcolor": "white",
            "gridwidth": 2,
            "linecolor": "white",
            "showbackground": true,
            "ticks": "",
            "zerolinecolor": "white"
           },
           "zaxis": {
            "backgroundcolor": "#E5ECF6",
            "gridcolor": "white",
            "gridwidth": 2,
            "linecolor": "white",
            "showbackground": true,
            "ticks": "",
            "zerolinecolor": "white"
           }
          },
          "shapedefaults": {
           "line": {
            "color": "#2a3f5f"
           }
          },
          "ternary": {
           "aaxis": {
            "gridcolor": "white",
            "linecolor": "white",
            "ticks": ""
           },
           "baxis": {
            "gridcolor": "white",
            "linecolor": "white",
            "ticks": ""
           },
           "bgcolor": "#E5ECF6",
           "caxis": {
            "gridcolor": "white",
            "linecolor": "white",
            "ticks": ""
           }
          },
          "title": {
           "x": 0.05
          },
          "xaxis": {
           "automargin": true,
           "gridcolor": "white",
           "linecolor": "white",
           "ticks": "",
           "title": {
            "standoff": 15
           },
           "zerolinecolor": "white",
           "zerolinewidth": 2
          },
          "yaxis": {
           "automargin": true,
           "gridcolor": "white",
           "linecolor": "white",
           "ticks": "",
           "title": {
            "standoff": 15
           },
           "zerolinecolor": "white",
           "zerolinewidth": 2
          }
         }
        },
        "title": {
         "font": {
          "color": "#2D3436",
          "family": "Poppins, sans-serif",
          "size": 28
         },
         "text": "Top 10 Industries Hiring Data & Business Analysts",
         "x": 0.5,
         "xanchor": "center",
         "y": 0.95,
         "yanchor": "top"
        },
        "width": 1150,
        "xaxis": {
         "anchor": "y",
         "domain": [
          0,
          1
         ],
         "gridcolor": "rgba(200, 200, 200, 0.1)",
         "linecolor": "#2D3436",
         "linewidth": 2,
         "showline": true,
         "tickfont": {
          "color": "#636E72",
          "size": 14
         },
         "tickvals": [
          "Data Analyst",
          "Business Analyst"
         ],
         "title": {
          "font": {
           "color": "#2D3436",
           "size": 18
          },
          "text": "Job Category"
         }
        },
        "yaxis": {
         "anchor": "x",
         "domain": [
          0,
          1
         ],
         "gridcolor": "rgba(200, 200, 200, 0.3)",
         "linecolor": "#2D3436",
         "linewidth": 2,
         "range": [
          0,
          17901.6
         ],
         "showline": true,
         "tickfont": {
          "color": "#636E72",
          "size": 14
         },
         "title": {
          "font": {
           "color": "#2D3436",
           "size": 18
          },
          "text": "Number of Jobs"
         }
        }
       }
      }
     },
     "metadata": {},
     "output_type": "display_data"
    }
   ],
   "source": [
    "import plotly.express as px\n",
    "import plotly.graph_objects as go\n",
    "\n",
    "# Identify the top 10 industries with the most data analyst jobs\n",
    "top_industries = df_grouped.groupby(\"NAICS2_NAME\")[\"Job_Count\"].sum().nlargest(10).index\n",
    "\n",
    "# Filter the dataset for top industries\n",
    "df_top_industries = df_grouped[df_grouped[\"NAICS2_NAME\"].isin(top_industries)].copy()\n",
    "\n",
    "# Shorten industry names for better readability\n",
    "industry_short_names = {\n",
    "    'Professional, Scientific, and Technical Services': 'Prof. Services',\n",
    "    'Administrative and Support and Waste Management and Remediation Services': 'Admin & Waste Mgmt',\n",
    "    'Health Care and Social Assistance': 'Healthcare',\n",
    "    'Finance and Insurance': 'Finance',\n",
    "    'Information': 'Info Tech',\n",
    "    'Educational Services': 'Education',\n",
    "    'Manufacturing': 'Manufacturing',\n",
    "    'Retail Trade': 'Retail',\n",
    "    'Accommodation and Food Services': 'Hospitality',\n",
    "    'Other Services (except Public Administration)': 'Other Services',\n",
    "}\n",
    "df_top_industries['NAICS2_NAME_SHORT'] = df_top_industries['NAICS2_NAME'].map(industry_short_names).fillna(df_top_industries['NAICS2_NAME'])\n",
    "\n",
    "# Update DATA_ANALYST_JOB labels for clarity\n",
    "df_top_industries['Job_Category'] = df_top_industries['DATA_ANALYST_JOB'].map({True: 'Data Analyst', False: 'Business Analyst'})\n",
    "\n",
    "# Define a modern, vibrant color palette for industries (10 colors for top 10 industries)\n",
    "color_palette = [\n",
    "    '#FF6B6B',  # Coral Red\n",
    "    '#4ECDC4',  # Teal\n",
    "    '#45B7D1',  # Sky Blue\n",
    "    '#96CEB4',  # Sage Green\n",
    "    '#FFEEAD',  # Soft Yellow\n",
    "    '#D4A5A5',  # Dusty Rose\n",
    "    '#9B59B6',  # Purple\n",
    "    '#3498DB',  # Bright Blue\n",
    "    '#E67E22',  # Orange\n",
    "    '#1ABC9C',  # Turquoise\n",
    "]\n",
    "color_map = {industry: color for industry, color in zip(df_top_industries['NAICS2_NAME_SHORT'].unique(), color_palette)}\n",
    "\n",
    "# Create the bar chart\n",
    "fig = px.bar(df_top_industries, \n",
    "             x=\"Job_Category\",  # Use the updated labels\n",
    "             y=\"Job_Count\", \n",
    "             color=\"NAICS2_NAME_SHORT\",\n",
    "             title=\"Top 10 Industries Hiring Data & Business Analysts\",\n",
    "             labels={'Job_Category': 'Job Category', 'Job_Count': 'Number of Jobs', 'NAICS2_NAME_SHORT': 'Industry'},\n",
    "             barmode='group')\n",
    "\n",
    "# Beautify the layout\n",
    "fig.update_layout(\n",
    "    # Sizing and margins\n",
    "    autosize=True,\n",
    "    width=1150,  # Slightly wider for balance\n",
    "    height=650,  # Adjusted height\n",
    "    margin=dict(l=60, r=150, t=100, b=80),  # Adjusted for legend and title\n",
    "\n",
    "    # Background and plot styling\n",
    "    plot_bgcolor='rgba(245, 245, 250, 1)',  # Very light lavender-gray\n",
    "    paper_bgcolor='rgba(255, 255, 255, 1)',  # White paper background\n",
    "    font=dict(family=\"Poppins, sans-serif\", size=14, color=\"#2D3436\"),  # Modern, elegant font\n",
    "\n",
    "    # Title styling\n",
    "    title=dict(\n",
    "        text=\"Top 10 Industries Hiring Data & Business Analysts\",\n",
    "        font=dict(size=28, color=\"#2D3436\", family=\"Poppins, sans-serif\"),\n",
    "        x=0.5,\n",
    "        xanchor=\"center\",\n",
    "        y=0.95,\n",
    "        yanchor=\"top\"\n",
    "    ),\n",
    "\n",
    "    # X-axis styling\n",
    "    xaxis=dict(\n",
    "        title=\"Job Category\",\n",
    "        title_font=dict(size=18, color=\"#2D3436\"),\n",
    "        tickfont=dict(size=14, color=\"#636E72\"),\n",
    "        gridcolor=\"rgba(200, 200, 200, 0.1)\",  # Very subtle gridlines\n",
    "        linecolor=\"#2D3436\",\n",
    "        linewidth=2,\n",
    "        showline=True,\n",
    "        tickvals=['Data Analyst', 'Business Analyst'],  # Ensure clarity\n",
    "    ),\n",
    "\n",
    "    # Y-axis styling\n",
    "    yaxis=dict(\n",
    "        title=\"Number of Jobs\",\n",
    "        title_font=dict(size=18, color=\"#2D3436\"),\n",
    "        tickfont=dict(size=14, color=\"#636E72\"),\n",
    "        range=[0, df_top_industries['Job_Count'].max() * 1.2],  # Extended range\n",
    "        gridcolor=\"rgba(200, 200, 200, 0.3)\",\n",
    "        linecolor=\"#2D3436\",\n",
    "        linewidth=2,\n",
    "        showline=True\n",
    "    ),\n",
    "\n",
    "    # Legend styling\n",
    "    legend=dict(\n",
    "        title=\"Industry\",\n",
    "        font=dict(size=13, color=\"#2D3436\"),\n",
    "        bgcolor=\"rgba(255, 255, 255, 0.95)\",\n",
    "        bordercolor=\"#2D3436\",\n",
    "        borderwidth=1,\n",
    "        x=1.02,  # Position outside\n",
    "        y=0.5,\n",
    "        xanchor=\"left\",\n",
    "        yanchor=\"middle\",\n",
    "        traceorder=\"normal\",  # Ensure consistent ordering\n",
    "    ),\n",
    "\n",
    "    # Hover and interactivity\n",
    "    hovermode=\"closest\",\n",
    "    hoverlabel=dict(\n",
    "        bgcolor=\"rgba(255, 255, 255, 0.9)\",\n",
    "        font_size=13,\n",
    "        font_family=\"Poppins, sans-serif\",\n",
    "        font_color=\"#2D3436\",\n",
    "        bordercolor=\"#2D3436\",\n",
    "        align=\"left\"\n",
    "    ),\n",
    "\n",
    "    # Bar spacing\n",
    "    bargap=0.25,  # Add space between bars\n",
    "    barnorm=None,\n",
    ")\n",
    "\n",
    "# Customize the bars\n",
    "fig.update_traces(\n",
    "    marker=dict(\n",
    "        line=dict(width=1, color=\"#2D3436\"),  # Subtle border\n",
    "        # Add a slight gradient effect using opacity\n",
    "        opacity=0.9,\n",
    "    ),\n",
    "    text=df_top_industries['Job_Count'],  # Add labels on bars\n",
    "    textposition='outside',  # Place labels outside\n",
    "    textfont=dict(size=12, color=\"#2D3436\", family=\"Poppins, sans-serif\"),\n",
    "    texttemplate='%{text}',  # Show just the number\n",
    "    # Custom hover template\n",
    "    hovertemplate=\"<b>%{fullData.name}</b><br>Category: %{x}<br>Jobs: %{y}<extra></extra>\",\n",
    ")\n",
    "\n",
    "# Add a subtle gradient background effect (using shapes)\n",
    "fig.add_shape(\n",
    "    type=\"rect\",\n",
    "    x0=0, y0=0, x1=1, y1=1,\n",
    "    xref=\"paper\", yref=\"paper\",\n",
    "    fillcolor=\"rgba(220, 221, 255, 0.2)\",  # Very light gradient overlay\n",
    "    line=dict(width=0),\n",
    "    layer=\"below\"\n",
    ")\n",
    "\n",
    "# Add an annotation for the highest job count\n",
    "max_job = df_top_industries.loc[df_top_industries['Job_Count'].idxmax()]\n",
    "fig.add_annotation(\n",
    "    x=max_job['Job_Category'],\n",
    "    y=max_job['Job_Count'] * 1.15,\n",
    "    text=f\"Top: {max_job['NAICS2_NAME_SHORT']}<br>{max_job['Job_Count']} Jobs\",\n",
    "    showarrow=True,\n",
    "    arrowhead=1,\n",
    "    ax=20,\n",
    "    ay=-40,\n",
    "    font=dict(size=13, color=\"#2D3436\", family=\"Poppins, sans-serif\"),\n",
    "    bgcolor=\"rgba(255, 255, 255, 0.9)\",\n",
    "    bordercolor=\"#2D3436\",\n",
    "    borderwidth=1,\n",
    "    borderpad=4\n",
    ")\n",
    "\n",
    "# Add a subtle shadow effect to the title (simulated with a duplicate text)\n",
    "fig.add_annotation(\n",
    "    x=0.5,\n",
    "    y=0.95,\n",
    "    xref=\"paper\",\n",
    "    yref=\"paper\",\n",
    "    text=\"Top 10 Industries Hiring Data & Business Analysts\",\n",
    "    showarrow=False,\n",
    "    font=dict(size=28, color=\"rgba(0, 0, 0, 0.05)\", family=\"Poppins, sans-serif\"),\n",
    "    xanchor=\"center\",\n",
    "    yanchor=\"top\",\n",
    "    yshift=-2,\n",
    "    xshift=2\n",
    ")\n",
    "\n",
    "# Show the plot\n",
    "fig.show()\n",
    "\n",
    "# Save as an HTML file\n",
    "fig.write_html(\"figures/plot2industries_super_beautiful.html\")"
   ]
  },
  {
   "cell_type": "code",
   "execution_count": 28,
   "metadata": {},
   "outputs": [
    {
     "data": {
      "application/vnd.plotly.v1+json": {
       "config": {
        "plotlyServerURL": "https://plot.ly"
       },
       "data": [
        {
         "customdata": [
          [
           "Hybrid Remote"
          ],
          [
           "Not Remote"
          ],
          [
           "Remote"
          ],
          [
           "[None]"
          ]
         ],
         "domain": {
          "x": [
           0,
           1
          ],
          "y": [
           0,
           1
          ]
         },
         "hovertemplate": "<b>%{label}</b><br>Count: %{value}<br>Percentage: %{percent}<extra></extra>",
         "labels": [
          "Hybrid Remote",
          "Not Remote",
          "Remote",
          "[None]"
         ],
         "legendgroup": "",
         "marker": {
          "colors": [
           "#ab63fa",
           "#FFA15A",
           "#6AB1E9",
           "#19d3f3"
          ],
          "line": {
           "color": "#2D3436",
           "width": 1.5
          }
         },
         "name": "",
         "opacity": 0.9,
         "pull": [
          0,
          0,
          0,
          0.1
         ],
         "rotation": 45,
         "showlegend": true,
         "sort": false,
         "textfont": {
          "color": "#2D3436",
          "family": "Poppins, sans-serif",
          "size": 14
         },
         "textinfo": "percent+label",
         "textposition": "inside",
         "type": "pie",
         "values": [
          381,
          162,
          2244,
          6980
         ]
        }
       ],
       "layout": {
        "annotations": [
         {
          "bgcolor": "rgba(255, 255, 255, 0.9)",
          "bordercolor": "#2D3436",
          "borderpad": 4,
          "borderwidth": 1,
          "font": {
           "color": "#2D3436",
           "family": "Poppins, sans-serif",
           "size": 13
          },
          "showarrow": false,
          "text": "Dominant Type: [None]<br>6980 Jobs (0.0%)",
          "x": 0.5,
          "xref": "paper",
          "y": 0.1,
          "yref": "paper"
         },
         {
          "font": {
           "color": "rgba(0, 0, 0, 0.05)",
           "family": "Poppins, sans-serif",
           "size": 24
          },
          "showarrow": false,
          "text": "Remote vs. On-Site Data Analyst Jobs in Finance & Healthcare",
          "x": 0.5,
          "xanchor": "center",
          "xref": "paper",
          "xshift": 2,
          "y": 0.95,
          "yanchor": "top",
          "yref": "paper",
          "yshift": -2
         }
        ],
        "autosize": true,
        "font": {
         "color": "#2D3436",
         "family": "Poppins, sans-serif",
         "size": 14
        },
        "height": 700,
        "hoverlabel": {
         "bgcolor": "rgba(255, 255, 255, 0.9)",
         "bordercolor": "#2D3436",
         "font": {
          "color": "#2D3436",
          "family": "Poppins, sans-serif",
          "size": 13
         }
        },
        "hovermode": "closest",
        "legend": {
         "bgcolor": "rgba(255, 255, 255, 0.95)",
         "bordercolor": "#2D3436",
         "borderwidth": 1,
         "font": {
          "color": "#2D3436",
          "size": 13
         },
         "title": {
          "text": "Remote Type"
         },
         "tracegroupgap": 0,
         "x": 1.05,
         "xanchor": "left",
         "y": 0.5,
         "yanchor": "middle"
        },
        "margin": {
         "b": 50,
         "l": 50,
         "r": 50,
         "t": 120
        },
        "paper_bgcolor": "rgba(255, 255, 255, 1)",
        "plot_bgcolor": "rgba(240, 240, 245, 1)",
        "shapes": [
         {
          "fillcolor": "rgba(220, 221, 255, 0.2)",
          "layer": "below",
          "line": {
           "width": 0
          },
          "type": "rect",
          "x0": 0,
          "x1": 1,
          "xref": "paper",
          "y0": 0,
          "y1": 1,
          "yref": "paper"
         }
        ],
        "template": {
         "data": {
          "bar": [
           {
            "error_x": {
             "color": "#2a3f5f"
            },
            "error_y": {
             "color": "#2a3f5f"
            },
            "marker": {
             "line": {
              "color": "#E5ECF6",
              "width": 0.5
             },
             "pattern": {
              "fillmode": "overlay",
              "size": 10,
              "solidity": 0.2
             }
            },
            "type": "bar"
           }
          ],
          "barpolar": [
           {
            "marker": {
             "line": {
              "color": "#E5ECF6",
              "width": 0.5
             },
             "pattern": {
              "fillmode": "overlay",
              "size": 10,
              "solidity": 0.2
             }
            },
            "type": "barpolar"
           }
          ],
          "carpet": [
           {
            "aaxis": {
             "endlinecolor": "#2a3f5f",
             "gridcolor": "white",
             "linecolor": "white",
             "minorgridcolor": "white",
             "startlinecolor": "#2a3f5f"
            },
            "baxis": {
             "endlinecolor": "#2a3f5f",
             "gridcolor": "white",
             "linecolor": "white",
             "minorgridcolor": "white",
             "startlinecolor": "#2a3f5f"
            },
            "type": "carpet"
           }
          ],
          "choropleth": [
           {
            "colorbar": {
             "outlinewidth": 0,
             "ticks": ""
            },
            "type": "choropleth"
           }
          ],
          "contour": [
           {
            "colorbar": {
             "outlinewidth": 0,
             "ticks": ""
            },
            "colorscale": [
             [
              0,
              "#0d0887"
             ],
             [
              0.1111111111111111,
              "#46039f"
             ],
             [
              0.2222222222222222,
              "#7201a8"
             ],
             [
              0.3333333333333333,
              "#9c179e"
             ],
             [
              0.4444444444444444,
              "#bd3786"
             ],
             [
              0.5555555555555556,
              "#d8576b"
             ],
             [
              0.6666666666666666,
              "#ed7953"
             ],
             [
              0.7777777777777778,
              "#fb9f3a"
             ],
             [
              0.8888888888888888,
              "#fdca26"
             ],
             [
              1,
              "#f0f921"
             ]
            ],
            "type": "contour"
           }
          ],
          "contourcarpet": [
           {
            "colorbar": {
             "outlinewidth": 0,
             "ticks": ""
            },
            "type": "contourcarpet"
           }
          ],
          "heatmap": [
           {
            "colorbar": {
             "outlinewidth": 0,
             "ticks": ""
            },
            "colorscale": [
             [
              0,
              "#0d0887"
             ],
             [
              0.1111111111111111,
              "#46039f"
             ],
             [
              0.2222222222222222,
              "#7201a8"
             ],
             [
              0.3333333333333333,
              "#9c179e"
             ],
             [
              0.4444444444444444,
              "#bd3786"
             ],
             [
              0.5555555555555556,
              "#d8576b"
             ],
             [
              0.6666666666666666,
              "#ed7953"
             ],
             [
              0.7777777777777778,
              "#fb9f3a"
             ],
             [
              0.8888888888888888,
              "#fdca26"
             ],
             [
              1,
              "#f0f921"
             ]
            ],
            "type": "heatmap"
           }
          ],
          "heatmapgl": [
           {
            "colorbar": {
             "outlinewidth": 0,
             "ticks": ""
            },
            "colorscale": [
             [
              0,
              "#0d0887"
             ],
             [
              0.1111111111111111,
              "#46039f"
             ],
             [
              0.2222222222222222,
              "#7201a8"
             ],
             [
              0.3333333333333333,
              "#9c179e"
             ],
             [
              0.4444444444444444,
              "#bd3786"
             ],
             [
              0.5555555555555556,
              "#d8576b"
             ],
             [
              0.6666666666666666,
              "#ed7953"
             ],
             [
              0.7777777777777778,
              "#fb9f3a"
             ],
             [
              0.8888888888888888,
              "#fdca26"
             ],
             [
              1,
              "#f0f921"
             ]
            ],
            "type": "heatmapgl"
           }
          ],
          "histogram": [
           {
            "marker": {
             "pattern": {
              "fillmode": "overlay",
              "size": 10,
              "solidity": 0.2
             }
            },
            "type": "histogram"
           }
          ],
          "histogram2d": [
           {
            "colorbar": {
             "outlinewidth": 0,
             "ticks": ""
            },
            "colorscale": [
             [
              0,
              "#0d0887"
             ],
             [
              0.1111111111111111,
              "#46039f"
             ],
             [
              0.2222222222222222,
              "#7201a8"
             ],
             [
              0.3333333333333333,
              "#9c179e"
             ],
             [
              0.4444444444444444,
              "#bd3786"
             ],
             [
              0.5555555555555556,
              "#d8576b"
             ],
             [
              0.6666666666666666,
              "#ed7953"
             ],
             [
              0.7777777777777778,
              "#fb9f3a"
             ],
             [
              0.8888888888888888,
              "#fdca26"
             ],
             [
              1,
              "#f0f921"
             ]
            ],
            "type": "histogram2d"
           }
          ],
          "histogram2dcontour": [
           {
            "colorbar": {
             "outlinewidth": 0,
             "ticks": ""
            },
            "colorscale": [
             [
              0,
              "#0d0887"
             ],
             [
              0.1111111111111111,
              "#46039f"
             ],
             [
              0.2222222222222222,
              "#7201a8"
             ],
             [
              0.3333333333333333,
              "#9c179e"
             ],
             [
              0.4444444444444444,
              "#bd3786"
             ],
             [
              0.5555555555555556,
              "#d8576b"
             ],
             [
              0.6666666666666666,
              "#ed7953"
             ],
             [
              0.7777777777777778,
              "#fb9f3a"
             ],
             [
              0.8888888888888888,
              "#fdca26"
             ],
             [
              1,
              "#f0f921"
             ]
            ],
            "type": "histogram2dcontour"
           }
          ],
          "mesh3d": [
           {
            "colorbar": {
             "outlinewidth": 0,
             "ticks": ""
            },
            "type": "mesh3d"
           }
          ],
          "parcoords": [
           {
            "line": {
             "colorbar": {
              "outlinewidth": 0,
              "ticks": ""
             }
            },
            "type": "parcoords"
           }
          ],
          "pie": [
           {
            "automargin": true,
            "type": "pie"
           }
          ],
          "scatter": [
           {
            "fillpattern": {
             "fillmode": "overlay",
             "size": 10,
             "solidity": 0.2
            },
            "type": "scatter"
           }
          ],
          "scatter3d": [
           {
            "line": {
             "colorbar": {
              "outlinewidth": 0,
              "ticks": ""
             }
            },
            "marker": {
             "colorbar": {
              "outlinewidth": 0,
              "ticks": ""
             }
            },
            "type": "scatter3d"
           }
          ],
          "scattercarpet": [
           {
            "marker": {
             "colorbar": {
              "outlinewidth": 0,
              "ticks": ""
             }
            },
            "type": "scattercarpet"
           }
          ],
          "scattergeo": [
           {
            "marker": {
             "colorbar": {
              "outlinewidth": 0,
              "ticks": ""
             }
            },
            "type": "scattergeo"
           }
          ],
          "scattergl": [
           {
            "marker": {
             "colorbar": {
              "outlinewidth": 0,
              "ticks": ""
             }
            },
            "type": "scattergl"
           }
          ],
          "scattermapbox": [
           {
            "marker": {
             "colorbar": {
              "outlinewidth": 0,
              "ticks": ""
             }
            },
            "type": "scattermapbox"
           }
          ],
          "scatterpolar": [
           {
            "marker": {
             "colorbar": {
              "outlinewidth": 0,
              "ticks": ""
             }
            },
            "type": "scatterpolar"
           }
          ],
          "scatterpolargl": [
           {
            "marker": {
             "colorbar": {
              "outlinewidth": 0,
              "ticks": ""
             }
            },
            "type": "scatterpolargl"
           }
          ],
          "scatterternary": [
           {
            "marker": {
             "colorbar": {
              "outlinewidth": 0,
              "ticks": ""
             }
            },
            "type": "scatterternary"
           }
          ],
          "surface": [
           {
            "colorbar": {
             "outlinewidth": 0,
             "ticks": ""
            },
            "colorscale": [
             [
              0,
              "#0d0887"
             ],
             [
              0.1111111111111111,
              "#46039f"
             ],
             [
              0.2222222222222222,
              "#7201a8"
             ],
             [
              0.3333333333333333,
              "#9c179e"
             ],
             [
              0.4444444444444444,
              "#bd3786"
             ],
             [
              0.5555555555555556,
              "#d8576b"
             ],
             [
              0.6666666666666666,
              "#ed7953"
             ],
             [
              0.7777777777777778,
              "#fb9f3a"
             ],
             [
              0.8888888888888888,
              "#fdca26"
             ],
             [
              1,
              "#f0f921"
             ]
            ],
            "type": "surface"
           }
          ],
          "table": [
           {
            "cells": {
             "fill": {
              "color": "#EBF0F8"
             },
             "line": {
              "color": "white"
             }
            },
            "header": {
             "fill": {
              "color": "#C8D4E3"
             },
             "line": {
              "color": "white"
             }
            },
            "type": "table"
           }
          ]
         },
         "layout": {
          "annotationdefaults": {
           "arrowcolor": "#2a3f5f",
           "arrowhead": 0,
           "arrowwidth": 1
          },
          "autotypenumbers": "strict",
          "coloraxis": {
           "colorbar": {
            "outlinewidth": 0,
            "ticks": ""
           }
          },
          "colorscale": {
           "diverging": [
            [
             0,
             "#8e0152"
            ],
            [
             0.1,
             "#c51b7d"
            ],
            [
             0.2,
             "#de77ae"
            ],
            [
             0.3,
             "#f1b6da"
            ],
            [
             0.4,
             "#fde0ef"
            ],
            [
             0.5,
             "#f7f7f7"
            ],
            [
             0.6,
             "#e6f5d0"
            ],
            [
             0.7,
             "#b8e186"
            ],
            [
             0.8,
             "#7fbc41"
            ],
            [
             0.9,
             "#4d9221"
            ],
            [
             1,
             "#276419"
            ]
           ],
           "sequential": [
            [
             0,
             "#0d0887"
            ],
            [
             0.1111111111111111,
             "#46039f"
            ],
            [
             0.2222222222222222,
             "#7201a8"
            ],
            [
             0.3333333333333333,
             "#9c179e"
            ],
            [
             0.4444444444444444,
             "#bd3786"
            ],
            [
             0.5555555555555556,
             "#d8576b"
            ],
            [
             0.6666666666666666,
             "#ed7953"
            ],
            [
             0.7777777777777778,
             "#fb9f3a"
            ],
            [
             0.8888888888888888,
             "#fdca26"
            ],
            [
             1,
             "#f0f921"
            ]
           ],
           "sequentialminus": [
            [
             0,
             "#0d0887"
            ],
            [
             0.1111111111111111,
             "#46039f"
            ],
            [
             0.2222222222222222,
             "#7201a8"
            ],
            [
             0.3333333333333333,
             "#9c179e"
            ],
            [
             0.4444444444444444,
             "#bd3786"
            ],
            [
             0.5555555555555556,
             "#d8576b"
            ],
            [
             0.6666666666666666,
             "#ed7953"
            ],
            [
             0.7777777777777778,
             "#fb9f3a"
            ],
            [
             0.8888888888888888,
             "#fdca26"
            ],
            [
             1,
             "#f0f921"
            ]
           ]
          },
          "colorway": [
           "#636efa",
           "#EF553B",
           "#00cc96",
           "#ab63fa",
           "#FFA15A",
           "#19d3f3",
           "#FF6692",
           "#B6E880",
           "#FF97FF",
           "#FECB52"
          ],
          "font": {
           "color": "#2a3f5f"
          },
          "geo": {
           "bgcolor": "white",
           "lakecolor": "white",
           "landcolor": "#E5ECF6",
           "showlakes": true,
           "showland": true,
           "subunitcolor": "white"
          },
          "hoverlabel": {
           "align": "left"
          },
          "hovermode": "closest",
          "mapbox": {
           "style": "light"
          },
          "paper_bgcolor": "white",
          "plot_bgcolor": "#E5ECF6",
          "polar": {
           "angularaxis": {
            "gridcolor": "white",
            "linecolor": "white",
            "ticks": ""
           },
           "bgcolor": "#E5ECF6",
           "radialaxis": {
            "gridcolor": "white",
            "linecolor": "white",
            "ticks": ""
           }
          },
          "scene": {
           "xaxis": {
            "backgroundcolor": "#E5ECF6",
            "gridcolor": "white",
            "gridwidth": 2,
            "linecolor": "white",
            "showbackground": true,
            "ticks": "",
            "zerolinecolor": "white"
           },
           "yaxis": {
            "backgroundcolor": "#E5ECF6",
            "gridcolor": "white",
            "gridwidth": 2,
            "linecolor": "white",
            "showbackground": true,
            "ticks": "",
            "zerolinecolor": "white"
           },
           "zaxis": {
            "backgroundcolor": "#E5ECF6",
            "gridcolor": "white",
            "gridwidth": 2,
            "linecolor": "white",
            "showbackground": true,
            "ticks": "",
            "zerolinecolor": "white"
           }
          },
          "shapedefaults": {
           "line": {
            "color": "#2a3f5f"
           }
          },
          "ternary": {
           "aaxis": {
            "gridcolor": "white",
            "linecolor": "white",
            "ticks": ""
           },
           "baxis": {
            "gridcolor": "white",
            "linecolor": "white",
            "ticks": ""
           },
           "bgcolor": "#E5ECF6",
           "caxis": {
            "gridcolor": "white",
            "linecolor": "white",
            "ticks": ""
           }
          },
          "title": {
           "x": 0.05
          },
          "xaxis": {
           "automargin": true,
           "gridcolor": "white",
           "linecolor": "white",
           "ticks": "",
           "title": {
            "standoff": 15
           },
           "zerolinecolor": "white",
           "zerolinewidth": 2
          },
          "yaxis": {
           "automargin": true,
           "gridcolor": "white",
           "linecolor": "white",
           "ticks": "",
           "title": {
            "standoff": 15
           },
           "zerolinecolor": "white",
           "zerolinewidth": 2
          }
         }
        },
        "title": {
         "font": {
          "color": "#2D3436",
          "family": "Poppins, sans-serif",
          "size": 24
         },
         "text": "Remote vs. On-Site Data Analyst Jobs in Finance & Healthcare",
         "x": 0.5,
         "xanchor": "center",
         "y": 0.95,
         "yanchor": "top"
        },
        "width": 900
       }
      }
     },
     "metadata": {},
     "output_type": "display_data"
    }
   ],
   "source": [
    "import plotly.express as px\n",
    "import plotly.graph_objects as go\n",
    "\n",
    "# Define target industries\n",
    "target_industries = [\"Finance and Insurance\", \"Health Care and Social Assistance\"]\n",
    "\n",
    "# Filter the original DataFrame (df) instead of df_grouped\n",
    "df_remote = eda[eda[\"NAICS2_NAME\"].isin(target_industries)]\n",
    "\n",
    "# Count occurrences of each remote type in these industries\n",
    "df_remote_grouped = df_remote.groupby(\"REMOTE_TYPE_NAME\").size().reset_index(name=\"Count\")\n",
    "\n",
    "# Define a modern color palette\n",
    "color_map = {\n",
    "    \"Remote\": \"#6AB1E9\",  # Soft Sky Blue\n",
    "    \"On-Site\": \"#EF767A\",  # Soft Coral\n",
    "    \"Hybrid\": \"#49C6B7\"   # Teal-Green\n",
    "}\n",
    "\n",
    "# Create the pie chart\n",
    "fig = px.pie(df_remote_grouped, \n",
    "             names=\"REMOTE_TYPE_NAME\", \n",
    "             values=\"Count\", \n",
    "             title=\"Remote vs. On-Site Data Analyst Jobs in Finance & Healthcare\",\n",
    "             color=\"REMOTE_TYPE_NAME\", \n",
    "             color_discrete_map=color_map)\n",
    "\n",
    "# Beautify the layout\n",
    "fig.update_layout(\n",
    "    # Sizing and margins\n",
    "    autosize=True,\n",
    "    width=900,  # Compact width for pie charts\n",
    "    height=700,  # Taller height to accommodate title and legend\n",
    "    margin=dict(l=50, r=50, t=120, b=50),  # Adjusted margins for title\n",
    "\n",
    "    # Background styling\n",
    "    plot_bgcolor='rgba(240, 240, 245, 1)',  # Light gray background\n",
    "    paper_bgcolor='rgba(255, 255, 255, 1)',  # White paper background\n",
    "    font=dict(family=\"Poppins, sans-serif\", size=14, color=\"#2D3436\"),  # Modern font\n",
    "\n",
    "    # Title styling\n",
    "    title=dict(\n",
    "        text=\"Remote vs. On-Site Data Analyst Jobs in Finance & Healthcare\",\n",
    "        font=dict(size=24, color=\"#2D3436\", family=\"Poppins, sans-serif\"),\n",
    "        x=0.5,\n",
    "        xanchor=\"center\",\n",
    "        y=0.95,\n",
    "        yanchor=\"top\"\n",
    "    ),\n",
    "\n",
    "    # Legend styling\n",
    "    legend=dict(\n",
    "        title=\"Remote Type\",\n",
    "        font=dict(size=13, color=\"#2D3436\"),\n",
    "        bgcolor=\"rgba(255, 255, 255, 0.95)\",\n",
    "        bordercolor=\"#2D3436\",\n",
    "        borderwidth=1,\n",
    "        x=1.05,  # Position outside\n",
    "        y=0.5,\n",
    "        xanchor=\"left\",\n",
    "        yanchor=\"middle\"\n",
    "    ),\n",
    "\n",
    "    # Hover and interactivity\n",
    "    hovermode=\"closest\",\n",
    "    hoverlabel=dict(\n",
    "        bgcolor=\"rgba(255, 255, 255, 0.9)\",\n",
    "        font_size=13,\n",
    "        font_family=\"Poppins, sans-serif\",\n",
    "        font_color=\"#2D3436\",\n",
    "        bordercolor=\"#2D3436\"\n",
    "    ),\n",
    "\n",
    "    # Add a subtle gradient background effect\n",
    "    shapes=[\n",
    "        dict(\n",
    "            type=\"rect\",\n",
    "            x0=0, y0=0, x1=1, y1=1,\n",
    "            xref=\"paper\", yref=\"paper\",\n",
    "            fillcolor=\"rgba(220, 221, 255, 0.2)\",  # Light gradient overlay\n",
    "            line=dict(width=0),\n",
    "            layer=\"below\"\n",
    "        )\n",
    "    ]\n",
    ")\n",
    "\n",
    "# Customize the pie chart slices\n",
    "fig.update_traces(\n",
    "    # Add percentages and labels\n",
    "    textinfo=\"percent+label\",\n",
    "    textfont=dict(size=14, color=\"#2D3436\", family=\"Poppins, sans-serif\"),\n",
    "    textposition=\"inside\",  # Place labels inside for a cleaner look\n",
    "\n",
    "    # Add a subtle border to slices\n",
    "    marker=dict(\n",
    "        line=dict(color=\"#2D3436\", width=1.5)\n",
    "    ),\n",
    "\n",
    "    # Pull out the largest slice slightly for emphasis\n",
    "    pull=[0.1 if count == df_remote_grouped['Count'].max() else 0 for count in df_remote_grouped['Count']],\n",
    "\n",
    "    # Add a slight opacity for a softer look\n",
    "    opacity=0.9,\n",
    "\n",
    "    # Custom hover template\n",
    "    hovertemplate=\"<b>%{label}</b><br>Count: %{value}<br>Percentage: %{percent}<extra></extra>\",\n",
    "\n",
    "    # Add a rotation for better presentation\n",
    "    rotation=45,\n",
    "\n",
    "    # Add a subtle shadow effect to slices (simulated with opacity and border)\n",
    "    sort=False  # Keep the order as in the data\n",
    ")\n",
    "\n",
    "# Add an annotation for the largest slice\n",
    "max_slice = df_remote_grouped.loc[df_remote_grouped['Count'].idxmax()]\n",
    "fig.add_annotation(\n",
    "    x=0.5,\n",
    "    y=0.1,\n",
    "    xref=\"paper\",\n",
    "    yref=\"paper\",\n",
    "    text=f\"Dominant Type: {max_slice['REMOTE_TYPE_NAME']}<br>{max_slice['Count']} Jobs ({fig.data[0]['values'].tolist().index(max_slice['Count'])*100/sum(fig.data[0]['values']):.1f}%)\",\n",
    "    showarrow=False,\n",
    "    font=dict(size=13, color=\"#2D3436\", family=\"Poppins, sans-serif\"),\n",
    "    bgcolor=\"rgba(255, 255, 255, 0.9)\",\n",
    "    bordercolor=\"#2D3436\",\n",
    "    borderwidth=1,\n",
    "    borderpad=4\n",
    ")\n",
    "\n",
    "# Add a shadow effect to the title (simulated with a duplicate text)\n",
    "fig.add_annotation(\n",
    "    x=0.5,\n",
    "    y=0.95,\n",
    "    xref=\"paper\",\n",
    "    yref=\"paper\",\n",
    "    text=\"Remote vs. On-Site Data Analyst Jobs in Finance & Healthcare\",\n",
    "    showarrow=False,\n",
    "    font=dict(size=24, color=\"rgba(0, 0, 0, 0.05)\", family=\"Poppins, sans-serif\"),\n",
    "    xanchor=\"center\",\n",
    "    yanchor=\"top\",\n",
    "    yshift=-2,\n",
    "    xshift=2\n",
    ")\n",
    "\n",
    "# Show the plot\n",
    "fig.show()\n",
    "\n",
    "# Save as an HTML file\n",
    "fig.write_html(\"figures/plot3pie_enhanced.html\")"
   ]
  },
  {
   "cell_type": "code",
   "execution_count": null,
   "metadata": {},
   "outputs": [],
   "source": []
  }
 ],
 "metadata": {
  "kernelspec": {
   "display_name": "base",
   "language": "python",
   "name": "python3"
  },
  "language_info": {
   "codemirror_mode": {
    "name": "ipython",
    "version": 3
   },
   "file_extension": ".py",
   "mimetype": "text/x-python",
   "name": "python",
   "nbconvert_exporter": "python",
   "pygments_lexer": "ipython3",
   "version": "3.12.7"
  }
 },
 "nbformat": 4,
 "nbformat_minor": 2
}
