{
 "cells": [
  {
   "cell_type": "code",
   "execution_count": 17,
   "metadata": {},
   "outputs": [
    {
     "data": {
      "text/html": [
       "<div>\n",
       "<style scoped>\n",
       "    .dataframe tbody tr th:only-of-type {\n",
       "        vertical-align: middle;\n",
       "    }\n",
       "\n",
       "    .dataframe tbody tr th {\n",
       "        vertical-align: top;\n",
       "    }\n",
       "\n",
       "    .dataframe thead th {\n",
       "        text-align: right;\n",
       "    }\n",
       "</style>\n",
       "<table border=\"1\" class=\"dataframe\">\n",
       "  <thead>\n",
       "    <tr style=\"text-align: right;\">\n",
       "      <th></th>\n",
       "      <th>COMPANY</th>\n",
       "      <th>LOCATION</th>\n",
       "      <th>POSTED</th>\n",
       "      <th>MIN_EDULEVELS_NAME</th>\n",
       "      <th>MAX_EDULEVELS_NAME</th>\n",
       "      <th>MIN_YEARS_EXPERIENCE</th>\n",
       "      <th>MAX_YEARS_EXPERIENCE</th>\n",
       "      <th>TITLE</th>\n",
       "      <th>SKILLS</th>\n",
       "      <th>SPECIALIZED_SKILLS</th>\n",
       "      <th>...</th>\n",
       "      <th>COMMON_SKILLS</th>\n",
       "      <th>SOFTWARE_SKILLS</th>\n",
       "      <th>SOC_2021_4_NAME</th>\n",
       "      <th>NAICS_2022_6</th>\n",
       "      <th>NAICS2_NAME</th>\n",
       "      <th>REMOTE_TYPE_NAME</th>\n",
       "      <th>SALARY</th>\n",
       "      <th>TITLE_NAME</th>\n",
       "      <th>SKILLS_NAME</th>\n",
       "      <th>SPECIALIZED_SKILLS_NAME</th>\n",
       "    </tr>\n",
       "  </thead>\n",
       "  <tbody>\n",
       "    <tr>\n",
       "      <th>0</th>\n",
       "      <td>894731</td>\n",
       "      <td>{\\n  \"lat\": 33.20763,\\n  \"lon\": -92.6662674\\n}</td>\n",
       "      <td>2024-06-02</td>\n",
       "      <td>Bachelor's degree</td>\n",
       "      <td>Master's degree</td>\n",
       "      <td>2.000000</td>\n",
       "      <td>2.000000</td>\n",
       "      <td>ET29C073C03D1F86B4</td>\n",
       "      <td>[\\n  \"KS126DB6T061MHD7RTGQ\",\\n  \"KS126706DPFD3...</td>\n",
       "      <td>[\\n  \"KS126DB6T061MHD7RTGQ\",\\n  \"KS128006L3V0H...</td>\n",
       "      <td>...</td>\n",
       "      <td>[\\n  \"KS126706DPFD3354M7YK\",\\n  \"KS1280B68GD79...</td>\n",
       "      <td>[\\n  \"KS440W865GC4VRBW6LJP\",\\n  \"KS13USA80NE38...</td>\n",
       "      <td>Data Scientists</td>\n",
       "      <td>441330</td>\n",
       "      <td>Retail Trade</td>\n",
       "      <td>[None]</td>\n",
       "      <td>116348.5</td>\n",
       "      <td>Enterprise Analysts</td>\n",
       "      <td>[\\n  \"Merchandising\",\\n  \"Mathematics\",\\n  \"Pr...</td>\n",
       "      <td>[\\n  \"Merchandising\",\\n  \"Predictive Modeling\"...</td>\n",
       "    </tr>\n",
       "    <tr>\n",
       "      <th>1</th>\n",
       "      <td>133098</td>\n",
       "      <td>{\\n  \"lat\": 44.3106241,\\n  \"lon\": -69.7794897\\n}</td>\n",
       "      <td>2024-06-02</td>\n",
       "      <td>No Education Listed</td>\n",
       "      <td>Master's degree</td>\n",
       "      <td>3.000000</td>\n",
       "      <td>3.000000</td>\n",
       "      <td>ET21DDA63780A7DC09</td>\n",
       "      <td>[\\n  \"KS122626T550SLQ7QZ1C\",\\n  \"KS123YJ6KVWC9...</td>\n",
       "      <td>[\\n  \"KS122626T550SLQ7QZ1C\",\\n  \"KS123YJ6KVWC9...</td>\n",
       "      <td>...</td>\n",
       "      <td>[]</td>\n",
       "      <td>[\\n  \"BGSBF3F508F7F46312E3\",\\n  \"ESEA839CED378...</td>\n",
       "      <td>Data Scientists</td>\n",
       "      <td>561320</td>\n",
       "      <td>Administrative and Support and Waste Managemen...</td>\n",
       "      <td>Remote</td>\n",
       "      <td>116348.5</td>\n",
       "      <td>Oracle Consultants</td>\n",
       "      <td>[\\n  \"Procurement\",\\n  \"Financial Statements\",...</td>\n",
       "      <td>[\\n  \"Procurement\",\\n  \"Financial Statements\",...</td>\n",
       "    </tr>\n",
       "    <tr>\n",
       "      <th>2</th>\n",
       "      <td>39063746</td>\n",
       "      <td>{\\n  \"lat\": 32.7766642,\\n  \"lon\": -96.7969879\\n}</td>\n",
       "      <td>2024-06-02</td>\n",
       "      <td>Bachelor's degree</td>\n",
       "      <td>Master's degree</td>\n",
       "      <td>5.000000</td>\n",
       "      <td>3.773903</td>\n",
       "      <td>ET3037E0C947A02404</td>\n",
       "      <td>[\\n  \"KS1218W78FGVPVP2KXPX\",\\n  \"ESF3939CE1F80...</td>\n",
       "      <td>[\\n  \"ESF3939CE1F80C10C327\",\\n  \"KS120GV6C72JM...</td>\n",
       "      <td>...</td>\n",
       "      <td>[\\n  \"KS1218W78FGVPVP2KXPX\",\\n  \"BGS1ADAA36DB6...</td>\n",
       "      <td>[\\n  \"KS126HY6YLTB9R7XJC4Z\"\\n]</td>\n",
       "      <td>Data Scientists</td>\n",
       "      <td>524291</td>\n",
       "      <td>Finance and Insurance</td>\n",
       "      <td>[None]</td>\n",
       "      <td>116348.5</td>\n",
       "      <td>Data Analysts</td>\n",
       "      <td>[\\n  \"Management\",\\n  \"Exception Reporting\",\\n...</td>\n",
       "      <td>[\\n  \"Exception Reporting\",\\n  \"Data Analysis\"...</td>\n",
       "    </tr>\n",
       "    <tr>\n",
       "      <th>3</th>\n",
       "      <td>37615159</td>\n",
       "      <td>{\\n  \"lat\": 33.4483771,\\n  \"lon\": -112.0740373\\n}</td>\n",
       "      <td>2024-06-02</td>\n",
       "      <td>No Education Listed</td>\n",
       "      <td>Master's degree</td>\n",
       "      <td>3.000000</td>\n",
       "      <td>3.773903</td>\n",
       "      <td>ET2114E0404BA30075</td>\n",
       "      <td>[\\n  \"KS123QX62QYTC4JF38H8\",\\n  \"KS7G6NP6R6L1H...</td>\n",
       "      <td>[\\n  \"KS123QX62QYTC4JF38H8\",\\n  \"KS441PQ64HT13...</td>\n",
       "      <td>...</td>\n",
       "      <td>[\\n  \"KS7G6NP6R6L1H1SKFTSY\",\\n  \"KS1218W78FGVP...</td>\n",
       "      <td>[\\n  \"KS4409D76NW1S5LNCL18\",\\n  \"ESC7869CF7378...</td>\n",
       "      <td>Data Scientists</td>\n",
       "      <td>522110</td>\n",
       "      <td>Finance and Insurance</td>\n",
       "      <td>[None]</td>\n",
       "      <td>116348.5</td>\n",
       "      <td>Management Analysts</td>\n",
       "      <td>[\\n  \"Exit Strategies\",\\n  \"Reliability\",\\n  \"...</td>\n",
       "      <td>[\\n  \"Exit Strategies\",\\n  \"User Story\",\\n  \"H...</td>\n",
       "    </tr>\n",
       "    <tr>\n",
       "      <th>4</th>\n",
       "      <td>0</td>\n",
       "      <td>{\\n  \"lat\": 37.6392595,\\n  \"lon\": -120.9970014\\n}</td>\n",
       "      <td>2024-06-02</td>\n",
       "      <td>No Education Listed</td>\n",
       "      <td>Master's degree</td>\n",
       "      <td>5.486539</td>\n",
       "      <td>3.773903</td>\n",
       "      <td>ET0000000000000000</td>\n",
       "      <td>[]</td>\n",
       "      <td>[]</td>\n",
       "      <td>...</td>\n",
       "      <td>[]</td>\n",
       "      <td>[]</td>\n",
       "      <td>Data Scientists</td>\n",
       "      <td>999999</td>\n",
       "      <td>Unclassified Industry</td>\n",
       "      <td>[None]</td>\n",
       "      <td>92500.0</td>\n",
       "      <td>Unclassified</td>\n",
       "      <td>[]</td>\n",
       "      <td>[]</td>\n",
       "    </tr>\n",
       "  </tbody>\n",
       "</table>\n",
       "<p>5 rows × 21 columns</p>\n",
       "</div>"
      ],
      "text/plain": [
       "    COMPANY                                           LOCATION      POSTED  \\\n",
       "0    894731     {\\n  \"lat\": 33.20763,\\n  \"lon\": -92.6662674\\n}  2024-06-02   \n",
       "1    133098   {\\n  \"lat\": 44.3106241,\\n  \"lon\": -69.7794897\\n}  2024-06-02   \n",
       "2  39063746   {\\n  \"lat\": 32.7766642,\\n  \"lon\": -96.7969879\\n}  2024-06-02   \n",
       "3  37615159  {\\n  \"lat\": 33.4483771,\\n  \"lon\": -112.0740373\\n}  2024-06-02   \n",
       "4         0  {\\n  \"lat\": 37.6392595,\\n  \"lon\": -120.9970014\\n}  2024-06-02   \n",
       "\n",
       "    MIN_EDULEVELS_NAME MAX_EDULEVELS_NAME  MIN_YEARS_EXPERIENCE  \\\n",
       "0    Bachelor's degree    Master's degree              2.000000   \n",
       "1  No Education Listed    Master's degree              3.000000   \n",
       "2    Bachelor's degree    Master's degree              5.000000   \n",
       "3  No Education Listed    Master's degree              3.000000   \n",
       "4  No Education Listed    Master's degree              5.486539   \n",
       "\n",
       "   MAX_YEARS_EXPERIENCE               TITLE  \\\n",
       "0              2.000000  ET29C073C03D1F86B4   \n",
       "1              3.000000  ET21DDA63780A7DC09   \n",
       "2              3.773903  ET3037E0C947A02404   \n",
       "3              3.773903  ET2114E0404BA30075   \n",
       "4              3.773903  ET0000000000000000   \n",
       "\n",
       "                                              SKILLS  \\\n",
       "0  [\\n  \"KS126DB6T061MHD7RTGQ\",\\n  \"KS126706DPFD3...   \n",
       "1  [\\n  \"KS122626T550SLQ7QZ1C\",\\n  \"KS123YJ6KVWC9...   \n",
       "2  [\\n  \"KS1218W78FGVPVP2KXPX\",\\n  \"ESF3939CE1F80...   \n",
       "3  [\\n  \"KS123QX62QYTC4JF38H8\",\\n  \"KS7G6NP6R6L1H...   \n",
       "4                                                 []   \n",
       "\n",
       "                                  SPECIALIZED_SKILLS  ...  \\\n",
       "0  [\\n  \"KS126DB6T061MHD7RTGQ\",\\n  \"KS128006L3V0H...  ...   \n",
       "1  [\\n  \"KS122626T550SLQ7QZ1C\",\\n  \"KS123YJ6KVWC9...  ...   \n",
       "2  [\\n  \"ESF3939CE1F80C10C327\",\\n  \"KS120GV6C72JM...  ...   \n",
       "3  [\\n  \"KS123QX62QYTC4JF38H8\",\\n  \"KS441PQ64HT13...  ...   \n",
       "4                                                 []  ...   \n",
       "\n",
       "                                       COMMON_SKILLS  \\\n",
       "0  [\\n  \"KS126706DPFD3354M7YK\",\\n  \"KS1280B68GD79...   \n",
       "1                                                 []   \n",
       "2  [\\n  \"KS1218W78FGVPVP2KXPX\",\\n  \"BGS1ADAA36DB6...   \n",
       "3  [\\n  \"KS7G6NP6R6L1H1SKFTSY\",\\n  \"KS1218W78FGVP...   \n",
       "4                                                 []   \n",
       "\n",
       "                                     SOFTWARE_SKILLS  SOC_2021_4_NAME  \\\n",
       "0  [\\n  \"KS440W865GC4VRBW6LJP\",\\n  \"KS13USA80NE38...  Data Scientists   \n",
       "1  [\\n  \"BGSBF3F508F7F46312E3\",\\n  \"ESEA839CED378...  Data Scientists   \n",
       "2                     [\\n  \"KS126HY6YLTB9R7XJC4Z\"\\n]  Data Scientists   \n",
       "3  [\\n  \"KS4409D76NW1S5LNCL18\",\\n  \"ESC7869CF7378...  Data Scientists   \n",
       "4                                                 []  Data Scientists   \n",
       "\n",
       "  NAICS_2022_6                                        NAICS2_NAME  \\\n",
       "0       441330                                       Retail Trade   \n",
       "1       561320  Administrative and Support and Waste Managemen...   \n",
       "2       524291                              Finance and Insurance   \n",
       "3       522110                              Finance and Insurance   \n",
       "4       999999                              Unclassified Industry   \n",
       "\n",
       "  REMOTE_TYPE_NAME    SALARY           TITLE_NAME  \\\n",
       "0           [None]  116348.5  Enterprise Analysts   \n",
       "1           Remote  116348.5   Oracle Consultants   \n",
       "2           [None]  116348.5        Data Analysts   \n",
       "3           [None]  116348.5  Management Analysts   \n",
       "4           [None]   92500.0         Unclassified   \n",
       "\n",
       "                                         SKILLS_NAME  \\\n",
       "0  [\\n  \"Merchandising\",\\n  \"Mathematics\",\\n  \"Pr...   \n",
       "1  [\\n  \"Procurement\",\\n  \"Financial Statements\",...   \n",
       "2  [\\n  \"Management\",\\n  \"Exception Reporting\",\\n...   \n",
       "3  [\\n  \"Exit Strategies\",\\n  \"Reliability\",\\n  \"...   \n",
       "4                                                 []   \n",
       "\n",
       "                             SPECIALIZED_SKILLS_NAME  \n",
       "0  [\\n  \"Merchandising\",\\n  \"Predictive Modeling\"...  \n",
       "1  [\\n  \"Procurement\",\\n  \"Financial Statements\",...  \n",
       "2  [\\n  \"Exception Reporting\",\\n  \"Data Analysis\"...  \n",
       "3  [\\n  \"Exit Strategies\",\\n  \"User Story\",\\n  \"H...  \n",
       "4                                                 []  \n",
       "\n",
       "[5 rows x 21 columns]"
      ]
     },
     "execution_count": 17,
     "metadata": {},
     "output_type": "execute_result"
    }
   ],
   "source": [
    "import pandas as pd\n",
    "\n",
    "eda = pd.read_csv('./data/eda_data.csv')\n",
    "eda.head()"
   ]
  },
  {
   "cell_type": "code",
   "execution_count": 18,
   "metadata": {},
   "outputs": [
    {
     "data": {
      "text/plain": [
       "DATA_ANALYST_JOB\n",
       "False    37052\n",
       "True     32148\n",
       "Name: count, dtype: int64"
      ]
     },
     "execution_count": 18,
     "metadata": {},
     "output_type": "execute_result"
    }
   ],
   "source": [
    "# identifying data analyst jobs by keyword searching\n",
    "keywords = ['Data Analyst', 'Business Analyst', 'Data Engineering', 'Deep Learning',\n",
    "            'Data Science', 'Data Analysis','Data Analytics',  'Market Research Analyst' \n",
    "            'LLM', 'Language Model', 'NLP', 'Natural Language Processing',\n",
    "            'Computer Vision', 'Business Intelligence Analyst', 'Quantitative Analyst', 'Operations Analyst']\n",
    "\n",
    "match = lambda col: eda[col].str.contains('|'.join(keywords), case=False, na=False)\n",
    "\n",
    "eda['DATA_ANALYST_JOB'] = match('TITLE_NAME') \\\n",
    "             | match('SKILLS_NAME') \\\n",
    "             | match('SPECIALIZED_SKILLS_NAME') \n",
    "eda['DATA_ANALYST_JOB'].value_counts()"
   ]
  },
  {
   "cell_type": "code",
   "execution_count": 25,
   "metadata": {},
   "outputs": [
    {
     "data": {
      "application/vnd.plotly.v1+json": {
       "config": {
        "plotlyServerURL": "https://plot.ly"
       },
       "data": [
        {
         "alignmentgroup": "True",
         "hovertemplate": "DATA_ANALYST_JOB=False<br>Industry=%{x}<br>Number of Jobs=%{y}<extra></extra>",
         "legendgroup": "False",
         "marker": {
          "color": "#FF6B6B",
          "line": {
           "color": "#2D3748",
           "width": 1.2
          },
          "pattern": {
           "shape": ""
          }
         },
         "name": "False",
         "offsetgroup": "False",
         "opacity": 0.85,
         "orientation": "v",
         "showlegend": true,
         "text": [
          372,
          4155,
          40,
          66,
          235,
          596,
          2849,
          877,
          1824,
          104,
          2119,
          69,
          267,
          14918,
          349,
          232,
          1097,
          336,
          5140,
          309,
          1098,
          198,
          3878,
          36,
          84,
          379,
          1370,
          4142,
          1899,
          1950,
          164,
          2427,
          96,
          446,
          7407,
          604,
          546,
          793,
          326,
          4069,
          341,
          993
         ],
         "textfont": {
          "color": "#2D3748",
          "family": "Helvetica, sans-serif",
          "size": 12
         },
         "textposition": "outside",
         "texttemplate": "%{text}",
         "type": "bar",
         "x": [
          "Hospitality",
          "Admin & Waste Mgmt",
          "Agriculture, Forestry, Fishing and Hunting",
          "Arts, Entertainment, and Recreation",
          "Construction",
          "Education",
          "Finance",
          "Healthcare",
          "Info Tech",
          "Management of Companies and Enterprises",
          "Manufacturing",
          "Mining, Quarrying, and Oil and Gas Extraction",
          "Other Services",
          "Prof. Services",
          "Public Administration",
          "Real Estate and Rental and Leasing",
          "Retail",
          "Transportation and Warehousing",
          "Unclassified Industry",
          "Utilities",
          "Wholesale Trade"
         ],
         "xaxis": "x",
         "y": [
          372,
          4155,
          40,
          66,
          235,
          596,
          2849,
          877,
          1824,
          104,
          2119,
          69,
          267,
          14918,
          349,
          232,
          1097,
          336,
          5140,
          309,
          1098
         ],
         "yaxis": "y"
        },
        {
         "alignmentgroup": "True",
         "hovertemplate": "DATA_ANALYST_JOB=True<br>Industry=%{x}<br>Number of Jobs=%{y}<extra></extra>",
         "legendgroup": "True",
         "marker": {
          "color": "#4ECDC4",
          "line": {
           "color": "#2D3748",
           "width": 1.2
          },
          "pattern": {
           "shape": ""
          }
         },
         "name": "True",
         "offsetgroup": "True",
         "opacity": 0.85,
         "orientation": "v",
         "showlegend": true,
         "text": [
          372,
          4155,
          40,
          66,
          235,
          596,
          2849,
          877,
          1824,
          104,
          2119,
          69,
          267,
          14918,
          349,
          232,
          1097,
          336,
          5140,
          309,
          1098,
          198,
          3878,
          36,
          84,
          379,
          1370,
          4142,
          1899,
          1950,
          164,
          2427,
          96,
          446,
          7407,
          604,
          546,
          793,
          326,
          4069,
          341,
          993
         ],
         "textfont": {
          "color": "#2D3748",
          "family": "Helvetica, sans-serif",
          "size": 12
         },
         "textposition": "outside",
         "texttemplate": "%{text}",
         "type": "bar",
         "x": [
          "Hospitality",
          "Admin & Waste Mgmt",
          "Agriculture, Forestry, Fishing and Hunting",
          "Arts, Entertainment, and Recreation",
          "Construction",
          "Education",
          "Finance",
          "Healthcare",
          "Info Tech",
          "Management of Companies and Enterprises",
          "Manufacturing",
          "Mining, Quarrying, and Oil and Gas Extraction",
          "Other Services",
          "Prof. Services",
          "Public Administration",
          "Real Estate and Rental and Leasing",
          "Retail",
          "Transportation and Warehousing",
          "Unclassified Industry",
          "Utilities",
          "Wholesale Trade"
         ],
         "xaxis": "x",
         "y": [
          198,
          3878,
          36,
          84,
          379,
          1370,
          4142,
          1899,
          1950,
          164,
          2427,
          96,
          446,
          7407,
          604,
          546,
          793,
          326,
          4069,
          341,
          993
         ],
         "yaxis": "y"
        }
       ],
       "layout": {
        "annotations": [
         {
          "arrowhead": 1,
          "ax": 20,
          "ay": -40,
          "bgcolor": "rgba(255, 255, 255, 0.85)",
          "bordercolor": "#2D3748",
          "borderpad": 4,
          "borderwidth": 1,
          "font": {
           "color": "#2D3748",
           "family": "Helvetica, sans-serif",
           "size": 13
          },
          "showarrow": true,
          "text": "Top: Prof. Services<br>14918 Jobs",
          "x": "Prof. Services",
          "y": 16409.800000000003
         }
        ],
        "autosize": true,
        "bargap": 0.2,
        "barmode": "group",
        "font": {
         "color": "#2D3748",
         "family": "Helvetica, sans-serif",
         "size": 14
        },
        "height": 650,
        "hoverlabel": {
         "bgcolor": "rgba(255, 255, 255, 0.9)",
         "bordercolor": "#2D3748",
         "font": {
          "color": "#2D3748",
          "family": "Helvetica, sans-serif",
          "size": 13
         }
        },
        "hovermode": "closest",
        "legend": {
         "bgcolor": "rgba(255, 255, 255, 0.95)",
         "bordercolor": "#2D3748",
         "borderwidth": 1,
         "font": {
          "color": "#2D3748",
          "size": 13
         },
         "title": {
          "text": "Job Type"
         },
         "tracegroupgap": 0,
         "x": 1.02,
         "xanchor": "left",
         "y": 0.5,
         "yanchor": "middle"
        },
        "margin": {
         "b": 120,
         "l": 50,
         "r": 50,
         "t": 90
        },
        "paper_bgcolor": "rgba(255, 255, 255, 1)",
        "plot_bgcolor": "rgba(240, 240, 245, 1)",
        "template": {
         "data": {
          "bar": [
           {
            "error_x": {
             "color": "#2a3f5f"
            },
            "error_y": {
             "color": "#2a3f5f"
            },
            "marker": {
             "line": {
              "color": "#E5ECF6",
              "width": 0.5
             },
             "pattern": {
              "fillmode": "overlay",
              "size": 10,
              "solidity": 0.2
             }
            },
            "type": "bar"
           }
          ],
          "barpolar": [
           {
            "marker": {
             "line": {
              "color": "#E5ECF6",
              "width": 0.5
             },
             "pattern": {
              "fillmode": "overlay",
              "size": 10,
              "solidity": 0.2
             }
            },
            "type": "barpolar"
           }
          ],
          "carpet": [
           {
            "aaxis": {
             "endlinecolor": "#2a3f5f",
             "gridcolor": "white",
             "linecolor": "white",
             "minorgridcolor": "white",
             "startlinecolor": "#2a3f5f"
            },
            "baxis": {
             "endlinecolor": "#2a3f5f",
             "gridcolor": "white",
             "linecolor": "white",
             "minorgridcolor": "white",
             "startlinecolor": "#2a3f5f"
            },
            "type": "carpet"
           }
          ],
          "choropleth": [
           {
            "colorbar": {
             "outlinewidth": 0,
             "ticks": ""
            },
            "type": "choropleth"
           }
          ],
          "contour": [
           {
            "colorbar": {
             "outlinewidth": 0,
             "ticks": ""
            },
            "colorscale": [
             [
              0,
              "#0d0887"
             ],
             [
              0.1111111111111111,
              "#46039f"
             ],
             [
              0.2222222222222222,
              "#7201a8"
             ],
             [
              0.3333333333333333,
              "#9c179e"
             ],
             [
              0.4444444444444444,
              "#bd3786"
             ],
             [
              0.5555555555555556,
              "#d8576b"
             ],
             [
              0.6666666666666666,
              "#ed7953"
             ],
             [
              0.7777777777777778,
              "#fb9f3a"
             ],
             [
              0.8888888888888888,
              "#fdca26"
             ],
             [
              1,
              "#f0f921"
             ]
            ],
            "type": "contour"
           }
          ],
          "contourcarpet": [
           {
            "colorbar": {
             "outlinewidth": 0,
             "ticks": ""
            },
            "type": "contourcarpet"
           }
          ],
          "heatmap": [
           {
            "colorbar": {
             "outlinewidth": 0,
             "ticks": ""
            },
            "colorscale": [
             [
              0,
              "#0d0887"
             ],
             [
              0.1111111111111111,
              "#46039f"
             ],
             [
              0.2222222222222222,
              "#7201a8"
             ],
             [
              0.3333333333333333,
              "#9c179e"
             ],
             [
              0.4444444444444444,
              "#bd3786"
             ],
             [
              0.5555555555555556,
              "#d8576b"
             ],
             [
              0.6666666666666666,
              "#ed7953"
             ],
             [
              0.7777777777777778,
              "#fb9f3a"
             ],
             [
              0.8888888888888888,
              "#fdca26"
             ],
             [
              1,
              "#f0f921"
             ]
            ],
            "type": "heatmap"
           }
          ],
          "heatmapgl": [
           {
            "colorbar": {
             "outlinewidth": 0,
             "ticks": ""
            },
            "colorscale": [
             [
              0,
              "#0d0887"
             ],
             [
              0.1111111111111111,
              "#46039f"
             ],
             [
              0.2222222222222222,
              "#7201a8"
             ],
             [
              0.3333333333333333,
              "#9c179e"
             ],
             [
              0.4444444444444444,
              "#bd3786"
             ],
             [
              0.5555555555555556,
              "#d8576b"
             ],
             [
              0.6666666666666666,
              "#ed7953"
             ],
             [
              0.7777777777777778,
              "#fb9f3a"
             ],
             [
              0.8888888888888888,
              "#fdca26"
             ],
             [
              1,
              "#f0f921"
             ]
            ],
            "type": "heatmapgl"
           }
          ],
          "histogram": [
           {
            "marker": {
             "pattern": {
              "fillmode": "overlay",
              "size": 10,
              "solidity": 0.2
             }
            },
            "type": "histogram"
           }
          ],
          "histogram2d": [
           {
            "colorbar": {
             "outlinewidth": 0,
             "ticks": ""
            },
            "colorscale": [
             [
              0,
              "#0d0887"
             ],
             [
              0.1111111111111111,
              "#46039f"
             ],
             [
              0.2222222222222222,
              "#7201a8"
             ],
             [
              0.3333333333333333,
              "#9c179e"
             ],
             [
              0.4444444444444444,
              "#bd3786"
             ],
             [
              0.5555555555555556,
              "#d8576b"
             ],
             [
              0.6666666666666666,
              "#ed7953"
             ],
             [
              0.7777777777777778,
              "#fb9f3a"
             ],
             [
              0.8888888888888888,
              "#fdca26"
             ],
             [
              1,
              "#f0f921"
             ]
            ],
            "type": "histogram2d"
           }
          ],
          "histogram2dcontour": [
           {
            "colorbar": {
             "outlinewidth": 0,
             "ticks": ""
            },
            "colorscale": [
             [
              0,
              "#0d0887"
             ],
             [
              0.1111111111111111,
              "#46039f"
             ],
             [
              0.2222222222222222,
              "#7201a8"
             ],
             [
              0.3333333333333333,
              "#9c179e"
             ],
             [
              0.4444444444444444,
              "#bd3786"
             ],
             [
              0.5555555555555556,
              "#d8576b"
             ],
             [
              0.6666666666666666,
              "#ed7953"
             ],
             [
              0.7777777777777778,
              "#fb9f3a"
             ],
             [
              0.8888888888888888,
              "#fdca26"
             ],
             [
              1,
              "#f0f921"
             ]
            ],
            "type": "histogram2dcontour"
           }
          ],
          "mesh3d": [
           {
            "colorbar": {
             "outlinewidth": 0,
             "ticks": ""
            },
            "type": "mesh3d"
           }
          ],
          "parcoords": [
           {
            "line": {
             "colorbar": {
              "outlinewidth": 0,
              "ticks": ""
             }
            },
            "type": "parcoords"
           }
          ],
          "pie": [
           {
            "automargin": true,
            "type": "pie"
           }
          ],
          "scatter": [
           {
            "fillpattern": {
             "fillmode": "overlay",
             "size": 10,
             "solidity": 0.2
            },
            "type": "scatter"
           }
          ],
          "scatter3d": [
           {
            "line": {
             "colorbar": {
              "outlinewidth": 0,
              "ticks": ""
             }
            },
            "marker": {
             "colorbar": {
              "outlinewidth": 0,
              "ticks": ""
             }
            },
            "type": "scatter3d"
           }
          ],
          "scattercarpet": [
           {
            "marker": {
             "colorbar": {
              "outlinewidth": 0,
              "ticks": ""
             }
            },
            "type": "scattercarpet"
           }
          ],
          "scattergeo": [
           {
            "marker": {
             "colorbar": {
              "outlinewidth": 0,
              "ticks": ""
             }
            },
            "type": "scattergeo"
           }
          ],
          "scattergl": [
           {
            "marker": {
             "colorbar": {
              "outlinewidth": 0,
              "ticks": ""
             }
            },
            "type": "scattergl"
           }
          ],
          "scattermapbox": [
           {
            "marker": {
             "colorbar": {
              "outlinewidth": 0,
              "ticks": ""
             }
            },
            "type": "scattermapbox"
           }
          ],
          "scatterpolar": [
           {
            "marker": {
             "colorbar": {
              "outlinewidth": 0,
              "ticks": ""
             }
            },
            "type": "scatterpolar"
           }
          ],
          "scatterpolargl": [
           {
            "marker": {
             "colorbar": {
              "outlinewidth": 0,
              "ticks": ""
             }
            },
            "type": "scatterpolargl"
           }
          ],
          "scatterternary": [
           {
            "marker": {
             "colorbar": {
              "outlinewidth": 0,
              "ticks": ""
             }
            },
            "type": "scatterternary"
           }
          ],
          "surface": [
           {
            "colorbar": {
             "outlinewidth": 0,
             "ticks": ""
            },
            "colorscale": [
             [
              0,
              "#0d0887"
             ],
             [
              0.1111111111111111,
              "#46039f"
             ],
             [
              0.2222222222222222,
              "#7201a8"
             ],
             [
              0.3333333333333333,
              "#9c179e"
             ],
             [
              0.4444444444444444,
              "#bd3786"
             ],
             [
              0.5555555555555556,
              "#d8576b"
             ],
             [
              0.6666666666666666,
              "#ed7953"
             ],
             [
              0.7777777777777778,
              "#fb9f3a"
             ],
             [
              0.8888888888888888,
              "#fdca26"
             ],
             [
              1,
              "#f0f921"
             ]
            ],
            "type": "surface"
           }
          ],
          "table": [
           {
            "cells": {
             "fill": {
              "color": "#EBF0F8"
             },
             "line": {
              "color": "white"
             }
            },
            "header": {
             "fill": {
              "color": "#C8D4E3"
             },
             "line": {
              "color": "white"
             }
            },
            "type": "table"
           }
          ]
         },
         "layout": {
          "annotationdefaults": {
           "arrowcolor": "#2a3f5f",
           "arrowhead": 0,
           "arrowwidth": 1
          },
          "autotypenumbers": "strict",
          "coloraxis": {
           "colorbar": {
            "outlinewidth": 0,
            "ticks": ""
           }
          },
          "colorscale": {
           "diverging": [
            [
             0,
             "#8e0152"
            ],
            [
             0.1,
             "#c51b7d"
            ],
            [
             0.2,
             "#de77ae"
            ],
            [
             0.3,
             "#f1b6da"
            ],
            [
             0.4,
             "#fde0ef"
            ],
            [
             0.5,
             "#f7f7f7"
            ],
            [
             0.6,
             "#e6f5d0"
            ],
            [
             0.7,
             "#b8e186"
            ],
            [
             0.8,
             "#7fbc41"
            ],
            [
             0.9,
             "#4d9221"
            ],
            [
             1,
             "#276419"
            ]
           ],
           "sequential": [
            [
             0,
             "#0d0887"
            ],
            [
             0.1111111111111111,
             "#46039f"
            ],
            [
             0.2222222222222222,
             "#7201a8"
            ],
            [
             0.3333333333333333,
             "#9c179e"
            ],
            [
             0.4444444444444444,
             "#bd3786"
            ],
            [
             0.5555555555555556,
             "#d8576b"
            ],
            [
             0.6666666666666666,
             "#ed7953"
            ],
            [
             0.7777777777777778,
             "#fb9f3a"
            ],
            [
             0.8888888888888888,
             "#fdca26"
            ],
            [
             1,
             "#f0f921"
            ]
           ],
           "sequentialminus": [
            [
             0,
             "#0d0887"
            ],
            [
             0.1111111111111111,
             "#46039f"
            ],
            [
             0.2222222222222222,
             "#7201a8"
            ],
            [
             0.3333333333333333,
             "#9c179e"
            ],
            [
             0.4444444444444444,
             "#bd3786"
            ],
            [
             0.5555555555555556,
             "#d8576b"
            ],
            [
             0.6666666666666666,
             "#ed7953"
            ],
            [
             0.7777777777777778,
             "#fb9f3a"
            ],
            [
             0.8888888888888888,
             "#fdca26"
            ],
            [
             1,
             "#f0f921"
            ]
           ]
          },
          "colorway": [
           "#636efa",
           "#EF553B",
           "#00cc96",
           "#ab63fa",
           "#FFA15A",
           "#19d3f3",
           "#FF6692",
           "#B6E880",
           "#FF97FF",
           "#FECB52"
          ],
          "font": {
           "color": "#2a3f5f"
          },
          "geo": {
           "bgcolor": "white",
           "lakecolor": "white",
           "landcolor": "#E5ECF6",
           "showlakes": true,
           "showland": true,
           "subunitcolor": "white"
          },
          "hoverlabel": {
           "align": "left"
          },
          "hovermode": "closest",
          "mapbox": {
           "style": "light"
          },
          "paper_bgcolor": "white",
          "plot_bgcolor": "#E5ECF6",
          "polar": {
           "angularaxis": {
            "gridcolor": "white",
            "linecolor": "white",
            "ticks": ""
           },
           "bgcolor": "#E5ECF6",
           "radialaxis": {
            "gridcolor": "white",
            "linecolor": "white",
            "ticks": ""
           }
          },
          "scene": {
           "xaxis": {
            "backgroundcolor": "#E5ECF6",
            "gridcolor": "white",
            "gridwidth": 2,
            "linecolor": "white",
            "showbackground": true,
            "ticks": "",
            "zerolinecolor": "white"
           },
           "yaxis": {
            "backgroundcolor": "#E5ECF6",
            "gridcolor": "white",
            "gridwidth": 2,
            "linecolor": "white",
            "showbackground": true,
            "ticks": "",
            "zerolinecolor": "white"
           },
           "zaxis": {
            "backgroundcolor": "#E5ECF6",
            "gridcolor": "white",
            "gridwidth": 2,
            "linecolor": "white",
            "showbackground": true,
            "ticks": "",
            "zerolinecolor": "white"
           }
          },
          "shapedefaults": {
           "line": {
            "color": "#2a3f5f"
           }
          },
          "ternary": {
           "aaxis": {
            "gridcolor": "white",
            "linecolor": "white",
            "ticks": ""
           },
           "baxis": {
            "gridcolor": "white",
            "linecolor": "white",
            "ticks": ""
           },
           "bgcolor": "#E5ECF6",
           "caxis": {
            "gridcolor": "white",
            "linecolor": "white",
            "ticks": ""
           }
          },
          "title": {
           "x": 0.05
          },
          "xaxis": {
           "automargin": true,
           "gridcolor": "white",
           "linecolor": "white",
           "ticks": "",
           "title": {
            "standoff": 15
           },
           "zerolinecolor": "white",
           "zerolinewidth": 2
          },
          "yaxis": {
           "automargin": true,
           "gridcolor": "white",
           "linecolor": "white",
           "ticks": "",
           "title": {
            "standoff": 15
           },
           "zerolinecolor": "white",
           "zerolinewidth": 2
          }
         }
        },
        "title": {
         "font": {
          "color": "#2D3748",
          "family": "Helvetica, sans-serif",
          "size": 26
         },
         "text": "Data & Business Analytics Job Trends",
         "x": 0.5,
         "xanchor": "center",
         "y": 0.95,
         "yanchor": "top"
        },
        "width": 1100,
        "xaxis": {
         "anchor": "y",
         "domain": [
          0,
          1
         ],
         "gridcolor": "rgba(200, 200, 200, 0.2)",
         "linecolor": "#2D3748",
         "linewidth": 2,
         "showline": true,
         "tickangle": -30,
         "tickfont": {
          "color": "#4A5568",
          "size": 13
         },
         "title": {
          "font": {
           "color": "#2D3748",
           "size": 18
          },
          "text": "Industry"
         }
        },
        "yaxis": {
         "anchor": "x",
         "domain": [
          0,
          1
         ],
         "gridcolor": "rgba(200, 200, 200, 0.2)",
         "linecolor": "#2D3748",
         "linewidth": 2,
         "range": [
          0,
          17155.699999999997
         ],
         "showline": true,
         "tickfont": {
          "color": "#4A5568",
          "size": 13
         },
         "title": {
          "font": {
           "color": "#2D3748",
           "size": 18
          },
          "text": "Number of Jobs"
         }
        }
       }
      }
     },
     "metadata": {},
     "output_type": "display_data"
    }
   ],
   "source": [
    "import plotly.express as px\n",
    "import plotly.graph_objects as go\n",
    "\n",
    "# Group data (same as before)\n",
    "df_grouped = eda.groupby(['DATA_ANALYST_JOB', 'NAICS2_NAME']).size().reset_index(name='Job_Count')\n",
    "\n",
    "# Shorten the industry names (NAICS2_NAME) for better readability\n",
    "# Assuming NAICS2_NAME has long names, we'll map them to shorter versions\n",
    "# Example: Replace long names with abbreviations or shorter terms\n",
    "industry_short_names = {\n",
    "    'Professional, Scientific, and Technical Services': 'Prof. Services',\n",
    "    'Administrative and Support and Waste Management and Remediation Services': 'Admin & Waste Mgmt',\n",
    "    'Health Care and Social Assistance': 'Healthcare',\n",
    "    'Finance and Insurance': 'Finance',\n",
    "    'Information': 'Info Tech',\n",
    "    'Educational Services': 'Education',\n",
    "    'Manufacturing': 'Manufacturing',\n",
    "    'Retail Trade': 'Retail',\n",
    "    'Accommodation and Food Services': 'Hospitality',\n",
    "    'Other Services (except Public Administration)': 'Other Services',\n",
    "    # Add more mappings as needed based on your dataset\n",
    "}\n",
    "\n",
    "# Apply the shortened names to the dataframe\n",
    "df_grouped['NAICS2_NAME_SHORT'] = df_grouped['NAICS2_NAME'].map(industry_short_names).fillna(df_grouped['NAICS2_NAME'])\n",
    "\n",
    "# Define a vibrant and modern color palette\n",
    "color_map = {\n",
    "    False: \"#FF6B6B\",  # Coral red for False\n",
    "    True: \"#4ECDC4\"    # Teal for True\n",
    "}\n",
    "\n",
    "# Create the bar plot with Plotly Express\n",
    "fig = px.bar(df_grouped, \n",
    "             x='NAICS2_NAME_SHORT',  # Use shortened names\n",
    "             y='Job_Count',\n",
    "             color='DATA_ANALYST_JOB',\n",
    "             title=\"Data & Business Analytics Job Trends\",\n",
    "             labels={'NAICS2_NAME_SHORT': 'Industry', 'Job_Count': 'Number of Jobs'},\n",
    "             barmode='group',\n",
    "             color_discrete_map=color_map\n",
    "            )\n",
    "\n",
    "# Beautify the layout with a modern, clean design\n",
    "fig.update_layout(\n",
    "    # Sizing and margins\n",
    "    autosize=True,\n",
    "    width=1100,  # Slightly narrower for better focus\n",
    "    height=650,  # Adjusted height\n",
    "    margin=dict(l=50, r=50, t=90, b=120),  # Adjusted margins for cleaner look\n",
    "\n",
    "    # Background and plot styling\n",
    "    plot_bgcolor='rgba(240, 240, 245, 1)',  # Softer gray background\n",
    "    paper_bgcolor='rgba(255, 255, 255, 1)',  # White paper background\n",
    "    font=dict(family=\"Helvetica, sans-serif\", size=14, color=\"#2D3748\"),  # Modern font\n",
    "\n",
    "    # Title styling\n",
    "    title=dict(\n",
    "        text=\"Data & Business Analytics Job Trends\",\n",
    "        font=dict(size=26, color=\"#2D3748\", family=\"Helvetica, sans-serif\"),\n",
    "        x=0.5,  # Center the title\n",
    "        xanchor=\"center\",\n",
    "        y=0.95,\n",
    "        yanchor=\"top\"\n",
    "    ),\n",
    "\n",
    "    # X-axis styling\n",
    "    xaxis=dict(\n",
    "        title=\"Industry\",\n",
    "        title_font=dict(size=18, color=\"#2D3748\"),\n",
    "        tickfont=dict(size=13, color=\"#4A5568\"),\n",
    "        tickangle=-30,  # Slightly less aggressive rotation\n",
    "        gridcolor=\"rgba(200, 200, 200, 0.2)\",  # Very light gridlines\n",
    "        linecolor=\"#2D3748\",\n",
    "        linewidth=2,\n",
    "        showline=True\n",
    "    ),\n",
    "\n",
    "    # Y-axis styling\n",
    "    yaxis=dict(\n",
    "        title=\"Number of Jobs\",\n",
    "        title_font=dict(size=18, color=\"#2D3748\"),\n",
    "        tickfont=dict(size=13, color=\"#4A5568\"),\n",
    "        range=[0, df_grouped['Job_Count'].max() * 1.15],  # Slightly tighter range\n",
    "        gridcolor=\"rgba(200, 200, 200, 0.2)\",\n",
    "        linecolor=\"#2D3748\",\n",
    "        linewidth=2,\n",
    "        showline=True\n",
    "    ),\n",
    "\n",
    "    # Legend styling\n",
    "    legend=dict(\n",
    "        title=\"Job Type\",\n",
    "        font=dict(size=13, color=\"#2D3748\"),\n",
    "        bgcolor=\"rgba(255, 255, 255, 0.95)\",\n",
    "        bordercolor=\"#2D3748\",\n",
    "        borderwidth=1,\n",
    "        x=1.02,  # Position outside\n",
    "        y=0.5,\n",
    "        xanchor=\"left\",\n",
    "        yanchor=\"middle\"\n",
    "    ),\n",
    "\n",
    "    # Hover and interactivity\n",
    "    hovermode=\"closest\",\n",
    "    hoverlabel=dict(\n",
    "        bgcolor=\"rgba(255, 255, 255, 0.9)\",\n",
    "        font_size=13,\n",
    "        font_family=\"Helvetica, sans-serif\",\n",
    "        font_color=\"#2D3748\",\n",
    "        bordercolor=\"#2D3748\"\n",
    "    ),\n",
    "\n",
    "    # Add a subtle shadow effect for depth\n",
    "    bargap=0.2,  # Add space between bars for clarity\n",
    ")\n",
    "\n",
    "# Customize the bars\n",
    "fig.update_traces(\n",
    "    marker=dict(\n",
    "        line=dict(width=1.2, color=\"#2D3748\"),  # Thinner border for elegance\n",
    "        # Add a gradient effect to the bars\n",
    "        coloraxis=None,\n",
    "    ),\n",
    "    opacity=0.85,  # Slight transparency for softness\n",
    "    text=df_grouped['Job_Count'],  # Add labels on bars\n",
    "    textposition='outside',  # Place labels outside for clarity\n",
    "    textfont=dict(size=12, color=\"#2D3748\", family=\"Helvetica, sans-serif\"),\n",
    "    texttemplate='%{text}',  # Show just the number\n",
    ")\n",
    "\n",
    "# Add a subtle annotation for the highest job count\n",
    "max_job = df_grouped.loc[df_grouped['Job_Count'].idxmax()]\n",
    "fig.add_annotation(\n",
    "    x=max_job['NAICS2_NAME_SHORT'],\n",
    "    y=max_job['Job_Count'] * 1.1,\n",
    "    text=f\"Top: {max_job['NAICS2_NAME_SHORT']}<br>{max_job['Job_Count']} Jobs\",\n",
    "    showarrow=True,\n",
    "    arrowhead=1,\n",
    "    ax=20,\n",
    "    ay=-40,\n",
    "    font=dict(size=13, color=\"#2D3748\", family=\"Helvetica, sans-serif\"),\n",
    "    bgcolor=\"rgba(255, 255, 255, 0.85)\",\n",
    "    bordercolor=\"#2D3748\",\n",
    "    borderwidth=1,\n",
    "    borderpad=4\n",
    ")\n",
    "\n",
    "# Show the plot\n",
    "fig.show()\n",
    "\n",
    "# Save as an HTML file for Quarto embedding\n",
    "fig.write_html(\"figures/plot1_jobtrends_super_pretty.html\")"
   ]
  },
  {
   "cell_type": "code",
   "execution_count": null,
   "metadata": {},
   "outputs": [],
   "source": []
  }
 ],
 "metadata": {
  "kernelspec": {
   "display_name": "base",
   "language": "python",
   "name": "python3"
  },
  "language_info": {
   "codemirror_mode": {
    "name": "ipython",
    "version": 3
   },
   "file_extension": ".py",
   "mimetype": "text/x-python",
   "name": "python",
   "nbconvert_exporter": "python",
   "pygments_lexer": "ipython3",
   "version": "3.12.7"
  }
 },
 "nbformat": 4,
 "nbformat_minor": 2
}
